{
 "cells": [
  {
   "cell_type": "markdown",
   "id": "8e899cf4",
   "metadata": {},
   "source": [
    "# Анализ данных сервиса аренды самокатов (NDA)"
   ]
  },
  {
   "cell_type": "markdown",
   "id": "8f4f5481",
   "metadata": {},
   "source": [
    "В рамках работы необходимо проанализировать данные сервиса аренды самокатов, проверить ряд гипотез и сделать выводы, основанные на проведенном исследовании.\n",
    "\n",
    "**Цель исследования** - проанализировать данные и проверить гипотезы, которые помогут бизнесу вырасти.\n",
    "\n",
    "**Этапы исследования:**\n",
    "1. Загрузка данных - на данном этапе подключаемся к датасетам и проверяем корректность подключения данных;\n",
    "2. Предобработка данных - проверяем данные на пропуски, дубликаты, а также соответствие типам данных заявленному в каждой колонке;\n",
    "3. Исследовательский анализ данных - проводим исследовательский анализ данных, смотрим на тенденции и закономерности в данных, строим распределения и характеризуем датасет;\n",
    "4. Объединение данных - так как данные представлены в нескольких датасетах, то объединяем данные для тестирования дальнейших гипотез;\n",
    "5. Подсчет выручки - рассчитываем выручку;\n",
    "6. Проверка гипотез - проводим статистические тесты на проверку поставленных гипотез (перечислены в соответствующем блоке);\n",
    "7. Распределения - отвечает на задачи бизнеса при помощи построения распределений;\n",
    "8. Выводы - формулируем общие выводы по проведенному исследованию.\n",
    "\n",
    "**Данные** представлены в виде трех датасетов (информация по пользователям, поездкам и подпискам) в формате `.csv`, на базе которых будет создан единый датасет для проверки статистических гипотез. Подробные описания датасетов представлены в рамках этапа загрузки данных."
   ]
  },
  {
   "cell_type": "code",
   "execution_count": 1,
   "id": "125d2f71",
   "metadata": {},
   "outputs": [],
   "source": [
    "# импортируем все необходимые библиотеки\n",
    "import pandas as pd\n",
    "import numpy as np\n",
    "import matplotlib.pyplot as plt \n",
    "import seaborn as sns\n",
    "import scipy.stats as st\n",
    "from math import sqrt"
   ]
  },
  {
   "cell_type": "markdown",
   "id": "aaf1c7ab",
   "metadata": {},
   "source": [
    "#### Шаг 1. Загрузка данных"
   ]
  },
  {
   "cell_type": "code",
   "execution_count": 2,
   "id": "74be0bbf",
   "metadata": {},
   "outputs": [],
   "source": [
    "# подключаем датасеты и проверяем корректность подключения\n",
    "users = pd.read_csv('https://code.s3.yandex.net/datasets/users_go.csv')\n",
    "rides = pd.read_csv('https://code.s3.yandex.net/datasets/rides_go.csv')\n",
    "subscriptions = pd.read_csv('https://code.s3.yandex.net/datasets/subscriptions_go.csv')"
   ]
  },
  {
   "cell_type": "code",
   "execution_count": 3,
   "id": "6fb3d956",
   "metadata": {},
   "outputs": [
    {
     "data": {
      "text/html": [
       "<div>\n",
       "<style scoped>\n",
       "    .dataframe tbody tr th:only-of-type {\n",
       "        vertical-align: middle;\n",
       "    }\n",
       "\n",
       "    .dataframe tbody tr th {\n",
       "        vertical-align: top;\n",
       "    }\n",
       "\n",
       "    .dataframe thead th {\n",
       "        text-align: right;\n",
       "    }\n",
       "</style>\n",
       "<table border=\"1\" class=\"dataframe\">\n",
       "  <thead>\n",
       "    <tr style=\"text-align: right;\">\n",
       "      <th></th>\n",
       "      <th>user_id</th>\n",
       "      <th>name</th>\n",
       "      <th>age</th>\n",
       "      <th>city</th>\n",
       "      <th>subscription_type</th>\n",
       "    </tr>\n",
       "  </thead>\n",
       "  <tbody>\n",
       "    <tr>\n",
       "      <th>0</th>\n",
       "      <td>1</td>\n",
       "      <td>Кира</td>\n",
       "      <td>22</td>\n",
       "      <td>Тюмень</td>\n",
       "      <td>ultra</td>\n",
       "    </tr>\n",
       "    <tr>\n",
       "      <th>1</th>\n",
       "      <td>2</td>\n",
       "      <td>Станислав</td>\n",
       "      <td>31</td>\n",
       "      <td>Омск</td>\n",
       "      <td>ultra</td>\n",
       "    </tr>\n",
       "    <tr>\n",
       "      <th>2</th>\n",
       "      <td>3</td>\n",
       "      <td>Алексей</td>\n",
       "      <td>20</td>\n",
       "      <td>Москва</td>\n",
       "      <td>ultra</td>\n",
       "    </tr>\n",
       "    <tr>\n",
       "      <th>3</th>\n",
       "      <td>4</td>\n",
       "      <td>Константин</td>\n",
       "      <td>26</td>\n",
       "      <td>Ростов-на-Дону</td>\n",
       "      <td>ultra</td>\n",
       "    </tr>\n",
       "    <tr>\n",
       "      <th>4</th>\n",
       "      <td>5</td>\n",
       "      <td>Адель</td>\n",
       "      <td>28</td>\n",
       "      <td>Омск</td>\n",
       "      <td>ultra</td>\n",
       "    </tr>\n",
       "  </tbody>\n",
       "</table>\n",
       "</div>"
      ],
      "text/plain": [
       "   user_id        name  age            city subscription_type\n",
       "0        1        Кира   22          Тюмень             ultra\n",
       "1        2   Станислав   31            Омск             ultra\n",
       "2        3     Алексей   20          Москва             ultra\n",
       "3        4  Константин   26  Ростов-на-Дону             ultra\n",
       "4        5       Адель   28            Омск             ultra"
      ]
     },
     "execution_count": 3,
     "metadata": {},
     "output_type": "execute_result"
    }
   ],
   "source": [
    "# проверяем датасет с информацией о пользователях\n",
    "users.head(5)"
   ]
  },
  {
   "cell_type": "code",
   "execution_count": 4,
   "id": "0f6c9ed3",
   "metadata": {},
   "outputs": [
    {
     "name": "stdout",
     "output_type": "stream",
     "text": [
      "<class 'pandas.core.frame.DataFrame'>\n",
      "RangeIndex: 1565 entries, 0 to 1564\n",
      "Data columns (total 5 columns):\n",
      " #   Column             Non-Null Count  Dtype \n",
      "---  ------             --------------  ----- \n",
      " 0   user_id            1565 non-null   int64 \n",
      " 1   name               1565 non-null   object\n",
      " 2   age                1565 non-null   int64 \n",
      " 3   city               1565 non-null   object\n",
      " 4   subscription_type  1565 non-null   object\n",
      "dtypes: int64(2), object(3)\n",
      "memory usage: 61.3+ KB\n"
     ]
    }
   ],
   "source": [
    "# выведем общную информацию о датасете\n",
    "users.info()"
   ]
  },
  {
   "cell_type": "markdown",
   "id": "9607cbb4",
   "metadata": {},
   "source": [
    "Видим, что в датасете присутствуют 5 колонок:\n",
    "- `user_id` - уникальный идентификатор пользователя, тип данный `int64`, категориальная переменная;\n",
    "- `name` - имя пользователя, тип данных `object`, в данном случае - строковые значения, категориальная переменная;\n",
    "- `age` - возраст пользователя, тип данных `int64`, категориальная переменная;\n",
    "- `city` - город проживания пользователя, тип данных `object`, в данном случае снова строковые значения, категориальная переменная;\n",
    "- `subscription_type` - тип подписки, тип данных `object`, строковые значения, категориальная переменная.\n",
    "\n",
    "Данные представлены в полном объеме."
   ]
  },
  {
   "cell_type": "code",
   "execution_count": 5,
   "id": "945fe910",
   "metadata": {},
   "outputs": [
    {
     "data": {
      "text/html": [
       "<div>\n",
       "<style scoped>\n",
       "    .dataframe tbody tr th:only-of-type {\n",
       "        vertical-align: middle;\n",
       "    }\n",
       "\n",
       "    .dataframe tbody tr th {\n",
       "        vertical-align: top;\n",
       "    }\n",
       "\n",
       "    .dataframe thead th {\n",
       "        text-align: right;\n",
       "    }\n",
       "</style>\n",
       "<table border=\"1\" class=\"dataframe\">\n",
       "  <thead>\n",
       "    <tr style=\"text-align: right;\">\n",
       "      <th></th>\n",
       "      <th>user_id</th>\n",
       "      <th>distance</th>\n",
       "      <th>duration</th>\n",
       "      <th>date</th>\n",
       "    </tr>\n",
       "  </thead>\n",
       "  <tbody>\n",
       "    <tr>\n",
       "      <th>0</th>\n",
       "      <td>1</td>\n",
       "      <td>4409.919140</td>\n",
       "      <td>25.599769</td>\n",
       "      <td>2021-01-01</td>\n",
       "    </tr>\n",
       "    <tr>\n",
       "      <th>1</th>\n",
       "      <td>1</td>\n",
       "      <td>2617.592153</td>\n",
       "      <td>15.816871</td>\n",
       "      <td>2021-01-18</td>\n",
       "    </tr>\n",
       "    <tr>\n",
       "      <th>2</th>\n",
       "      <td>1</td>\n",
       "      <td>754.159807</td>\n",
       "      <td>6.232113</td>\n",
       "      <td>2021-04-20</td>\n",
       "    </tr>\n",
       "    <tr>\n",
       "      <th>3</th>\n",
       "      <td>1</td>\n",
       "      <td>2694.783254</td>\n",
       "      <td>18.511000</td>\n",
       "      <td>2021-08-11</td>\n",
       "    </tr>\n",
       "    <tr>\n",
       "      <th>4</th>\n",
       "      <td>1</td>\n",
       "      <td>4028.687306</td>\n",
       "      <td>26.265803</td>\n",
       "      <td>2021-08-28</td>\n",
       "    </tr>\n",
       "  </tbody>\n",
       "</table>\n",
       "</div>"
      ],
      "text/plain": [
       "   user_id     distance   duration        date\n",
       "0        1  4409.919140  25.599769  2021-01-01\n",
       "1        1  2617.592153  15.816871  2021-01-18\n",
       "2        1   754.159807   6.232113  2021-04-20\n",
       "3        1  2694.783254  18.511000  2021-08-11\n",
       "4        1  4028.687306  26.265803  2021-08-28"
      ]
     },
     "execution_count": 5,
     "metadata": {},
     "output_type": "execute_result"
    }
   ],
   "source": [
    "# проверяем датасет с информацией о поездках\n",
    "rides.head(5)"
   ]
  },
  {
   "cell_type": "code",
   "execution_count": 6,
   "id": "9b2003d9",
   "metadata": {},
   "outputs": [
    {
     "name": "stdout",
     "output_type": "stream",
     "text": [
      "<class 'pandas.core.frame.DataFrame'>\n",
      "RangeIndex: 18068 entries, 0 to 18067\n",
      "Data columns (total 4 columns):\n",
      " #   Column    Non-Null Count  Dtype  \n",
      "---  ------    --------------  -----  \n",
      " 0   user_id   18068 non-null  int64  \n",
      " 1   distance  18068 non-null  float64\n",
      " 2   duration  18068 non-null  float64\n",
      " 3   date      18068 non-null  object \n",
      "dtypes: float64(2), int64(1), object(1)\n",
      "memory usage: 564.8+ KB\n"
     ]
    }
   ],
   "source": [
    "# выведем общную информацию о датасете\n",
    "rides.info()"
   ]
  },
  {
   "cell_type": "markdown",
   "id": "e950f88e",
   "metadata": {},
   "source": [
    "В датасете присутствуют 4 колонки:\n",
    "- `user_id` - уникальный идентификатор пользовател, тип данных `int64`, категориальная переменная - по значениям из данного столбца будут проводиться объединения двух таблиц;\n",
    "- `distance` - расстояние поездки в метрах, тип данных `float64`, количественная переменная;\n",
    "- `duration` - продолжить поездки в минутах, тип данных `float64`, количественная переменная;\n",
    "- `date` - дата поездки, тип данных `object`, что соответствует строковому значению. Для удобной работы с датой необходимо перевести данную колонку в тип `datetime`.\n",
    "\n",
    "Данные представлены в полном объеме."
   ]
  },
  {
   "cell_type": "code",
   "execution_count": 7,
   "id": "12273969",
   "metadata": {},
   "outputs": [
    {
     "data": {
      "text/html": [
       "<div>\n",
       "<style scoped>\n",
       "    .dataframe tbody tr th:only-of-type {\n",
       "        vertical-align: middle;\n",
       "    }\n",
       "\n",
       "    .dataframe tbody tr th {\n",
       "        vertical-align: top;\n",
       "    }\n",
       "\n",
       "    .dataframe thead th {\n",
       "        text-align: right;\n",
       "    }\n",
       "</style>\n",
       "<table border=\"1\" class=\"dataframe\">\n",
       "  <thead>\n",
       "    <tr style=\"text-align: right;\">\n",
       "      <th></th>\n",
       "      <th>subscription_type</th>\n",
       "      <th>minute_price</th>\n",
       "      <th>start_ride_price</th>\n",
       "      <th>subscription_fee</th>\n",
       "    </tr>\n",
       "  </thead>\n",
       "  <tbody>\n",
       "    <tr>\n",
       "      <th>0</th>\n",
       "      <td>free</td>\n",
       "      <td>8</td>\n",
       "      <td>50</td>\n",
       "      <td>0</td>\n",
       "    </tr>\n",
       "    <tr>\n",
       "      <th>1</th>\n",
       "      <td>ultra</td>\n",
       "      <td>6</td>\n",
       "      <td>0</td>\n",
       "      <td>199</td>\n",
       "    </tr>\n",
       "  </tbody>\n",
       "</table>\n",
       "</div>"
      ],
      "text/plain": [
       "  subscription_type  minute_price  start_ride_price  subscription_fee\n",
       "0              free             8                50                 0\n",
       "1             ultra             6                 0               199"
      ]
     },
     "execution_count": 7,
     "metadata": {},
     "output_type": "execute_result"
    }
   ],
   "source": [
    "# проверяем датасет с информацией о подписках\n",
    "subscriptions.head(5)"
   ]
  },
  {
   "cell_type": "code",
   "execution_count": 8,
   "id": "bc820123",
   "metadata": {},
   "outputs": [
    {
     "name": "stdout",
     "output_type": "stream",
     "text": [
      "<class 'pandas.core.frame.DataFrame'>\n",
      "RangeIndex: 2 entries, 0 to 1\n",
      "Data columns (total 4 columns):\n",
      " #   Column             Non-Null Count  Dtype \n",
      "---  ------             --------------  ----- \n",
      " 0   subscription_type  2 non-null      object\n",
      " 1   minute_price       2 non-null      int64 \n",
      " 2   start_ride_price   2 non-null      int64 \n",
      " 3   subscription_fee   2 non-null      int64 \n",
      "dtypes: int64(3), object(1)\n",
      "memory usage: 192.0+ bytes\n"
     ]
    }
   ],
   "source": [
    "# выведем общную информацию о датасете\n",
    "subscriptions.info()"
   ]
  },
  {
   "cell_type": "markdown",
   "id": "d02d35ea",
   "metadata": {},
   "source": [
    "В датасете присутствуют 4 колонки:\n",
    "- `subscription_type  ` - тип подписки, тип данных `object`, категориальная переменная, строковые значения, по данной колонке будут проводиться объединения двух таблиц;\n",
    "- `minute_price` - стоимость минуты, тип данных `int64`, количественная переменная;\n",
    "- `start_ride_price` - стоимость начала поездки, тип данных `int64`, количественная переменная;\n",
    "- `subscription_fee` - стоимость подписки, тип данных `int64`, количественная переменная;\n",
    "\n",
    "Данные представлены в полном объеме. Все данные отображаются корректно, можно переходить к этапу предобработки данных."
   ]
  },
  {
   "cell_type": "markdown",
   "id": "a9a317c4",
   "metadata": {},
   "source": [
    "#### Шаг 2. Предобработка данных"
   ]
  },
  {
   "cell_type": "markdown",
   "id": "80e68f74",
   "metadata": {},
   "source": [
    "В рамках данного этапа проверим все три датасета на наличие пропусков, дубликатов, а также несоотвествий в типах данных. Также для проведения дальнейшего исследования выделим номер месяца из даты. Начнем с анализа пропусков."
   ]
  },
  {
   "cell_type": "code",
   "execution_count": 9,
   "id": "36df155a",
   "metadata": {},
   "outputs": [
    {
     "data": {
      "text/plain": [
       "user_id              0\n",
       "name                 0\n",
       "age                  0\n",
       "city                 0\n",
       "subscription_type    0\n",
       "dtype: int64"
      ]
     },
     "execution_count": 9,
     "metadata": {},
     "output_type": "execute_result"
    }
   ],
   "source": [
    "# посмотрим на пропуски в датасете с информацией по пользователям\n",
    "users.isna().sum()"
   ]
  },
  {
   "cell_type": "code",
   "execution_count": 10,
   "id": "6aa17f27",
   "metadata": {},
   "outputs": [
    {
     "data": {
      "text/plain": [
       "user_id     0\n",
       "distance    0\n",
       "duration    0\n",
       "date        0\n",
       "dtype: int64"
      ]
     },
     "execution_count": 10,
     "metadata": {},
     "output_type": "execute_result"
    }
   ],
   "source": [
    "# посмотрим на пропуски в датасете с информацией по поездкам\n",
    "rides.isna().sum()"
   ]
  },
  {
   "cell_type": "code",
   "execution_count": 11,
   "id": "094f0c8c",
   "metadata": {},
   "outputs": [
    {
     "data": {
      "text/plain": [
       "subscription_type    0\n",
       "minute_price         0\n",
       "start_ride_price     0\n",
       "subscription_fee     0\n",
       "dtype: int64"
      ]
     },
     "execution_count": 11,
     "metadata": {},
     "output_type": "execute_result"
    }
   ],
   "source": [
    "# посмотрим на пропуски в датасете с информацией по подпискам\n",
    "subscriptions.isna().sum()"
   ]
  },
  {
   "cell_type": "markdown",
   "id": "e383960a",
   "metadata": {},
   "source": [
    "Количество пропусков во всех датасетах равно нулю, данные представлены в полном виде. Аналогичным образом проверим датасеты на наличие явных дубликатов."
   ]
  },
  {
   "cell_type": "code",
   "execution_count": 12,
   "id": "4bff3eb4",
   "metadata": {},
   "outputs": [
    {
     "data": {
      "text/plain": [
       "31"
      ]
     },
     "execution_count": 12,
     "metadata": {},
     "output_type": "execute_result"
    }
   ],
   "source": [
    "# посмотрим на дубликаты в датасете с информацией по пользователям\n",
    "users.duplicated().sum()"
   ]
  },
  {
   "cell_type": "markdown",
   "id": "01ffff32",
   "metadata": {},
   "source": [
    "Видим, что в датасете присутствуют дубликаты. Выведем первые пять значений на экран, чтобы понять причину дублей."
   ]
  },
  {
   "cell_type": "code",
   "execution_count": 13,
   "id": "eaaded61",
   "metadata": {},
   "outputs": [
    {
     "data": {
      "text/html": [
       "<div>\n",
       "<style scoped>\n",
       "    .dataframe tbody tr th:only-of-type {\n",
       "        vertical-align: middle;\n",
       "    }\n",
       "\n",
       "    .dataframe tbody tr th {\n",
       "        vertical-align: top;\n",
       "    }\n",
       "\n",
       "    .dataframe thead th {\n",
       "        text-align: right;\n",
       "    }\n",
       "</style>\n",
       "<table border=\"1\" class=\"dataframe\">\n",
       "  <thead>\n",
       "    <tr style=\"text-align: right;\">\n",
       "      <th></th>\n",
       "      <th>user_id</th>\n",
       "      <th>name</th>\n",
       "      <th>age</th>\n",
       "      <th>city</th>\n",
       "      <th>subscription_type</th>\n",
       "    </tr>\n",
       "  </thead>\n",
       "  <tbody>\n",
       "    <tr>\n",
       "      <th>1534</th>\n",
       "      <td>293</td>\n",
       "      <td>Агата</td>\n",
       "      <td>26</td>\n",
       "      <td>Краснодар</td>\n",
       "      <td>ultra</td>\n",
       "    </tr>\n",
       "    <tr>\n",
       "      <th>1535</th>\n",
       "      <td>16</td>\n",
       "      <td>Амалия</td>\n",
       "      <td>27</td>\n",
       "      <td>Краснодар</td>\n",
       "      <td>ultra</td>\n",
       "    </tr>\n",
       "    <tr>\n",
       "      <th>1536</th>\n",
       "      <td>909</td>\n",
       "      <td>Константин</td>\n",
       "      <td>20</td>\n",
       "      <td>Екатеринбург</td>\n",
       "      <td>free</td>\n",
       "    </tr>\n",
       "    <tr>\n",
       "      <th>1537</th>\n",
       "      <td>403</td>\n",
       "      <td>Полина</td>\n",
       "      <td>19</td>\n",
       "      <td>Сочи</td>\n",
       "      <td>ultra</td>\n",
       "    </tr>\n",
       "    <tr>\n",
       "      <th>1538</th>\n",
       "      <td>908</td>\n",
       "      <td>Рустам</td>\n",
       "      <td>30</td>\n",
       "      <td>Тюмень</td>\n",
       "      <td>free</td>\n",
       "    </tr>\n",
       "  </tbody>\n",
       "</table>\n",
       "</div>"
      ],
      "text/plain": [
       "      user_id        name  age          city subscription_type\n",
       "1534      293       Агата   26     Краснодар             ultra\n",
       "1535       16      Амалия   27     Краснодар             ultra\n",
       "1536      909  Константин   20  Екатеринбург              free\n",
       "1537      403      Полина   19          Сочи             ultra\n",
       "1538      908      Рустам   30        Тюмень              free"
      ]
     },
     "execution_count": 13,
     "metadata": {},
     "output_type": "execute_result"
    }
   ],
   "source": [
    "# выведем дубликаты на экран\n",
    "users[users.duplicated()].head()"
   ]
  },
  {
   "cell_type": "code",
   "execution_count": 14,
   "id": "6fc85af0",
   "metadata": {},
   "outputs": [
    {
     "data": {
      "text/html": [
       "<div>\n",
       "<style scoped>\n",
       "    .dataframe tbody tr th:only-of-type {\n",
       "        vertical-align: middle;\n",
       "    }\n",
       "\n",
       "    .dataframe tbody tr th {\n",
       "        vertical-align: top;\n",
       "    }\n",
       "\n",
       "    .dataframe thead th {\n",
       "        text-align: right;\n",
       "    }\n",
       "</style>\n",
       "<table border=\"1\" class=\"dataframe\">\n",
       "  <thead>\n",
       "    <tr style=\"text-align: right;\">\n",
       "      <th></th>\n",
       "      <th>user_id</th>\n",
       "      <th>name_x</th>\n",
       "      <th>age_x</th>\n",
       "      <th>city_x</th>\n",
       "      <th>subscription_type_x</th>\n",
       "      <th>name_y</th>\n",
       "      <th>age_y</th>\n",
       "      <th>city_y</th>\n",
       "      <th>subscription_type_y</th>\n",
       "    </tr>\n",
       "  </thead>\n",
       "  <tbody>\n",
       "    <tr>\n",
       "      <th>0</th>\n",
       "      <td>293</td>\n",
       "      <td>Агата</td>\n",
       "      <td>26</td>\n",
       "      <td>Краснодар</td>\n",
       "      <td>ultra</td>\n",
       "      <td>Агата</td>\n",
       "      <td>26</td>\n",
       "      <td>Краснодар</td>\n",
       "      <td>ultra</td>\n",
       "    </tr>\n",
       "    <tr>\n",
       "      <th>1</th>\n",
       "      <td>293</td>\n",
       "      <td>Агата</td>\n",
       "      <td>26</td>\n",
       "      <td>Краснодар</td>\n",
       "      <td>ultra</td>\n",
       "      <td>Агата</td>\n",
       "      <td>26</td>\n",
       "      <td>Краснодар</td>\n",
       "      <td>ultra</td>\n",
       "    </tr>\n",
       "    <tr>\n",
       "      <th>2</th>\n",
       "      <td>16</td>\n",
       "      <td>Амалия</td>\n",
       "      <td>27</td>\n",
       "      <td>Краснодар</td>\n",
       "      <td>ultra</td>\n",
       "      <td>Амалия</td>\n",
       "      <td>27</td>\n",
       "      <td>Краснодар</td>\n",
       "      <td>ultra</td>\n",
       "    </tr>\n",
       "    <tr>\n",
       "      <th>3</th>\n",
       "      <td>16</td>\n",
       "      <td>Амалия</td>\n",
       "      <td>27</td>\n",
       "      <td>Краснодар</td>\n",
       "      <td>ultra</td>\n",
       "      <td>Амалия</td>\n",
       "      <td>27</td>\n",
       "      <td>Краснодар</td>\n",
       "      <td>ultra</td>\n",
       "    </tr>\n",
       "    <tr>\n",
       "      <th>4</th>\n",
       "      <td>909</td>\n",
       "      <td>Константин</td>\n",
       "      <td>20</td>\n",
       "      <td>Екатеринбург</td>\n",
       "      <td>free</td>\n",
       "      <td>Константин</td>\n",
       "      <td>20</td>\n",
       "      <td>Екатеринбург</td>\n",
       "      <td>free</td>\n",
       "    </tr>\n",
       "    <tr>\n",
       "      <th>5</th>\n",
       "      <td>909</td>\n",
       "      <td>Константин</td>\n",
       "      <td>20</td>\n",
       "      <td>Екатеринбург</td>\n",
       "      <td>free</td>\n",
       "      <td>Константин</td>\n",
       "      <td>20</td>\n",
       "      <td>Екатеринбург</td>\n",
       "      <td>free</td>\n",
       "    </tr>\n",
       "    <tr>\n",
       "      <th>6</th>\n",
       "      <td>403</td>\n",
       "      <td>Полина</td>\n",
       "      <td>19</td>\n",
       "      <td>Сочи</td>\n",
       "      <td>ultra</td>\n",
       "      <td>Полина</td>\n",
       "      <td>19</td>\n",
       "      <td>Сочи</td>\n",
       "      <td>ultra</td>\n",
       "    </tr>\n",
       "    <tr>\n",
       "      <th>7</th>\n",
       "      <td>403</td>\n",
       "      <td>Полина</td>\n",
       "      <td>19</td>\n",
       "      <td>Сочи</td>\n",
       "      <td>ultra</td>\n",
       "      <td>Полина</td>\n",
       "      <td>19</td>\n",
       "      <td>Сочи</td>\n",
       "      <td>ultra</td>\n",
       "    </tr>\n",
       "    <tr>\n",
       "      <th>8</th>\n",
       "      <td>908</td>\n",
       "      <td>Рустам</td>\n",
       "      <td>30</td>\n",
       "      <td>Тюмень</td>\n",
       "      <td>free</td>\n",
       "      <td>Рустам</td>\n",
       "      <td>30</td>\n",
       "      <td>Тюмень</td>\n",
       "      <td>free</td>\n",
       "    </tr>\n",
       "    <tr>\n",
       "      <th>9</th>\n",
       "      <td>908</td>\n",
       "      <td>Рустам</td>\n",
       "      <td>30</td>\n",
       "      <td>Тюмень</td>\n",
       "      <td>free</td>\n",
       "      <td>Рустам</td>\n",
       "      <td>30</td>\n",
       "      <td>Тюмень</td>\n",
       "      <td>free</td>\n",
       "    </tr>\n",
       "  </tbody>\n",
       "</table>\n",
       "</div>"
      ],
      "text/plain": [
       "   user_id      name_x  age_x        city_x subscription_type_x      name_y  \\\n",
       "0      293       Агата     26     Краснодар               ultra       Агата   \n",
       "1      293       Агата     26     Краснодар               ultra       Агата   \n",
       "2       16      Амалия     27     Краснодар               ultra      Амалия   \n",
       "3       16      Амалия     27     Краснодар               ultra      Амалия   \n",
       "4      909  Константин     20  Екатеринбург                free  Константин   \n",
       "5      909  Константин     20  Екатеринбург                free  Константин   \n",
       "6      403      Полина     19          Сочи               ultra      Полина   \n",
       "7      403      Полина     19          Сочи               ultra      Полина   \n",
       "8      908      Рустам     30        Тюмень                free      Рустам   \n",
       "9      908      Рустам     30        Тюмень                free      Рустам   \n",
       "\n",
       "   age_y        city_y subscription_type_y  \n",
       "0     26     Краснодар               ultra  \n",
       "1     26     Краснодар               ultra  \n",
       "2     27     Краснодар               ultra  \n",
       "3     27     Краснодар               ultra  \n",
       "4     20  Екатеринбург                free  \n",
       "5     20  Екатеринбург                free  \n",
       "6     19          Сочи               ultra  \n",
       "7     19          Сочи               ultra  \n",
       "8     30        Тюмень                free  \n",
       "9     30        Тюмень                free  "
      ]
     },
     "execution_count": 14,
     "metadata": {},
     "output_type": "execute_result"
    }
   ],
   "source": [
    "# проверим дубликаты по соответствию другим значениям\n",
    "users.merge(users[users.duplicated()].head(), on='user_id', how='right')"
   ]
  },
  {
   "cell_type": "markdown",
   "id": "e0be6bae",
   "metadata": {},
   "source": [
    "Видим, что дубликаты ничем не отличаются, поэтому удалим их, чтобы не задваивать значения в рамках анализа."
   ]
  },
  {
   "cell_type": "code",
   "execution_count": 15,
   "id": "5f229cbc",
   "metadata": {},
   "outputs": [
    {
     "data": {
      "text/plain": [
       "0"
      ]
     },
     "execution_count": 15,
     "metadata": {},
     "output_type": "execute_result"
    }
   ],
   "source": [
    "# избавимся от дубликатов\n",
    "users = users.drop_duplicates().reset_index(drop=True)\n",
    "users.duplicated().sum()"
   ]
  },
  {
   "cell_type": "markdown",
   "id": "38919450",
   "metadata": {},
   "source": [
    "После удаление данных строк дубликатов в датасете с информацией по пользователям не осталось. Далее проделаем аналогичное с датасетами по поездкам и подпискам."
   ]
  },
  {
   "cell_type": "code",
   "execution_count": 16,
   "id": "78009f67",
   "metadata": {},
   "outputs": [
    {
     "data": {
      "text/plain": [
       "0"
      ]
     },
     "execution_count": 16,
     "metadata": {},
     "output_type": "execute_result"
    }
   ],
   "source": [
    "# посмотрим на дубликаты в датасете с информацией по поездкам\n",
    "rides.duplicated().sum()"
   ]
  },
  {
   "cell_type": "code",
   "execution_count": 17,
   "id": "49461e06",
   "metadata": {},
   "outputs": [
    {
     "data": {
      "text/plain": [
       "0"
      ]
     },
     "execution_count": 17,
     "metadata": {},
     "output_type": "execute_result"
    }
   ],
   "source": [
    "# посмотрим на дубликаты в датасете с информацией по подпискам\n",
    "subscriptions.duplicated().sum()"
   ]
  },
  {
   "cell_type": "markdown",
   "id": "d80cc853",
   "metadata": {},
   "source": [
    "Дубликаты в данных датасетах отсутствуют, поэтому ничего предпринимать не нужно. Далее обработаем типы данных: ранее при описании данных было указано на то, что необходимо поменять тип данных в колонке `date` датасета с информацией по поездкам."
   ]
  },
  {
   "cell_type": "code",
   "execution_count": 18,
   "id": "fac99ec8",
   "metadata": {},
   "outputs": [
    {
     "name": "stdout",
     "output_type": "stream",
     "text": [
      "<class 'pandas.core.frame.DataFrame'>\n",
      "RangeIndex: 18068 entries, 0 to 18067\n",
      "Data columns (total 4 columns):\n",
      " #   Column    Non-Null Count  Dtype  \n",
      "---  ------    --------------  -----  \n",
      " 0   user_id   18068 non-null  int64  \n",
      " 1   distance  18068 non-null  float64\n",
      " 2   duration  18068 non-null  float64\n",
      " 3   date      18068 non-null  object \n",
      "dtypes: float64(2), int64(1), object(1)\n",
      "memory usage: 564.8+ KB\n"
     ]
    }
   ],
   "source": [
    "# проверяем типы данных в датасете по поездкам\n",
    "rides.info()"
   ]
  },
  {
   "cell_type": "markdown",
   "id": "56b05a57",
   "metadata": {},
   "source": [
    "У колонки `date` тип данных установлен в качестве `object`, что, скорее всего, указывает на строчный формат. Поменяем тип данных в данной колонке на `datetime`, а также сразу же выделим месяц, так как данная колонка потребуется нам в рамках проведения дальнейшего анализа. Для начала проверим то, за какой период представлены данные, чтобы не допустить ошибки при дальнейших группировках по месяцам (например, если данные будут присутствовать за 2 года и более)."
   ]
  },
  {
   "cell_type": "code",
   "execution_count": 19,
   "id": "7d54863c",
   "metadata": {},
   "outputs": [
    {
     "name": "stdout",
     "output_type": "stream",
     "text": [
      "Первой датой в датасете является 2021-01-01 , последней датой в датасете является 2021-12-30\n"
     ]
    }
   ],
   "source": [
    "# рассмотрим диапазон дат в датасете\n",
    "print('Первой датой в датасете является', rides['date'].min(), ', последней датой в датасете является', rides['date'].max())"
   ]
  },
  {
   "cell_type": "markdown",
   "id": "d9437eb9",
   "metadata": {},
   "source": [
    "Видим, что данные представлены только за 2021 год в полном объеме: с 1 января по 30 декабря. Поменяем тип данных и добавим дополнительную колонку с месяцем."
   ]
  },
  {
   "cell_type": "code",
   "execution_count": 20,
   "id": "ac4adff7",
   "metadata": {},
   "outputs": [
    {
     "data": {
      "text/plain": [
       "dtype('<M8[ns]')"
      ]
     },
     "execution_count": 20,
     "metadata": {},
     "output_type": "execute_result"
    }
   ],
   "source": [
    "# изменяем тип данных в date на datetime\n",
    "rides['date'] = pd.to_datetime(rides['date'], format='%Y.%m.%d')\n",
    "\n",
    "# добавляем колонку с месяцем\n",
    "rides['month'] = rides['date'].dt.month\n",
    "rides['date'].dtype"
   ]
  },
  {
   "cell_type": "markdown",
   "id": "a4416a2e",
   "metadata": {},
   "source": [
    "Формат данных был успешно изменен, а колонка с месяцем создана. Дальнейших изменений на требуется.\n",
    "\n",
    "**Подведем промежуточные выводы:**\n",
    "- В рамках данного этапа исследования подключенные датасеты были проверены на наличие пропусков, в ходе работы пропусков выявлено не было, данные представлены в полном объеме;\n",
    "- Также датасеты были проанализированы на наличие дубликатов, где только в одном датасете с информацией о пользователях были выявлены дубликаты, проверены и удалены, чтобы получить корректные результаты исследования в дальнейшем;\n",
    "- Были проверены указанные типы данных на соответствия значениям в колонках, отклонения были найдены только в одном датасете с информацией по поездкам, что привело к изменению типа `object` на `datetime`. Также месяц был выделен в отдельную колонку `month` для проведения дальнейшего исследования.\n",
    "\n",
    "Таким образом, в рамках данного этапа была проведена предобработка данных, данные готовы к работе."
   ]
  },
  {
   "cell_type": "markdown",
   "id": "70b432d9",
   "metadata": {},
   "source": [
    "#### Шаг 3. Исследовательский анализ данных"
   ]
  },
  {
   "cell_type": "markdown",
   "id": "b7bb2960",
   "metadata": {},
   "source": [
    "В рамках данного этапа проведем исследовательский анализ данных по следующим факторам:\n",
    "- частота встречаемости городов;\n",
    "- соотношение пользователей с подпиской и без подписки;\n",
    "- возраст пользователей;\n",
    "- расстояние, которое пользователь преодолел за одну поездку;\n",
    "- продолжительность поездок.\n",
    "\n",
    "Начнем с анализа частоты встречаемости городов."
   ]
  },
  {
   "cell_type": "markdown",
   "id": "d548a759",
   "metadata": {},
   "source": [
    "##### Анализ частоты встречаемости городов"
   ]
  },
  {
   "cell_type": "markdown",
   "id": "9c45205f",
   "metadata": {},
   "source": [
    "Информация по городам представлена в датасете с пользователями. Построим столбчатую диаграмму распределения пользователей приложения по городам и отсортируем по убыванию."
   ]
  },
  {
   "cell_type": "code",
   "execution_count": 21,
   "id": "8473961f",
   "metadata": {},
   "outputs": [],
   "source": [
    "# группируем данные по городам и считаем уникальное количество пользователей, используем метод count(), так как из датасета \n",
    "# видно, что данные представлены в уникальном виде\n",
    "users_grouped_by_city = users.groupby('city')['user_id'].count().sort_values(ascending=False)\\\n",
    "                        .reset_index()\n",
    "\n",
    "# рассчитаем доли каждого города в процентном соотношении\n",
    "users_grouped_by_city['user_id_perc_count'] = (users_grouped_by_city['user_id'] / users_grouped_by_city['user_id'].sum()) * 100"
   ]
  },
  {
   "cell_type": "code",
   "execution_count": 22,
   "id": "d3cc4344",
   "metadata": {},
   "outputs": [
    {
     "data": {
      "text/html": [
       "<div>\n",
       "<style scoped>\n",
       "    .dataframe tbody tr th:only-of-type {\n",
       "        vertical-align: middle;\n",
       "    }\n",
       "\n",
       "    .dataframe tbody tr th {\n",
       "        vertical-align: top;\n",
       "    }\n",
       "\n",
       "    .dataframe thead th {\n",
       "        text-align: right;\n",
       "    }\n",
       "</style>\n",
       "<table border=\"1\" class=\"dataframe\">\n",
       "  <thead>\n",
       "    <tr style=\"text-align: right;\">\n",
       "      <th></th>\n",
       "      <th>city</th>\n",
       "      <th>user_id</th>\n",
       "      <th>user_id_perc_count</th>\n",
       "    </tr>\n",
       "  </thead>\n",
       "  <tbody>\n",
       "    <tr>\n",
       "      <th>0</th>\n",
       "      <td>Пятигорск</td>\n",
       "      <td>219</td>\n",
       "      <td>14.276402</td>\n",
       "    </tr>\n",
       "    <tr>\n",
       "      <th>1</th>\n",
       "      <td>Екатеринбург</td>\n",
       "      <td>204</td>\n",
       "      <td>13.298566</td>\n",
       "    </tr>\n",
       "    <tr>\n",
       "      <th>2</th>\n",
       "      <td>Ростов-на-Дону</td>\n",
       "      <td>198</td>\n",
       "      <td>12.907432</td>\n",
       "    </tr>\n",
       "    <tr>\n",
       "      <th>3</th>\n",
       "      <td>Краснодар</td>\n",
       "      <td>193</td>\n",
       "      <td>12.581486</td>\n",
       "    </tr>\n",
       "    <tr>\n",
       "      <th>4</th>\n",
       "      <td>Сочи</td>\n",
       "      <td>189</td>\n",
       "      <td>12.320730</td>\n",
       "    </tr>\n",
       "    <tr>\n",
       "      <th>5</th>\n",
       "      <td>Омск</td>\n",
       "      <td>183</td>\n",
       "      <td>11.929596</td>\n",
       "    </tr>\n",
       "    <tr>\n",
       "      <th>6</th>\n",
       "      <td>Тюмень</td>\n",
       "      <td>180</td>\n",
       "      <td>11.734029</td>\n",
       "    </tr>\n",
       "    <tr>\n",
       "      <th>7</th>\n",
       "      <td>Москва</td>\n",
       "      <td>168</td>\n",
       "      <td>10.951760</td>\n",
       "    </tr>\n",
       "  </tbody>\n",
       "</table>\n",
       "</div>"
      ],
      "text/plain": [
       "             city  user_id  user_id_perc_count\n",
       "0       Пятигорск      219           14.276402\n",
       "1    Екатеринбург      204           13.298566\n",
       "2  Ростов-на-Дону      198           12.907432\n",
       "3       Краснодар      193           12.581486\n",
       "4            Сочи      189           12.320730\n",
       "5            Омск      183           11.929596\n",
       "6          Тюмень      180           11.734029\n",
       "7          Москва      168           10.951760"
      ]
     },
     "execution_count": 22,
     "metadata": {},
     "output_type": "execute_result"
    }
   ],
   "source": [
    "# отобразим данные в табличном виде\n",
    "users_grouped_by_city"
   ]
  },
  {
   "cell_type": "code",
   "execution_count": 23,
   "id": "9a98b951",
   "metadata": {},
   "outputs": [
    {
     "data": {
      "image/png": "[encoded data removed]",
      "text/plain": [
       "<Figure size 504x288 with 1 Axes>"
      ]
     },
     "metadata": {
      "needs_background": "light"
     },
     "output_type": "display_data"
    }
   ],
   "source": [
    "# построим график\n",
    "plt.figure(figsize=(7, 4))\n",
    "sns.barplot(data=users_grouped_by_city, x='user_id_perc_count', y='city', orient='h')\n",
    "plt.xlabel('Доля пользователей, в %')\n",
    "plt.ylabel('Город')\n",
    "plt.title('Распределение пользователей по городам в процентах')\n",
    "plt.show()"
   ]
  },
  {
   "cell_type": "markdown",
   "id": "ba838042",
   "metadata": {},
   "source": [
    "На графике видно, что большинство пользователей приложения из Пятигорска, Екатеринбурга и Ростова-на-Дону. При этом важно отметить, что между городами не сильная разница: например, между самым и менее крупными городами по количеству пользователей всего лишь около 3% разницы. Тем не менее, важно учитывать региональный фактор: так, Москва значительно больше Пятигорска, но при этом пользователей оттуда не на много, но меньше. Возможно, в Москве пользуются спросом другие виды самокатов, которых в регионах нет, в обратном случае количество пользователей из Москвы превышало бы крупные города. Далее проанализируем соотношение пользователей с подпиской и без нее."
   ]
  },
  {
   "cell_type": "markdown",
   "id": "77545885",
   "metadata": {},
   "source": [
    "##### Анализ соотношения пользователей с подпиской и без нее"
   ]
  },
  {
   "cell_type": "markdown",
   "id": "34fa1e77",
   "metadata": {},
   "source": [
    "Информация по подписке также доступна в датасете с информацией по пользователям. Сгруппируем данные для того, чтобы посмотреть соотношение пользователей с подпиской и без нее."
   ]
  },
  {
   "cell_type": "code",
   "execution_count": 24,
   "id": "5725106a",
   "metadata": {},
   "outputs": [
    {
     "data": {
      "text/html": [
       "<div>\n",
       "<style scoped>\n",
       "    .dataframe tbody tr th:only-of-type {\n",
       "        vertical-align: middle;\n",
       "    }\n",
       "\n",
       "    .dataframe tbody tr th {\n",
       "        vertical-align: top;\n",
       "    }\n",
       "\n",
       "    .dataframe thead th {\n",
       "        text-align: right;\n",
       "    }\n",
       "</style>\n",
       "<table border=\"1\" class=\"dataframe\">\n",
       "  <thead>\n",
       "    <tr style=\"text-align: right;\">\n",
       "      <th></th>\n",
       "      <th>subscription_type</th>\n",
       "      <th>user_id</th>\n",
       "      <th>st_perc_count</th>\n",
       "    </tr>\n",
       "  </thead>\n",
       "  <tbody>\n",
       "    <tr>\n",
       "      <th>0</th>\n",
       "      <td>free</td>\n",
       "      <td>835</td>\n",
       "      <td>54.432855</td>\n",
       "    </tr>\n",
       "    <tr>\n",
       "      <th>1</th>\n",
       "      <td>ultra</td>\n",
       "      <td>699</td>\n",
       "      <td>45.567145</td>\n",
       "    </tr>\n",
       "  </tbody>\n",
       "</table>\n",
       "</div>"
      ],
      "text/plain": [
       "  subscription_type  user_id  st_perc_count\n",
       "0              free      835      54.432855\n",
       "1             ultra      699      45.567145"
      ]
     },
     "execution_count": 24,
     "metadata": {},
     "output_type": "execute_result"
    }
   ],
   "source": [
    "# группируем данные по типу подписки\n",
    "users_grouped_by_st = users.groupby('subscription_type')['user_id'].count().sort_values(ascending=False)\\\n",
    "                        .reset_index()\n",
    "\n",
    "# рассчитаем доли каждого города в процентном соотношении\n",
    "users_grouped_by_st['st_perc_count'] = (users_grouped_by_st['user_id'] / users_grouped_by_st['user_id'].sum()) * 100\n",
    "\n",
    "users_grouped_by_st"
   ]
  },
  {
   "cell_type": "code",
   "execution_count": 25,
   "id": "168e9b65",
   "metadata": {},
   "outputs": [
    {
     "data": {
      "image/png": "[encoded data removed]",
      "text/plain": [
       "<Figure size 504x288 with 1 Axes>"
      ]
     },
     "metadata": {},
     "output_type": "display_data"
    }
   ],
   "source": [
    "# построим график\n",
    "plt.figure(figsize=(7, 4))\n",
    "plt.pie(data=users_grouped_by_st, x='st_perc_count', labels='subscription_type', autopct='%.0f%%')\n",
    "plt.title('Распределение пользователей по типам подписки')\n",
    "plt.show()"
   ]
  },
  {
   "cell_type": "markdown",
   "id": "7c3a25f5",
   "metadata": {},
   "source": [
    "На круговой диаграмме и в таблице видно, что пользователей без подписки больше, чем тех, кто оплатил подписку на тариф Ultra. При этом нельзя говорить о том, что разница слишком велика: чуть менее половины пользователей не оформили подписку в приложении, но не более. Рассмотрим распределение по типам подписки по городам."
   ]
  },
  {
   "cell_type": "code",
   "execution_count": 26,
   "id": "77cb5c46",
   "metadata": {},
   "outputs": [],
   "source": [
    "# группируем данные по городам и типу подписки\n",
    "users_grouped_by_st_and_city = users.groupby(['city', 'subscription_type'])['user_id'].count().sort_values(ascending=False)\\\n",
    "                                .reset_index()\n",
    "\n",
    "# рассчитаем доли каждого города в процентном соотношении\n",
    "users_grouped_by_st_and_city['st_perc_count'] = (users_grouped_by_st_and_city['user_id'] / users_grouped_by_st_and_city['user_id']\\\n",
    "                                                 .sum()) * 100"
   ]
  },
  {
   "cell_type": "code",
   "execution_count": 27,
   "id": "bda89584",
   "metadata": {},
   "outputs": [
    {
     "data": {
      "image/png": "[encoded data removed]",
      "text/plain": [
       "<Figure size 720x360 with 1 Axes>"
      ]
     },
     "metadata": {
      "needs_background": "light"
     },
     "output_type": "display_data"
    }
   ],
   "source": [
    "# построим график\n",
    "plt.figure(figsize=(10, 5))\n",
    "sns.barplot(data=users_grouped_by_st_and_city, x='city', y='st_perc_count', hue='subscription_type')\n",
    "plt.xlabel('Город')\n",
    "plt.ylabel('Доля пользователей, в %')\n",
    "plt.title('Распределение пользователей по городам в процентах в зависимости от типа подписки')\n",
    "plt.xticks(rotation=45)\n",
    "plt.show()"
   ]
  },
  {
   "cell_type": "markdown",
   "id": "a974365f",
   "metadata": {},
   "source": [
    "На графике можно, что ни в одном городе количество платящих пользователей с тарифом Ultra не превышают количество пользователей с бесплатным тарифом. При этом можно говорить о том, что наибольший размах в количестве наблюдаютися у Пятигорска и Краснодара - 2%, а наименьший - Омска и Москвы, где значения практически идентичны."
   ]
  },
  {
   "cell_type": "markdown",
   "id": "1d80f611",
   "metadata": {},
   "source": [
    "##### Анализ возраста пользователей"
   ]
  },
  {
   "cell_type": "markdown",
   "id": "eb598d81",
   "metadata": {},
   "source": [
    "Для составления полноценного портрета пользователей проанализириуем их в разрезе возраста, а также посмотрим на распределение возраста по городам и по типам подписки. Для анализа возраста построим гистограмму и диаграмму размаха: несмотря на то, что возраст, в основном, является дискретной величиной (если мы не вычисляем его вплоть до миллисекунд), значений признака слишком много, чтобы построить по ним столбчатую диаграмму."
   ]
  },
  {
   "cell_type": "code",
   "execution_count": 28,
   "id": "1379119c",
   "metadata": {},
   "outputs": [
    {
     "data": {
      "image/png": "[encoded data removed]",
      "text/plain": [
       "<Figure size 864x360 with 2 Axes>"
      ]
     },
     "metadata": {
      "needs_background": "light"
     },
     "output_type": "display_data"
    }
   ],
   "source": [
    "# зададим параметры для отображения графиков в одной строчке\n",
    "figure, axes = plt.subplots(1, 2, figsize=(12, 5))\n",
    "figure.subplots_adjust(wspace=1.5)\n",
    "\n",
    "# построим графики\n",
    "sns.histplot(data=users['age'], kde=True, ax=axes[0])\n",
    "sns.boxplot(data=users['age'], ax=axes[1])\n",
    "\n",
    "axes[0].set_title('Распределение пользователей по возрасту (гистограмма)')\n",
    "axes[0].set_xlabel('Возраст')\n",
    "axes[0].set_ylabel('Количество пользователей')\n",
    "\n",
    "axes[1].set_title('Распределение пользователей по возрасту (диграмма размаха)')\n",
    "axes[1].set_ylabel('Возраст')\n",
    "\n",
    "plt.show()"
   ]
  },
  {
   "cell_type": "code",
   "execution_count": 29,
   "id": "11507550",
   "metadata": {},
   "outputs": [
    {
     "data": {
      "text/plain": [
       "count    1534.000000\n",
       "mean       24.903520\n",
       "std         4.572367\n",
       "min        12.000000\n",
       "25%        22.000000\n",
       "50%        25.000000\n",
       "75%        28.000000\n",
       "max        43.000000\n",
       "Name: age, dtype: float64"
      ]
     },
     "execution_count": 29,
     "metadata": {},
     "output_type": "execute_result"
    }
   ],
   "source": [
    "# для дополнительной информации выведем показатели описательной статистики\n",
    "users['age'].describe()"
   ]
  },
  {
   "cell_type": "markdown",
   "id": "4717db48",
   "metadata": {},
   "source": [
    "Оба графика предоставляют схожую информацию, но с разных углов: на гистограмме видно, что данные распределены близко к нормальному распределению, что вполне характерно для возрастных характеристик. На графике с диаграммой размаха видно, что медианный возраст генеральной совокупности составляет 25 лет, при этом минимальный возраст находится в районе 12 лет, а максимальный - 43. Стандартное отклонение составляет 4.5, что означает, что возраст отдельного пользователя отличается от среднего значения на 4.5 года. Есть несколько выбросов: например, один пользователь младше 13-14 лет (видимо, пользователь в возрасте 12 лет), а 3 старше 37-38. Поменяем параметр `bin` в гистограмме, чтобы увидеть более агрегированную картину."
   ]
  },
  {
   "cell_type": "code",
   "execution_count": 30,
   "id": "1d91a2fa",
   "metadata": {},
   "outputs": [
    {
     "data": {
      "image/png": "[encoded data removed]",
      "text/plain": [
       "<Figure size 432x288 with 1 Axes>"
      ]
     },
     "metadata": {
      "needs_background": "light"
     },
     "output_type": "display_data"
    }
   ],
   "source": [
    "# построим графики\n",
    "sns.histplot(data=users['age'], kde=True, bins=10)\n",
    "plt.xlabel('Возраст')\n",
    "plt.ylabel('Количество пользователей')\n",
    "plt.title('Распределение пользователей по возрасту')\n",
    "plt.show()"
   ]
  },
  {
   "cell_type": "markdown",
   "id": "407f90fe",
   "metadata": {},
   "source": [
    "Видим, что большинство пользователей приложения находится в возрастном диапазоне 21-27 лет, поэтому можно сказать, что целевой аудиторией являются молодые люди, которые активно используют самокаты при передвижении. В меньшей степенью пользуются приложением пользователи младше 15-18 и старше 30 лет: первая группа представляет собой подростков, которые финансово, скорее всего, зависят от родителей, либо не испытывают необходимости в передвижениях на длительные дистанции, а пользователи в возрасте 30+ в меньшей степени склонны пользоваться новыми технологиями (особенно 35 лет и далее) - например, в силу того, что у них есть личный транспорт. Проанализируем данные по возрасту в связке с городами и типами подписки: ранее уже было обозначены, что значений возраста слишком много, поэтому целесообразно будет провести категоризацию и разбить группы на агрегированные возрастные категории."
   ]
  },
  {
   "cell_type": "code",
   "execution_count": 31,
   "id": "99729303",
   "metadata": {},
   "outputs": [],
   "source": [
    "# определяем диапазоны возрастов, шаг 10 лет (пользователей старше 50 лет в приложении нет, ограничимся этими значениями)\n",
    "bins = [0, 10, 20, 30, 40, 50]\n",
    "\n",
    "# создадим новую колонку с диапазонами при помощи соответствующего метода\n",
    "users['age_group'] = pd.cut(users['age'], bins=bins, labels=[f\"{i}-{i+9}\" for i in range(0, 50, 10)])"
   ]
  },
  {
   "cell_type": "code",
   "execution_count": 32,
   "id": "4dc0678b",
   "metadata": {},
   "outputs": [],
   "source": [
    "# группируем данные по городам и возрастному диапазону\n",
    "users_grouped_by_age_and_city = users.groupby(['city', 'age_group'])['user_id'].count().sort_values(ascending=False)\\\n",
    "                                .reset_index()\n",
    "\n",
    "# рассчитаем доли каждого города в процентном соотношении\n",
    "users_grouped_by_age_and_city['age_perc_count'] = (users_grouped_by_age_and_city['user_id'] / users_grouped_by_age_and_city['user_id']\\\n",
    "                                                 .sum()) * 100"
   ]
  },
  {
   "cell_type": "code",
   "execution_count": 33,
   "id": "ff5ee7ac",
   "metadata": {},
   "outputs": [
    {
     "data": {
      "image/png": "[encoded data removed]",
      "text/plain": [
       "<Figure size 720x360 with 1 Axes>"
      ]
     },
     "metadata": {
      "needs_background": "light"
     },
     "output_type": "display_data"
    }
   ],
   "source": [
    "# построим график\n",
    "plt.figure(figsize=(10, 5))\n",
    "sns.barplot(data=users_grouped_by_age_and_city, x='age_perc_count', y='city', hue='age_group', orient='h')\n",
    "plt.xlabel('Доля пользователей, в %')\n",
    "plt.ylabel('Город')\n",
    "plt.title('Распределение пользователей по городам и возрастным группам')\n",
    "plt.show()"
   ]
  },
  {
   "cell_type": "markdown",
   "id": "b2d92ff7",
   "metadata": {},
   "source": [
    "На графике можно заметить, что распределение во всех городах схожее: доминируют пользователи в возрасте 20-29 лет, на что было указано ранее, так как медианный возраст генеральной совокупности - 25 лет. В большей степени присутствуют пользователи в возрасте 10-19 лет, чем 30-39, однако данная тенденция нарушается в Москве, там показатели по данным возрастным группам находятся на одном уровне (вполне вероятно, что темп жизни в Москве другой, как и поведение пользователей - например, многе жители Москвы предпочитают не покупать автомобили в силу пробок и наличия метро, а от одной станции до другой как раз можно добраться на самокате). Проанализируем распределение возраста по типам подписки."
   ]
  },
  {
   "cell_type": "code",
   "execution_count": 34,
   "id": "b1293e7c",
   "metadata": {},
   "outputs": [],
   "source": [
    "# группируем данные по типам подписки и возрастному диапазону\n",
    "users_grouped_by_age_and_st = users.groupby(['subscription_type', 'age_group'])['user_id'].count().sort_values(ascending=False)\\\n",
    "                                .reset_index()\n",
    "\n",
    "# рассчитаем доли каждого города в процентном соотношении\n",
    "users_grouped_by_age_and_st['age_perc_count'] = (users_grouped_by_age_and_st['user_id'] / users_grouped_by_age_and_st['user_id']\\\n",
    "                                                 .sum()) * 100"
   ]
  },
  {
   "cell_type": "code",
   "execution_count": 35,
   "id": "c23711e7",
   "metadata": {},
   "outputs": [
    {
     "data": {
      "image/png": "[encoded data removed]",
      "text/plain": [
       "<Figure size 504x216 with 1 Axes>"
      ]
     },
     "metadata": {
      "needs_background": "light"
     },
     "output_type": "display_data"
    }
   ],
   "source": [
    "# построим график\n",
    "plt.figure(figsize=(7, 3))\n",
    "sns.barplot(data=users_grouped_by_age_and_st, x='subscription_type', y='age_perc_count', hue='age_group')\n",
    "plt.xlabel('Доля пользователей, в %')\n",
    "plt.ylabel('Город')\n",
    "plt.title('Распределение пользователей по городам и возрастным группам')\n",
    "plt.show()"
   ]
  },
  {
   "cell_type": "markdown",
   "id": "7f9273af",
   "metadata": {},
   "source": [
    "В целом, видна аналогичная тенденция: пользователей в возрастном диапазоне 20-29 лет больше как в бесплатной версии приложения, так и на тарифе Ultra, а пользователей в возрасте 30-39 оказывается снова меньше всего. Далее проанализируем расстояния, которое пользователь преодолел за одну поездку."
   ]
  },
  {
   "cell_type": "markdown",
   "id": "d47762ef",
   "metadata": {},
   "source": [
    "##### Анализ расстояния, которое пользователь преодолел за одну поездку"
   ]
  },
  {
   "cell_type": "markdown",
   "id": "eb308234",
   "metadata": {},
   "source": [
    "Для анализа данных по поездкам нам необходимо обратиться к датасету с информацией по поездкам. Так как расстояние является непрерывной величиной, то рассматривать его будем также на двух графиках - гистограмме с заданным параметром `bins` для удобства анализа и диаграмме размаха."
   ]
  },
  {
   "cell_type": "code",
   "execution_count": 36,
   "id": "f8195269",
   "metadata": {},
   "outputs": [
    {
     "data": {
      "image/png": "[encoded data removed]",
      "text/plain": [
       "<Figure size 1080x360 with 2 Axes>"
      ]
     },
     "metadata": {
      "needs_background": "light"
     },
     "output_type": "display_data"
    }
   ],
   "source": [
    "# зададим параметры для отображения графиков в одной строчке\n",
    "figure, axes = plt.subplots(1, 2, figsize=(15, 5))\n",
    "figure.subplots_adjust(wspace=1.5)\n",
    "\n",
    "# построим графики\n",
    "sns.histplot(data=rides['distance'], bins=10, ax=axes[0])\n",
    "sns.boxplot(data=rides['distance'], ax=axes[1])\n",
    "\n",
    "axes[0].set_title('Распределение поездок по расстоянию (гистограмма)')\n",
    "axes[0].set_xlabel('Расстояние (в метрах)')\n",
    "axes[0].set_ylabel('Количество поездок')\n",
    "\n",
    "axes[1].set_title('Распределение поездок по расстоянию (диграмма размаха)')\n",
    "axes[1].set_ylabel('Количество поездок')\n",
    "\n",
    "plt.show()"
   ]
  },
  {
   "cell_type": "markdown",
   "id": "03fc18fa",
   "metadata": {},
   "source": [
    "На гистограмме видно, что большинство пользователей проезжают на самокатах от 2000 до 4000 м. (то есть, 2-4 км.). Медианным расстоянием являются поездки в районе 3000-3100 м., при этом минимальное расстояние на поездку составляет около 700-800 м., а максимальное - 5600-5700 м., имеются также несколько выбросов с еще более меньшими и большими расстояниями. Стоит отметить, что 2000-4000 м. выглядят логично: например, в регионах данное расстояние позволяет проехать несколько остановок и не пользоваться общественным транспортом, а в Москве, судя по данным в открытых источниках, среднее расстояние между станций метро составляет 1800 м., что указано в открытых источниках, например, <a href=\"https://hi-tech.mail.ru/review/101478-pochemu-v-metro-takie-dlinnye-peregony-mezhdu-stanciyami/#:~:text=%D0%A1%D1%80%D0%B5%D0%B4%D0%BD%D1%8F%D1%8F%20%D0%B4%D0%B0%D0%BB%D1%8C%D0%BD%D0%BE%D1%81%D1%82%D1%8C%20%D0%BF%D0%BE%D0%B5%D0%B7%D0%B4%D0%BA%D0%B8%20%D0%B2%20%D0%9C%D0%BE%D1%81%D0%BA%D0%BE%D0%B2%D1%81%D0%BA%D0%BE%D0%BC,%D1%87%D0%B5%D0%BC%20%D0%B2%D0%BE%20%D0%B2%D1%81%D0%B5%D0%BC%20%D0%BE%D1%81%D1%82%D0%B0%D0%BB%D1%8C%D0%BD%D0%BE%D0%BC%20%D0%BC%D0%B8%D1%80%D0%B5.\">здесь</a>. Тем самым, можно предположить, что пользователи либо добираются до станции метро, либо перемещаются между ними. Объединим датасет с информацией по поездкам с датасетом с информацией о пользователях, чтобы проанализировать расстояние в разрезе городов, возрастных групп и типа подписки. Перед объедиением датасетов проведен категоризацию расстояния по аналогии с возрастными группами для упрощения анализа в дальнейшем."
   ]
  },
  {
   "cell_type": "code",
   "execution_count": 37,
   "id": "02caeec8",
   "metadata": {},
   "outputs": [],
   "source": [
    "# определяем диапазоны расстояния, шаг 1000 метров\n",
    "bins = [0, 1000, 2000, 3000, 4000, 5000, 6000]\n",
    "\n",
    "# создадим новую колонку с диапазонами при помощи соответствующего метода\n",
    "rides['distance_group'] = pd.cut(rides['distance'], bins=bins, labels=[f\"{i}-{i+999}\" for i in range(0, 6000, 1000)])"
   ]
  },
  {
   "cell_type": "code",
   "execution_count": 38,
   "id": "a60d4879",
   "metadata": {},
   "outputs": [],
   "source": [
    "# объединяем датасеты, объединяем по столбцу user_id и параметру inner, чтобы в итоговый датасет вошли только значения из\n",
    "# обоих датасетов (в случае наличия несовпадений)\n",
    "df_users_and_rides = users.merge(rides, on=\"user_id\", how=\"inner\")"
   ]
  },
  {
   "cell_type": "markdown",
   "id": "6d5b5d58",
   "metadata": {},
   "source": [
    "Рассчитаем средние расстояния поездок по городам, а также посмотрим на распределение пользователей по категориям расстояний по городам."
   ]
  },
  {
   "cell_type": "code",
   "execution_count": 39,
   "id": "75f134d8",
   "metadata": {},
   "outputs": [],
   "source": [
    "# группируем данные по городам и диапазоном расстояний, рассчитываем среднее значение\n",
    "users_grouped_by_distance_and_cities_b = df_users_and_rides.groupby('city')['distance'].mean()\\\n",
    "                                       .sort_values(ascending=False).reset_index()"
   ]
  },
  {
   "cell_type": "code",
   "execution_count": 40,
   "id": "1ca1dfc8",
   "metadata": {},
   "outputs": [
    {
     "data": {
      "image/png": "[encoded data removed]",
      "text/plain": [
       "<Figure size 720x360 with 1 Axes>"
      ]
     },
     "metadata": {
      "needs_background": "light"
     },
     "output_type": "display_data"
    }
   ],
   "source": [
    "# построим график\n",
    "plt.figure(figsize=(10, 5))\n",
    "sns.barplot(data=users_grouped_by_distance_and_cities_b, x='city', y='distance')\n",
    "plt.xlabel('Город')\n",
    "plt.ylabel('Среднее расстояние за одну поездку, м.')\n",
    "plt.title('Среднее расстояние за одну поездку по городам')\n",
    "plt.xticks(rotation=45)\n",
    "plt.show()"
   ]
  },
  {
   "cell_type": "markdown",
   "id": "ccd635a0",
   "metadata": {},
   "source": [
    "В целом, во всех городах среднее значение составляет чуть больше 3000 м. за поездку, что указывает на то, что среди городов прослеживается единая тенденция. Также проанализируем среднее расстояние за одну поездку по месяцам для определения наличия фактора сезонности (думаю, что анализировать совокупное расстояние для определения фактора сезонности смысла нет, так как компания могла увеличить количество пользователей, что исказит результаты анализа)."
   ]
  },
  {
   "cell_type": "code",
   "execution_count": 41,
   "id": "59b054a6",
   "metadata": {},
   "outputs": [],
   "source": [
    "# группируем данные по месяцам и диапазоном расстояний, рассчитываем среднее значение\n",
    "users_grouped_by_distance_and_month = rides.groupby('month')['distance'].mean().sort_values(ascending=False).reset_index()\n",
    "\n",
    "# рассчитаем доли каждого месяца в процентном соотношении\n",
    "users_grouped_by_distance_and_month['distance_perc_count'] = (users_grouped_by_distance_and_month['distance'] / \n",
    "                                                              users_grouped_by_distance_and_month['distance'].sum()) * 100"
   ]
  },
  {
   "cell_type": "code",
   "execution_count": 42,
   "id": "2d5b82b2",
   "metadata": {},
   "outputs": [
    {
     "data": {
      "image/png": "[encoded data removed]",
      "text/plain": [
       "<Figure size 720x360 with 1 Axes>"
      ]
     },
     "metadata": {
      "needs_background": "light"
     },
     "output_type": "display_data"
    }
   ],
   "source": [
    "# построим график\n",
    "plt.figure(figsize=(10, 5))\n",
    "sns.lineplot(data=users_grouped_by_distance_and_month, x='month', y='distance_perc_count')\n",
    "plt.xlabel('Месяц')\n",
    "plt.ylabel('Доля совокупного расстояния за месяц, в %')\n",
    "plt.title('Динамика изменения среднего расстояния за поездки по месяц')\n",
    "plt.show()"
   ]
  },
  {
   "cell_type": "markdown",
   "id": "f85fdc16",
   "metadata": {},
   "source": [
    "На графике можно заметить совсем небольшое влияние фактора сезонности: среднее расстояние сокращается в феврале, а также идет на спад к концу лета, при этом рост наблюдается весной, летом и в декабре (возможно, как результат какой-либо рекламной кампании или же наличия выбросов именно в этот месяц). При этом разница в динамике не слишком большая и составляет 0.2% разницы между максимальным и минимальным показателями, что указывает на практическое отсутствие фактора сезонности. Рассмотрим распределение расстояний по городам по количеству пользователей."
   ]
  },
  {
   "cell_type": "code",
   "execution_count": 43,
   "id": "b268d814",
   "metadata": {},
   "outputs": [],
   "source": [
    "# группируем данные по городам и диапазоном расстояний, снова считаем все user_id, а не уникальные, так как важна каждая поездка\n",
    "users_grouped_by_distance_and_cities = df_users_and_rides.groupby(['city', 'distance_group'])['user_id'].count()\\\n",
    "                                       .sort_values(ascending=False).reset_index()\n",
    "\n",
    "# рассчитаем доли каждого города в процентном соотношении\n",
    "users_grouped_by_distance_and_cities['distance_perc_count'] = (users_grouped_by_distance_and_cities['user_id'] / \n",
    "                                                               users_grouped_by_distance_and_cities['user_id'].sum()) * 100"
   ]
  },
  {
   "cell_type": "code",
   "execution_count": 44,
   "id": "2967d4c7",
   "metadata": {},
   "outputs": [
    {
     "data": {
      "image/png": "[encoded data removed]",
      "text/plain": [
       "<Figure size 720x360 with 1 Axes>"
      ]
     },
     "metadata": {
      "needs_background": "light"
     },
     "output_type": "display_data"
    }
   ],
   "source": [
    "# построим график\n",
    "plt.figure(figsize=(10, 5))\n",
    "sns.barplot(data=users_grouped_by_distance_and_cities, x='distance_perc_count', y='city', hue='distance_group', orient='h')\n",
    "plt.xlabel('Доля пользователей, в %')\n",
    "plt.ylabel('Город')\n",
    "plt.title('Распределение пользователей по городам и возрастным группам')\n",
    "plt.show()"
   ]
  },
  {
   "cell_type": "markdown",
   "id": "ecda1236",
   "metadata": {},
   "source": [
    "Данные на графике указывают на то, что во всех городах наблюдается также одинаковая тенденция по распределению расстояний среди всех пользователей, о чем уже было предположено ранее: наибольшее количество пользователей проежают от 2000 до 4000 м., а наиболее редкие расстояния составляют менее 999 м. и более 5000 м. Рассмотрим распределение продолжительности поездок по возрастным категориям."
   ]
  },
  {
   "cell_type": "code",
   "execution_count": 45,
   "id": "4dceaecd",
   "metadata": {},
   "outputs": [],
   "source": [
    "# группируем данные по возрастным группам и диапазоном расстояний\n",
    "users_grouped_by_distance_and_age = df_users_and_rides.groupby(['age_group', 'distance_group'])['user_id'].count()\\\n",
    "                                       .sort_values(ascending=False).reset_index()\n",
    "\n",
    "# рассчитаем доли каждой возрастной группы в процентном соотношении\n",
    "users_grouped_by_distance_and_age['distance_perc_count'] = (users_grouped_by_distance_and_age['user_id'] / \n",
    "                                                               users_grouped_by_distance_and_age['user_id'].sum()) * 100"
   ]
  },
  {
   "cell_type": "code",
   "execution_count": 46,
   "id": "931c90c3",
   "metadata": {},
   "outputs": [
    {
     "data": {
      "image/png": "[encoded data removed]",
      "text/plain": [
       "<Figure size 720x360 with 1 Axes>"
      ]
     },
     "metadata": {
      "needs_background": "light"
     },
     "output_type": "display_data"
    }
   ],
   "source": [
    "# построим график\n",
    "plt.figure(figsize=(10, 5))\n",
    "sns.barplot(data=users_grouped_by_distance_and_age, x='age_group', y='distance_perc_count', hue='distance_group')\n",
    "plt.xlabel('Возраст')\n",
    "plt.ylabel('Доля пользователей, в %')\n",
    "plt.title('Распределение расстояний поездок по возрастным группам')\n",
    "plt.show()"
   ]
  },
  {
   "cell_type": "markdown",
   "id": "7f289283",
   "metadata": {},
   "source": [
    "Среди всех групп пользователей по возрастам наблюдается аналогичная закономерность: большинство пользователей осуществляют поездки длительностью в 2000-4000 м., меньше всего - до 999 м. и более 5000 м. Наконец, рассмотрим распределение расстояния поездок по типу тарифа."
   ]
  },
  {
   "cell_type": "code",
   "execution_count": 47,
   "id": "c7023f4d",
   "metadata": {},
   "outputs": [],
   "source": [
    "# группируем данные по типам подписку и диапазоном расстояний\n",
    "users_grouped_by_distance_and_st = df_users_and_rides.groupby(['subscription_type', 'distance_group'])['user_id'].count()\\\n",
    "                                       .sort_values(ascending=False).reset_index()\n",
    "\n",
    "# рассчитаем доли каждой возрастной группы в процентном соотношении\n",
    "users_grouped_by_distance_and_st['distance_perc_count'] = (users_grouped_by_distance_and_st['user_id'] / \n",
    "                                                               users_grouped_by_distance_and_st['user_id'].sum()) * 100"
   ]
  },
  {
   "cell_type": "code",
   "execution_count": 48,
   "id": "82ff8419",
   "metadata": {},
   "outputs": [
    {
     "data": {
      "image/png": "[encoded data removed]",
      "text/plain": [
       "<Figure size 720x360 with 1 Axes>"
      ]
     },
     "metadata": {
      "needs_background": "light"
     },
     "output_type": "display_data"
    }
   ],
   "source": [
    "# построим график\n",
    "plt.figure(figsize=(10, 5))\n",
    "sns.barplot(data=users_grouped_by_distance_and_st, x='subscription_type', y='distance_perc_count', hue='distance_group')\n",
    "plt.xlabel('Тариф')\n",
    "plt.ylabel('Доля пользователей, в %')\n",
    "plt.title('Распределение расстояний поездок по типам тарифов')\n",
    "plt.show()"
   ]
  },
  {
   "cell_type": "markdown",
   "id": "d9fbeffd",
   "metadata": {},
   "source": [
    "На графиках видно, что распределение расстояний, в целом, имеет схожее распределение по тарифам, однако есть некоторых отличия: так, пользователи с бесплатным тарифом в равной степени склонны к поездок от 2000 до 2999 м., при этом пользователи с платным тарифом ультра в большей степени склонны к поездкам от 3000 до 3999 м., при у пользователей с бесплатным тарифом поездок до 999 м. больше, чем от 1000 до 1999 м. Вполне вероятно, что это указывает на то, что пользователи, оплатившие тариф Ultra, более склонны к долгим поездкам, чем пользователи с бесплатным тарифам, хотя разница и не такая уж большая. Далее проведем анализ продолжительности поездок."
   ]
  },
  {
   "cell_type": "markdown",
   "id": "09c4da5b",
   "metadata": {},
   "source": [
    "##### Анализ продолжительности поездок"
   ]
  },
  {
   "cell_type": "markdown",
   "id": "c08677d4",
   "metadata": {},
   "source": [
    "Так как продолжительность поездок представляет собой непрерывную величину, то проанализируем данные по аналогии с расстоянием. Для начала рассмотрим продолжительность поездок на гистограмме и построим диаграмму размаха."
   ]
  },
  {
   "cell_type": "code",
   "execution_count": 49,
   "id": "76892e0b",
   "metadata": {},
   "outputs": [
    {
     "data": {
      "image/png": "[encoded data removed]",
      "text/plain": [
       "<Figure size 864x360 with 2 Axes>"
      ]
     },
     "metadata": {
      "needs_background": "light"
     },
     "output_type": "display_data"
    }
   ],
   "source": [
    "# зададим параметры для отображения графиков в одной строчке\n",
    "figure, axes = plt.subplots(1, 2, figsize=(12, 5))\n",
    "figure.subplots_adjust(wspace=1)\n",
    "\n",
    "# построим графики\n",
    "sns.histplot(data=rides['duration'], bins=10, ax=axes[0])\n",
    "sns.boxplot(data=rides['duration'], ax=axes[1])\n",
    "\n",
    "axes[0].set_title('Распределение поездок по продолжительности (гистограмма)')\n",
    "axes[0].set_xlabel('Время (в минутах)')\n",
    "axes[0].set_ylabel('Количество поездок')\n",
    "\n",
    "axes[1].set_title('Распределение поездок по продолжительности (диграмма размаха)')\n",
    "axes[1].set_ylabel('Количество поездок')\n",
    "\n",
    "plt.show()"
   ]
  },
  {
   "cell_type": "markdown",
   "id": "6a4f61ad",
   "metadata": {},
   "source": [
    "На гистограмме видно, что большинство поездок варьируются от 13-14 до 21 минуты. При этом медианное время в поедке составляет около 17, максимальное в районе 35 минут, а минимальное - около 2 минут, при этом имеются выбросы. Проанализирум данные в разрезе сезонности."
   ]
  },
  {
   "cell_type": "code",
   "execution_count": 50,
   "id": "ab88b07a",
   "metadata": {},
   "outputs": [],
   "source": [
    "# группируем данные по месяцам и диапазоном расстояний, рассчитываем среднее значение\n",
    "users_grouped_by_duration_and_month = rides.groupby('month')['duration'].mean().sort_values(ascending=False).reset_index()\n",
    "\n",
    "# рассчитаем доли каждого месяца в процентном соотношении\n",
    "users_grouped_by_duration_and_month['duration_perc_count'] = (users_grouped_by_duration_and_month['duration'] / \n",
    "                                                              users_grouped_by_duration_and_month['duration'].sum()) * 100"
   ]
  },
  {
   "cell_type": "code",
   "execution_count": 51,
   "id": "ac6be396",
   "metadata": {},
   "outputs": [
    {
     "data": {
      "image/png": "[encoded data removed]",
      "text/plain": [
       "<Figure size 720x360 with 1 Axes>"
      ]
     },
     "metadata": {
      "needs_background": "light"
     },
     "output_type": "display_data"
    }
   ],
   "source": [
    "# построим график\n",
    "plt.figure(figsize=(10, 5))\n",
    "sns.lineplot(data=users_grouped_by_duration_and_month, x='month', y='duration_perc_count')\n",
    "plt.xlabel('Месяц')\n",
    "plt.ylabel('Доля средней продолжительности поездки за месяц, в %')\n",
    "plt.title('Динамика изменения средней продолжительности поездки по месяцам')\n",
    "plt.show()"
   ]
  },
  {
   "cell_type": "markdown",
   "id": "fbc5f30a",
   "metadata": {},
   "source": [
    "График достаточно сильно похож на проанализированный ранее график динамики по расстояниям: фактор сезонности практически отсутствует, на что указывает разница в аналогичные 0.2% между максимальным и минимальным суммарным значением по продолжительности поездок. Похожий характер графика можно объяснить положительной корреляцией между продолжительностью и расстоянием поездки, проверим данную гипотезу при помощи коэффициента корреляции Пирсона и соответствующей диаграммы."
   ]
  },
  {
   "cell_type": "code",
   "execution_count": 52,
   "id": "be337d22",
   "metadata": {},
   "outputs": [
    {
     "data": {
      "image/png": "[encoded data removed]",
      "text/plain": [
       "<Figure size 720x360 with 1 Axes>"
      ]
     },
     "metadata": {
      "needs_background": "light"
     },
     "output_type": "display_data"
    }
   ],
   "source": [
    "# построим диграмму корреляции\n",
    "plt.figure(figsize=(10, 5))\n",
    "sns.scatterplot(data=rides, x='distance', y='duration')\n",
    "plt.xlabel('Расстояние, м.')\n",
    "plt.ylabel('Продолжительность поездки, м.')\n",
    "plt.title('Диаграмма взаимосвязи расстояния и продолжительности поездки')\n",
    "plt.show()"
   ]
  },
  {
   "cell_type": "code",
   "execution_count": 53,
   "id": "c9cd3449",
   "metadata": {},
   "outputs": [
    {
     "name": "stdout",
     "output_type": "stream",
     "text": [
      "Коэффициент корреляции Пирсона составляет  0.54\n"
     ]
    }
   ],
   "source": [
    "# рассчитаем коэффициент корреляции Пирсона, чтобы убедиться в наличии положительной связи\n",
    "print('Коэффициент корреляции Пирсона составляет ', rides['distance'].corr(rides['duration']).round(2))"
   ]
  },
  {
   "cell_type": "markdown",
   "id": "276a478b",
   "metadata": {},
   "source": [
    "Полученное значение коэффициента корреляции является положительным, но составляет чуть больше 0.5, что указывает на наличие не сильной положительной связи: так, в части случаев по мере увеличения расстояния увеличивается и продолжительность поездки, однако не всегда и далеко не с одинаковой скоростью. Интересными являются точки, расположенные около 0 по оси Y (продолжительности поездки), но при этом с большими значениями по оси Х (расстоянию). Рассмотрим эти данные более подробно."
   ]
  },
  {
   "cell_type": "code",
   "execution_count": 54,
   "id": "ce0da731",
   "metadata": {},
   "outputs": [
    {
     "data": {
      "text/html": [
       "<div>\n",
       "<style scoped>\n",
       "    .dataframe tbody tr th:only-of-type {\n",
       "        vertical-align: middle;\n",
       "    }\n",
       "\n",
       "    .dataframe tbody tr th {\n",
       "        vertical-align: top;\n",
       "    }\n",
       "\n",
       "    .dataframe thead th {\n",
       "        text-align: right;\n",
       "    }\n",
       "</style>\n",
       "<table border=\"1\" class=\"dataframe\">\n",
       "  <thead>\n",
       "    <tr style=\"text-align: right;\">\n",
       "      <th></th>\n",
       "      <th>user_id</th>\n",
       "      <th>distance</th>\n",
       "      <th>duration</th>\n",
       "      <th>date</th>\n",
       "      <th>month</th>\n",
       "      <th>distance_group</th>\n",
       "    </tr>\n",
       "  </thead>\n",
       "  <tbody>\n",
       "    <tr>\n",
       "      <th>6531</th>\n",
       "      <td>701</td>\n",
       "      <td>4196.445201</td>\n",
       "      <td>0.5</td>\n",
       "      <td>2021-08-31</td>\n",
       "      <td>8</td>\n",
       "      <td>4000-4999</td>\n",
       "    </tr>\n",
       "    <tr>\n",
       "      <th>6570</th>\n",
       "      <td>704</td>\n",
       "      <td>4830.824371</td>\n",
       "      <td>0.5</td>\n",
       "      <td>2021-10-14</td>\n",
       "      <td>10</td>\n",
       "      <td>4000-4999</td>\n",
       "    </tr>\n",
       "    <tr>\n",
       "      <th>6680</th>\n",
       "      <td>712</td>\n",
       "      <td>4684.004397</td>\n",
       "      <td>0.5</td>\n",
       "      <td>2021-03-04</td>\n",
       "      <td>3</td>\n",
       "      <td>4000-4999</td>\n",
       "    </tr>\n",
       "    <tr>\n",
       "      <th>6695</th>\n",
       "      <td>713</td>\n",
       "      <td>5215.642710</td>\n",
       "      <td>0.5</td>\n",
       "      <td>2021-02-25</td>\n",
       "      <td>2</td>\n",
       "      <td>5000-5999</td>\n",
       "    </tr>\n",
       "    <tr>\n",
       "      <th>6768</th>\n",
       "      <td>718</td>\n",
       "      <td>5197.436649</td>\n",
       "      <td>0.5</td>\n",
       "      <td>2021-02-11</td>\n",
       "      <td>2</td>\n",
       "      <td>5000-5999</td>\n",
       "    </tr>\n",
       "  </tbody>\n",
       "</table>\n",
       "</div>"
      ],
      "text/plain": [
       "      user_id     distance  duration       date  month distance_group\n",
       "6531      701  4196.445201       0.5 2021-08-31      8      4000-4999\n",
       "6570      704  4830.824371       0.5 2021-10-14     10      4000-4999\n",
       "6680      712  4684.004397       0.5 2021-03-04      3      4000-4999\n",
       "6695      713  5215.642710       0.5 2021-02-25      2      5000-5999\n",
       "6768      718  5197.436649       0.5 2021-02-11      2      5000-5999"
      ]
     },
     "execution_count": 54,
     "metadata": {},
     "output_type": "execute_result"
    }
   ],
   "source": [
    "# сделаем срез данных по соответствующим параметрам и возьмем 5 первых значений из полученной выборки\n",
    "rides.query('distance >= 4000 and duration < 1').head()"
   ]
  },
  {
   "cell_type": "markdown",
   "id": "3d9c5585",
   "metadata": {},
   "source": [
    "Из полученной таблицы сложно сказать в чем конкретная причина таких аномальных значений, рассмотрим поездки нескольких пользователей в указанные даты: есть гипотеза, что поездки пользователей были достаточно длинными, поэтому разделялись на несколько подпоездок со стандартным параметром времени (при этом прочие поездки с таким расстоянием считаются нормально)."
   ]
  },
  {
   "cell_type": "code",
   "execution_count": 55,
   "id": "b468a454",
   "metadata": {},
   "outputs": [
    {
     "data": {
      "text/html": [
       "<div>\n",
       "<style scoped>\n",
       "    .dataframe tbody tr th:only-of-type {\n",
       "        vertical-align: middle;\n",
       "    }\n",
       "\n",
       "    .dataframe tbody tr th {\n",
       "        vertical-align: top;\n",
       "    }\n",
       "\n",
       "    .dataframe thead th {\n",
       "        text-align: right;\n",
       "    }\n",
       "</style>\n",
       "<table border=\"1\" class=\"dataframe\">\n",
       "  <thead>\n",
       "    <tr style=\"text-align: right;\">\n",
       "      <th></th>\n",
       "      <th>user_id</th>\n",
       "      <th>distance</th>\n",
       "      <th>duration</th>\n",
       "      <th>date</th>\n",
       "      <th>month</th>\n",
       "      <th>distance_group</th>\n",
       "    </tr>\n",
       "  </thead>\n",
       "  <tbody>\n",
       "    <tr>\n",
       "      <th>6530</th>\n",
       "      <td>701</td>\n",
       "      <td>3432.306093</td>\n",
       "      <td>17.44102</td>\n",
       "      <td>2021-08-31</td>\n",
       "      <td>8</td>\n",
       "      <td>3000-3999</td>\n",
       "    </tr>\n",
       "    <tr>\n",
       "      <th>6531</th>\n",
       "      <td>701</td>\n",
       "      <td>4196.445201</td>\n",
       "      <td>0.50000</td>\n",
       "      <td>2021-08-31</td>\n",
       "      <td>8</td>\n",
       "      <td>4000-4999</td>\n",
       "    </tr>\n",
       "  </tbody>\n",
       "</table>\n",
       "</div>"
      ],
      "text/plain": [
       "      user_id     distance  duration       date  month distance_group\n",
       "6530      701  3432.306093  17.44102 2021-08-31      8      3000-3999\n",
       "6531      701  4196.445201   0.50000 2021-08-31      8      4000-4999"
      ]
     },
     "execution_count": 55,
     "metadata": {},
     "output_type": "execute_result"
    }
   ],
   "source": [
    "# проверим данные по одному конкретному пользователю\n",
    "rides.query('user_id == 701 and date == \"2021-08-31\"')"
   ]
  },
  {
   "cell_type": "code",
   "execution_count": 56,
   "id": "b004e7c1",
   "metadata": {},
   "outputs": [
    {
     "data": {
      "text/html": [
       "<div>\n",
       "<style scoped>\n",
       "    .dataframe tbody tr th:only-of-type {\n",
       "        vertical-align: middle;\n",
       "    }\n",
       "\n",
       "    .dataframe tbody tr th {\n",
       "        vertical-align: top;\n",
       "    }\n",
       "\n",
       "    .dataframe thead th {\n",
       "        text-align: right;\n",
       "    }\n",
       "</style>\n",
       "<table border=\"1\" class=\"dataframe\">\n",
       "  <thead>\n",
       "    <tr style=\"text-align: right;\">\n",
       "      <th></th>\n",
       "      <th>user_id</th>\n",
       "      <th>distance</th>\n",
       "      <th>duration</th>\n",
       "      <th>date</th>\n",
       "      <th>month</th>\n",
       "      <th>distance_group</th>\n",
       "    </tr>\n",
       "  </thead>\n",
       "  <tbody>\n",
       "    <tr>\n",
       "      <th>6570</th>\n",
       "      <td>704</td>\n",
       "      <td>4830.824371</td>\n",
       "      <td>0.5</td>\n",
       "      <td>2021-10-14</td>\n",
       "      <td>10</td>\n",
       "      <td>4000-4999</td>\n",
       "    </tr>\n",
       "  </tbody>\n",
       "</table>\n",
       "</div>"
      ],
      "text/plain": [
       "      user_id     distance  duration       date  month distance_group\n",
       "6570      704  4830.824371       0.5 2021-10-14     10      4000-4999"
      ]
     },
     "execution_count": 56,
     "metadata": {},
     "output_type": "execute_result"
    }
   ],
   "source": [
    "# проверим данные по одному конкретному пользователю\n",
    "rides.query('user_id == 704 and date == \"2021-10-14\"')"
   ]
  },
  {
   "cell_type": "code",
   "execution_count": 57,
   "id": "38c0ed9d",
   "metadata": {},
   "outputs": [
    {
     "data": {
      "text/html": [
       "<div>\n",
       "<style scoped>\n",
       "    .dataframe tbody tr th:only-of-type {\n",
       "        vertical-align: middle;\n",
       "    }\n",
       "\n",
       "    .dataframe tbody tr th {\n",
       "        vertical-align: top;\n",
       "    }\n",
       "\n",
       "    .dataframe thead th {\n",
       "        text-align: right;\n",
       "    }\n",
       "</style>\n",
       "<table border=\"1\" class=\"dataframe\">\n",
       "  <thead>\n",
       "    <tr style=\"text-align: right;\">\n",
       "      <th></th>\n",
       "      <th>user_id</th>\n",
       "      <th>distance</th>\n",
       "      <th>duration</th>\n",
       "      <th>date</th>\n",
       "      <th>month</th>\n",
       "      <th>distance_group</th>\n",
       "    </tr>\n",
       "  </thead>\n",
       "  <tbody>\n",
       "    <tr>\n",
       "      <th>6680</th>\n",
       "      <td>712</td>\n",
       "      <td>4684.004397</td>\n",
       "      <td>0.5</td>\n",
       "      <td>2021-03-04</td>\n",
       "      <td>3</td>\n",
       "      <td>4000-4999</td>\n",
       "    </tr>\n",
       "  </tbody>\n",
       "</table>\n",
       "</div>"
      ],
      "text/plain": [
       "      user_id     distance  duration       date  month distance_group\n",
       "6680      712  4684.004397       0.5 2021-03-04      3      4000-4999"
      ]
     },
     "execution_count": 57,
     "metadata": {},
     "output_type": "execute_result"
    }
   ],
   "source": [
    "# проверим данные по одному конкретному пользователю\n",
    "rides.query('user_id == 712 and date == \"2021-03-04\"')"
   ]
  },
  {
   "cell_type": "code",
   "execution_count": 58,
   "id": "dfde7a3a",
   "metadata": {},
   "outputs": [
    {
     "data": {
      "text/html": [
       "<div>\n",
       "<style scoped>\n",
       "    .dataframe tbody tr th:only-of-type {\n",
       "        vertical-align: middle;\n",
       "    }\n",
       "\n",
       "    .dataframe tbody tr th {\n",
       "        vertical-align: top;\n",
       "    }\n",
       "\n",
       "    .dataframe thead th {\n",
       "        text-align: right;\n",
       "    }\n",
       "</style>\n",
       "<table border=\"1\" class=\"dataframe\">\n",
       "  <thead>\n",
       "    <tr style=\"text-align: right;\">\n",
       "      <th></th>\n",
       "      <th>user_id</th>\n",
       "      <th>distance</th>\n",
       "      <th>duration</th>\n",
       "      <th>date</th>\n",
       "      <th>month</th>\n",
       "      <th>distance_group</th>\n",
       "    </tr>\n",
       "  </thead>\n",
       "  <tbody>\n",
       "    <tr>\n",
       "      <th>6695</th>\n",
       "      <td>713</td>\n",
       "      <td>5215.64271</td>\n",
       "      <td>0.5</td>\n",
       "      <td>2021-02-25</td>\n",
       "      <td>2</td>\n",
       "      <td>5000-5999</td>\n",
       "    </tr>\n",
       "  </tbody>\n",
       "</table>\n",
       "</div>"
      ],
      "text/plain": [
       "      user_id    distance  duration       date  month distance_group\n",
       "6695      713  5215.64271       0.5 2021-02-25      2      5000-5999"
      ]
     },
     "execution_count": 58,
     "metadata": {},
     "output_type": "execute_result"
    }
   ],
   "source": [
    "# проверим данные по одному конкретному пользователю\n",
    "rides.query('user_id == 713 and date == \"2021-02-25\"')"
   ]
  },
  {
   "cell_type": "code",
   "execution_count": 59,
   "id": "9dd6e09d",
   "metadata": {},
   "outputs": [
    {
     "data": {
      "text/html": [
       "<div>\n",
       "<style scoped>\n",
       "    .dataframe tbody tr th:only-of-type {\n",
       "        vertical-align: middle;\n",
       "    }\n",
       "\n",
       "    .dataframe tbody tr th {\n",
       "        vertical-align: top;\n",
       "    }\n",
       "\n",
       "    .dataframe thead th {\n",
       "        text-align: right;\n",
       "    }\n",
       "</style>\n",
       "<table border=\"1\" class=\"dataframe\">\n",
       "  <thead>\n",
       "    <tr style=\"text-align: right;\">\n",
       "      <th></th>\n",
       "      <th>user_id</th>\n",
       "      <th>distance</th>\n",
       "      <th>duration</th>\n",
       "      <th>date</th>\n",
       "      <th>month</th>\n",
       "      <th>distance_group</th>\n",
       "    </tr>\n",
       "  </thead>\n",
       "  <tbody>\n",
       "    <tr>\n",
       "      <th>6768</th>\n",
       "      <td>718</td>\n",
       "      <td>5197.436649</td>\n",
       "      <td>0.5</td>\n",
       "      <td>2021-02-11</td>\n",
       "      <td>2</td>\n",
       "      <td>5000-5999</td>\n",
       "    </tr>\n",
       "  </tbody>\n",
       "</table>\n",
       "</div>"
      ],
      "text/plain": [
       "      user_id     distance  duration       date  month distance_group\n",
       "6768      718  5197.436649       0.5 2021-02-11      2      5000-5999"
      ]
     },
     "execution_count": 59,
     "metadata": {},
     "output_type": "execute_result"
    }
   ],
   "source": [
    "# проверим данные по одному конкретному пользователю\n",
    "rides.query('user_id == 718 and date == \"2021-02-11\"')"
   ]
  },
  {
   "cell_type": "markdown",
   "id": "6e4624a7",
   "metadata": {},
   "source": [
    "Гипотеза оказалась неверной: у 4 из 5 анализируемых пользователей в указанную дату была всего лишь одна поездка, таким образом, можно сделать промежуточный вывод о том, что в системе были какие-то неполадки и этот вопрос необходимо обсудить с разработчиками. Далее проанализируем продолжительность средних поездок по городам, перед этим категоризируем данные для упрощения проведения дальнейшего анализа."
   ]
  },
  {
   "cell_type": "code",
   "execution_count": 60,
   "id": "fb601589",
   "metadata": {},
   "outputs": [],
   "source": [
    "# определяем диапазоны расстояния, шаг 10 минут\n",
    "bins = [0, 10, 20, 30, 40, 50]\n",
    "\n",
    "# создадим новую колонку с диапазонами при помощи соответствующего метода\n",
    "df_users_and_rides['duration_group'] = pd.cut(df_users_and_rides['duration'], bins=bins, labels=[f\"{i}-{i+9}\" for i in range(0, 50, 10)])"
   ]
  },
  {
   "cell_type": "code",
   "execution_count": 61,
   "id": "eea13851",
   "metadata": {},
   "outputs": [],
   "source": [
    "# группируем данные по городам и диапазоном расстояний, рассчитываем среднее значение\n",
    "users_grouped_by_duration_and_cities_b = df_users_and_rides.groupby('city')['duration'].mean().sort_values(ascending=False)\\\n",
    "                                         .reset_index()"
   ]
  },
  {
   "cell_type": "code",
   "execution_count": 62,
   "id": "1fdd067d",
   "metadata": {},
   "outputs": [
    {
     "data": {
      "image/png": "[encoded data removed]",
      "text/plain": [
       "<Figure size 720x360 with 1 Axes>"
      ]
     },
     "metadata": {
      "needs_background": "light"
     },
     "output_type": "display_data"
    }
   ],
   "source": [
    "# построим график\n",
    "plt.figure(figsize=(10, 5))\n",
    "sns.barplot(data=users_grouped_by_duration_and_cities_b, x='city', y='duration')\n",
    "plt.xlabel('Город')\n",
    "plt.ylabel('Средняя продолжительность одной поездки в минутах')\n",
    "plt.title('Среднее продолжительность поездки по городам')\n",
    "plt.xticks(rotation=45)\n",
    "plt.show()"
   ]
  },
  {
   "cell_type": "markdown",
   "id": "743ec5e1",
   "metadata": {},
   "source": [
    "На графике можно заметить, что средняя продолжительность поездки практически не отличается по городам и составляет 17.5 минут. Рассмотрим распределение средней продолжительности поездки по городам в зависимости от диапазона продолжительности."
   ]
  },
  {
   "cell_type": "code",
   "execution_count": 63,
   "id": "9aafd97e",
   "metadata": {},
   "outputs": [],
   "source": [
    "# группируем данные по городам и диапазонам расстояний\n",
    "users_grouped_by_duration_and_cities = df_users_and_rides.groupby(['city', 'duration_group'])['user_id'].count()\\\n",
    "                                       .sort_values(ascending=False).reset_index()\n",
    "\n",
    "# рассчитаем доли каждого города в процентном соотношении\n",
    "users_grouped_by_duration_and_cities['duration_perc_count'] = (users_grouped_by_duration_and_cities['user_id'] / \n",
    "                                                               users_grouped_by_duration_and_cities['user_id'].sum()) * 100"
   ]
  },
  {
   "cell_type": "code",
   "execution_count": 64,
   "id": "30cb9dd9",
   "metadata": {},
   "outputs": [
    {
     "data": {
      "image/png": "[encoded data removed]",
      "text/plain": [
       "<Figure size 720x360 with 1 Axes>"
      ]
     },
     "metadata": {
      "needs_background": "light"
     },
     "output_type": "display_data"
    }
   ],
   "source": [
    "# построим график\n",
    "plt.figure(figsize=(10, 5))\n",
    "sns.barplot(data=users_grouped_by_duration_and_cities, x='duration_perc_count', y='city', hue='duration_group', orient='h')\n",
    "plt.xlabel('Доля пользователей, в %')\n",
    "plt.ylabel('Город')\n",
    "plt.title('Распределение пользователей по городам и возрастным группам')\n",
    "plt.show()"
   ]
  },
  {
   "cell_type": "markdown",
   "id": "03d2de2c",
   "metadata": {},
   "source": [
    "На графике видно, что во всех городах имеется схожая тенденция по распределению диапазона поездок: большинство пользователей в большей степени тратят на поездки от 10 до 29 минут, в меньшей - менее 9 и более 30 минут. Поездок в более 40 минут практически нет. Рассмотрим взаимосвязь поездок и возраста пользователей."
   ]
  },
  {
   "cell_type": "code",
   "execution_count": 65,
   "id": "af349eaa",
   "metadata": {},
   "outputs": [],
   "source": [
    "# группируем данные по возрастам и диапазонам расстояний, рассчитываем среднее значение\n",
    "users_grouped_by_duration_and_age_b = df_users_and_rides.groupby('age_group')['duration'].mean().sort_values(ascending=False)\\\n",
    "                                      .reset_index()"
   ]
  },
  {
   "cell_type": "code",
   "execution_count": 66,
   "id": "f96156b0",
   "metadata": {},
   "outputs": [
    {
     "data": {
      "image/png": "[encoded data removed]",
      "text/plain": [
       "<Figure size 720x360 with 1 Axes>"
      ]
     },
     "metadata": {
      "needs_background": "light"
     },
     "output_type": "display_data"
    }
   ],
   "source": [
    "# построим график\n",
    "plt.figure(figsize=(10, 5))\n",
    "sns.barplot(data=users_grouped_by_duration_and_age_b, x='age_group', y='duration')\n",
    "plt.xlabel('Возраст')\n",
    "plt.ylabel('Средняя продолжительность одной поездки в минутах')\n",
    "plt.title('Средняя продолжительность поездки по возрастам')\n",
    "plt.show()"
   ]
  },
  {
   "cell_type": "markdown",
   "id": "ab14ee67",
   "metadata": {},
   "source": [
    "На графике видно, что средняя продолжительность поездок не зависит от возраста, так как средние значения всех возрастных групп идентичны и составляют 17.5 минут. Рассмотрим распределение диапазонов продолжительности поездок в зависимости от возраста."
   ]
  },
  {
   "cell_type": "code",
   "execution_count": 67,
   "id": "43fe7875",
   "metadata": {},
   "outputs": [],
   "source": [
    "# группируем данные по возрастам и диапазонам расстояний\n",
    "users_grouped_by_duration_and_age = df_users_and_rides.groupby(['age_group', 'duration_group'])['user_id'].count()\\\n",
    "                                    .sort_values(ascending=False).reset_index()\n",
    "\n",
    "# рассчитаем доли каждого возраста в процентном соотношении\n",
    "users_grouped_by_duration_and_age['duration_perc_count'] = (users_grouped_by_duration_and_age['user_id'] / \n",
    "                                                            users_grouped_by_duration_and_age['user_id'].sum()) * 100"
   ]
  },
  {
   "cell_type": "code",
   "execution_count": 68,
   "id": "4b284504",
   "metadata": {},
   "outputs": [
    {
     "data": {
      "image/png": "[encoded data removed]",
      "text/plain": [
       "<Figure size 720x360 with 1 Axes>"
      ]
     },
     "metadata": {
      "needs_background": "light"
     },
     "output_type": "display_data"
    }
   ],
   "source": [
    "# построим график\n",
    "plt.figure(figsize=(10, 5))\n",
    "sns.barplot(data=users_grouped_by_duration_and_age, x='age_group', y='duration_perc_count', hue='duration_group')\n",
    "plt.xlabel('Возраст')\n",
    "plt.ylabel('Доля пользователей, в %')\n",
    "plt.title('Распределение продолжительности поездок по возрастным группам')\n",
    "plt.show()"
   ]
  },
  {
   "cell_type": "markdown",
   "id": "ea5c0680",
   "metadata": {},
   "source": [
    "На графике видно, что продолжительность поездок распределена идентично между всеми группами пользователей, на что ранее указывало и идентичное среднее значение поездки. Так, время поездки большинства пользователей составляет от 10 до 29 минут, а значения менее 10 и более 30 минут встречаются значительно реже. Также проанализируем взаимосвязь продолжительности поездок с типом тарифа."
   ]
  },
  {
   "cell_type": "code",
   "execution_count": 69,
   "id": "a3ecc443",
   "metadata": {},
   "outputs": [],
   "source": [
    "# группируем данные по городам и диапазоном расстояний, рассчитываем среднее значение\n",
    "users_grouped_by_duration_and_st_b = df_users_and_rides.groupby('subscription_type')['duration'].mean().sort_values(ascending=False)\\\n",
    "                                   .reset_index()"
   ]
  },
  {
   "cell_type": "code",
   "execution_count": 70,
   "id": "81ade7ec",
   "metadata": {},
   "outputs": [
    {
     "data": {
      "image/png": "[encoded data removed]",
      "text/plain": [
       "<Figure size 504x360 with 1 Axes>"
      ]
     },
     "metadata": {
      "needs_background": "light"
     },
     "output_type": "display_data"
    }
   ],
   "source": [
    "# построим график\n",
    "plt.figure(figsize=(7, 5))\n",
    "sns.barplot(data=users_grouped_by_duration_and_st_b, x='subscription_type', y='duration')\n",
    "plt.xlabel('Тип подписки')\n",
    "plt.ylabel('Средняя продолжительность одной поездки в минутах')\n",
    "plt.title('Среднее продолжительность поездки по типам подписки')\n",
    "plt.show()"
   ]
  },
  {
   "cell_type": "markdown",
   "id": "b596ee55",
   "metadata": {},
   "source": [
    "Средняя продолжительность поездки на первый взгляд не сильно отличается от типа подписки. Тем не менее, данная гипотеза нуждается в статистической проверки, что будет проделано далее. Рассмотрим также распределение продолжительности поездки в зависимости от типа подписки."
   ]
  },
  {
   "cell_type": "code",
   "execution_count": 71,
   "id": "982193bf",
   "metadata": {},
   "outputs": [],
   "source": [
    "# группируем данные по типам подписки и диапазонам расстояний\n",
    "users_grouped_by_duration_and_st = df_users_and_rides.groupby(['subscription_type', 'duration_group'])['user_id'].count()\\\n",
    "                                    .sort_values(ascending=False).reset_index()\n",
    "\n",
    "# рассчитаем доли каждого типа подписки в процентном соотношении\n",
    "users_grouped_by_duration_and_st['duration_perc_count'] = (users_grouped_by_duration_and_st['user_id'] / \n",
    "                                                           users_grouped_by_duration_and_st['user_id'].sum()) * 100"
   ]
  },
  {
   "cell_type": "code",
   "execution_count": 72,
   "id": "79c6a1f7",
   "metadata": {},
   "outputs": [
    {
     "data": {
      "image/png": "[encoded data removed]",
      "text/plain": [
       "<Figure size 720x360 with 1 Axes>"
      ]
     },
     "metadata": {
      "needs_background": "light"
     },
     "output_type": "display_data"
    }
   ],
   "source": [
    "# построим график\n",
    "plt.figure(figsize=(10, 5))\n",
    "sns.barplot(data=users_grouped_by_duration_and_st, x='subscription_type', y='duration_perc_count', hue='duration_group')\n",
    "plt.xlabel('Тип подписки')\n",
    "plt.ylabel('Доля пользователей, в %')\n",
    "plt.title('Распределение продолжительности поездок по типам подписки')\n",
    "plt.show()"
   ]
  },
  {
   "cell_type": "markdown",
   "id": "fa21eda6",
   "metadata": {},
   "source": [
    "Распределение по типам подписки идентичны: большинство пользователей тратят на поездку от 10 до 29 минут, меньше - менее 10 и более 29 минут."
   ]
  },
  {
   "cell_type": "markdown",
   "id": "d90b27af",
   "metadata": {},
   "source": [
    "**Промежуточные выводы:**\n",
    "- В данном разделе был проведен исследовательский анализ данных, в ходе которого было выявлено, что большинство поездок совершаются в Пятигорске, Ростове-на-Дону и Екатеринбурге, в меньшей степени - Москве, Омске и Тюмени. При этом разница между количествами поездок не сильно большая, однако важно учитывать совокупное население городов: например, в Москве проживают гораздо больше людей, чем в Пятигорске, однако пользователей из Москвы меньше. Вполне вероятно, что компания конкурирует с другими организациями в Москве, так как самокаты представлены там в больших вариациях, чем в регионах;\n",
    "- Пользователей без подписки больше, чем тех, кто использует подписку Ultra. Тем не менее, практически половина пользователей (45%) используют платную подписку;\n",
    "- Ядром аудитории являются пользователи 20-30 лет, а пользователи младше 18 и старше 35 встречаются гораздо реже. Вполне вероятно, что это связано с тем, что пользователи первой группы не обладают собственными средствами на аренду самоката или потребностью перемещаться на дальние расстояния, а у пользователей старше 35 лет есть собственный транспорт;\n",
    "- Расстояние одной поездки составляет около 2000-4000 м. с медианным значением в 3100-3200 м., фактор сезонности отсутствует. При этом на продолжительность поездок не влияют города, возраст и тип подписки - данные распределены идентично.\n",
    "- Продолжительность поездки составляет в среднем около 17-18 минут, при этом фактор сезонности также отсутствует. На продолжительность поездок также не влияют города, возраст и тип подписки, так как данные распределены аналогичным образом. \n",
    "\n",
    "В рамках данной части исследования были также проанализированы средние значения у двух и более переменных. Необходимо отметить, что выводы пока что не подкреплены статистическими тестами и относиться к ним нужно осторожно: для сравнения двух средних показаталей расстояния и продолжительности поездки по типам подписки будет проведен парный Т-тест в разделе 5, а для сравнения средних прочих категорий необходим дисперсионный анализ, так как признаков сравнивается 3 и более. Дисперсонный анализ не входит в рамки данного исследования, так как задача стоит только в анализе двух средних значений. "
   ]
  },
  {
   "cell_type": "markdown",
   "id": "7450574c",
   "metadata": {},
   "source": [
    "#### Шаг 4. Объединение данных"
   ]
  },
  {
   "cell_type": "markdown",
   "id": "e92ddbc1",
   "metadata": {},
   "source": [
    "Для проведения дальнейшего исследования объединим данные из трех датасетов, а также создадим два дополнительных на базе созданного: с пользователями с подпиской и без."
   ]
  },
  {
   "cell_type": "code",
   "execution_count": 73,
   "id": "87415f26",
   "metadata": {},
   "outputs": [
    {
     "data": {
      "text/html": [
       "<div>\n",
       "<style scoped>\n",
       "    .dataframe tbody tr th:only-of-type {\n",
       "        vertical-align: middle;\n",
       "    }\n",
       "\n",
       "    .dataframe tbody tr th {\n",
       "        vertical-align: top;\n",
       "    }\n",
       "\n",
       "    .dataframe thead th {\n",
       "        text-align: right;\n",
       "    }\n",
       "</style>\n",
       "<table border=\"1\" class=\"dataframe\">\n",
       "  <thead>\n",
       "    <tr style=\"text-align: right;\">\n",
       "      <th></th>\n",
       "      <th>user_id</th>\n",
       "      <th>name</th>\n",
       "      <th>age</th>\n",
       "      <th>city</th>\n",
       "      <th>subscription_type</th>\n",
       "      <th>age_group</th>\n",
       "    </tr>\n",
       "  </thead>\n",
       "  <tbody>\n",
       "    <tr>\n",
       "      <th>0</th>\n",
       "      <td>1</td>\n",
       "      <td>Кира</td>\n",
       "      <td>22</td>\n",
       "      <td>Тюмень</td>\n",
       "      <td>ultra</td>\n",
       "      <td>20-29</td>\n",
       "    </tr>\n",
       "    <tr>\n",
       "      <th>1</th>\n",
       "      <td>2</td>\n",
       "      <td>Станислав</td>\n",
       "      <td>31</td>\n",
       "      <td>Омск</td>\n",
       "      <td>ultra</td>\n",
       "      <td>30-39</td>\n",
       "    </tr>\n",
       "    <tr>\n",
       "      <th>2</th>\n",
       "      <td>3</td>\n",
       "      <td>Алексей</td>\n",
       "      <td>20</td>\n",
       "      <td>Москва</td>\n",
       "      <td>ultra</td>\n",
       "      <td>10-19</td>\n",
       "    </tr>\n",
       "    <tr>\n",
       "      <th>3</th>\n",
       "      <td>4</td>\n",
       "      <td>Константин</td>\n",
       "      <td>26</td>\n",
       "      <td>Ростов-на-Дону</td>\n",
       "      <td>ultra</td>\n",
       "      <td>20-29</td>\n",
       "    </tr>\n",
       "    <tr>\n",
       "      <th>4</th>\n",
       "      <td>5</td>\n",
       "      <td>Адель</td>\n",
       "      <td>28</td>\n",
       "      <td>Омск</td>\n",
       "      <td>ultra</td>\n",
       "      <td>20-29</td>\n",
       "    </tr>\n",
       "    <tr>\n",
       "      <th>...</th>\n",
       "      <td>...</td>\n",
       "      <td>...</td>\n",
       "      <td>...</td>\n",
       "      <td>...</td>\n",
       "      <td>...</td>\n",
       "      <td>...</td>\n",
       "    </tr>\n",
       "    <tr>\n",
       "      <th>1529</th>\n",
       "      <td>1530</td>\n",
       "      <td>Ростислав</td>\n",
       "      <td>29</td>\n",
       "      <td>Сочи</td>\n",
       "      <td>free</td>\n",
       "      <td>20-29</td>\n",
       "    </tr>\n",
       "    <tr>\n",
       "      <th>1530</th>\n",
       "      <td>1531</td>\n",
       "      <td>Никита</td>\n",
       "      <td>25</td>\n",
       "      <td>Пятигорск</td>\n",
       "      <td>free</td>\n",
       "      <td>20-29</td>\n",
       "    </tr>\n",
       "    <tr>\n",
       "      <th>1531</th>\n",
       "      <td>1532</td>\n",
       "      <td>Алексей</td>\n",
       "      <td>26</td>\n",
       "      <td>Тюмень</td>\n",
       "      <td>free</td>\n",
       "      <td>20-29</td>\n",
       "    </tr>\n",
       "    <tr>\n",
       "      <th>1532</th>\n",
       "      <td>1533</td>\n",
       "      <td>Степан</td>\n",
       "      <td>22</td>\n",
       "      <td>Краснодар</td>\n",
       "      <td>free</td>\n",
       "      <td>20-29</td>\n",
       "    </tr>\n",
       "    <tr>\n",
       "      <th>1533</th>\n",
       "      <td>1534</td>\n",
       "      <td>Альберт</td>\n",
       "      <td>25</td>\n",
       "      <td>Краснодар</td>\n",
       "      <td>free</td>\n",
       "      <td>20-29</td>\n",
       "    </tr>\n",
       "  </tbody>\n",
       "</table>\n",
       "<p>1534 rows × 6 columns</p>\n",
       "</div>"
      ],
      "text/plain": [
       "      user_id        name  age            city subscription_type age_group\n",
       "0           1        Кира   22          Тюмень             ultra     20-29\n",
       "1           2   Станислав   31            Омск             ultra     30-39\n",
       "2           3     Алексей   20          Москва             ultra     10-19\n",
       "3           4  Константин   26  Ростов-на-Дону             ultra     20-29\n",
       "4           5       Адель   28            Омск             ultra     20-29\n",
       "...       ...         ...  ...             ...               ...       ...\n",
       "1529     1530   Ростислав   29            Сочи              free     20-29\n",
       "1530     1531      Никита   25       Пятигорск              free     20-29\n",
       "1531     1532     Алексей   26          Тюмень              free     20-29\n",
       "1532     1533      Степан   22       Краснодар              free     20-29\n",
       "1533     1534     Альберт   25       Краснодар              free     20-29\n",
       "\n",
       "[1534 rows x 6 columns]"
      ]
     },
     "execution_count": 73,
     "metadata": {},
     "output_type": "execute_result"
    }
   ],
   "source": [
    "users"
   ]
  },
  {
   "cell_type": "code",
   "execution_count": 74,
   "id": "e9c5fde0",
   "metadata": {},
   "outputs": [
    {
     "data": {
      "text/html": [
       "<div>\n",
       "<style scoped>\n",
       "    .dataframe tbody tr th:only-of-type {\n",
       "        vertical-align: middle;\n",
       "    }\n",
       "\n",
       "    .dataframe tbody tr th {\n",
       "        vertical-align: top;\n",
       "    }\n",
       "\n",
       "    .dataframe thead th {\n",
       "        text-align: right;\n",
       "    }\n",
       "</style>\n",
       "<table border=\"1\" class=\"dataframe\">\n",
       "  <thead>\n",
       "    <tr style=\"text-align: right;\">\n",
       "      <th></th>\n",
       "      <th>user_id</th>\n",
       "      <th>name</th>\n",
       "      <th>age</th>\n",
       "      <th>city</th>\n",
       "      <th>subscription_type</th>\n",
       "      <th>age_group</th>\n",
       "      <th>distance</th>\n",
       "      <th>duration</th>\n",
       "      <th>date</th>\n",
       "      <th>month</th>\n",
       "      <th>distance_group</th>\n",
       "      <th>minute_price</th>\n",
       "      <th>start_ride_price</th>\n",
       "      <th>subscription_fee</th>\n",
       "    </tr>\n",
       "  </thead>\n",
       "  <tbody>\n",
       "    <tr>\n",
       "      <th>0</th>\n",
       "      <td>1</td>\n",
       "      <td>Кира</td>\n",
       "      <td>22</td>\n",
       "      <td>Тюмень</td>\n",
       "      <td>ultra</td>\n",
       "      <td>20-29</td>\n",
       "      <td>4409.919140</td>\n",
       "      <td>25.599769</td>\n",
       "      <td>2021-01-01</td>\n",
       "      <td>1</td>\n",
       "      <td>4000-4999</td>\n",
       "      <td>6</td>\n",
       "      <td>0</td>\n",
       "      <td>199</td>\n",
       "    </tr>\n",
       "    <tr>\n",
       "      <th>1</th>\n",
       "      <td>1</td>\n",
       "      <td>Кира</td>\n",
       "      <td>22</td>\n",
       "      <td>Тюмень</td>\n",
       "      <td>ultra</td>\n",
       "      <td>20-29</td>\n",
       "      <td>2617.592153</td>\n",
       "      <td>15.816871</td>\n",
       "      <td>2021-01-18</td>\n",
       "      <td>1</td>\n",
       "      <td>2000-2999</td>\n",
       "      <td>6</td>\n",
       "      <td>0</td>\n",
       "      <td>199</td>\n",
       "    </tr>\n",
       "    <tr>\n",
       "      <th>2</th>\n",
       "      <td>1</td>\n",
       "      <td>Кира</td>\n",
       "      <td>22</td>\n",
       "      <td>Тюмень</td>\n",
       "      <td>ultra</td>\n",
       "      <td>20-29</td>\n",
       "      <td>754.159807</td>\n",
       "      <td>6.232113</td>\n",
       "      <td>2021-04-20</td>\n",
       "      <td>4</td>\n",
       "      <td>0-999</td>\n",
       "      <td>6</td>\n",
       "      <td>0</td>\n",
       "      <td>199</td>\n",
       "    </tr>\n",
       "    <tr>\n",
       "      <th>3</th>\n",
       "      <td>1</td>\n",
       "      <td>Кира</td>\n",
       "      <td>22</td>\n",
       "      <td>Тюмень</td>\n",
       "      <td>ultra</td>\n",
       "      <td>20-29</td>\n",
       "      <td>2694.783254</td>\n",
       "      <td>18.511000</td>\n",
       "      <td>2021-08-11</td>\n",
       "      <td>8</td>\n",
       "      <td>2000-2999</td>\n",
       "      <td>6</td>\n",
       "      <td>0</td>\n",
       "      <td>199</td>\n",
       "    </tr>\n",
       "    <tr>\n",
       "      <th>4</th>\n",
       "      <td>1</td>\n",
       "      <td>Кира</td>\n",
       "      <td>22</td>\n",
       "      <td>Тюмень</td>\n",
       "      <td>ultra</td>\n",
       "      <td>20-29</td>\n",
       "      <td>4028.687306</td>\n",
       "      <td>26.265803</td>\n",
       "      <td>2021-08-28</td>\n",
       "      <td>8</td>\n",
       "      <td>4000-4999</td>\n",
       "      <td>6</td>\n",
       "      <td>0</td>\n",
       "      <td>199</td>\n",
       "    </tr>\n",
       "  </tbody>\n",
       "</table>\n",
       "</div>"
      ],
      "text/plain": [
       "   user_id  name  age    city subscription_type age_group     distance  \\\n",
       "0        1  Кира   22  Тюмень             ultra     20-29  4409.919140   \n",
       "1        1  Кира   22  Тюмень             ultra     20-29  2617.592153   \n",
       "2        1  Кира   22  Тюмень             ultra     20-29   754.159807   \n",
       "3        1  Кира   22  Тюмень             ultra     20-29  2694.783254   \n",
       "4        1  Кира   22  Тюмень             ultra     20-29  4028.687306   \n",
       "\n",
       "    duration       date  month distance_group  minute_price  start_ride_price  \\\n",
       "0  25.599769 2021-01-01      1      4000-4999             6                 0   \n",
       "1  15.816871 2021-01-18      1      2000-2999             6                 0   \n",
       "2   6.232113 2021-04-20      4          0-999             6                 0   \n",
       "3  18.511000 2021-08-11      8      2000-2999             6                 0   \n",
       "4  26.265803 2021-08-28      8      4000-4999             6                 0   \n",
       "\n",
       "   subscription_fee  \n",
       "0               199  \n",
       "1               199  \n",
       "2               199  \n",
       "3               199  \n",
       "4               199  "
      ]
     },
     "execution_count": 74,
     "metadata": {},
     "output_type": "execute_result"
    }
   ],
   "source": [
    "# объединяем данные\n",
    "df = users.merge(rides, on='user_id', how='left').merge(subscriptions, on='subscription_type', how='inner')\n",
    "df.head()"
   ]
  },
  {
   "cell_type": "code",
   "execution_count": 75,
   "id": "59ae2e34",
   "metadata": {},
   "outputs": [
    {
     "name": "stdout",
     "output_type": "stream",
     "text": [
      "Количество строк исходной таблицы c информацией по пользователям: 1534 , количество строк исходной таблицы c информацией по поездкам: 18068 , количество строк исходной таблицы c информацией по подпискам:: 2 , количество строк после объединения: 18068\n"
     ]
    }
   ],
   "source": [
    "# посмотрим на количества строк в исходных и полученной таблицах, чтобы определить корректность объединения\n",
    "print('Количество строк исходной таблицы c информацией по пользователям:', users.shape[0],\n",
    "      ', количество строк исходной таблицы c информацией по поездкам:', rides.shape[0],\n",
    "      ', количество строк исходной таблицы c информацией по подпискам::', subscriptions.shape[0], \n",
    "      ', количество строк после объединения:', df.shape[0])"
   ]
  },
  {
   "cell_type": "markdown",
   "id": "542e341f",
   "metadata": {},
   "source": [
    "Так как наиболее крупной является таблица с информацией по поезкдам, а две остальные подключаются к ней, то данные были объединены корректно, так как количество строк одинаково."
   ]
  },
  {
   "cell_type": "markdown",
   "id": "0b1fe130",
   "metadata": {},
   "source": [
    "Данные были объединены корректно. Создадим два воспомогательных датасета с фильтрацией по типу подписки."
   ]
  },
  {
   "cell_type": "code",
   "execution_count": 76,
   "id": "46733623",
   "metadata": {},
   "outputs": [],
   "source": [
    "# отфильтруем пользователей без подписки\n",
    "df_filter_without_subscription = df.query('subscription_type == \"free\"')"
   ]
  },
  {
   "cell_type": "code",
   "execution_count": 77,
   "id": "d342fdac",
   "metadata": {},
   "outputs": [],
   "source": [
    "# отфильтруем пользователей с подпиской\n",
    "df_filter_with_subscription = df.query('subscription_type == \"ultra\"')"
   ]
  },
  {
   "cell_type": "markdown",
   "id": "ebbb0354",
   "metadata": {},
   "source": [
    "**Промежуточные выводы:** в данном разделе было проведено объединение трех датасетов в один и выделение двух датасетов на базе него с фильтрацией пользователей с и без подписок. Данные датасеты будут использованы в рамках этапа тестирования статистических гипотез."
   ]
  },
  {
   "cell_type": "markdown",
   "id": "16c90c88",
   "metadata": {},
   "source": [
    "#### Шаг 5. Подсчёт выручки"
   ]
  },
  {
   "cell_type": "markdown",
   "id": "1d8a6d31",
   "metadata": {},
   "source": [
    "Создадим еще один датасет с агрегированной информацией по каждому пользователю, а также рассчитаем выручку, перед этим округлим длительность поездки в большую сторону для удобства рассчетов."
   ]
  },
  {
   "cell_type": "code",
   "execution_count": 78,
   "id": "e18692f8",
   "metadata": {},
   "outputs": [],
   "source": [
    "# округляем длительность поездки в большую сторону\n",
    "df['duration'] = np.ceil(df['duration'])"
   ]
  },
  {
   "cell_type": "code",
   "execution_count": 79,
   "id": "42805ef1",
   "metadata": {},
   "outputs": [],
   "source": [
    "# группируем данные для создания агрегированного датасета\n",
    "df_grouped_by_user_id = df.groupby(['user_id', 'month']).agg({'distance': 'sum', 'name': 'count', 'duration': 'sum'})\\\n",
    "                        .reset_index()\n",
    "\n",
    "# округлим продолжительность поездки до целых минут в большую сторону\n",
    "df_grouped_by_user_id['duration']\n",
    "\n",
    "\n",
    "# добавляем вспомогательный столбец с типом подписки, чтобы рассчитать выручку (после рассчета избавимся от него)\n",
    "df_grouped_by_user_id = df_grouped_by_user_id.merge(df[['user_id', 'subscription_type', 'start_ride_price', \\\n",
    "                                                        'minute_price', 'subscription_fee']], on='user_id', how='left')\n",
    "\n",
    "# переименуем колонку с количеством поездок для удобства проводимого анализа\n",
    "df_grouped_by_user_id = df_grouped_by_user_id.rename(columns={'name': 'rides'})"
   ]
  },
  {
   "cell_type": "markdown",
   "id": "e2c60fdf",
   "metadata": {},
   "source": [
    "Данные по пользователям и месяцам сгруппированы корректно: теперь в агрегированном датасете отображаются сгруппированные значения по пользователям и месяцам в разрезе суммарных расстояний, количества и времени поездок. Также рассчитаем выручку, для этого создадим дополнительный столбец."
   ]
  },
  {
   "cell_type": "code",
   "execution_count": 80,
   "id": "0e03c485",
   "metadata": {},
   "outputs": [],
   "source": [
    "# добавляем столбец с выручкой\n",
    "df_grouped_by_user_id['revenue'] = df_grouped_by_user_id['subscription_fee'] + (df_grouped_by_user_id['start_ride_price'] \\\n",
    "                                        * df_grouped_by_user_id['rides'])  + (df_grouped_by_user_id['minute_price'] *  \\\n",
    "                                        df_grouped_by_user_id['duration'])\n",
    "\n",
    "# удаляем вспомогательные столбцы, а также дубли, возникшие в ходе объединения датафреймов\n",
    "df_grouped_by_user_id = df_grouped_by_user_id.drop(['start_ride_price', 'minute_price', 'subscription_fee'], \\\n",
    "                                                   axis=1).drop_duplicates().reset_index(drop=True)"
   ]
  },
  {
   "cell_type": "code",
   "execution_count": 81,
   "id": "6067d46f",
   "metadata": {},
   "outputs": [
    {
     "data": {
      "text/html": [
       "<div>\n",
       "<style scoped>\n",
       "    .dataframe tbody tr th:only-of-type {\n",
       "        vertical-align: middle;\n",
       "    }\n",
       "\n",
       "    .dataframe tbody tr th {\n",
       "        vertical-align: top;\n",
       "    }\n",
       "\n",
       "    .dataframe thead th {\n",
       "        text-align: right;\n",
       "    }\n",
       "</style>\n",
       "<table border=\"1\" class=\"dataframe\">\n",
       "  <thead>\n",
       "    <tr style=\"text-align: right;\">\n",
       "      <th></th>\n",
       "      <th>user_id</th>\n",
       "      <th>month</th>\n",
       "      <th>distance</th>\n",
       "      <th>rides</th>\n",
       "      <th>duration</th>\n",
       "      <th>subscription_type</th>\n",
       "      <th>revenue</th>\n",
       "    </tr>\n",
       "  </thead>\n",
       "  <tbody>\n",
       "    <tr>\n",
       "      <th>0</th>\n",
       "      <td>1</td>\n",
       "      <td>1</td>\n",
       "      <td>7027.511294</td>\n",
       "      <td>2</td>\n",
       "      <td>42.0</td>\n",
       "      <td>ultra</td>\n",
       "      <td>451.0</td>\n",
       "    </tr>\n",
       "    <tr>\n",
       "      <th>1</th>\n",
       "      <td>1</td>\n",
       "      <td>4</td>\n",
       "      <td>754.159807</td>\n",
       "      <td>1</td>\n",
       "      <td>7.0</td>\n",
       "      <td>ultra</td>\n",
       "      <td>241.0</td>\n",
       "    </tr>\n",
       "    <tr>\n",
       "      <th>2</th>\n",
       "      <td>1</td>\n",
       "      <td>8</td>\n",
       "      <td>6723.470560</td>\n",
       "      <td>2</td>\n",
       "      <td>46.0</td>\n",
       "      <td>ultra</td>\n",
       "      <td>475.0</td>\n",
       "    </tr>\n",
       "    <tr>\n",
       "      <th>3</th>\n",
       "      <td>1</td>\n",
       "      <td>10</td>\n",
       "      <td>5809.911100</td>\n",
       "      <td>2</td>\n",
       "      <td>32.0</td>\n",
       "      <td>ultra</td>\n",
       "      <td>391.0</td>\n",
       "    </tr>\n",
       "    <tr>\n",
       "      <th>4</th>\n",
       "      <td>1</td>\n",
       "      <td>11</td>\n",
       "      <td>7003.499363</td>\n",
       "      <td>3</td>\n",
       "      <td>56.0</td>\n",
       "      <td>ultra</td>\n",
       "      <td>535.0</td>\n",
       "    </tr>\n",
       "  </tbody>\n",
       "</table>\n",
       "</div>"
      ],
      "text/plain": [
       "   user_id  month     distance  rides  duration subscription_type  revenue\n",
       "0        1      1  7027.511294      2      42.0             ultra    451.0\n",
       "1        1      4   754.159807      1       7.0             ultra    241.0\n",
       "2        1      8  6723.470560      2      46.0             ultra    475.0\n",
       "3        1     10  5809.911100      2      32.0             ultra    391.0\n",
       "4        1     11  7003.499363      3      56.0             ultra    535.0"
      ]
     },
     "execution_count": 81,
     "metadata": {},
     "output_type": "execute_result"
    }
   ],
   "source": [
    "# проверяем корректность рассчета выручки\n",
    "df_grouped_by_user_id.head()"
   ]
  },
  {
   "cell_type": "markdown",
   "id": "af9a75f2",
   "metadata": {},
   "source": [
    "**Промежуточные выводы:** в данном разделе была подготовлена таблица с агрегированными данными по суммарному расстоянию, количеству, продолжительности поездок и выручке, сгруппированные по пользователям и месяцам. Данная таблица будем использована в рамках проведения дальнейшего анализа при тестировании статистических гипотез."
   ]
  },
  {
   "cell_type": "markdown",
   "id": "853f700a",
   "metadata": {},
   "source": [
    "#### Шаг 6. Проверка гипотез"
   ]
  },
  {
   "cell_type": "markdown",
   "id": "1e5b11bb",
   "metadata": {},
   "source": [
    "В рамках данного этапа исследования углублимся в исследовательский анализ данных и проверим при помощи статистического аппарата следующие вопросы, выдвигаемые компанией:\n",
    "- Тратят ли пользователи с подпиской больше времени на поездки?\n",
    "- Можно ли сказать, что среднее расстояние, которое проезжают пользователи с подпиской за одну поездку, не превышает 3130 метров (оптимальное время с точки зрения износа самокатов)?\n",
    "- Будет ли помесячная выручка от пользователей с подпиской по месяцам выше, чем выручка от пользователей без подписки?\n",
    "- Дополнительный вопрос по выбору тесту в определенной ситуации;"
   ]
  },
  {
   "cell_type": "markdown",
   "id": "3ffb8665",
   "metadata": {},
   "source": [
    "##### Проверка гипотезы №1: пользователи с подпиской тратят больше времени на поездки"
   ]
  },
  {
   "cell_type": "markdown",
   "id": "d57b5f18",
   "metadata": {},
   "source": [
    "В рамках исследовательского анализа данных уже было проведено значение средних показателей по длительности поездок среди пользователей с и без подписок. На данном этапе исследования продолжим проводимый анализ и проверим с точки зрения статистического аппарата являются ли значения в средних показателях значимыми среди обоих сегментов. Для проведения проверки будем использовать правосторонний парный Т-тест по следующим соображениям:\n",
    "- В нашем случаи генеральные совокупности не зависят друг от друга: мы не анализируем одних и тех же пользователей, например, до и после оформления подписки, а рассматриваем две независимые друг от друга выборки;\n",
    "- Если опираться на центральную предельную теорему, то при достаточном объеме выборки (как правило, n => 30) и многократном извлечении выборки из генеральной совокупности выборочные средние будут близко распределены к нормальному, что является основанием для использования Т-теста;\n",
    "- Дисперсии рассматриваемых нами генеральных совокупностей равны: так как у нас имеются данные только о некоторых пользователях приложения, то доступа к генеральной совокупности мы не имеем. При этом объем выборки достаточно крупный, поэтому есть основание полагать, что дисперсии будут +- равными.\n",
    "\n",
    "Перед проведением Т-теста необходимо сформулировать нулевую и альтернативную гипотезы:\n",
    "- H0: средняя продолжительность поездки пользователей в зависимости от типа подписки равна;\n",
    "- H1: средняя продолжительность поездки пользователей с подпиской больше, чем пользователей без подписки;\n",
    "\n",
    "Уровень значимости установим на 5%: если бы мы, например, проводили анализ медицинских исследований, то целесообразнее было бы взять 1%, но так как мы работаем с данными бизнеса, то зачастую берется уровень значимости в 5%."
   ]
  },
  {
   "cell_type": "code",
   "execution_count": 82,
   "id": "f998ff97",
   "metadata": {},
   "outputs": [
    {
     "name": "stdout",
     "output_type": "stream",
     "text": [
      "Средняя продолжительность поездки пользователей без подписки составляет  17.39 , а пользователей с подпиской -  18.54 минут\n"
     ]
    }
   ],
   "source": [
    "# рассчитаем средние значения продолжительности поездки пользователей с подпиской и без\n",
    "print('Средняя продолжительность поездки пользователей без подписки составляет ', df_filter_without_subscription['duration']\\\n",
    "      .mean().round(2),', а пользователей с подпиской - ', df_filter_with_subscription['duration'].mean().round(2), 'минут')"
   ]
  },
  {
   "cell_type": "markdown",
   "id": "6ba085c6",
   "metadata": {},
   "source": [
    "Простой расчет средних значений указывает на то, что пользователи с подпиской Ultra в среднем тратят больше времени на поездки, проверим, являются ли различия статистически значимыми."
   ]
  },
  {
   "cell_type": "code",
   "execution_count": 83,
   "id": "135c916c",
   "metadata": {},
   "outputs": [
    {
     "name": "stdout",
     "output_type": "stream",
     "text": [
      "P-значение: 1.2804098316645618e-34\n",
      "Отклоняем нулевую гипотезу: средние значения продолжительности поездки отличаются между группами пользователей\n"
     ]
    }
   ],
   "source": [
    "# установим уровень значимости\n",
    "alpha = 0.05\n",
    "\n",
    "# применяем соответствующий метод для проверки гипотезы\n",
    "test_results = st.ttest_ind(df_filter_with_subscription['duration'], \n",
    "                            df_filter_without_subscription['duration'],\n",
    "                            alternative='greater')\n",
    "\n",
    "# выводим результаты\n",
    "print('P-значение:', test_results.pvalue)\n",
    "\n",
    "if test_results.pvalue < alpha:\n",
    "    print('Отклоняем нулевую гипотезу: средние значения продолжительности поездки отличаются между группами пользователей')\n",
    "else:\n",
    "    print('Не можем отклонить нулевую гипотезу: средние значения продолжительности поездки не отличаются между группами \\\n",
    "           пользователей') "
   ]
  },
  {
   "cell_type": "markdown",
   "id": "bb29b71e",
   "metadata": {},
   "source": [
    "Так как P-значение не превышает заданный уровень значимости, то мы можем отклонить нулевую гипотезу: так, в случае если нулевая гипотеза на самом деле окажется верной, то вероятность получить данные различия в средних и более крайне мала, так как не превышает установленный ранее уровень значимости. Далее протестируем гипотезу о среднем расстоянии. Вывод - пользователи с подпиской в среднем тратят больше времени на поездки, чем пользователи без подписки."
   ]
  },
  {
   "cell_type": "markdown",
   "id": "76c050f7",
   "metadata": {},
   "source": [
    "##### Проверка гипотезы №2: среднее расстояние, которое проезжают пользователи с подпиской за одну поездку, не превышает 3130 метров"
   ]
  },
  {
   "cell_type": "markdown",
   "id": "bcc13812",
   "metadata": {},
   "source": [
    "Для проверки данной гипотезы также будем использовать Т-тест, так как он отвечает критериям выше, только вместо парного теста будем использовать стандартный, так как в этом случае нам необходимо сравнивать среднее значенеи выборки с некоторым установленным значением (в нашем случае 3130 метров, так как именно данное значение является оптимальным с точки зрения износа самоката). При этом будем использовать односторонний тест, так как нас интересует большие или равные 3130 м. значения.\n",
    "\n",
    "Начнем с определения нулевой и альтернативной гипотез:\n",
    "- H0: среднее расстояние одной поездки пользователей с подпиской равно 3130 метров;\n",
    "- H1: среднее расстояние одной поездки пользователей с подпиской превышает 3130 метров.\n",
    "\n",
    "Уровень значимости также установим на 5%."
   ]
  },
  {
   "cell_type": "code",
   "execution_count": 84,
   "id": "e5d8e5da",
   "metadata": {},
   "outputs": [
    {
     "name": "stdout",
     "output_type": "stream",
     "text": [
      "P-значение: 0.9195368847849785\n",
      "Не можем отклонить нулевую гипотезу: среднее расстояние поездок пользователей с подпиской не отличается от порогового            в большую сторону\n"
     ]
    }
   ],
   "source": [
    "# сохраним оптимальное значение в переменной\n",
    "optimum_value = 3130\n",
    "\n",
    "# применяем соответствующий метод для проверки гипотезы\n",
    "test_results = st.ttest_1samp(df_filter_with_subscription['distance'], optimum_value, alternative='greater')\n",
    "\n",
    "# выводим результаты\n",
    "print('P-значение:', test_results.pvalue)\n",
    "\n",
    "if test_results.pvalue < alpha:\n",
    "    print('Отклоняем нулевую гипотезу: среднее расстояние поездок пользователей с подпиской отличается от порогового в большую \\\n",
    "           сторону')\n",
    "else:\n",
    "    print('Не можем отклонить нулевую гипотезу: среднее расстояние поездок пользователей с подпиской не отличается от порогового \\\n",
    "           в большую сторону') "
   ]
  },
  {
   "cell_type": "markdown",
   "id": "205d4991",
   "metadata": {},
   "source": [
    "Так как вероятность получить такое среднее расстояние поездок или более при корректности нулевой гипотезы представляет собой 91%, мы не можем отклонить нулевую гипотезу. Таким образом, можно говорить о том, что среднее расстояние пользователей с подпиской за одну поездку не превышает 3130 метров. Наконец, проверим гипотезу о выручке среди пользователей с подпиской и без."
   ]
  },
  {
   "cell_type": "markdown",
   "id": "1c76e334",
   "metadata": {},
   "source": [
    "##### Проверка гипотезы №3: помесячная выручка от пользователей с подпиской по месяцам выше, чем выручка от пользователей без подписки"
   ]
  },
  {
   "cell_type": "markdown",
   "id": "cde083bf",
   "metadata": {},
   "source": [
    "Для проверки данной гипотезы будем использовать датасет с агрегированными показателями (для этого мы оставили в нем столбец с типом подписки). За основу возьмем правосторонний парный Т-тест для независимых выборок, так как нам снова необходимо сравнить средние значения по двум группам пользователей - с подпиской и без, средним в этом случае выступает помесячная выручка.\n",
    "\n",
    "Сформулируем нулевую и альтернативную гипотезы:\n",
    "- H0: средняя выручка пользователей с подпиской за месяц равна аналогичному среднему показателю пользователей без подписки;\n",
    "- H1: средняя выручка пользователей с подпиской за месяц выше аналогичному среднему показателю пользователей без подписки.\n",
    "\n",
    "Уровень значимости также установим на 5%."
   ]
  },
  {
   "cell_type": "code",
   "execution_count": 85,
   "id": "aea8ccde",
   "metadata": {},
   "outputs": [
    {
     "name": "stdout",
     "output_type": "stream",
     "text": [
      "P-значение: 1.8850394384715216e-31\n",
      "Отклоняем нулевую гипотезу: средняя выручка в месяц отличается у пользователей с подпиской в большую сторону, чем              средняя выручка в месяц пользователей без подписки\n"
     ]
    }
   ],
   "source": [
    "# применяем соответствующий метод для проверки гипотезы\n",
    "test_results = st.ttest_ind(df_grouped_by_user_id.query('subscription_type == \"ultra\"')['revenue'], \n",
    "                            df_grouped_by_user_id.query('subscription_type == \"free\"')['revenue'],\n",
    "                            alternative='greater')\n",
    "\n",
    "# выводим результаты\n",
    "print('P-значение:', test_results.pvalue)\n",
    "\n",
    "if test_results.pvalue < alpha:\n",
    "    print('Отклоняем нулевую гипотезу: средняя выручка в месяц отличается у пользователей с подпиской в большую сторону, чем   \\\n",
    "           средняя выручка в месяц пользователей без подписки')\n",
    "else:\n",
    "    print('Не можем отклонить нулевую гипотезу: средняя выручка в месяц не отличается у пользователей с подпиской и без')"
   ]
  },
  {
   "cell_type": "markdown",
   "id": "5c3226b6",
   "metadata": {},
   "source": [
    "Таким образом, полученное значение позволяет нам отвергнуть нулевую гипотезу и сделать вывод о том, что средняя месячная выручка пользователей с подпиской отличается в большую сторону, чем средняя выручка пользователей без подписки, так как, в случае принятия нулевой гипотезы, вероятность получить такое же среднее и более достаточно мала."
   ]
  },
  {
   "cell_type": "markdown",
   "id": "2f758bc0",
   "metadata": {},
   "source": [
    "##### Проектирование потенциального тестирования гипотезы"
   ]
  },
  {
   "cell_type": "markdown",
   "id": "440b936d",
   "metadata": {},
   "source": [
    "От бизнеса также поступила задача выбора теста для следующей ситуации: техническая команда сервиса обновила сервера, с которыми взаимодействует мобильное приложение. Она надеется, что из-за этого количество обращений в техподдержку значимо снизилось. Некоторый файл содержит для каждого пользователя данные о количестве обращений до обновления и после него. Какой тест необходимо использовать в данном случае?\n",
    "\n",
    "В условиях запроса речь идет о связанных выборках, так как в файле представлены метрики количества обращений одних и тех же пользователей в техподдержку. Таким образом, необходимо применять Т-тест для парных выборок (на практике нужно использовать метод `ttest_rel` модуля `stats` библиотеки `scipy`, основными условиями которого являются аналогичные озвученным выше, а также то, что выборки должны быть одинакового размера и порядок объектов в одной выборке соответствует порядку объектов в другой.\n",
    "\n",
    "Если бы выборки были независимыми, то есть, например, в выборке А были представлены случайные пользователи, которые обращались в поддержку до изменений, а в выборке Б - после, то можно было бы обойтись Т-тестом для независимых выборок."
   ]
  },
  {
   "cell_type": "markdown",
   "id": "16ec6d53",
   "metadata": {},
   "source": [
    "#### Шаг 7. Распределения"
   ]
  },
  {
   "cell_type": "markdown",
   "id": "16592b84",
   "metadata": {},
   "source": [
    "##### Задача №1"
   ]
  },
  {
   "cell_type": "markdown",
   "id": "4c5fe406",
   "metadata": {},
   "source": [
    "В рамках исследования была поставлена следующая задача: нужно провести акцию с раздачей промокодов на один бесплатный месяц подписки, в рамках которой как минимум 100 существующих клиентов должны продлить эту подписку. То есть по завершении периода действия подписки пользователь может либо отказаться от неё, либо продлить, совершив соответствующий платёж. \n",
    "Эта акция уже проводилась ранее и по итогу выяснилось, что после бесплатного пробного периода подписку продлевают \n",
    "10% пользователей. Выясните, какое минимальное количество промокодов нужно разослать, чтобы вероятность не выполнить план была примерно 5%\n",
    "Необходимо подобрать параметры распределения, описывающего эту ситуацию, постройте график распределения и сформулируйте ответ на вопрос о количестве промокодов.\n",
    "\n",
    "В данном случае будем использовать биномиальное распределение, так как эксперимент:\n",
    "- характеризуется многократными независимыми повторениями;\n",
    "- каждое повторение (событие) может принимать 2 исхода - успех, то есть подписка продлена, и не успех - подписка не продлена.\n",
    "\n",
    "Объявим функцию для определения необходимого количества промокодов при заданном уровне погрешности, а после построим график."
   ]
  },
  {
   "cell_type": "code",
   "execution_count": 86,
   "id": "8b9207a4",
   "metadata": {},
   "outputs": [],
   "source": [
    "# задаем базовые параметры распределения\n",
    "p = 0.1\n",
    "k = 100\n",
    "t = 0.05\n",
    "\n",
    "# объявляем функцию для рассчета n\n",
    "def calculate_n(p, k, t):\n",
    "    n = 1\n",
    "    # проходимся циклом по заданному условию, цикл прерывается при осуществлении условия (достижения 5% вероятности не достигнуть)\n",
    "    # k успехов, в нашем случае - 100 продлений регистраций\n",
    "    while True:\n",
    "        probability = st.binom.cdf(k, n, p)\n",
    "        if probability <= t:\n",
    "            return n\n",
    "        else:\n",
    "            n += 1"
   ]
  },
  {
   "cell_type": "code",
   "execution_count": 87,
   "id": "22cee78d",
   "metadata": {},
   "outputs": [
    {
     "name": "stdout",
     "output_type": "stream",
     "text": [
      "Необходимое количество промокодов для получения 100 продлений подписок при заданном уровне погрешности в 5% составляет 1172\n"
     ]
    }
   ],
   "source": [
    "print('Необходимое количество промокодов для получения 100 продлений подписок при заданном уровне погрешности в 5% составляет',\\\n",
    "      calculate_n(p, k, t))"
   ]
  },
  {
   "cell_type": "code",
   "execution_count": 88,
   "id": "b166c01c",
   "metadata": {},
   "outputs": [
    {
     "name": "stderr",
     "output_type": "stream",
     "text": [
      "/opt/conda/lib/python3.9/site-packages/scipy/stats/_discrete_distns.py:78: RuntimeWarning: divide by zero encountered in _binom_pdf\n",
      "  return _boost._binom_pdf(x, n, p)\n"
     ]
    },
    {
     "data": {
      "image/png": "[encoded data removed]",
      "text/plain": [
       "<Figure size 1080x504 with 1 Axes>"
      ]
     },
     "metadata": {
      "needs_background": "light"
     },
     "output_type": "display_data"
    }
   ],
   "source": [
    "# построим график на базе полученного значения n\n",
    "p = 0.1\n",
    "n = calculate_n(p, k, t)\n",
    "k = 100\n",
    "\n",
    "distr = []\n",
    "\n",
    "for k in range(0, n + 1):\n",
    "    current_value = st.binom.pmf(k, n, p)\n",
    "    distr.append(current_value)\n",
    "\n",
    "plt.figure(figsize=(15, 7))\n",
    "plt.bar(range(0, n + 1), distr)\n",
    "plt.xticks(np.arange(0, 1001, 100))\n",
    "plt.axvline(x=100, color='red', linestyle='--')\n",
    "plt.show()"
   ]
  },
  {
   "cell_type": "markdown",
   "id": "cb7cf98a",
   "metadata": {},
   "source": [
    "**Промежуточные выводы:** для 100 продлений подписок компании необходимо отправить 1172 промокода, учитывая вероятность недостижения результата в 5%."
   ]
  },
  {
   "cell_type": "markdown",
   "id": "6448bc0a",
   "metadata": {},
   "source": [
    "###### Задача №2"
   ]
  },
  {
   "cell_type": "markdown",
   "id": "63e0bc8c",
   "metadata": {},
   "source": [
    "В рамках исследования была поставлена следующая задача: отдел маркетинга рассылает клиентам push-уведомления в мобильном приложении. Клиенты могут открыть его или не открывать. Известно, что уведомления открывают около 40% получивших клиентов. Отдел планирует разослать 1 млн уведомлений. С помощью аппроксимации постройте примерный график распределения и оцените вероятность того, что уведомление откроют не более \n",
    "399,5 тыс. пользователей.\n",
    "\n",
    "Для решения данной задачи подойдет аппроксимация биномиального распределения нормальным: так, в случае открытия/не открытия уведомления у нас имеются 2 исхода, повторяющиеся в каждом эксперименте с одинаковой вероятностью. При этом нам важно посмотреть значение вероятности в хвостовой части, в данном случае - справа, а при наличиии большого количества экспериментов (n) и вероятности успеха (p), стремящейся к 0.5, биномиальное распределение отлично аппроксимируется нормальным для решения данного типа задач. Рассчитаем параметры математического ожидания и стандартного отклонения на базе параметров биномиального распределения, а дальше при помощи кумулятивной функции распределения рассчитаем вероятность правого хвоста до указанного в задаче значения."
   ]
  },
  {
   "cell_type": "code",
   "execution_count": 89,
   "id": "3b6bfb45",
   "metadata": {},
   "outputs": [
    {
     "name": "stdout",
     "output_type": "stream",
     "text": [
      "Вероятность открытия пользователями не более 399500 уведомлений составляет  0.15\n"
     ]
    }
   ],
   "source": [
    "# зададим параметры биномиального распределения\n",
    "n = 1000000 \n",
    "p = 0.4\n",
    "\n",
    "# рассчитаем параметры аппроксимации биномиального распределения нормальным\n",
    "mu = n * p \n",
    "sigma = sqrt(n * p * (1 - p))\n",
    "\n",
    "# проведем аппроксимацию\n",
    "distr = st.norm(mu, sigma) # задайте нормальное распределение\n",
    "\n",
    "# найдем вероятность открытия уведомления НЕ более чем 399500 пользователями\n",
    "result = distr.cdf(399500)\n",
    "print('Вероятность открытия пользователями не более 399500 уведомлений составляет ', result.round(2))"
   ]
  },
  {
   "cell_type": "markdown",
   "id": "48f5e2da",
   "metadata": {},
   "source": [
    "Так, можно говорить о том, что существует 0.75 вероятности того, что уведомление откроют больше 399500 пользователей. Рассмотрим проведенную аппроксимацию на графиках, чтобы удостовериться, что аппроксимация была осуществлена корректно."
   ]
  },
  {
   "cell_type": "code",
   "execution_count": 90,
   "id": "5088aa9b",
   "metadata": {},
   "outputs": [
    {
     "data": {
      "image/png": "[encoded data removed]",
      "text/plain": [
       "<Figure size 1080x504 with 1 Axes>"
      ]
     },
     "metadata": {
      "needs_background": "light"
     },
     "output_type": "display_data"
    }
   ],
   "source": [
    "# зададим функцию для рассчета шага для визуализации графика нормального распределения\n",
    "def linspace(start, stop, num):\n",
    "    step = (stop - start) / (num - 1)\n",
    "    result = []\n",
    "    for i in range(num):\n",
    "        result.append(start + step * i)\n",
    "    return result\n",
    "\n",
    "# обозначаем границы биномиального распределения для условия аппроксимации\n",
    "left = int(n * p - 4 * sqrt(n * p * (1 - p)))\n",
    "right = int(n * p + 4 * sqrt(n * p * (1 - p)))\n",
    "\n",
    "# построим график биномиального распределения\n",
    "x = list(range(max(0, left), right))\n",
    "plt.figure(figsize=(15, 7))\n",
    "ax = plt.subplot()\n",
    "ax.plot(x, st.binom.pmf(x, n, p), 'bo', ms=2,\n",
    "        label='вероятности биномиального распределения')\n",
    "\n",
    "# построим график нормального распределения\n",
    "x = linspace(left, right, 100)\n",
    "ax.plot(x, st.norm.pdf(x, mu, sigma), 'r-', lw=3, alpha=0.3, label='плотность вероятности нормального распределения')\n",
    "x_ticks = list(range(int(mu - 3 * sigma), int(mu + 3 * sigma), 500))\n",
    "ax.set_xticks(x_ticks)\n",
    "ax.legend(loc='best')\n",
    "\n",
    "plt.show()"
   ]
  },
  {
   "cell_type": "markdown",
   "id": "fc7386dd",
   "metadata": {},
   "source": [
    "**Вопрос ревьюеру:** просидел над последней задачей 2 дня, так и не смог понять, почему значения по оси X так сильно едут. Буду благодарен за помощь в построении графика."
   ]
  },
  {
   "cell_type": "code",
   "execution_count": 91,
   "id": "109c8d38",
   "metadata": {},
   "outputs": [
    {
     "name": "stdout",
     "output_type": "stream",
     "text": [
      "Условие выполняется\n"
     ]
    }
   ],
   "source": [
    "# проверяем полученные результаты на соответствие условиям аппроксимации\n",
    "if (mu - (3 * sigma) >= 0) and ((mu + (3 * sigma) <= n)):\n",
    "    print('Условие выполняется')\n",
    "else:\n",
    "    print('Условие не выполняется')"
   ]
  },
  {
   "cell_type": "markdown",
   "id": "8224ae5b",
   "metadata": {},
   "source": [
    "Видим, что графики идентичны, условия аппроксимации в виде того, что среднее должно лежать в пределах +- трех стандартных отклонений.\n",
    "\n",
    "**Промежуточные выводы:** в ходе проведенной аппроксимации биномиального распределения нормальным выясняли, что вероятность открытия уведомлений не более 350000 равно 0.15, а более - 0.75."
   ]
  },
  {
   "cell_type": "markdown",
   "id": "054b3285",
   "metadata": {},
   "source": [
    "#### Шаг 8. Выводы\n",
    "В рамках проведенного исследования были последовательно проделаны следующие этапы и сформулированы выводы:\n",
    "- В рамках этапа **предобработки данных** данные были подготовлены к дальнейшей работе:\n",
    "  - подключенные датасеты были проверены на наличие пропусков, в ходе работы пропусков выявлено не было, данные представлены в полном объеме;\n",
    "  - также датасеты были проанализированы на наличие дубликатов, где только в одном датасете с информацией о пользователях были выявлены дубликаты, проверены и удалены, чтобы получить корректные результаты исследования в дальнейшем;\n",
    "  - были проверены указанные типы данных на соответствия значениям в колонках, отклонения были найдены только в одном датасете с информацией по поездкам, что привело к изменению типа `object` на `datetime`. Также месяц был выделен в отдельную колонку `month` для проведения дальнейшего исследования.\n",
    "\n",
    "\n",
    "- В рамках **исследовательского анализа данных** был проведен анализ данных в разрезе частоты встречаемости городов, соотношения пользователей с подпиской и без нее, возраста пользователей, расстояния и продолжительности одной поездки. В ходе работы были сформулированы следующие выводы:\n",
    "  - большинство поездок совершаются в Пятигорске, Ростове-на-Дону и Екатеринбурге, в меньшей степени - Москве, Омске и Тюмени. При этом разница между количествами поездок не сильно большая, однако важно учитывать совокупное население городов: например, в Москве проживают гораздо больше людей, чем в Пятигорске, однако пользователей из Москвы меньше. Вполне вероятно, что компания конкурирует с другими организациями в Москве, так как самокаты представлены там в больших вариациях, чем в регионах;\n",
    "  - пользователей без подписки больше, чем тех, кто использует подписку Ultra. Тем не менее, практически половина пользователей (45%) используют платную подписку;\n",
    "  - ядром аудитории являются пользователи 20-30 лет, а пользователи младше 18 и старше 35 встречаются гораздо реже. Вполне вероятно, что это связано с тем, что пользователи первой группы не обладают собственными средствами на аренду самоката или потребностью перемещаться на дальние расстояния, а у пользователей старше 35 лет есть собственный транспорт;\n",
    "  - расстояние одной поездки составляет около 2000-4000 м. с медианным значением в 3100-3200 м., фактор сезонности отсутствует. При этом на продолжительность поездок не влияют города, возраст и тип подписки - данные распределены идентично.\n",
    "  - продолжительность поездки составляет в среднем около 17-18 минут, при этом фактор сезонности также отсутствует. На продолжительность поездок также не влияют города, возраст и тип подписки, так как данные распределены аналогичным образом. \n",
    "\n",
    "\n",
    "- В рамках **статистической проверки гипотез** от продуктовой команды были получены следующие выводы:\n",
    "  - пользователи с подпиской в среднем тратят больше времени на поездки, чем пользователи без подписки;\n",
    "  - среднее расстояние поездок пользователей с подпиской не отличается от порогового (3130 метров) в большую сторону;\n",
    "  - средняя выручка в месяц отличается у пользователей с подпиской в большую сторону, чем средняя выручка в месяц пользователей без подписки;\n",
    "  - в качестве теста для проведения дополнительного эксперимента был рекомендован Т-тест для парных выборок.\n",
    "  \n",
    "  \n",
    "- В рамках **анализа распределений** и ответов на вопросы бизнеса были получены следующие выводы:\n",
    "  - компании необходимо разослать 1172 промокода для того, чтобы получить 100 продлений подписок при заданном уровне погрешности в 5%. Если бы пользователи продляли подписку чаще, то количество промокодов можно было бы сократить, поэтому, возможно, имеет смысл поработать над механикой вовлеченности в приложении и оптимизацией коэффициента удержания.\n",
    "  - в ходе проведенной аппроксимации биномиального распределения нормальным выясняли, что вероятность открытия уведомлений не более 350000 равно 0.15, а более - 0.75.\n",
    " \n",
    "Полученные результаты исследования могут быть использованы компанией в дальнейшем для оптимизации продуктовых метрик и проведения дальнейших исследований."
   ]
  }
 ],
 "metadata": {
  "ExecuteTimeLog": [
   {
    "duration": 1246,
    "start_time": "2024-01-14T12:03:14.213Z"
   },
   {
    "duration": 279,
    "start_time": "2024-01-14T12:05:11.074Z"
   },
   {
    "duration": 156,
    "start_time": "2024-01-14T12:05:19.052Z"
   },
   {
    "duration": 160,
    "start_time": "2024-01-14T12:05:37.219Z"
   },
   {
    "duration": 11,
    "start_time": "2024-01-14T12:05:57.226Z"
   },
   {
    "duration": 9,
    "start_time": "2024-01-14T12:06:11.745Z"
   },
   {
    "duration": 7,
    "start_time": "2024-01-14T12:06:44.759Z"
   },
   {
    "duration": 98,
    "start_time": "2024-01-14T12:07:01.662Z"
   },
   {
    "duration": 5,
    "start_time": "2024-01-14T12:09:19.425Z"
   },
   {
    "duration": 5,
    "start_time": "2024-01-14T12:09:36.654Z"
   },
   {
    "duration": 10,
    "start_time": "2024-01-14T12:09:43.931Z"
   },
   {
    "duration": 8,
    "start_time": "2024-01-14T12:09:48.698Z"
   },
   {
    "duration": 7,
    "start_time": "2024-01-14T12:10:18.490Z"
   },
   {
    "duration": 12,
    "start_time": "2024-01-14T12:10:40.204Z"
   },
   {
    "duration": 6,
    "start_time": "2024-01-14T12:10:48.032Z"
   },
   {
    "duration": 14,
    "start_time": "2024-01-14T12:11:29.745Z"
   },
   {
    "duration": 9,
    "start_time": "2024-01-14T12:11:33.281Z"
   },
   {
    "duration": 9,
    "start_time": "2024-01-14T12:11:39.504Z"
   },
   {
    "duration": 7,
    "start_time": "2024-01-14T12:11:44.471Z"
   },
   {
    "duration": 8,
    "start_time": "2024-01-14T12:11:55.785Z"
   },
   {
    "duration": 13,
    "start_time": "2024-01-14T12:12:32.420Z"
   },
   {
    "duration": 12,
    "start_time": "2024-01-14T12:13:49.011Z"
   },
   {
    "duration": 1186,
    "start_time": "2024-01-14T12:14:23.020Z"
   },
   {
    "duration": 9,
    "start_time": "2024-01-14T12:14:31.708Z"
   },
   {
    "duration": 76,
    "start_time": "2024-01-14T12:15:17.491Z"
   },
   {
    "duration": 11,
    "start_time": "2024-01-14T12:15:31.659Z"
   },
   {
    "duration": 10,
    "start_time": "2024-01-14T12:15:43.850Z"
   },
   {
    "duration": 12,
    "start_time": "2024-01-14T12:17:21.178Z"
   },
   {
    "duration": 16,
    "start_time": "2024-01-14T12:17:27.032Z"
   },
   {
    "duration": 10,
    "start_time": "2024-01-14T12:18:23.024Z"
   },
   {
    "duration": 15,
    "start_time": "2024-01-14T12:18:26.823Z"
   },
   {
    "duration": 10,
    "start_time": "2024-01-14T12:20:17.283Z"
   },
   {
    "duration": 9,
    "start_time": "2024-01-14T12:21:00.827Z"
   },
   {
    "duration": 7,
    "start_time": "2024-01-14T12:21:11.862Z"
   },
   {
    "duration": 12,
    "start_time": "2024-01-14T12:21:49.451Z"
   },
   {
    "duration": 4,
    "start_time": "2024-01-14T12:22:14.143Z"
   },
   {
    "duration": 14,
    "start_time": "2024-01-14T12:22:16.994Z"
   },
   {
    "duration": 6,
    "start_time": "2024-01-14T12:22:28.577Z"
   },
   {
    "duration": 8,
    "start_time": "2024-01-14T12:22:38.351Z"
   },
   {
    "duration": 10,
    "start_time": "2024-01-14T12:24:46.766Z"
   },
   {
    "duration": 12,
    "start_time": "2024-01-14T12:25:35.373Z"
   },
   {
    "duration": 629,
    "start_time": "2024-01-14T12:28:24.755Z"
   },
   {
    "duration": 628,
    "start_time": "2024-01-14T12:28:41.008Z"
   },
   {
    "duration": 6,
    "start_time": "2024-01-14T12:28:49.664Z"
   },
   {
    "duration": 30,
    "start_time": "2024-01-14T12:28:54.163Z"
   },
   {
    "duration": 19,
    "start_time": "2024-01-14T12:28:58.707Z"
   },
   {
    "duration": 14,
    "start_time": "2024-01-14T12:29:42.891Z"
   },
   {
    "duration": 23,
    "start_time": "2024-01-14T12:29:46.737Z"
   },
   {
    "duration": 21,
    "start_time": "2024-01-14T12:29:56.792Z"
   },
   {
    "duration": 8,
    "start_time": "2024-01-14T12:30:07.496Z"
   },
   {
    "duration": 21,
    "start_time": "2024-01-14T12:30:37.092Z"
   },
   {
    "duration": 21,
    "start_time": "2024-01-14T12:30:46.671Z"
   },
   {
    "duration": 68,
    "start_time": "2024-01-14T12:30:49.792Z"
   },
   {
    "duration": 78,
    "start_time": "2024-01-14T12:30:52.353Z"
   },
   {
    "duration": 19,
    "start_time": "2024-01-14T12:30:55.355Z"
   },
   {
    "duration": 21,
    "start_time": "2024-01-14T12:31:00.877Z"
   },
   {
    "duration": 16,
    "start_time": "2024-01-14T12:31:34.694Z"
   },
   {
    "duration": 22,
    "start_time": "2024-01-14T12:31:39.004Z"
   },
   {
    "duration": 16,
    "start_time": "2024-01-14T12:32:05.049Z"
   },
   {
    "duration": 9,
    "start_time": "2024-01-14T12:33:15.194Z"
   },
   {
    "duration": 16,
    "start_time": "2024-01-14T12:46:15.563Z"
   },
   {
    "duration": 6,
    "start_time": "2024-01-14T12:46:19.812Z"
   },
   {
    "duration": 11,
    "start_time": "2024-01-14T12:46:43.715Z"
   },
   {
    "duration": 113,
    "start_time": "2024-01-14T12:47:00.581Z"
   },
   {
    "duration": 12,
    "start_time": "2024-01-14T12:47:05.027Z"
   },
   {
    "duration": 7,
    "start_time": "2024-01-14T12:47:10.404Z"
   },
   {
    "duration": 7,
    "start_time": "2024-01-14T12:47:17.058Z"
   },
   {
    "duration": 9,
    "start_time": "2024-01-14T12:47:20.730Z"
   },
   {
    "duration": 8,
    "start_time": "2024-01-14T12:47:40.125Z"
   },
   {
    "duration": 10,
    "start_time": "2024-01-14T12:47:50.490Z"
   },
   {
    "duration": 7,
    "start_time": "2024-01-14T12:47:55.071Z"
   },
   {
    "duration": 12,
    "start_time": "2024-01-14T12:47:57.607Z"
   },
   {
    "duration": 9,
    "start_time": "2024-01-14T12:48:09.680Z"
   },
   {
    "duration": 18,
    "start_time": "2024-01-14T12:48:41.528Z"
   },
   {
    "duration": 9,
    "start_time": "2024-01-14T12:48:59.424Z"
   },
   {
    "duration": 9,
    "start_time": "2024-01-14T12:49:59.273Z"
   },
   {
    "duration": 15,
    "start_time": "2024-01-14T12:50:16.303Z"
   },
   {
    "duration": 15,
    "start_time": "2024-01-14T12:50:22.728Z"
   },
   {
    "duration": 7,
    "start_time": "2024-01-14T12:50:27.236Z"
   },
   {
    "duration": 15,
    "start_time": "2024-01-14T12:50:37.656Z"
   },
   {
    "duration": 94,
    "start_time": "2024-01-14T12:52:14.245Z"
   },
   {
    "duration": 67,
    "start_time": "2024-01-14T12:52:37.189Z"
   },
   {
    "duration": 68,
    "start_time": "2024-01-14T12:52:40.629Z"
   },
   {
    "duration": 16,
    "start_time": "2024-01-14T12:52:44.070Z"
   },
   {
    "duration": 7,
    "start_time": "2024-01-14T12:52:50.812Z"
   },
   {
    "duration": 18,
    "start_time": "2024-01-14T12:53:21.708Z"
   },
   {
    "duration": 15,
    "start_time": "2024-01-14T12:53:29.134Z"
   },
   {
    "duration": 10,
    "start_time": "2024-01-14T12:53:57.501Z"
   },
   {
    "duration": 15,
    "start_time": "2024-01-14T12:54:02.860Z"
   },
   {
    "duration": 6,
    "start_time": "2024-01-14T12:54:10.920Z"
   },
   {
    "duration": 14,
    "start_time": "2024-01-14T12:54:15.860Z"
   },
   {
    "duration": 14,
    "start_time": "2024-01-14T12:54:21.010Z"
   },
   {
    "duration": 145,
    "start_time": "2024-01-14T12:54:59.843Z"
   },
   {
    "duration": 5,
    "start_time": "2024-01-14T12:56:26.888Z"
   },
   {
    "duration": 9,
    "start_time": "2024-01-14T12:56:37.208Z"
   },
   {
    "duration": 8,
    "start_time": "2024-01-14T12:57:08.725Z"
   },
   {
    "duration": 2,
    "start_time": "2024-01-14T12:57:17.663Z"
   },
   {
    "duration": 114,
    "start_time": "2024-01-14T12:57:24.198Z"
   },
   {
    "duration": 16,
    "start_time": "2024-01-14T12:57:53.278Z"
   },
   {
    "duration": 5,
    "start_time": "2024-01-14T12:58:05.023Z"
   },
   {
    "duration": 13,
    "start_time": "2024-01-14T12:58:06.422Z"
   },
   {
    "duration": 13,
    "start_time": "2024-01-14T12:58:17.223Z"
   },
   {
    "duration": 9,
    "start_time": "2024-01-14T12:58:27.622Z"
   },
   {
    "duration": 5,
    "start_time": "2024-01-14T12:58:43.463Z"
   },
   {
    "duration": 1136,
    "start_time": "2024-01-14T12:58:54.680Z"
   },
   {
    "duration": 140,
    "start_time": "2024-01-14T12:58:55.817Z"
   },
   {
    "duration": 11,
    "start_time": "2024-01-14T12:58:55.959Z"
   },
   {
    "duration": 10,
    "start_time": "2024-01-14T12:58:55.972Z"
   },
   {
    "duration": 11,
    "start_time": "2024-01-14T12:58:55.983Z"
   },
   {
    "duration": 27,
    "start_time": "2024-01-14T12:58:55.996Z"
   },
   {
    "duration": 8,
    "start_time": "2024-01-14T12:58:56.025Z"
   },
   {
    "duration": 7,
    "start_time": "2024-01-14T12:58:56.035Z"
   },
   {
    "duration": 17,
    "start_time": "2024-01-14T12:58:56.043Z"
   },
   {
    "duration": 13,
    "start_time": "2024-01-14T12:58:56.062Z"
   },
   {
    "duration": 14,
    "start_time": "2024-01-14T12:58:56.076Z"
   },
   {
    "duration": 6,
    "start_time": "2024-01-14T12:58:56.092Z"
   },
   {
    "duration": 7,
    "start_time": "2024-01-14T12:58:56.099Z"
   },
   {
    "duration": 4,
    "start_time": "2024-01-14T12:58:56.108Z"
   },
   {
    "duration": 12,
    "start_time": "2024-01-14T12:58:56.114Z"
   },
   {
    "duration": 38,
    "start_time": "2024-01-14T12:58:56.127Z"
   },
   {
    "duration": 11,
    "start_time": "2024-01-14T12:58:56.167Z"
   },
   {
    "duration": 18,
    "start_time": "2024-01-14T12:58:56.179Z"
   },
   {
    "duration": 14,
    "start_time": "2024-01-14T12:58:56.199Z"
   },
   {
    "duration": 12,
    "start_time": "2024-01-14T12:58:56.215Z"
   },
   {
    "duration": 5,
    "start_time": "2024-01-14T12:58:56.229Z"
   },
   {
    "duration": 122,
    "start_time": "2024-01-14T12:58:56.236Z"
   },
   {
    "duration": 158,
    "start_time": "2024-01-14T12:59:50.750Z"
   },
   {
    "duration": 145,
    "start_time": "2024-01-14T13:00:02.692Z"
   },
   {
    "duration": 7,
    "start_time": "2024-01-14T13:01:06.922Z"
   },
   {
    "duration": 9,
    "start_time": "2024-01-14T13:01:10.201Z"
   },
   {
    "duration": 9,
    "start_time": "2024-01-14T13:01:15.547Z"
   },
   {
    "duration": 11,
    "start_time": "2024-01-14T13:01:26.737Z"
   },
   {
    "duration": 8,
    "start_time": "2024-01-14T13:01:36.558Z"
   },
   {
    "duration": 7,
    "start_time": "2024-01-14T13:02:16.635Z"
   },
   {
    "duration": 154,
    "start_time": "2024-01-14T13:02:19.913Z"
   },
   {
    "duration": 148,
    "start_time": "2024-01-14T13:02:52.064Z"
   },
   {
    "duration": 12,
    "start_time": "2024-01-14T13:03:54.640Z"
   },
   {
    "duration": 7,
    "start_time": "2024-01-14T13:03:58.384Z"
   },
   {
    "duration": 7,
    "start_time": "2024-01-14T13:04:23.800Z"
   },
   {
    "duration": 160,
    "start_time": "2024-01-14T13:04:25.352Z"
   },
   {
    "duration": 6,
    "start_time": "2024-01-14T13:11:34.789Z"
   },
   {
    "duration": 9,
    "start_time": "2024-01-14T13:11:40.724Z"
   },
   {
    "duration": 11,
    "start_time": "2024-01-14T13:12:07.706Z"
   },
   {
    "duration": 11,
    "start_time": "2024-01-14T13:14:24.868Z"
   },
   {
    "duration": 17,
    "start_time": "2024-01-14T13:15:35.958Z"
   },
   {
    "duration": 9,
    "start_time": "2024-01-14T13:15:40.259Z"
   },
   {
    "duration": 224,
    "start_time": "2024-01-14T13:16:33.743Z"
   },
   {
    "duration": 134,
    "start_time": "2024-01-14T13:17:30.279Z"
   },
   {
    "duration": 215,
    "start_time": "2024-01-14T13:17:48.151Z"
   },
   {
    "duration": 274,
    "start_time": "2024-01-14T13:17:52.655Z"
   },
   {
    "duration": 224,
    "start_time": "2024-01-14T13:18:06.351Z"
   },
   {
    "duration": 8,
    "start_time": "2024-01-14T13:25:05.217Z"
   },
   {
    "duration": 8,
    "start_time": "2024-01-14T13:25:09.428Z"
   },
   {
    "duration": 8,
    "start_time": "2024-01-14T13:25:09.633Z"
   },
   {
    "duration": 226,
    "start_time": "2024-01-14T13:25:18.370Z"
   },
   {
    "duration": 151,
    "start_time": "2024-01-14T13:25:29.755Z"
   },
   {
    "duration": 8,
    "start_time": "2024-01-14T13:27:30.985Z"
   },
   {
    "duration": 8,
    "start_time": "2024-01-14T13:27:35.785Z"
   },
   {
    "duration": 188,
    "start_time": "2024-01-14T13:27:43.312Z"
   },
   {
    "duration": 220,
    "start_time": "2024-01-14T13:28:08.535Z"
   },
   {
    "duration": 214,
    "start_time": "2024-01-14T13:28:11.441Z"
   },
   {
    "duration": 271,
    "start_time": "2024-01-14T13:28:18.280Z"
   },
   {
    "duration": 350,
    "start_time": "2024-01-14T13:28:24.424Z"
   },
   {
    "duration": 222,
    "start_time": "2024-01-14T13:28:37.750Z"
   },
   {
    "duration": 238,
    "start_time": "2024-01-14T13:28:54.168Z"
   },
   {
    "duration": 154,
    "start_time": "2024-01-14T13:29:32.943Z"
   },
   {
    "duration": 259,
    "start_time": "2024-01-14T13:29:39.814Z"
   },
   {
    "duration": 270,
    "start_time": "2024-01-14T13:30:50.950Z"
   },
   {
    "duration": 303,
    "start_time": "2024-01-14T13:31:09.013Z"
   },
   {
    "duration": 242,
    "start_time": "2024-01-14T13:32:22.047Z"
   },
   {
    "duration": 250,
    "start_time": "2024-01-14T13:32:46.063Z"
   },
   {
    "duration": 262,
    "start_time": "2024-01-14T13:33:28.168Z"
   },
   {
    "duration": 249,
    "start_time": "2024-01-14T13:33:41.399Z"
   },
   {
    "duration": 330,
    "start_time": "2024-01-14T13:33:56.518Z"
   },
   {
    "duration": 15,
    "start_time": "2024-01-14T13:34:34.389Z"
   },
   {
    "duration": 15,
    "start_time": "2024-01-14T13:34:49.733Z"
   },
   {
    "duration": 252,
    "start_time": "2024-01-14T13:35:21.910Z"
   },
   {
    "duration": 256,
    "start_time": "2024-01-14T13:35:31.684Z"
   },
   {
    "duration": 246,
    "start_time": "2024-01-14T13:35:36.109Z"
   },
   {
    "duration": 253,
    "start_time": "2024-01-14T13:35:39.755Z"
   },
   {
    "duration": 245,
    "start_time": "2024-01-14T13:36:01.204Z"
   },
   {
    "duration": 244,
    "start_time": "2024-01-14T13:36:05.903Z"
   },
   {
    "duration": 336,
    "start_time": "2024-01-14T13:36:11.181Z"
   },
   {
    "duration": 252,
    "start_time": "2024-01-14T13:36:21.683Z"
   },
   {
    "duration": 245,
    "start_time": "2024-01-14T13:40:19.657Z"
   },
   {
    "duration": 27,
    "start_time": "2024-01-14T13:40:35.345Z"
   },
   {
    "duration": 150,
    "start_time": "2024-01-14T13:40:41.810Z"
   },
   {
    "duration": 100,
    "start_time": "2024-01-14T13:41:19.434Z"
   },
   {
    "duration": 156,
    "start_time": "2024-01-14T13:41:27.345Z"
   },
   {
    "duration": 159,
    "start_time": "2024-01-14T13:45:30.269Z"
   },
   {
    "duration": 6,
    "start_time": "2024-01-14T13:49:37.104Z"
   },
   {
    "duration": 17,
    "start_time": "2024-01-14T13:49:41.081Z"
   },
   {
    "duration": 18,
    "start_time": "2024-01-14T13:51:49.833Z"
   },
   {
    "duration": 17,
    "start_time": "2024-01-14T13:52:00.157Z"
   },
   {
    "duration": 6,
    "start_time": "2024-01-14T13:52:15.406Z"
   },
   {
    "duration": 12,
    "start_time": "2024-01-14T13:53:02.421Z"
   },
   {
    "duration": 412,
    "start_time": "2024-01-14T13:53:24.684Z"
   },
   {
    "duration": 466,
    "start_time": "2024-01-14T13:54:18.931Z"
   },
   {
    "duration": 362,
    "start_time": "2024-01-14T13:54:38.858Z"
   },
   {
    "duration": 336,
    "start_time": "2024-01-14T13:55:21.408Z"
   },
   {
    "duration": 11,
    "start_time": "2024-01-14T13:59:14.247Z"
   },
   {
    "duration": 17,
    "start_time": "2024-01-14T13:59:38.957Z"
   },
   {
    "duration": 18,
    "start_time": "2024-01-14T14:00:05.886Z"
   },
   {
    "duration": 219,
    "start_time": "2024-01-14T14:00:19.132Z"
   },
   {
    "duration": 197,
    "start_time": "2024-01-14T14:00:31.841Z"
   },
   {
    "duration": 166,
    "start_time": "2024-01-14T14:00:40.706Z"
   },
   {
    "duration": 11,
    "start_time": "2024-01-14T14:00:46.516Z"
   },
   {
    "duration": 584,
    "start_time": "2024-01-14T14:05:40.930Z"
   },
   {
    "duration": 233,
    "start_time": "2024-01-14T14:05:52.201Z"
   },
   {
    "duration": 370,
    "start_time": "2024-01-14T14:06:44.464Z"
   },
   {
    "duration": 245,
    "start_time": "2024-01-14T14:06:52.304Z"
   },
   {
    "duration": 48,
    "start_time": "2024-01-15T12:46:44.041Z"
   },
   {
    "duration": 1322,
    "start_time": "2024-01-15T12:46:51.368Z"
   },
   {
    "duration": 379,
    "start_time": "2024-01-15T12:46:52.691Z"
   },
   {
    "duration": 11,
    "start_time": "2024-01-15T12:46:53.071Z"
   },
   {
    "duration": 13,
    "start_time": "2024-01-15T12:46:53.084Z"
   },
   {
    "duration": 21,
    "start_time": "2024-01-15T12:46:53.098Z"
   },
   {
    "duration": 8,
    "start_time": "2024-01-15T12:46:53.120Z"
   },
   {
    "duration": 19,
    "start_time": "2024-01-15T12:46:53.129Z"
   },
   {
    "duration": 16,
    "start_time": "2024-01-15T12:46:53.150Z"
   },
   {
    "duration": 27,
    "start_time": "2024-01-15T12:46:53.168Z"
   },
   {
    "duration": 25,
    "start_time": "2024-01-15T12:46:53.197Z"
   },
   {
    "duration": 20,
    "start_time": "2024-01-15T12:46:53.223Z"
   },
   {
    "duration": 9,
    "start_time": "2024-01-15T12:46:53.244Z"
   },
   {
    "duration": 20,
    "start_time": "2024-01-15T12:46:53.254Z"
   },
   {
    "duration": 5,
    "start_time": "2024-01-15T12:46:53.276Z"
   },
   {
    "duration": 15,
    "start_time": "2024-01-15T12:46:53.283Z"
   },
   {
    "duration": 13,
    "start_time": "2024-01-15T12:46:53.300Z"
   },
   {
    "duration": 35,
    "start_time": "2024-01-15T12:46:53.314Z"
   },
   {
    "duration": 12,
    "start_time": "2024-01-15T12:46:53.351Z"
   },
   {
    "duration": 12,
    "start_time": "2024-01-15T12:46:53.366Z"
   },
   {
    "duration": 9,
    "start_time": "2024-01-15T12:46:53.380Z"
   },
   {
    "duration": 200,
    "start_time": "2024-01-15T12:46:53.391Z"
   },
   {
    "duration": 10,
    "start_time": "2024-01-15T12:46:53.593Z"
   },
   {
    "duration": 42,
    "start_time": "2024-01-15T12:46:53.605Z"
   },
   {
    "duration": 292,
    "start_time": "2024-01-15T12:46:53.649Z"
   },
   {
    "duration": 294,
    "start_time": "2024-01-15T12:46:53.943Z"
   },
   {
    "duration": 177,
    "start_time": "2024-01-15T12:46:54.239Z"
   },
   {
    "duration": 6,
    "start_time": "2024-01-15T12:46:54.418Z"
   },
   {
    "duration": 31,
    "start_time": "2024-01-15T12:46:54.427Z"
   },
   {
    "duration": 399,
    "start_time": "2024-01-15T12:46:54.459Z"
   },
   {
    "duration": 16,
    "start_time": "2024-01-15T12:46:54.859Z"
   },
   {
    "duration": 202,
    "start_time": "2024-01-15T12:46:54.877Z"
   },
   {
    "duration": 333,
    "start_time": "2024-01-15T12:46:55.081Z"
   },
   {
    "duration": 1543,
    "start_time": "2024-01-15T12:46:55.415Z"
   },
   {
    "duration": 5,
    "start_time": "2024-01-15T12:47:07.134Z"
   },
   {
    "duration": 24,
    "start_time": "2024-01-15T12:47:10.156Z"
   },
   {
    "duration": 17,
    "start_time": "2024-01-15T12:47:47.658Z"
   },
   {
    "duration": 5,
    "start_time": "2024-01-15T12:47:59.977Z"
   },
   {
    "duration": 17,
    "start_time": "2024-01-15T12:48:28.312Z"
   },
   {
    "duration": 6,
    "start_time": "2024-01-15T12:48:41.785Z"
   },
   {
    "duration": 10,
    "start_time": "2024-01-15T12:52:57.609Z"
   },
   {
    "duration": 6,
    "start_time": "2024-01-15T12:53:37.099Z"
   },
   {
    "duration": 10,
    "start_time": "2024-01-15T12:53:40.050Z"
   },
   {
    "duration": 17,
    "start_time": "2024-01-15T12:53:42.608Z"
   },
   {
    "duration": 6,
    "start_time": "2024-01-15T12:53:46.154Z"
   },
   {
    "duration": 28,
    "start_time": "2024-01-15T12:53:49.647Z"
   },
   {
    "duration": 9,
    "start_time": "2024-01-15T12:55:03.369Z"
   },
   {
    "duration": 11,
    "start_time": "2024-01-15T12:55:30.192Z"
   },
   {
    "duration": 4,
    "start_time": "2024-01-15T12:57:55.435Z"
   },
   {
    "duration": 8,
    "start_time": "2024-01-15T12:58:40.336Z"
   },
   {
    "duration": 11,
    "start_time": "2024-01-15T13:01:25.579Z"
   },
   {
    "duration": 19,
    "start_time": "2024-01-15T13:01:29.169Z"
   },
   {
    "duration": 10,
    "start_time": "2024-01-15T13:01:51.458Z"
   },
   {
    "duration": 10,
    "start_time": "2024-01-15T13:02:55.281Z"
   },
   {
    "duration": 383,
    "start_time": "2024-01-15T13:03:07.766Z"
   },
   {
    "duration": 8,
    "start_time": "2024-01-15T13:04:28.509Z"
   },
   {
    "duration": 16,
    "start_time": "2024-01-15T13:04:33.364Z"
   },
   {
    "duration": 10,
    "start_time": "2024-01-15T13:04:44.774Z"
   },
   {
    "duration": 10,
    "start_time": "2024-01-15T13:05:05.324Z"
   },
   {
    "duration": 80,
    "start_time": "2024-01-15T13:05:21.880Z"
   },
   {
    "duration": 5,
    "start_time": "2024-01-15T13:05:34.356Z"
   },
   {
    "duration": 84,
    "start_time": "2024-01-15T13:06:40.832Z"
   },
   {
    "duration": 140,
    "start_time": "2024-01-15T13:06:44.145Z"
   },
   {
    "duration": 167,
    "start_time": "2024-01-15T13:07:10.561Z"
   },
   {
    "duration": 73,
    "start_time": "2024-01-15T13:07:39.049Z"
   },
   {
    "duration": 168,
    "start_time": "2024-01-15T13:07:44.025Z"
   },
   {
    "duration": 161,
    "start_time": "2024-01-15T13:08:01.407Z"
   },
   {
    "duration": 15,
    "start_time": "2024-01-15T13:09:07.957Z"
   },
   {
    "duration": 10,
    "start_time": "2024-01-15T13:09:09.973Z"
   },
   {
    "duration": 434,
    "start_time": "2024-01-15T13:09:11.155Z"
   },
   {
    "duration": 11,
    "start_time": "2024-01-15T13:12:08.189Z"
   },
   {
    "duration": 15,
    "start_time": "2024-01-15T13:12:09.373Z"
   },
   {
    "duration": 15,
    "start_time": "2024-01-15T13:13:07.778Z"
   },
   {
    "duration": 356,
    "start_time": "2024-01-15T13:13:14.994Z"
   },
   {
    "duration": 280,
    "start_time": "2024-01-15T13:13:40.338Z"
   },
   {
    "duration": 272,
    "start_time": "2024-01-15T13:14:18.560Z"
   },
   {
    "duration": 320,
    "start_time": "2024-01-15T13:14:24.041Z"
   },
   {
    "duration": 257,
    "start_time": "2024-01-15T13:14:42.760Z"
   },
   {
    "duration": 14,
    "start_time": "2024-01-15T13:16:26.496Z"
   },
   {
    "duration": 328,
    "start_time": "2024-01-15T13:16:28.428Z"
   },
   {
    "duration": 17,
    "start_time": "2024-01-15T13:17:04.957Z"
   },
   {
    "duration": 270,
    "start_time": "2024-01-15T13:17:08.173Z"
   },
   {
    "duration": 7,
    "start_time": "2024-01-15T13:17:10.593Z"
   },
   {
    "duration": 6,
    "start_time": "2024-01-15T13:17:15.104Z"
   },
   {
    "duration": 11,
    "start_time": "2024-01-15T13:17:19.642Z"
   },
   {
    "duration": 16,
    "start_time": "2024-01-15T13:17:43.006Z"
   },
   {
    "duration": 9,
    "start_time": "2024-01-15T13:17:59.303Z"
   },
   {
    "duration": 14,
    "start_time": "2024-01-15T13:18:09.819Z"
   },
   {
    "duration": 8,
    "start_time": "2024-01-15T13:18:17.317Z"
   },
   {
    "duration": 207,
    "start_time": "2024-01-15T13:18:20.802Z"
   },
   {
    "duration": 257,
    "start_time": "2024-01-15T13:18:52.955Z"
   },
   {
    "duration": 203,
    "start_time": "2024-01-15T13:19:10.058Z"
   },
   {
    "duration": 238,
    "start_time": "2024-01-15T13:26:33.764Z"
   },
   {
    "duration": 239,
    "start_time": "2024-01-15T13:26:45.403Z"
   },
   {
    "duration": 4,
    "start_time": "2024-01-15T13:30:00.528Z"
   },
   {
    "duration": 7,
    "start_time": "2024-01-15T13:32:57.111Z"
   },
   {
    "duration": 158,
    "start_time": "2024-01-15T13:33:10.041Z"
   },
   {
    "duration": 246,
    "start_time": "2024-01-15T13:33:26.798Z"
   },
   {
    "duration": 6,
    "start_time": "2024-01-15T13:35:28.087Z"
   },
   {
    "duration": 136,
    "start_time": "2024-01-15T13:35:29.404Z"
   },
   {
    "duration": 6,
    "start_time": "2024-01-15T13:36:16.142Z"
   },
   {
    "duration": 145,
    "start_time": "2024-01-15T13:36:19.571Z"
   },
   {
    "duration": 149,
    "start_time": "2024-01-15T13:37:35.753Z"
   },
   {
    "duration": 12,
    "start_time": "2024-01-15T13:40:41.024Z"
   },
   {
    "duration": 12,
    "start_time": "2024-01-15T13:41:00.864Z"
   },
   {
    "duration": 6,
    "start_time": "2024-01-15T13:41:14.142Z"
   },
   {
    "duration": 8,
    "start_time": "2024-01-15T13:41:30.198Z"
   },
   {
    "duration": 7,
    "start_time": "2024-01-15T13:41:35.711Z"
   },
   {
    "duration": 12,
    "start_time": "2024-01-15T13:41:39.040Z"
   },
   {
    "duration": 7,
    "start_time": "2024-01-15T13:41:50.446Z"
   },
   {
    "duration": 17,
    "start_time": "2024-01-15T13:41:51.668Z"
   },
   {
    "duration": 152,
    "start_time": "2024-01-15T13:41:55.620Z"
   },
   {
    "duration": 7,
    "start_time": "2024-01-15T13:43:32.781Z"
   },
   {
    "duration": 149,
    "start_time": "2024-01-15T13:43:34.019Z"
   },
   {
    "duration": 8,
    "start_time": "2024-01-15T13:43:45.051Z"
   },
   {
    "duration": 158,
    "start_time": "2024-01-15T13:43:46.193Z"
   },
   {
    "duration": 152,
    "start_time": "2024-01-15T13:45:08.343Z"
   },
   {
    "duration": 190,
    "start_time": "2024-01-15T13:48:16.257Z"
   },
   {
    "duration": 108,
    "start_time": "2024-01-15T13:48:31.931Z"
   },
   {
    "duration": 192,
    "start_time": "2024-01-15T13:49:24.879Z"
   },
   {
    "duration": 190,
    "start_time": "2024-01-15T13:50:04.143Z"
   },
   {
    "duration": 281,
    "start_time": "2024-01-15T13:50:52.528Z"
   },
   {
    "duration": 108,
    "start_time": "2024-01-15T13:53:37.748Z"
   },
   {
    "duration": 3860,
    "start_time": "2024-01-15T13:53:56.180Z"
   },
   {
    "duration": 5,
    "start_time": "2024-01-15T13:54:14.755Z"
   },
   {
    "duration": 5,
    "start_time": "2024-01-15T13:54:30.459Z"
   },
   {
    "duration": 4,
    "start_time": "2024-01-15T13:54:32.723Z"
   },
   {
    "duration": 79,
    "start_time": "2024-01-15T13:55:22.080Z"
   },
   {
    "duration": 9,
    "start_time": "2024-01-15T13:55:25.641Z"
   },
   {
    "duration": 8,
    "start_time": "2024-01-15T13:55:31.239Z"
   },
   {
    "duration": 6,
    "start_time": "2024-01-15T13:55:49.365Z"
   },
   {
    "duration": 141,
    "start_time": "2024-01-15T13:55:50.555Z"
   },
   {
    "duration": 7,
    "start_time": "2024-01-15T13:57:01.291Z"
   },
   {
    "duration": 140,
    "start_time": "2024-01-15T13:57:05.210Z"
   },
   {
    "duration": 6,
    "start_time": "2024-01-15T13:58:58.410Z"
   },
   {
    "duration": 144,
    "start_time": "2024-01-15T13:59:00.576Z"
   },
   {
    "duration": 146,
    "start_time": "2024-01-15T13:59:28.504Z"
   },
   {
    "duration": 12,
    "start_time": "2024-01-15T14:06:11.099Z"
   },
   {
    "duration": 7,
    "start_time": "2024-01-15T14:06:14.381Z"
   },
   {
    "duration": 18,
    "start_time": "2024-01-15T14:06:17.485Z"
   },
   {
    "duration": 22,
    "start_time": "2024-01-15T14:07:26.577Z"
   },
   {
    "duration": 17,
    "start_time": "2024-01-15T14:07:38.175Z"
   },
   {
    "duration": 26,
    "start_time": "2024-01-15T14:07:43.469Z"
   },
   {
    "duration": 6,
    "start_time": "2024-01-15T14:07:55.642Z"
   },
   {
    "duration": 5,
    "start_time": "2024-01-15T14:09:43.720Z"
   },
   {
    "duration": 6,
    "start_time": "2024-01-15T14:10:19.233Z"
   },
   {
    "duration": 176,
    "start_time": "2024-01-15T14:10:50.320Z"
   },
   {
    "duration": 10,
    "start_time": "2024-01-15T14:11:02.418Z"
   },
   {
    "duration": 5,
    "start_time": "2024-01-15T14:11:07.246Z"
   },
   {
    "duration": 11,
    "start_time": "2024-01-15T14:14:35.020Z"
   },
   {
    "duration": 12,
    "start_time": "2024-01-15T14:14:38.551Z"
   },
   {
    "duration": 342,
    "start_time": "2024-01-15T14:14:39.763Z"
   },
   {
    "duration": 8,
    "start_time": "2024-01-15T14:16:44.278Z"
   },
   {
    "duration": 5,
    "start_time": "2024-01-15T14:17:59.951Z"
   },
   {
    "duration": 10,
    "start_time": "2024-01-15T14:18:02.742Z"
   },
   {
    "duration": 6,
    "start_time": "2024-01-15T14:18:09.478Z"
   },
   {
    "duration": 143,
    "start_time": "2024-01-15T14:18:44.582Z"
   },
   {
    "duration": 145,
    "start_time": "2024-01-15T14:18:48.007Z"
   },
   {
    "duration": 12,
    "start_time": "2024-01-15T14:20:44.254Z"
   },
   {
    "duration": 12,
    "start_time": "2024-01-15T14:20:50.294Z"
   },
   {
    "duration": 263,
    "start_time": "2024-01-15T14:21:31.226Z"
   },
   {
    "duration": 6,
    "start_time": "2024-01-15T14:24:57.559Z"
   },
   {
    "duration": 121,
    "start_time": "2024-01-15T14:25:27.227Z"
   },
   {
    "duration": 135,
    "start_time": "2024-01-15T14:25:43.565Z"
   },
   {
    "duration": 134,
    "start_time": "2024-01-15T14:25:48.942Z"
   },
   {
    "duration": 97,
    "start_time": "2024-01-15T14:25:54.606Z"
   },
   {
    "duration": 91,
    "start_time": "2024-01-15T14:25:56.991Z"
   },
   {
    "duration": 119,
    "start_time": "2024-01-15T14:25:59.158Z"
   },
   {
    "duration": 13,
    "start_time": "2024-01-15T14:28:39.950Z"
   },
   {
    "duration": 7,
    "start_time": "2024-01-15T14:28:51.922Z"
   },
   {
    "duration": 115,
    "start_time": "2024-01-15T14:28:53.043Z"
   },
   {
    "duration": 12,
    "start_time": "2024-01-15T14:29:08.620Z"
   },
   {
    "duration": 188,
    "start_time": "2024-01-15T14:29:41.049Z"
   },
   {
    "duration": 147,
    "start_time": "2024-01-15T14:30:31.569Z"
   },
   {
    "duration": 22,
    "start_time": "2024-01-15T14:45:56.389Z"
   },
   {
    "duration": 16,
    "start_time": "2024-01-15T14:46:22.699Z"
   },
   {
    "duration": 38,
    "start_time": "2024-01-15T14:46:26.651Z"
   },
   {
    "duration": 28,
    "start_time": "2024-01-15T14:47:31.410Z"
   },
   {
    "duration": 12,
    "start_time": "2024-01-15T14:49:13.879Z"
   },
   {
    "duration": 28,
    "start_time": "2024-01-15T14:49:17.445Z"
   },
   {
    "duration": 6,
    "start_time": "2024-01-15T14:49:24.239Z"
   },
   {
    "duration": 46,
    "start_time": "2024-01-15T14:49:49.229Z"
   },
   {
    "duration": 8,
    "start_time": "2024-01-15T14:49:54.382Z"
   },
   {
    "duration": 28,
    "start_time": "2024-01-15T14:49:58.103Z"
   },
   {
    "duration": 7,
    "start_time": "2024-01-15T14:50:06.311Z"
   },
   {
    "duration": 27,
    "start_time": "2024-01-15T14:50:09.821Z"
   },
   {
    "duration": 6,
    "start_time": "2024-01-15T14:50:14.901Z"
   },
   {
    "duration": 74,
    "start_time": "2024-01-15T14:54:54.560Z"
   },
   {
    "duration": 10,
    "start_time": "2024-01-15T14:56:25.486Z"
   },
   {
    "duration": 20,
    "start_time": "2024-01-15T14:56:28.606Z"
   },
   {
    "duration": 12,
    "start_time": "2024-01-15T14:56:43.919Z"
   },
   {
    "duration": 12,
    "start_time": "2024-01-15T14:56:52.096Z"
   },
   {
    "duration": 21,
    "start_time": "2024-01-15T14:56:56.954Z"
   },
   {
    "duration": 20,
    "start_time": "2024-01-15T14:57:12.334Z"
   },
   {
    "duration": 22,
    "start_time": "2024-01-15T14:57:24.821Z"
   },
   {
    "duration": 26,
    "start_time": "2024-01-15T14:57:29.855Z"
   },
   {
    "duration": 15,
    "start_time": "2024-01-15T14:58:19.874Z"
   },
   {
    "duration": 21,
    "start_time": "2024-01-15T14:58:27.196Z"
   },
   {
    "duration": 12,
    "start_time": "2024-01-15T14:58:53.316Z"
   },
   {
    "duration": 12,
    "start_time": "2024-01-15T14:59:00.965Z"
   },
   {
    "duration": 21,
    "start_time": "2024-01-15T14:59:03.930Z"
   },
   {
    "duration": 17,
    "start_time": "2024-01-15T14:59:26.588Z"
   },
   {
    "duration": 19,
    "start_time": "2024-01-15T15:01:26.451Z"
   },
   {
    "duration": 18,
    "start_time": "2024-01-15T15:01:50.690Z"
   },
   {
    "duration": 13,
    "start_time": "2024-01-15T15:05:40.386Z"
   },
   {
    "duration": 3,
    "start_time": "2024-01-15T15:07:32.276Z"
   },
   {
    "duration": 1043,
    "start_time": "2024-01-15T15:07:56.282Z"
   },
   {
    "duration": 3,
    "start_time": "2024-01-15T15:08:18.131Z"
   },
   {
    "duration": 1079,
    "start_time": "2024-01-15T15:08:19.401Z"
   },
   {
    "duration": 11,
    "start_time": "2024-01-15T15:10:29.067Z"
   },
   {
    "duration": 1575,
    "start_time": "2024-01-15T15:10:58.831Z"
   },
   {
    "duration": 23,
    "start_time": "2024-01-15T15:14:32.584Z"
   },
   {
    "duration": 1383,
    "start_time": "2024-01-15T15:14:44.666Z"
   },
   {
    "duration": 20,
    "start_time": "2024-01-15T15:14:53.329Z"
   },
   {
    "duration": 23,
    "start_time": "2024-01-15T15:15:47.585Z"
   },
   {
    "duration": 23,
    "start_time": "2024-01-15T15:16:00.134Z"
   },
   {
    "duration": 23,
    "start_time": "2024-01-15T15:16:03.361Z"
   },
   {
    "duration": 26,
    "start_time": "2024-01-15T15:16:07.159Z"
   },
   {
    "duration": 18,
    "start_time": "2024-01-15T15:16:13.623Z"
   },
   {
    "duration": 27,
    "start_time": "2024-01-15T15:16:52.845Z"
   },
   {
    "duration": 3,
    "start_time": "2024-01-15T15:18:12.201Z"
   },
   {
    "duration": 4,
    "start_time": "2024-01-15T15:18:21.617Z"
   },
   {
    "duration": 17,
    "start_time": "2024-01-15T15:18:36.917Z"
   },
   {
    "duration": 59,
    "start_time": "2024-01-15T15:20:00.090Z"
   },
   {
    "duration": 1209,
    "start_time": "2024-01-15T15:20:04.934Z"
   },
   {
    "duration": 513,
    "start_time": "2024-01-15T15:20:06.145Z"
   },
   {
    "duration": 11,
    "start_time": "2024-01-15T15:20:06.659Z"
   },
   {
    "duration": 8,
    "start_time": "2024-01-15T15:20:06.672Z"
   },
   {
    "duration": 18,
    "start_time": "2024-01-15T15:20:06.681Z"
   },
   {
    "duration": 16,
    "start_time": "2024-01-15T15:20:06.700Z"
   },
   {
    "duration": 22,
    "start_time": "2024-01-15T15:20:06.717Z"
   },
   {
    "duration": 18,
    "start_time": "2024-01-15T15:20:06.741Z"
   },
   {
    "duration": 22,
    "start_time": "2024-01-15T15:20:06.760Z"
   },
   {
    "duration": 43,
    "start_time": "2024-01-15T15:20:06.785Z"
   },
   {
    "duration": 27,
    "start_time": "2024-01-15T15:20:06.832Z"
   },
   {
    "duration": 27,
    "start_time": "2024-01-15T15:20:06.861Z"
   },
   {
    "duration": 14,
    "start_time": "2024-01-15T15:20:06.890Z"
   },
   {
    "duration": 6,
    "start_time": "2024-01-15T15:20:06.905Z"
   },
   {
    "duration": 14,
    "start_time": "2024-01-15T15:20:06.913Z"
   },
   {
    "duration": 16,
    "start_time": "2024-01-15T15:20:06.929Z"
   },
   {
    "duration": 26,
    "start_time": "2024-01-15T15:20:06.946Z"
   },
   {
    "duration": 13,
    "start_time": "2024-01-15T15:20:06.973Z"
   },
   {
    "duration": 15,
    "start_time": "2024-01-15T15:20:06.987Z"
   },
   {
    "duration": 21,
    "start_time": "2024-01-15T15:20:07.003Z"
   },
   {
    "duration": 202,
    "start_time": "2024-01-15T15:20:07.025Z"
   },
   {
    "duration": 11,
    "start_time": "2024-01-15T15:20:07.229Z"
   },
   {
    "duration": 17,
    "start_time": "2024-01-15T15:20:07.242Z"
   },
   {
    "duration": 279,
    "start_time": "2024-01-15T15:20:07.261Z"
   },
   {
    "duration": 287,
    "start_time": "2024-01-15T15:20:07.542Z"
   },
   {
    "duration": 166,
    "start_time": "2024-01-15T15:20:07.830Z"
   },
   {
    "duration": 6,
    "start_time": "2024-01-15T15:20:07.998Z"
   },
   {
    "duration": 25,
    "start_time": "2024-01-15T15:20:08.008Z"
   },
   {
    "duration": 340,
    "start_time": "2024-01-15T15:20:08.035Z"
   },
   {
    "duration": 12,
    "start_time": "2024-01-15T15:20:08.376Z"
   },
   {
    "duration": 227,
    "start_time": "2024-01-15T15:20:08.389Z"
   },
   {
    "duration": 312,
    "start_time": "2024-01-15T15:20:08.618Z"
   },
   {
    "duration": 6,
    "start_time": "2024-01-15T15:20:08.932Z"
   },
   {
    "duration": 94,
    "start_time": "2024-01-15T15:20:08.939Z"
   },
   {
    "duration": 40,
    "start_time": "2024-01-15T15:20:09.034Z"
   },
   {
    "duration": 201,
    "start_time": "2024-01-15T15:20:09.076Z"
   },
   {
    "duration": 7,
    "start_time": "2024-01-15T15:20:09.279Z"
   },
   {
    "duration": 173,
    "start_time": "2024-01-15T15:20:09.287Z"
   },
   {
    "duration": 12,
    "start_time": "2024-01-15T15:20:09.461Z"
   },
   {
    "duration": 467,
    "start_time": "2024-01-15T15:20:09.474Z"
   },
   {
    "duration": 11,
    "start_time": "2024-01-15T15:20:09.943Z"
   },
   {
    "duration": 453,
    "start_time": "2024-01-15T15:20:09.955Z"
   },
   {
    "duration": 9,
    "start_time": "2024-01-15T15:20:10.410Z"
   },
   {
    "duration": 232,
    "start_time": "2024-01-15T15:20:10.420Z"
   },
   {
    "duration": 242,
    "start_time": "2024-01-15T15:20:10.653Z"
   },
   {
    "duration": 7,
    "start_time": "2024-01-15T15:20:10.897Z"
   },
   {
    "duration": 163,
    "start_time": "2024-01-15T15:20:10.905Z"
   },
   {
    "duration": 237,
    "start_time": "2024-01-15T15:20:11.070Z"
   },
   {
    "duration": 4,
    "start_time": "2024-01-15T15:20:11.309Z"
   },
   {
    "duration": 23,
    "start_time": "2024-01-15T15:20:11.315Z"
   },
   {
    "duration": 17,
    "start_time": "2024-01-15T15:20:11.340Z"
   },
   {
    "duration": 254,
    "start_time": "2024-01-15T15:20:11.359Z"
   },
   {
    "duration": 12,
    "start_time": "2024-01-15T15:20:11.615Z"
   },
   {
    "duration": 350,
    "start_time": "2024-01-15T15:20:11.628Z"
   },
   {
    "duration": 5,
    "start_time": "2024-01-15T15:20:11.980Z"
   },
   {
    "duration": 160,
    "start_time": "2024-01-15T15:20:11.986Z"
   },
   {
    "duration": 20,
    "start_time": "2024-01-15T15:20:12.147Z"
   },
   {
    "duration": 265,
    "start_time": "2024-01-15T15:20:12.168Z"
   },
   {
    "duration": 6,
    "start_time": "2024-01-15T15:20:12.435Z"
   },
   {
    "duration": 145,
    "start_time": "2024-01-15T15:20:12.442Z"
   },
   {
    "duration": 11,
    "start_time": "2024-01-15T15:20:12.588Z"
   },
   {
    "duration": 232,
    "start_time": "2024-01-15T15:20:12.600Z"
   },
   {
    "duration": 36,
    "start_time": "2024-01-15T15:20:12.834Z"
   },
   {
    "duration": 10,
    "start_time": "2024-01-15T15:20:12.872Z"
   },
   {
    "duration": 27,
    "start_time": "2024-01-15T15:20:12.884Z"
   },
   {
    "duration": 40,
    "start_time": "2024-01-15T15:20:12.912Z"
   },
   {
    "duration": 5,
    "start_time": "2024-01-15T15:20:12.954Z"
   },
   {
    "duration": 48,
    "start_time": "2024-01-15T15:20:33.772Z"
   },
   {
    "duration": 1201,
    "start_time": "2024-01-15T15:20:40.576Z"
   },
   {
    "duration": 135,
    "start_time": "2024-01-15T15:20:41.779Z"
   },
   {
    "duration": 11,
    "start_time": "2024-01-15T15:20:41.915Z"
   },
   {
    "duration": 19,
    "start_time": "2024-01-15T15:20:41.928Z"
   },
   {
    "duration": 19,
    "start_time": "2024-01-15T15:20:41.949Z"
   },
   {
    "duration": 20,
    "start_time": "2024-01-15T15:20:41.970Z"
   },
   {
    "duration": 11,
    "start_time": "2024-01-15T15:20:41.992Z"
   },
   {
    "duration": 13,
    "start_time": "2024-01-15T15:20:42.005Z"
   },
   {
    "duration": 18,
    "start_time": "2024-01-15T15:20:42.020Z"
   },
   {
    "duration": 30,
    "start_time": "2024-01-15T15:20:42.040Z"
   },
   {
    "duration": 26,
    "start_time": "2024-01-15T15:20:42.072Z"
   },
   {
    "duration": 16,
    "start_time": "2024-01-15T15:20:42.100Z"
   },
   {
    "duration": 11,
    "start_time": "2024-01-15T15:20:42.118Z"
   },
   {
    "duration": 12,
    "start_time": "2024-01-15T15:20:42.130Z"
   },
   {
    "duration": 16,
    "start_time": "2024-01-15T15:20:42.143Z"
   },
   {
    "duration": 17,
    "start_time": "2024-01-15T15:20:42.161Z"
   },
   {
    "duration": 12,
    "start_time": "2024-01-15T15:20:42.180Z"
   },
   {
    "duration": 8,
    "start_time": "2024-01-15T15:20:42.194Z"
   },
   {
    "duration": 13,
    "start_time": "2024-01-15T15:20:42.204Z"
   },
   {
    "duration": 8,
    "start_time": "2024-01-15T15:20:42.219Z"
   },
   {
    "duration": 180,
    "start_time": "2024-01-15T15:20:42.229Z"
   },
   {
    "duration": 10,
    "start_time": "2024-01-15T15:20:42.411Z"
   },
   {
    "duration": 18,
    "start_time": "2024-01-15T15:20:42.423Z"
   },
   {
    "duration": 239,
    "start_time": "2024-01-15T15:20:42.443Z"
   },
   {
    "duration": 273,
    "start_time": "2024-01-15T15:20:42.684Z"
   },
   {
    "duration": 157,
    "start_time": "2024-01-15T15:20:42.966Z"
   },
   {
    "duration": 6,
    "start_time": "2024-01-15T15:20:43.124Z"
   },
   {
    "duration": 19,
    "start_time": "2024-01-15T15:20:43.133Z"
   },
   {
    "duration": 358,
    "start_time": "2024-01-15T15:20:43.154Z"
   },
   {
    "duration": 12,
    "start_time": "2024-01-15T15:20:43.513Z"
   },
   {
    "duration": 176,
    "start_time": "2024-01-15T15:20:43.526Z"
   },
   {
    "duration": 312,
    "start_time": "2024-01-15T15:20:43.703Z"
   },
   {
    "duration": 6,
    "start_time": "2024-01-15T15:20:44.016Z"
   },
   {
    "duration": 41,
    "start_time": "2024-01-15T15:20:44.023Z"
   },
   {
    "duration": 23,
    "start_time": "2024-01-15T15:20:44.066Z"
   },
   {
    "duration": 184,
    "start_time": "2024-01-15T15:20:44.091Z"
   },
   {
    "duration": 7,
    "start_time": "2024-01-15T15:20:44.276Z"
   },
   {
    "duration": 168,
    "start_time": "2024-01-15T15:20:44.284Z"
   },
   {
    "duration": 14,
    "start_time": "2024-01-15T15:20:44.453Z"
   },
   {
    "duration": 389,
    "start_time": "2024-01-15T15:20:44.468Z"
   },
   {
    "duration": 12,
    "start_time": "2024-01-15T15:20:44.858Z"
   },
   {
    "duration": 295,
    "start_time": "2024-01-15T15:20:44.872Z"
   },
   {
    "duration": 9,
    "start_time": "2024-01-15T15:20:45.169Z"
   },
   {
    "duration": 270,
    "start_time": "2024-01-15T15:20:45.180Z"
   },
   {
    "duration": 265,
    "start_time": "2024-01-15T15:20:45.451Z"
   },
   {
    "duration": 6,
    "start_time": "2024-01-15T15:20:45.718Z"
   },
   {
    "duration": 181,
    "start_time": "2024-01-15T15:20:45.726Z"
   },
   {
    "duration": 234,
    "start_time": "2024-01-15T15:20:45.909Z"
   },
   {
    "duration": 4,
    "start_time": "2024-01-15T15:20:46.145Z"
   },
   {
    "duration": 27,
    "start_time": "2024-01-15T15:20:46.151Z"
   },
   {
    "duration": 8,
    "start_time": "2024-01-15T15:20:46.180Z"
   },
   {
    "duration": 258,
    "start_time": "2024-01-15T15:20:46.189Z"
   },
   {
    "duration": 19,
    "start_time": "2024-01-15T15:20:46.448Z"
   },
   {
    "duration": 357,
    "start_time": "2024-01-15T15:20:46.468Z"
   },
   {
    "duration": 5,
    "start_time": "2024-01-15T15:20:46.827Z"
   },
   {
    "duration": 162,
    "start_time": "2024-01-15T15:20:46.833Z"
   },
   {
    "duration": 13,
    "start_time": "2024-01-15T15:20:46.997Z"
   },
   {
    "duration": 266,
    "start_time": "2024-01-15T15:20:47.011Z"
   },
   {
    "duration": 7,
    "start_time": "2024-01-15T15:20:47.279Z"
   },
   {
    "duration": 135,
    "start_time": "2024-01-15T15:20:47.287Z"
   },
   {
    "duration": 13,
    "start_time": "2024-01-15T15:20:47.424Z"
   },
   {
    "duration": 201,
    "start_time": "2024-01-15T15:20:47.438Z"
   },
   {
    "duration": 30,
    "start_time": "2024-01-15T15:20:47.641Z"
   },
   {
    "duration": 8,
    "start_time": "2024-01-15T15:20:47.672Z"
   },
   {
    "duration": 27,
    "start_time": "2024-01-15T15:20:47.681Z"
   },
   {
    "duration": 16,
    "start_time": "2024-01-15T15:20:47.710Z"
   },
   {
    "duration": 3,
    "start_time": "2024-01-15T15:20:47.727Z"
   },
   {
    "duration": 1098,
    "start_time": "2024-01-15T15:20:47.731Z"
   },
   {
    "duration": 20,
    "start_time": "2024-01-15T15:23:50.497Z"
   },
   {
    "duration": 43,
    "start_time": "2024-01-15T15:24:02.856Z"
   },
   {
    "duration": 36,
    "start_time": "2024-01-15T15:24:09.144Z"
   },
   {
    "duration": 56,
    "start_time": "2024-01-15T15:24:12.542Z"
   },
   {
    "duration": 34,
    "start_time": "2024-01-15T15:24:19.664Z"
   },
   {
    "duration": 3,
    "start_time": "2024-01-15T15:24:35.187Z"
   },
   {
    "duration": 2636,
    "start_time": "2024-01-15T15:24:41.300Z"
   },
   {
    "duration": 2386,
    "start_time": "2024-01-15T15:24:47.583Z"
   },
   {
    "duration": 42,
    "start_time": "2024-01-15T15:25:05.311Z"
   },
   {
    "duration": 34,
    "start_time": "2024-01-15T15:25:43.655Z"
   },
   {
    "duration": 7,
    "start_time": "2024-01-15T15:26:34.710Z"
   },
   {
    "duration": 26,
    "start_time": "2024-01-15T15:26:42.661Z"
   },
   {
    "duration": 21,
    "start_time": "2024-01-15T15:27:09.500Z"
   },
   {
    "duration": 21,
    "start_time": "2024-01-15T15:27:29.715Z"
   },
   {
    "duration": 21,
    "start_time": "2024-01-15T15:27:40.994Z"
   },
   {
    "duration": 13,
    "start_time": "2024-01-15T15:27:44.061Z"
   },
   {
    "duration": 11,
    "start_time": "2024-01-15T15:27:48.389Z"
   },
   {
    "duration": 12,
    "start_time": "2024-01-15T15:27:51.743Z"
   },
   {
    "duration": 34,
    "start_time": "2024-01-15T15:28:04.196Z"
   },
   {
    "duration": 4,
    "start_time": "2024-01-15T15:28:05.049Z"
   },
   {
    "duration": 2361,
    "start_time": "2024-01-15T15:28:05.441Z"
   },
   {
    "duration": 14,
    "start_time": "2024-01-15T15:28:07.804Z"
   },
   {
    "duration": 13,
    "start_time": "2024-01-15T15:28:34.107Z"
   },
   {
    "duration": 29,
    "start_time": "2024-01-15T15:28:53.302Z"
   },
   {
    "duration": 3,
    "start_time": "2024-01-15T15:28:54.011Z"
   },
   {
    "duration": 2327,
    "start_time": "2024-01-15T15:28:54.404Z"
   },
   {
    "duration": 13,
    "start_time": "2024-01-15T15:28:56.732Z"
   },
   {
    "duration": 26,
    "start_time": "2024-01-15T15:29:19.569Z"
   },
   {
    "duration": 3,
    "start_time": "2024-01-15T15:29:20.217Z"
   },
   {
    "duration": 2428,
    "start_time": "2024-01-15T15:29:20.664Z"
   },
   {
    "duration": 12,
    "start_time": "2024-01-15T15:29:23.094Z"
   },
   {
    "duration": 10,
    "start_time": "2024-01-15T15:29:34.619Z"
   },
   {
    "duration": 19,
    "start_time": "2024-01-15T15:29:37.745Z"
   },
   {
    "duration": 3,
    "start_time": "2024-01-15T15:31:08.394Z"
   },
   {
    "duration": 27,
    "start_time": "2024-01-15T15:31:13.954Z"
   },
   {
    "duration": 3,
    "start_time": "2024-01-15T15:31:15.292Z"
   },
   {
    "duration": 2974,
    "start_time": "2024-01-15T15:31:17.307Z"
   },
   {
    "duration": 15,
    "start_time": "2024-01-15T15:31:22.033Z"
   },
   {
    "duration": 15,
    "start_time": "2024-01-15T15:32:06.485Z"
   },
   {
    "duration": 94,
    "start_time": "2024-01-15T15:33:39.579Z"
   },
   {
    "duration": 4,
    "start_time": "2024-01-15T15:33:43.362Z"
   },
   {
    "duration": 3,
    "start_time": "2024-01-15T15:34:32.097Z"
   },
   {
    "duration": 4,
    "start_time": "2024-01-15T15:35:44.800Z"
   },
   {
    "duration": 27,
    "start_time": "2024-01-15T15:36:06.320Z"
   },
   {
    "duration": 24,
    "start_time": "2024-01-15T15:36:10.482Z"
   },
   {
    "duration": 27,
    "start_time": "2024-01-15T15:36:50.083Z"
   },
   {
    "duration": 16,
    "start_time": "2024-01-15T15:37:00.770Z"
   },
   {
    "duration": 71,
    "start_time": "2024-01-15T15:39:38.929Z"
   },
   {
    "duration": 81,
    "start_time": "2024-01-15T15:39:48.216Z"
   },
   {
    "duration": 3,
    "start_time": "2024-01-15T15:40:02.990Z"
   },
   {
    "duration": 2889,
    "start_time": "2024-01-15T15:40:06.431Z"
   },
   {
    "duration": 8,
    "start_time": "2024-01-15T15:40:11.028Z"
   },
   {
    "duration": 8,
    "start_time": "2024-01-15T15:40:12.362Z"
   },
   {
    "duration": 14,
    "start_time": "2024-01-15T15:40:18.171Z"
   },
   {
    "duration": 26,
    "start_time": "2024-01-15T15:40:21.698Z"
   },
   {
    "duration": 15,
    "start_time": "2024-01-15T15:40:23.204Z"
   },
   {
    "duration": 4,
    "start_time": "2024-01-15T15:41:06.656Z"
   },
   {
    "duration": 4,
    "start_time": "2024-01-15T15:41:15.255Z"
   },
   {
    "duration": 10,
    "start_time": "2024-01-15T15:41:32.088Z"
   },
   {
    "duration": 11,
    "start_time": "2024-01-15T15:41:35.855Z"
   },
   {
    "duration": 15,
    "start_time": "2024-01-15T15:41:39.099Z"
   },
   {
    "duration": 4,
    "start_time": "2024-01-15T15:41:49.306Z"
   },
   {
    "duration": 15,
    "start_time": "2024-01-15T15:42:11.679Z"
   },
   {
    "duration": 3,
    "start_time": "2024-01-15T15:42:53.022Z"
   },
   {
    "duration": 14,
    "start_time": "2024-01-15T15:43:08.111Z"
   },
   {
    "duration": 2911,
    "start_time": "2024-01-15T15:43:13.418Z"
   },
   {
    "duration": 14,
    "start_time": "2024-01-15T15:43:17.041Z"
   },
   {
    "duration": 3,
    "start_time": "2024-01-15T15:43:30.300Z"
   },
   {
    "duration": 14,
    "start_time": "2024-01-15T15:43:46.972Z"
   },
   {
    "duration": 4,
    "start_time": "2024-01-15T15:44:12.860Z"
   },
   {
    "duration": 16,
    "start_time": "2024-01-15T15:44:18.971Z"
   },
   {
    "duration": 3,
    "start_time": "2024-01-15T15:44:34.700Z"
   },
   {
    "duration": 27,
    "start_time": "2024-01-15T15:44:49.219Z"
   },
   {
    "duration": 3,
    "start_time": "2024-01-15T15:44:50.124Z"
   },
   {
    "duration": 2774,
    "start_time": "2024-01-15T15:44:50.587Z"
   },
   {
    "duration": 15,
    "start_time": "2024-01-15T15:44:53.363Z"
   },
   {
    "duration": 9,
    "start_time": "2024-01-15T15:44:55.013Z"
   },
   {
    "duration": 4,
    "start_time": "2024-01-15T16:36:23.907Z"
   },
   {
    "duration": 4,
    "start_time": "2024-01-15T16:36:53.443Z"
   },
   {
    "duration": 7,
    "start_time": "2024-01-15T16:41:06.674Z"
   },
   {
    "duration": 8,
    "start_time": "2024-01-15T16:41:53.559Z"
   },
   {
    "duration": 7,
    "start_time": "2024-01-15T16:42:01.024Z"
   },
   {
    "duration": 4,
    "start_time": "2024-01-15T16:42:18.193Z"
   },
   {
    "duration": 15,
    "start_time": "2024-01-15T16:42:48.948Z"
   },
   {
    "duration": 6,
    "start_time": "2024-01-15T16:42:57.067Z"
   },
   {
    "duration": 23,
    "start_time": "2024-01-15T16:45:03.243Z"
   },
   {
    "duration": 8,
    "start_time": "2024-01-15T16:45:18.774Z"
   },
   {
    "duration": 8,
    "start_time": "2024-01-15T16:45:21.139Z"
   },
   {
    "duration": 6,
    "start_time": "2024-01-15T16:45:30.907Z"
   },
   {
    "duration": 6,
    "start_time": "2024-01-15T16:45:33.090Z"
   },
   {
    "duration": 7,
    "start_time": "2024-01-15T16:46:15.103Z"
   },
   {
    "duration": 4,
    "start_time": "2024-01-15T16:49:03.773Z"
   },
   {
    "duration": 4,
    "start_time": "2024-01-15T16:49:23.818Z"
   },
   {
    "duration": 4,
    "start_time": "2024-01-15T16:49:26.637Z"
   },
   {
    "duration": 5,
    "start_time": "2024-01-15T16:49:48.574Z"
   },
   {
    "duration": 6,
    "start_time": "2024-01-15T16:51:56.959Z"
   },
   {
    "duration": 5,
    "start_time": "2024-01-15T17:02:24.735Z"
   },
   {
    "duration": 6,
    "start_time": "2024-01-15T17:02:32.111Z"
   },
   {
    "duration": 6,
    "start_time": "2024-01-15T17:04:16.788Z"
   },
   {
    "duration": 4,
    "start_time": "2024-01-15T17:04:28.572Z"
   },
   {
    "duration": 5,
    "start_time": "2024-01-15T17:04:42.276Z"
   },
   {
    "duration": 5,
    "start_time": "2024-01-15T17:04:56.437Z"
   },
   {
    "duration": 5,
    "start_time": "2024-01-15T17:06:04.668Z"
   },
   {
    "duration": 5,
    "start_time": "2024-01-15T17:06:25.827Z"
   },
   {
    "duration": 12,
    "start_time": "2024-01-15T17:06:45.746Z"
   },
   {
    "duration": 5,
    "start_time": "2024-01-15T17:06:52.163Z"
   },
   {
    "duration": 30,
    "start_time": "2024-01-15T17:14:25.700Z"
   },
   {
    "duration": 4,
    "start_time": "2024-01-15T17:14:27.616Z"
   },
   {
    "duration": 2900,
    "start_time": "2024-01-15T17:14:29.023Z"
   },
   {
    "duration": 10,
    "start_time": "2024-01-15T17:14:31.925Z"
   },
   {
    "duration": 6,
    "start_time": "2024-01-15T17:25:17.734Z"
   },
   {
    "duration": 5,
    "start_time": "2024-01-15T17:25:27.564Z"
   },
   {
    "duration": 76,
    "start_time": "2024-01-15T17:25:42.785Z"
   },
   {
    "duration": 5,
    "start_time": "2024-01-15T17:25:49.873Z"
   },
   {
    "duration": 10,
    "start_time": "2024-01-15T17:27:36.081Z"
   },
   {
    "duration": 11,
    "start_time": "2024-01-15T17:27:51.715Z"
   },
   {
    "duration": 11,
    "start_time": "2024-01-15T17:29:24.562Z"
   },
   {
    "duration": 10,
    "start_time": "2024-01-15T17:29:43.994Z"
   },
   {
    "duration": 11,
    "start_time": "2024-01-15T17:29:47.416Z"
   },
   {
    "duration": 164,
    "start_time": "2024-01-15T17:49:44.044Z"
   },
   {
    "duration": 147,
    "start_time": "2024-01-15T17:51:29.688Z"
   },
   {
    "duration": 71,
    "start_time": "2024-01-15T17:53:20.720Z"
   },
   {
    "duration": 222,
    "start_time": "2024-01-15T17:53:31.570Z"
   },
   {
    "duration": 1481,
    "start_time": "2024-01-15T17:56:14.618Z"
   },
   {
    "duration": 227,
    "start_time": "2024-01-15T17:56:54.155Z"
   },
   {
    "duration": 26,
    "start_time": "2024-01-15T17:57:17.809Z"
   },
   {
    "duration": 232,
    "start_time": "2024-01-15T17:57:28.654Z"
   },
   {
    "duration": 238,
    "start_time": "2024-01-15T17:57:36.454Z"
   },
   {
    "duration": 241,
    "start_time": "2024-01-15T17:57:40.501Z"
   },
   {
    "duration": 878,
    "start_time": "2024-01-15T17:58:06.828Z"
   },
   {
    "duration": 1581,
    "start_time": "2024-01-15T17:58:20.111Z"
   },
   {
    "duration": 1627,
    "start_time": "2024-01-15T17:58:26.908Z"
   },
   {
    "duration": 1599,
    "start_time": "2024-01-15T17:58:37.939Z"
   },
   {
    "duration": 1548,
    "start_time": "2024-01-15T17:58:46.980Z"
   },
   {
    "duration": 1463,
    "start_time": "2024-01-15T17:59:53.289Z"
   },
   {
    "duration": 1471,
    "start_time": "2024-01-15T18:00:26.922Z"
   },
   {
    "duration": 1479,
    "start_time": "2024-01-15T18:00:34.625Z"
   },
   {
    "duration": 1418,
    "start_time": "2024-01-15T18:00:42.728Z"
   },
   {
    "duration": 1886,
    "start_time": "2024-01-15T18:00:54.480Z"
   },
   {
    "duration": 1934,
    "start_time": "2024-01-15T18:01:32.635Z"
   },
   {
    "duration": 1799,
    "start_time": "2024-01-15T18:01:46.216Z"
   },
   {
    "duration": 2160,
    "start_time": "2024-01-15T18:02:38.441Z"
   },
   {
    "duration": 529,
    "start_time": "2024-01-15T18:05:28.631Z"
   },
   {
    "duration": 509,
    "start_time": "2024-01-15T18:05:42.243Z"
   },
   {
    "duration": 501,
    "start_time": "2024-01-15T18:06:22.440Z"
   },
   {
    "duration": 837,
    "start_time": "2024-01-15T18:06:28.832Z"
   },
   {
    "duration": 1425,
    "start_time": "2024-01-15T18:06:38.046Z"
   },
   {
    "duration": 475,
    "start_time": "2024-01-15T18:06:45.482Z"
   },
   {
    "duration": 1697,
    "start_time": "2024-01-15T18:06:53.019Z"
   },
   {
    "duration": 1818,
    "start_time": "2024-01-15T18:07:02.577Z"
   },
   {
    "duration": 1715,
    "start_time": "2024-01-15T18:07:09.218Z"
   },
   {
    "duration": 1545,
    "start_time": "2024-01-15T18:07:45.409Z"
   },
   {
    "duration": 1613,
    "start_time": "2024-01-15T18:08:03.816Z"
   },
   {
    "duration": 1761,
    "start_time": "2024-01-15T18:08:38.841Z"
   },
   {
    "duration": 1938,
    "start_time": "2024-01-15T18:08:57.593Z"
   },
   {
    "duration": 1842,
    "start_time": "2024-01-15T18:09:04.145Z"
   },
   {
    "duration": 1888,
    "start_time": "2024-01-15T18:09:11.514Z"
   },
   {
    "duration": 1179,
    "start_time": "2024-01-15T18:10:18.855Z"
   },
   {
    "duration": 1611,
    "start_time": "2024-01-15T18:10:29.535Z"
   },
   {
    "duration": 1778,
    "start_time": "2024-01-15T18:10:36.366Z"
   },
   {
    "duration": 1886,
    "start_time": "2024-01-15T18:10:42.452Z"
   },
   {
    "duration": 2146,
    "start_time": "2024-01-15T18:11:04.788Z"
   },
   {
    "duration": 2261,
    "start_time": "2024-01-15T18:12:25.206Z"
   },
   {
    "duration": 2122,
    "start_time": "2024-01-15T18:12:35.140Z"
   },
   {
    "duration": 5,
    "start_time": "2024-01-15T18:17:04.487Z"
   },
   {
    "duration": 369,
    "start_time": "2024-01-15T18:17:12.741Z"
   },
   {
    "duration": 4,
    "start_time": "2024-01-15T18:17:55.246Z"
   },
   {
    "duration": 5,
    "start_time": "2024-01-15T18:19:19.379Z"
   },
   {
    "duration": 4,
    "start_time": "2024-01-15T18:21:03.121Z"
   },
   {
    "duration": 398,
    "start_time": "2024-01-15T18:21:14.625Z"
   },
   {
    "duration": 4,
    "start_time": "2024-01-15T18:21:27.146Z"
   },
   {
    "duration": 4,
    "start_time": "2024-01-15T18:21:38.145Z"
   },
   {
    "duration": 680,
    "start_time": "2024-01-15T18:21:58.618Z"
   },
   {
    "duration": 435,
    "start_time": "2024-01-15T18:22:08.079Z"
   },
   {
    "duration": 12,
    "start_time": "2024-01-15T18:24:17.282Z"
   },
   {
    "duration": 4,
    "start_time": "2024-01-15T18:24:24.601Z"
   },
   {
    "duration": 415,
    "start_time": "2024-01-15T18:25:02.434Z"
   },
   {
    "duration": 418,
    "start_time": "2024-01-15T18:25:06.808Z"
   },
   {
    "duration": 4,
    "start_time": "2024-01-15T18:25:34.600Z"
   },
   {
    "duration": 5,
    "start_time": "2024-01-15T18:25:38.680Z"
   },
   {
    "duration": 1268,
    "start_time": "2024-01-15T18:26:00.462Z"
   },
   {
    "duration": 998,
    "start_time": "2024-01-15T18:26:06.221Z"
   },
   {
    "duration": 5,
    "start_time": "2024-01-15T18:26:22.199Z"
   },
   {
    "duration": 4,
    "start_time": "2024-01-15T18:26:33.735Z"
   },
   {
    "duration": 4,
    "start_time": "2024-01-15T18:26:40.407Z"
   },
   {
    "duration": 2079,
    "start_time": "2024-01-15T18:26:58.509Z"
   },
   {
    "duration": 4,
    "start_time": "2024-01-15T18:27:29.498Z"
   },
   {
    "duration": 5,
    "start_time": "2024-01-15T18:27:54.684Z"
   },
   {
    "duration": 4,
    "start_time": "2024-01-15T18:28:00.090Z"
   },
   {
    "duration": 1877,
    "start_time": "2024-01-15T18:28:50.461Z"
   },
   {
    "duration": 1652,
    "start_time": "2024-01-15T18:29:13.322Z"
   },
   {
    "duration": 3,
    "start_time": "2024-01-15T18:29:37.301Z"
   },
   {
    "duration": 15867,
    "start_time": "2024-01-15T18:30:10.835Z"
   },
   {
    "duration": 3,
    "start_time": "2024-01-15T18:30:26.704Z"
   },
   {
    "duration": 4,
    "start_time": "2024-01-15T18:30:39.441Z"
   },
   {
    "duration": 5,
    "start_time": "2024-01-15T18:30:46.728Z"
   },
   {
    "duration": 4,
    "start_time": "2024-01-15T18:31:01.513Z"
   },
   {
    "duration": 6,
    "start_time": "2024-01-15T18:31:07.370Z"
   },
   {
    "duration": 5,
    "start_time": "2024-01-15T18:31:12.177Z"
   },
   {
    "duration": 4395,
    "start_time": "2024-01-15T18:31:13.945Z"
   },
   {
    "duration": 4,
    "start_time": "2024-01-15T18:31:18.342Z"
   },
   {
    "duration": 4,
    "start_time": "2024-01-15T18:31:23.912Z"
   },
   {
    "duration": 2758,
    "start_time": "2024-01-15T18:31:25.088Z"
   },
   {
    "duration": 4,
    "start_time": "2024-01-15T18:31:33.191Z"
   },
   {
    "duration": 4,
    "start_time": "2024-01-15T18:31:37.385Z"
   },
   {
    "duration": 4,
    "start_time": "2024-01-15T18:31:42.201Z"
   },
   {
    "duration": 2058,
    "start_time": "2024-01-15T18:31:43.551Z"
   },
   {
    "duration": 5,
    "start_time": "2024-01-15T18:31:50.133Z"
   },
   {
    "duration": 4,
    "start_time": "2024-01-15T18:31:52.822Z"
   },
   {
    "duration": 5,
    "start_time": "2024-01-15T18:31:56.109Z"
   },
   {
    "duration": 4,
    "start_time": "2024-01-15T18:31:59.174Z"
   },
   {
    "duration": 5,
    "start_time": "2024-01-15T18:32:06.325Z"
   },
   {
    "duration": 5,
    "start_time": "2024-01-15T18:32:08.981Z"
   },
   {
    "duration": 4,
    "start_time": "2024-01-15T18:32:16.801Z"
   },
   {
    "duration": 1946,
    "start_time": "2024-01-15T18:32:18.414Z"
   },
   {
    "duration": 1481,
    "start_time": "2024-01-17T16:20:28.003Z"
   },
   {
    "duration": 260,
    "start_time": "2024-01-17T16:20:29.486Z"
   },
   {
    "duration": 12,
    "start_time": "2024-01-17T16:20:29.747Z"
   },
   {
    "duration": 8,
    "start_time": "2024-01-17T16:20:29.762Z"
   },
   {
    "duration": 8,
    "start_time": "2024-01-17T16:20:29.772Z"
   },
   {
    "duration": 8,
    "start_time": "2024-01-17T16:20:29.781Z"
   },
   {
    "duration": 9,
    "start_time": "2024-01-17T16:20:29.790Z"
   },
   {
    "duration": 38,
    "start_time": "2024-01-17T16:20:29.800Z"
   },
   {
    "duration": 20,
    "start_time": "2024-01-17T16:20:29.839Z"
   },
   {
    "duration": 11,
    "start_time": "2024-01-17T16:20:29.862Z"
   },
   {
    "duration": 21,
    "start_time": "2024-01-17T16:20:29.875Z"
   },
   {
    "duration": 8,
    "start_time": "2024-01-17T16:20:29.898Z"
   },
   {
    "duration": 23,
    "start_time": "2024-01-17T16:20:29.907Z"
   },
   {
    "duration": 10,
    "start_time": "2024-01-17T16:20:29.932Z"
   },
   {
    "duration": 30,
    "start_time": "2024-01-17T16:20:29.943Z"
   },
   {
    "duration": 20,
    "start_time": "2024-01-17T16:20:29.975Z"
   },
   {
    "duration": 12,
    "start_time": "2024-01-17T16:20:29.997Z"
   },
   {
    "duration": 55,
    "start_time": "2024-01-17T16:20:30.010Z"
   },
   {
    "duration": 105,
    "start_time": "2024-01-17T16:20:30.067Z"
   },
   {
    "duration": 154,
    "start_time": "2024-01-17T16:20:30.174Z"
   },
   {
    "duration": 423,
    "start_time": "2024-01-17T16:20:30.330Z"
   },
   {
    "duration": 345,
    "start_time": "2024-01-17T16:20:30.755Z"
   },
   {
    "duration": 424,
    "start_time": "2024-01-17T16:20:31.102Z"
   },
   {
    "duration": 274,
    "start_time": "2024-01-17T16:20:31.527Z"
   },
   {
    "duration": 296,
    "start_time": "2024-01-17T16:20:31.803Z"
   },
   {
    "duration": 179,
    "start_time": "2024-01-17T16:20:32.100Z"
   },
   {
    "duration": 6,
    "start_time": "2024-01-17T16:20:32.281Z"
   },
   {
    "duration": 12,
    "start_time": "2024-01-17T16:20:32.292Z"
   },
   {
    "duration": 387,
    "start_time": "2024-01-17T16:20:32.305Z"
   },
   {
    "duration": 12,
    "start_time": "2024-01-17T16:20:32.693Z"
   },
   {
    "duration": 202,
    "start_time": "2024-01-17T16:20:32.706Z"
   },
   {
    "duration": 334,
    "start_time": "2024-01-17T16:20:32.910Z"
   },
   {
    "duration": 7,
    "start_time": "2024-01-17T16:20:33.246Z"
   },
   {
    "duration": 9,
    "start_time": "2024-01-17T16:20:33.255Z"
   },
   {
    "duration": 6,
    "start_time": "2024-01-17T16:20:33.266Z"
   },
   {
    "duration": 214,
    "start_time": "2024-01-17T16:20:33.274Z"
   },
   {
    "duration": 8,
    "start_time": "2024-01-17T16:20:33.490Z"
   },
   {
    "duration": 180,
    "start_time": "2024-01-17T16:20:33.500Z"
   },
   {
    "duration": 11,
    "start_time": "2024-01-17T16:20:33.681Z"
   },
   {
    "duration": 437,
    "start_time": "2024-01-17T16:20:33.694Z"
   },
   {
    "duration": 13,
    "start_time": "2024-01-17T16:20:34.133Z"
   },
   {
    "duration": 303,
    "start_time": "2024-01-17T16:20:34.147Z"
   },
   {
    "duration": 10,
    "start_time": "2024-01-17T16:20:34.452Z"
   },
   {
    "duration": 240,
    "start_time": "2024-01-17T16:20:34.464Z"
   },
   {
    "duration": 293,
    "start_time": "2024-01-17T16:20:34.706Z"
   },
   {
    "duration": 8,
    "start_time": "2024-01-17T16:20:35.000Z"
   },
   {
    "duration": 186,
    "start_time": "2024-01-17T16:20:35.010Z"
   },
   {
    "duration": 268,
    "start_time": "2024-01-17T16:20:35.198Z"
   },
   {
    "duration": 6,
    "start_time": "2024-01-17T16:20:35.468Z"
   },
   {
    "duration": 20,
    "start_time": "2024-01-17T16:20:35.476Z"
   },
   {
    "duration": 12,
    "start_time": "2024-01-17T16:20:35.498Z"
   },
   {
    "duration": 277,
    "start_time": "2024-01-17T16:20:35.512Z"
   },
   {
    "duration": 14,
    "start_time": "2024-01-17T16:20:35.791Z"
   },
   {
    "duration": 392,
    "start_time": "2024-01-17T16:20:35.807Z"
   },
   {
    "duration": 6,
    "start_time": "2024-01-17T16:20:36.201Z"
   },
   {
    "duration": 183,
    "start_time": "2024-01-17T16:20:36.208Z"
   },
   {
    "duration": 14,
    "start_time": "2024-01-17T16:20:36.393Z"
   },
   {
    "duration": 300,
    "start_time": "2024-01-17T16:20:36.408Z"
   },
   {
    "duration": 14,
    "start_time": "2024-01-17T16:20:36.709Z"
   },
   {
    "duration": 129,
    "start_time": "2024-01-17T16:20:36.725Z"
   },
   {
    "duration": 12,
    "start_time": "2024-01-17T16:20:36.856Z"
   },
   {
    "duration": 225,
    "start_time": "2024-01-17T16:20:36.870Z"
   },
   {
    "duration": 33,
    "start_time": "2024-01-17T16:20:37.097Z"
   },
   {
    "duration": 186,
    "start_time": "2024-01-17T16:20:37.131Z"
   },
   {
    "duration": 7,
    "start_time": "2024-01-17T16:20:37.319Z"
   },
   {
    "duration": 59,
    "start_time": "2024-01-17T16:20:37.327Z"
   },
   {
    "duration": 3,
    "start_time": "2024-01-17T16:20:37.388Z"
   },
   {
    "duration": 3264,
    "start_time": "2024-01-17T16:20:37.392Z"
   },
   {
    "duration": 12,
    "start_time": "2024-01-17T16:20:40.658Z"
   },
   {
    "duration": 22,
    "start_time": "2024-01-17T16:20:40.672Z"
   },
   {
    "duration": 8,
    "start_time": "2024-01-17T16:20:40.696Z"
   },
   {
    "duration": 12,
    "start_time": "2024-01-17T16:20:40.705Z"
   },
   {
    "duration": 26,
    "start_time": "2024-01-17T16:20:40.724Z"
   },
   {
    "duration": 7,
    "start_time": "2024-01-17T16:20:40.752Z"
   },
   {
    "duration": 461,
    "start_time": "2024-01-17T16:20:40.760Z"
   },
   {
    "duration": 4,
    "start_time": "2024-01-17T16:20:41.223Z"
   },
   {
    "duration": 1074,
    "start_time": "2024-01-17T16:20:41.229Z"
   },
   {
    "duration": 4,
    "start_time": "2024-01-17T16:20:42.305Z"
   },
   {
    "duration": 1827,
    "start_time": "2024-01-17T16:20:42.311Z"
   },
   {
    "duration": 5,
    "start_time": "2024-01-17T16:20:44.141Z"
   },
   {
    "duration": 16,
    "start_time": "2024-01-17T16:20:44.147Z"
   },
   {
    "duration": 2079,
    "start_time": "2024-01-17T16:20:44.169Z"
   },
   {
    "duration": 5,
    "start_time": "2024-01-17T16:20:46.251Z"
   },
   {
    "duration": 5,
    "start_time": "2024-01-17T16:53:18.753Z"
   },
   {
    "duration": 932,
    "start_time": "2024-01-17T16:53:21.425Z"
   },
   {
    "duration": 4,
    "start_time": "2024-01-17T16:54:29.135Z"
   },
   {
    "duration": 1496,
    "start_time": "2024-01-17T16:54:31.046Z"
   },
   {
    "duration": 4,
    "start_time": "2024-01-17T16:54:37.853Z"
   },
   {
    "duration": 4,
    "start_time": "2024-01-17T16:54:42.270Z"
   },
   {
    "duration": 4,
    "start_time": "2024-01-17T16:55:28.010Z"
   },
   {
    "duration": 703,
    "start_time": "2024-01-17T16:55:49.485Z"
   },
   {
    "duration": 5,
    "start_time": "2024-01-17T16:55:53.107Z"
   },
   {
    "duration": 1823,
    "start_time": "2024-01-17T16:55:54.875Z"
   },
   {
    "duration": 5,
    "start_time": "2024-01-17T16:58:35.433Z"
   },
   {
    "duration": 2088,
    "start_time": "2024-01-17T16:58:37.937Z"
   },
   {
    "duration": 5,
    "start_time": "2024-01-17T16:59:23.466Z"
   },
   {
    "duration": 4,
    "start_time": "2024-01-17T16:59:33.826Z"
   },
   {
    "duration": 104,
    "start_time": "2024-01-17T17:12:53.546Z"
   },
   {
    "duration": 3,
    "start_time": "2024-01-17T17:13:11.033Z"
   },
   {
    "duration": 5,
    "start_time": "2024-01-17T17:13:16.368Z"
   },
   {
    "duration": 6,
    "start_time": "2024-01-17T17:13:31.946Z"
   },
   {
    "duration": 6,
    "start_time": "2024-01-17T17:13:37.601Z"
   },
   {
    "duration": 8,
    "start_time": "2024-01-17T17:14:23.515Z"
   },
   {
    "duration": 9,
    "start_time": "2024-01-17T17:14:36.202Z"
   },
   {
    "duration": 4,
    "start_time": "2024-01-17T17:14:47.491Z"
   },
   {
    "duration": 12,
    "start_time": "2024-01-17T17:15:49.434Z"
   },
   {
    "duration": 10,
    "start_time": "2024-01-17T17:15:58.723Z"
   },
   {
    "duration": 10,
    "start_time": "2024-01-17T17:16:31.706Z"
   },
   {
    "duration": 16,
    "start_time": "2024-01-17T17:16:56.227Z"
   },
   {
    "duration": 114,
    "start_time": "2024-01-17T17:17:23.690Z"
   },
   {
    "duration": 36134,
    "start_time": "2024-01-17T17:17:37.172Z"
   },
   {
    "duration": 36800,
    "start_time": "2024-01-17T17:18:51.642Z"
   },
   {
    "duration": 112,
    "start_time": "2024-01-17T17:20:01.232Z"
   },
   {
    "duration": 118,
    "start_time": "2024-01-17T17:20:04.155Z"
   },
   {
    "duration": 136,
    "start_time": "2024-01-17T17:20:10.724Z"
   },
   {
    "duration": 214,
    "start_time": "2024-01-17T17:20:24.620Z"
   },
   {
    "duration": 211,
    "start_time": "2024-01-17T17:20:40.733Z"
   },
   {
    "duration": 5,
    "start_time": "2024-01-17T17:20:44.536Z"
   },
   {
    "duration": 36016,
    "start_time": "2024-01-17T17:20:46.091Z"
   },
   {
    "duration": 36104,
    "start_time": "2024-01-17T17:22:41.836Z"
   },
   {
    "duration": 280,
    "start_time": "2024-01-17T17:26:50.656Z"
   },
   {
    "duration": 2877,
    "start_time": "2024-01-17T17:26:58.048Z"
   },
   {
    "duration": 117,
    "start_time": "2024-01-17T17:31:33.576Z"
   },
   {
    "duration": 145,
    "start_time": "2024-01-17T17:31:49.383Z"
   },
   {
    "duration": 37096,
    "start_time": "2024-01-17T17:31:55.423Z"
   },
   {
    "duration": 32461,
    "start_time": "2024-01-17T17:32:42.053Z"
   },
   {
    "duration": 37152,
    "start_time": "2024-01-17T17:33:52.153Z"
   },
   {
    "duration": 38349,
    "start_time": "2024-01-17T17:34:52.194Z"
   },
   {
    "duration": 10,
    "start_time": "2024-01-17T17:37:03.032Z"
   },
   {
    "duration": 194,
    "start_time": "2024-01-17T17:37:13.360Z"
   },
   {
    "duration": 11,
    "start_time": "2024-01-17T17:38:11.010Z"
   },
   {
    "duration": 4653,
    "start_time": "2024-01-17T17:38:19.729Z"
   },
   {
    "duration": 4966,
    "start_time": "2024-01-17T17:40:06.131Z"
   },
   {
    "duration": 6,
    "start_time": "2024-01-17T17:40:30.193Z"
   },
   {
    "duration": 4594,
    "start_time": "2024-01-17T17:40:31.607Z"
   },
   {
    "duration": 4596,
    "start_time": "2024-01-17T17:40:37.022Z"
   },
   {
    "duration": 4528,
    "start_time": "2024-01-17T17:41:47.332Z"
   },
   {
    "duration": 10,
    "start_time": "2024-01-17T17:45:19.395Z"
   },
   {
    "duration": 175,
    "start_time": "2024-01-17T17:45:28.043Z"
   },
   {
    "duration": 14,
    "start_time": "2024-01-17T17:45:33.015Z"
   },
   {
    "duration": 118,
    "start_time": "2024-01-17T17:45:41.475Z"
   },
   {
    "duration": 183,
    "start_time": "2024-01-17T17:45:55.269Z"
   },
   {
    "duration": 5,
    "start_time": "2024-01-17T17:46:28.634Z"
   },
   {
    "duration": 1441,
    "start_time": "2024-01-19T13:11:06.189Z"
   },
   {
    "duration": 265,
    "start_time": "2024-01-19T13:11:07.632Z"
   },
   {
    "duration": 12,
    "start_time": "2024-01-19T13:11:07.899Z"
   },
   {
    "duration": 17,
    "start_time": "2024-01-19T13:11:07.914Z"
   },
   {
    "duration": 9,
    "start_time": "2024-01-19T13:11:07.933Z"
   },
   {
    "duration": 7,
    "start_time": "2024-01-19T13:11:07.944Z"
   },
   {
    "duration": 8,
    "start_time": "2024-01-19T13:11:07.952Z"
   },
   {
    "duration": 12,
    "start_time": "2024-01-19T13:11:07.962Z"
   },
   {
    "duration": 7,
    "start_time": "2024-01-19T13:11:07.976Z"
   },
   {
    "duration": 11,
    "start_time": "2024-01-19T13:11:07.987Z"
   },
   {
    "duration": 18,
    "start_time": "2024-01-19T13:11:07.999Z"
   },
   {
    "duration": 8,
    "start_time": "2024-01-19T13:11:08.019Z"
   },
   {
    "duration": 9,
    "start_time": "2024-01-19T13:11:08.028Z"
   },
   {
    "duration": 38,
    "start_time": "2024-01-19T13:11:08.038Z"
   },
   {
    "duration": 14,
    "start_time": "2024-01-19T13:11:08.078Z"
   },
   {
    "duration": 12,
    "start_time": "2024-01-19T13:11:08.094Z"
   },
   {
    "duration": 14,
    "start_time": "2024-01-19T13:11:08.107Z"
   },
   {
    "duration": 9,
    "start_time": "2024-01-19T13:11:08.123Z"
   },
   {
    "duration": 45,
    "start_time": "2024-01-19T13:11:08.134Z"
   },
   {
    "duration": 9,
    "start_time": "2024-01-19T13:11:08.181Z"
   },
   {
    "duration": 196,
    "start_time": "2024-01-19T13:11:08.192Z"
   },
   {
    "duration": 11,
    "start_time": "2024-01-19T13:11:08.390Z"
   },
   {
    "duration": 19,
    "start_time": "2024-01-19T13:11:08.402Z"
   },
   {
    "duration": 260,
    "start_time": "2024-01-19T13:11:08.423Z"
   },
   {
    "duration": 301,
    "start_time": "2024-01-19T13:11:08.685Z"
   },
   {
    "duration": 181,
    "start_time": "2024-01-19T13:11:08.987Z"
   },
   {
    "duration": 5,
    "start_time": "2024-01-19T13:11:09.173Z"
   },
   {
    "duration": 17,
    "start_time": "2024-01-19T13:11:09.183Z"
   },
   {
    "duration": 380,
    "start_time": "2024-01-19T13:11:09.201Z"
   },
   {
    "duration": 16,
    "start_time": "2024-01-19T13:11:09.583Z"
   },
   {
    "duration": 207,
    "start_time": "2024-01-19T13:11:09.601Z"
   },
   {
    "duration": 335,
    "start_time": "2024-01-19T13:11:09.809Z"
   },
   {
    "duration": 6,
    "start_time": "2024-01-19T13:11:10.145Z"
   },
   {
    "duration": 22,
    "start_time": "2024-01-19T13:11:10.153Z"
   },
   {
    "duration": 7,
    "start_time": "2024-01-19T13:11:10.176Z"
   },
   {
    "duration": 198,
    "start_time": "2024-01-19T13:11:10.185Z"
   },
   {
    "duration": 8,
    "start_time": "2024-01-19T13:11:10.385Z"
   },
   {
    "duration": 166,
    "start_time": "2024-01-19T13:11:10.395Z"
   },
   {
    "duration": 14,
    "start_time": "2024-01-19T13:11:10.563Z"
   },
   {
    "duration": 415,
    "start_time": "2024-01-19T13:11:10.579Z"
   },
   {
    "duration": 13,
    "start_time": "2024-01-19T13:11:10.995Z"
   },
   {
    "duration": 300,
    "start_time": "2024-01-19T13:11:11.010Z"
   },
   {
    "duration": 10,
    "start_time": "2024-01-19T13:11:11.312Z"
   },
   {
    "duration": 242,
    "start_time": "2024-01-19T13:11:11.323Z"
   },
   {
    "duration": 265,
    "start_time": "2024-01-19T13:11:11.566Z"
   },
   {
    "duration": 7,
    "start_time": "2024-01-19T13:11:11.833Z"
   },
   {
    "duration": 167,
    "start_time": "2024-01-19T13:11:11.841Z"
   },
   {
    "duration": 252,
    "start_time": "2024-01-19T13:11:12.010Z"
   },
   {
    "duration": 4,
    "start_time": "2024-01-19T13:11:12.263Z"
   },
   {
    "duration": 7,
    "start_time": "2024-01-19T13:11:12.269Z"
   },
   {
    "duration": 6,
    "start_time": "2024-01-19T13:11:12.278Z"
   },
   {
    "duration": 283,
    "start_time": "2024-01-19T13:11:12.285Z"
   },
   {
    "duration": 14,
    "start_time": "2024-01-19T13:11:12.573Z"
   },
   {
    "duration": 406,
    "start_time": "2024-01-19T13:11:12.588Z"
   },
   {
    "duration": 7,
    "start_time": "2024-01-19T13:11:12.995Z"
   },
   {
    "duration": 171,
    "start_time": "2024-01-19T13:11:13.003Z"
   },
   {
    "duration": 13,
    "start_time": "2024-01-19T13:11:13.175Z"
   },
   {
    "duration": 324,
    "start_time": "2024-01-19T13:11:13.190Z"
   },
   {
    "duration": 8,
    "start_time": "2024-01-19T13:11:13.515Z"
   },
   {
    "duration": 141,
    "start_time": "2024-01-19T13:11:13.524Z"
   },
   {
    "duration": 16,
    "start_time": "2024-01-19T13:11:13.666Z"
   },
   {
    "duration": 213,
    "start_time": "2024-01-19T13:11:13.683Z"
   },
   {
    "duration": 28,
    "start_time": "2024-01-19T13:11:13.898Z"
   },
   {
    "duration": 10,
    "start_time": "2024-01-19T13:11:13.928Z"
   },
   {
    "duration": 8,
    "start_time": "2024-01-19T13:11:13.940Z"
   },
   {
    "duration": 71,
    "start_time": "2024-01-19T13:11:13.950Z"
   },
   {
    "duration": 5,
    "start_time": "2024-01-19T13:11:14.023Z"
   },
   {
    "duration": 3254,
    "start_time": "2024-01-19T13:11:14.029Z"
   },
   {
    "duration": 9,
    "start_time": "2024-01-19T13:11:17.285Z"
   },
   {
    "duration": 5,
    "start_time": "2024-01-19T13:11:17.296Z"
   },
   {
    "duration": 8,
    "start_time": "2024-01-19T13:11:17.303Z"
   },
   {
    "duration": 12,
    "start_time": "2024-01-19T13:11:17.312Z"
   },
   {
    "duration": 20,
    "start_time": "2024-01-19T13:11:17.325Z"
   },
   {
    "duration": 4,
    "start_time": "2024-01-19T13:11:17.346Z"
   },
   {
    "duration": 887,
    "start_time": "2024-01-19T13:11:17.352Z"
   },
   {
    "duration": 4,
    "start_time": "2024-01-19T13:11:18.241Z"
   },
   {
    "duration": 1410,
    "start_time": "2024-01-19T13:11:18.246Z"
   },
   {
    "duration": 4,
    "start_time": "2024-01-19T13:11:19.658Z"
   },
   {
    "duration": 1894,
    "start_time": "2024-01-19T13:11:19.663Z"
   },
   {
    "duration": 5,
    "start_time": "2024-01-19T13:11:21.558Z"
   },
   {
    "duration": 2126,
    "start_time": "2024-01-19T13:11:21.564Z"
   },
   {
    "duration": 6,
    "start_time": "2024-01-19T13:11:23.696Z"
   },
   {
    "duration": 115,
    "start_time": "2024-01-19T13:13:41.641Z"
   },
   {
    "duration": 153,
    "start_time": "2024-01-19T13:13:53.019Z"
   },
   {
    "duration": 715,
    "start_time": "2024-01-19T13:14:01.485Z"
   },
   {
    "duration": 686,
    "start_time": "2024-01-19T13:15:38.204Z"
   },
   {
    "duration": 705,
    "start_time": "2024-01-19T13:15:46.203Z"
   },
   {
    "duration": 707,
    "start_time": "2024-01-19T13:16:36.889Z"
   },
   {
    "duration": 5,
    "start_time": "2024-01-19T13:16:57.703Z"
   },
   {
    "duration": 112,
    "start_time": "2024-01-19T13:16:59.922Z"
   },
   {
    "duration": 148,
    "start_time": "2024-01-19T13:17:10.617Z"
   },
   {
    "duration": 4,
    "start_time": "2024-01-19T13:17:50.673Z"
   },
   {
    "duration": 109,
    "start_time": "2024-01-19T13:17:53.084Z"
   },
   {
    "duration": 4,
    "start_time": "2024-01-19T13:18:10.173Z"
   },
   {
    "duration": 164,
    "start_time": "2024-01-19T13:19:07.989Z"
   },
   {
    "duration": 675,
    "start_time": "2024-01-19T13:19:10.215Z"
   },
   {
    "duration": 252,
    "start_time": "2024-01-19T13:19:43.491Z"
   },
   {
    "duration": 76640,
    "start_time": "2024-01-19T13:19:56.723Z"
   },
   {
    "duration": 0,
    "start_time": "2024-01-19T13:21:13.365Z"
   },
   {
    "duration": 3,
    "start_time": "2024-01-19T13:21:17.044Z"
   },
   {
    "duration": 4,
    "start_time": "2024-01-19T13:21:50.226Z"
   },
   {
    "duration": 109,
    "start_time": "2024-01-19T13:22:41.341Z"
   },
   {
    "duration": 148,
    "start_time": "2024-01-19T13:22:46.330Z"
   },
   {
    "duration": 150,
    "start_time": "2024-01-19T13:22:59.578Z"
   },
   {
    "duration": 152,
    "start_time": "2024-01-19T13:23:07.248Z"
   },
   {
    "duration": 147,
    "start_time": "2024-01-19T13:23:12.139Z"
   },
   {
    "duration": 149,
    "start_time": "2024-01-19T13:23:59.131Z"
   },
   {
    "duration": 149,
    "start_time": "2024-01-19T13:24:03.186Z"
   },
   {
    "duration": 150,
    "start_time": "2024-01-19T13:24:06.481Z"
   },
   {
    "duration": 149,
    "start_time": "2024-01-19T13:24:11.635Z"
   },
   {
    "duration": 147,
    "start_time": "2024-01-19T13:24:16.819Z"
   },
   {
    "duration": 148,
    "start_time": "2024-01-19T13:24:19.898Z"
   },
   {
    "duration": 155,
    "start_time": "2024-01-19T13:24:22.858Z"
   },
   {
    "duration": 148,
    "start_time": "2024-01-19T13:25:03.585Z"
   },
   {
    "duration": 154,
    "start_time": "2024-01-19T13:25:07.410Z"
   },
   {
    "duration": 156,
    "start_time": "2024-01-19T13:25:13.129Z"
   },
   {
    "duration": 117,
    "start_time": "2024-01-19T13:25:25.856Z"
   },
   {
    "duration": 5312,
    "start_time": "2024-01-19T13:25:32.594Z"
   },
   {
    "duration": 125,
    "start_time": "2024-01-19T13:25:42.977Z"
   },
   {
    "duration": 118,
    "start_time": "2024-01-19T13:25:52.536Z"
   },
   {
    "duration": 146,
    "start_time": "2024-01-19T13:25:57.404Z"
   },
   {
    "duration": 153,
    "start_time": "2024-01-19T13:26:01.596Z"
   },
   {
    "duration": 13,
    "start_time": "2024-01-19T13:26:50.768Z"
   },
   {
    "duration": 10192,
    "start_time": "2024-01-19T13:26:59.939Z"
   },
   {
    "duration": 12,
    "start_time": "2024-01-19T13:27:19.209Z"
   },
   {
    "duration": 36075,
    "start_time": "2024-01-19T13:28:05.086Z"
   },
   {
    "duration": 31,
    "start_time": "2024-01-19T13:29:27.171Z"
   },
   {
    "duration": 30,
    "start_time": "2024-01-19T13:29:42.427Z"
   },
   {
    "duration": 66,
    "start_time": "2024-01-19T13:29:59.162Z"
   },
   {
    "duration": 127,
    "start_time": "2024-01-19T13:30:07.905Z"
   },
   {
    "duration": 111,
    "start_time": "2024-01-19T13:30:21.728Z"
   },
   {
    "duration": 13,
    "start_time": "2024-01-19T13:30:36.825Z"
   },
   {
    "duration": 3329,
    "start_time": "2024-01-19T13:30:42.025Z"
   },
   {
    "duration": 35968,
    "start_time": "2024-01-19T13:30:49.575Z"
   },
   {
    "duration": 36112,
    "start_time": "2024-01-19T13:31:38.950Z"
   },
   {
    "duration": 9,
    "start_time": "2024-01-19T13:32:15.064Z"
   },
   {
    "duration": 5,
    "start_time": "2024-01-19T13:32:33.037Z"
   },
   {
    "duration": 6,
    "start_time": "2024-01-19T13:37:10.628Z"
   },
   {
    "duration": 36333,
    "start_time": "2024-01-19T13:40:33.857Z"
   },
   {
    "duration": 4,
    "start_time": "2024-01-19T13:41:10.192Z"
   },
   {
    "duration": 36202,
    "start_time": "2024-01-19T13:41:22.804Z"
   },
   {
    "duration": 37240,
    "start_time": "2024-01-19T13:42:10.571Z"
   },
   {
    "duration": 37274,
    "start_time": "2024-01-19T13:42:52.938Z"
   },
   {
    "duration": 1220,
    "start_time": "2024-01-19T14:19:01.408Z"
   },
   {
    "duration": 258,
    "start_time": "2024-01-19T14:19:02.630Z"
   },
   {
    "duration": 12,
    "start_time": "2024-01-19T14:19:02.890Z"
   },
   {
    "duration": 39,
    "start_time": "2024-01-19T14:19:02.904Z"
   },
   {
    "duration": 10,
    "start_time": "2024-01-19T14:19:02.945Z"
   },
   {
    "duration": 39,
    "start_time": "2024-01-19T14:19:02.956Z"
   },
   {
    "duration": 21,
    "start_time": "2024-01-19T14:19:02.997Z"
   },
   {
    "duration": 28,
    "start_time": "2024-01-19T14:19:03.020Z"
   },
   {
    "duration": 7,
    "start_time": "2024-01-19T14:19:03.049Z"
   },
   {
    "duration": 41,
    "start_time": "2024-01-19T14:19:03.059Z"
   },
   {
    "duration": 19,
    "start_time": "2024-01-19T14:19:03.101Z"
   },
   {
    "duration": 9,
    "start_time": "2024-01-19T14:19:03.121Z"
   },
   {
    "duration": 19,
    "start_time": "2024-01-19T14:19:03.132Z"
   },
   {
    "duration": 5,
    "start_time": "2024-01-19T14:19:03.153Z"
   },
   {
    "duration": 24,
    "start_time": "2024-01-19T14:19:03.160Z"
   },
   {
    "duration": 23,
    "start_time": "2024-01-19T14:19:03.186Z"
   },
   {
    "duration": 11,
    "start_time": "2024-01-19T14:19:03.211Z"
   },
   {
    "duration": 9,
    "start_time": "2024-01-19T14:19:03.224Z"
   },
   {
    "duration": 29,
    "start_time": "2024-01-19T14:19:03.234Z"
   },
   {
    "duration": 17,
    "start_time": "2024-01-19T14:19:03.265Z"
   },
   {
    "duration": 210,
    "start_time": "2024-01-19T14:19:03.283Z"
   },
   {
    "duration": 12,
    "start_time": "2024-01-19T14:19:03.495Z"
   },
   {
    "duration": 15,
    "start_time": "2024-01-19T14:19:03.509Z"
   },
   {
    "duration": 291,
    "start_time": "2024-01-19T14:19:03.526Z"
   },
   {
    "duration": 300,
    "start_time": "2024-01-19T14:19:03.819Z"
   },
   {
    "duration": 187,
    "start_time": "2024-01-19T14:19:04.121Z"
   },
   {
    "duration": 7,
    "start_time": "2024-01-19T14:19:04.310Z"
   },
   {
    "duration": 13,
    "start_time": "2024-01-19T14:19:04.323Z"
   },
   {
    "duration": 391,
    "start_time": "2024-01-19T14:19:04.337Z"
   },
   {
    "duration": 13,
    "start_time": "2024-01-19T14:19:04.730Z"
   },
   {
    "duration": 220,
    "start_time": "2024-01-19T14:19:04.745Z"
   },
   {
    "duration": 353,
    "start_time": "2024-01-19T14:19:04.967Z"
   },
   {
    "duration": 6,
    "start_time": "2024-01-19T14:19:05.322Z"
   },
   {
    "duration": 25,
    "start_time": "2024-01-19T14:19:05.329Z"
   },
   {
    "duration": 7,
    "start_time": "2024-01-19T14:19:05.355Z"
   },
   {
    "duration": 200,
    "start_time": "2024-01-19T14:19:05.363Z"
   },
   {
    "duration": 7,
    "start_time": "2024-01-19T14:19:05.564Z"
   },
   {
    "duration": 162,
    "start_time": "2024-01-19T14:19:05.582Z"
   },
   {
    "duration": 10,
    "start_time": "2024-01-19T14:19:05.745Z"
   },
   {
    "duration": 428,
    "start_time": "2024-01-19T14:19:05.757Z"
   },
   {
    "duration": 13,
    "start_time": "2024-01-19T14:19:06.187Z"
   },
   {
    "duration": 315,
    "start_time": "2024-01-19T14:19:06.202Z"
   },
   {
    "duration": 11,
    "start_time": "2024-01-19T14:19:06.519Z"
   },
   {
    "duration": 251,
    "start_time": "2024-01-19T14:19:06.531Z"
   },
   {
    "duration": 267,
    "start_time": "2024-01-19T14:19:06.783Z"
   },
   {
    "duration": 7,
    "start_time": "2024-01-19T14:19:07.052Z"
   },
   {
    "duration": 164,
    "start_time": "2024-01-19T14:19:07.060Z"
   },
   {
    "duration": 245,
    "start_time": "2024-01-19T14:19:07.225Z"
   },
   {
    "duration": 13,
    "start_time": "2024-01-19T14:19:07.471Z"
   },
   {
    "duration": 6,
    "start_time": "2024-01-19T14:19:07.486Z"
   },
   {
    "duration": 23,
    "start_time": "2024-01-19T14:19:07.493Z"
   },
   {
    "duration": 285,
    "start_time": "2024-01-19T14:19:07.517Z"
   },
   {
    "duration": 13,
    "start_time": "2024-01-19T14:19:07.803Z"
   },
   {
    "duration": 391,
    "start_time": "2024-01-19T14:19:07.818Z"
   },
   {
    "duration": 5,
    "start_time": "2024-01-19T14:19:08.211Z"
   },
   {
    "duration": 165,
    "start_time": "2024-01-19T14:19:08.218Z"
   },
   {
    "duration": 12,
    "start_time": "2024-01-19T14:19:08.385Z"
   },
   {
    "duration": 293,
    "start_time": "2024-01-19T14:19:08.399Z"
   },
   {
    "duration": 6,
    "start_time": "2024-01-19T14:19:08.693Z"
   },
   {
    "duration": 144,
    "start_time": "2024-01-19T14:19:08.701Z"
   },
   {
    "duration": 12,
    "start_time": "2024-01-19T14:19:08.847Z"
   },
   {
    "duration": 218,
    "start_time": "2024-01-19T14:19:08.861Z"
   },
   {
    "duration": 27,
    "start_time": "2024-01-19T14:19:09.082Z"
   },
   {
    "duration": 9,
    "start_time": "2024-01-19T14:19:09.111Z"
   },
   {
    "duration": 7,
    "start_time": "2024-01-19T14:19:09.122Z"
   },
   {
    "duration": 74,
    "start_time": "2024-01-19T14:19:09.131Z"
   },
   {
    "duration": 4,
    "start_time": "2024-01-19T14:19:09.207Z"
   },
   {
    "duration": 3241,
    "start_time": "2024-01-19T14:19:09.212Z"
   },
   {
    "duration": 11,
    "start_time": "2024-01-19T14:19:12.455Z"
   },
   {
    "duration": 22,
    "start_time": "2024-01-19T14:19:12.467Z"
   },
   {
    "duration": 11,
    "start_time": "2024-01-19T14:19:12.490Z"
   },
   {
    "duration": 13,
    "start_time": "2024-01-19T14:19:12.502Z"
   },
   {
    "duration": 11,
    "start_time": "2024-01-19T14:19:12.517Z"
   },
   {
    "duration": 7,
    "start_time": "2024-01-19T14:19:12.529Z"
   },
   {
    "duration": 839,
    "start_time": "2024-01-19T14:19:12.537Z"
   },
   {
    "duration": 7,
    "start_time": "2024-01-19T14:19:13.377Z"
   },
   {
    "duration": 1474,
    "start_time": "2024-01-19T14:19:13.387Z"
   },
   {
    "duration": 4,
    "start_time": "2024-01-19T14:19:14.863Z"
   },
   {
    "duration": 1965,
    "start_time": "2024-01-19T14:19:14.869Z"
   },
   {
    "duration": 5,
    "start_time": "2024-01-19T14:19:16.836Z"
   },
   {
    "duration": 2163,
    "start_time": "2024-01-19T14:19:16.842Z"
   },
   {
    "duration": 5,
    "start_time": "2024-01-19T14:19:19.012Z"
   },
   {
    "duration": 37519,
    "start_time": "2024-01-19T14:19:19.019Z"
   },
   {
    "duration": 4,
    "start_time": "2024-01-19T14:19:56.540Z"
   },
   {
    "duration": 17,
    "start_time": "2024-01-19T14:25:23.890Z"
   },
   {
    "duration": 17,
    "start_time": "2024-01-19T14:25:56.843Z"
   },
   {
    "duration": 6,
    "start_time": "2024-01-19T14:27:15.669Z"
   },
   {
    "duration": 1236,
    "start_time": "2024-01-19T14:33:05.885Z"
   },
   {
    "duration": 147,
    "start_time": "2024-01-19T14:33:07.123Z"
   },
   {
    "duration": 17,
    "start_time": "2024-01-19T14:33:07.272Z"
   },
   {
    "duration": 11,
    "start_time": "2024-01-19T14:33:07.292Z"
   },
   {
    "duration": 48,
    "start_time": "2024-01-19T14:33:07.304Z"
   },
   {
    "duration": 61,
    "start_time": "2024-01-19T14:33:07.353Z"
   },
   {
    "duration": 32,
    "start_time": "2024-01-19T14:33:07.416Z"
   },
   {
    "duration": 50,
    "start_time": "2024-01-19T14:33:07.450Z"
   },
   {
    "duration": 15,
    "start_time": "2024-01-19T14:33:07.502Z"
   },
   {
    "duration": 45,
    "start_time": "2024-01-19T14:33:07.520Z"
   },
   {
    "duration": 37,
    "start_time": "2024-01-19T14:33:07.567Z"
   },
   {
    "duration": 17,
    "start_time": "2024-01-19T14:33:07.606Z"
   },
   {
    "duration": 12,
    "start_time": "2024-01-19T14:33:07.625Z"
   },
   {
    "duration": 29,
    "start_time": "2024-01-19T14:33:07.638Z"
   },
   {
    "duration": 45,
    "start_time": "2024-01-19T14:33:07.669Z"
   },
   {
    "duration": 21,
    "start_time": "2024-01-19T14:33:07.716Z"
   },
   {
    "duration": 14,
    "start_time": "2024-01-19T14:33:07.739Z"
   },
   {
    "duration": 15,
    "start_time": "2024-01-19T14:33:07.754Z"
   },
   {
    "duration": 28,
    "start_time": "2024-01-19T14:33:07.770Z"
   },
   {
    "duration": 16,
    "start_time": "2024-01-19T14:33:07.799Z"
   },
   {
    "duration": 194,
    "start_time": "2024-01-19T14:33:07.817Z"
   },
   {
    "duration": 12,
    "start_time": "2024-01-19T14:33:08.012Z"
   },
   {
    "duration": 34,
    "start_time": "2024-01-19T14:33:08.026Z"
   },
   {
    "duration": 263,
    "start_time": "2024-01-19T14:33:08.062Z"
   },
   {
    "duration": 308,
    "start_time": "2024-01-19T14:33:08.327Z"
   },
   {
    "duration": 189,
    "start_time": "2024-01-19T14:33:08.637Z"
   },
   {
    "duration": 7,
    "start_time": "2024-01-19T14:33:08.828Z"
   },
   {
    "duration": 24,
    "start_time": "2024-01-19T14:33:08.839Z"
   },
   {
    "duration": 393,
    "start_time": "2024-01-19T14:33:08.865Z"
   },
   {
    "duration": 25,
    "start_time": "2024-01-19T14:33:09.259Z"
   },
   {
    "duration": 192,
    "start_time": "2024-01-19T14:33:09.285Z"
   },
   {
    "duration": 346,
    "start_time": "2024-01-19T14:33:09.478Z"
   },
   {
    "duration": 7,
    "start_time": "2024-01-19T14:33:09.827Z"
   },
   {
    "duration": 17,
    "start_time": "2024-01-19T14:33:09.838Z"
   },
   {
    "duration": 26,
    "start_time": "2024-01-19T14:33:09.857Z"
   },
   {
    "duration": 210,
    "start_time": "2024-01-19T14:33:09.885Z"
   },
   {
    "duration": 7,
    "start_time": "2024-01-19T14:33:10.098Z"
   },
   {
    "duration": 165,
    "start_time": "2024-01-19T14:33:10.106Z"
   },
   {
    "duration": 18,
    "start_time": "2024-01-19T14:33:10.273Z"
   },
   {
    "duration": 445,
    "start_time": "2024-01-19T14:33:10.293Z"
   },
   {
    "duration": 14,
    "start_time": "2024-01-19T14:33:10.739Z"
   },
   {
    "duration": 317,
    "start_time": "2024-01-19T14:33:10.754Z"
   },
   {
    "duration": 16,
    "start_time": "2024-01-19T14:33:11.073Z"
   },
   {
    "duration": 253,
    "start_time": "2024-01-19T14:33:11.090Z"
   },
   {
    "duration": 283,
    "start_time": "2024-01-19T14:33:11.345Z"
   },
   {
    "duration": 7,
    "start_time": "2024-01-19T14:33:11.629Z"
   },
   {
    "duration": 173,
    "start_time": "2024-01-19T14:33:11.638Z"
   },
   {
    "duration": 245,
    "start_time": "2024-01-19T14:33:11.812Z"
   },
   {
    "duration": 6,
    "start_time": "2024-01-19T14:33:12.058Z"
   },
   {
    "duration": 22,
    "start_time": "2024-01-19T14:33:12.065Z"
   },
   {
    "duration": 10,
    "start_time": "2024-01-19T14:33:12.088Z"
   },
   {
    "duration": 316,
    "start_time": "2024-01-19T14:33:12.099Z"
   },
   {
    "duration": 13,
    "start_time": "2024-01-19T14:33:12.417Z"
   },
   {
    "duration": 397,
    "start_time": "2024-01-19T14:33:12.432Z"
   },
   {
    "duration": 5,
    "start_time": "2024-01-19T14:33:12.831Z"
   },
   {
    "duration": 193,
    "start_time": "2024-01-19T14:33:12.838Z"
   },
   {
    "duration": 14,
    "start_time": "2024-01-19T14:33:13.034Z"
   },
   {
    "duration": 318,
    "start_time": "2024-01-19T14:33:13.050Z"
   },
   {
    "duration": 13,
    "start_time": "2024-01-19T14:33:13.370Z"
   },
   {
    "duration": 141,
    "start_time": "2024-01-19T14:33:13.385Z"
   },
   {
    "duration": 13,
    "start_time": "2024-01-19T14:33:13.528Z"
   },
   {
    "duration": 234,
    "start_time": "2024-01-19T14:33:13.543Z"
   },
   {
    "duration": 28,
    "start_time": "2024-01-19T14:33:13.779Z"
   },
   {
    "duration": 9,
    "start_time": "2024-01-19T14:33:13.809Z"
   },
   {
    "duration": 9,
    "start_time": "2024-01-19T14:33:13.820Z"
   },
   {
    "duration": 66,
    "start_time": "2024-01-19T14:33:13.831Z"
   },
   {
    "duration": 4,
    "start_time": "2024-01-19T14:33:13.899Z"
   },
   {
    "duration": 3212,
    "start_time": "2024-01-19T14:33:13.904Z"
   },
   {
    "duration": 10,
    "start_time": "2024-01-19T14:33:17.117Z"
   },
   {
    "duration": 5,
    "start_time": "2024-01-19T14:33:17.128Z"
   },
   {
    "duration": 16,
    "start_time": "2024-01-19T14:33:17.134Z"
   },
   {
    "duration": 8,
    "start_time": "2024-01-19T14:33:17.151Z"
   },
   {
    "duration": 31,
    "start_time": "2024-01-19T14:33:17.160Z"
   },
   {
    "duration": 5,
    "start_time": "2024-01-19T14:33:17.193Z"
   },
   {
    "duration": 817,
    "start_time": "2024-01-19T14:33:17.200Z"
   },
   {
    "duration": 4,
    "start_time": "2024-01-19T14:33:18.018Z"
   },
   {
    "duration": 1446,
    "start_time": "2024-01-19T14:33:18.024Z"
   },
   {
    "duration": 9,
    "start_time": "2024-01-19T14:33:19.472Z"
   },
   {
    "duration": 1981,
    "start_time": "2024-01-19T14:33:19.483Z"
   },
   {
    "duration": 5,
    "start_time": "2024-01-19T14:33:21.466Z"
   },
   {
    "duration": 2214,
    "start_time": "2024-01-19T14:33:21.482Z"
   },
   {
    "duration": 5,
    "start_time": "2024-01-19T14:33:23.702Z"
   },
   {
    "duration": 37985,
    "start_time": "2024-01-19T14:33:23.709Z"
   },
   {
    "duration": 4,
    "start_time": "2024-01-19T14:34:01.696Z"
   },
   {
    "duration": 109,
    "start_time": "2024-01-20T05:00:35.437Z"
   },
   {
    "duration": 83,
    "start_time": "2024-01-20T05:00:42.400Z"
   },
   {
    "duration": 0,
    "start_time": "2024-01-20T05:00:42.485Z"
   },
   {
    "duration": 0,
    "start_time": "2024-01-20T05:00:42.486Z"
   },
   {
    "duration": 0,
    "start_time": "2024-01-20T05:00:42.487Z"
   },
   {
    "duration": 0,
    "start_time": "2024-01-20T05:00:42.488Z"
   },
   {
    "duration": 0,
    "start_time": "2024-01-20T05:00:42.489Z"
   },
   {
    "duration": 0,
    "start_time": "2024-01-20T05:00:42.490Z"
   },
   {
    "duration": 0,
    "start_time": "2024-01-20T05:00:42.491Z"
   },
   {
    "duration": 0,
    "start_time": "2024-01-20T05:00:42.492Z"
   },
   {
    "duration": 0,
    "start_time": "2024-01-20T05:00:42.493Z"
   },
   {
    "duration": 72,
    "start_time": "2024-01-20T05:00:42.495Z"
   },
   {
    "duration": 0,
    "start_time": "2024-01-20T05:00:42.569Z"
   },
   {
    "duration": 0,
    "start_time": "2024-01-20T05:00:42.570Z"
   },
   {
    "duration": 0,
    "start_time": "2024-01-20T05:00:42.571Z"
   },
   {
    "duration": 0,
    "start_time": "2024-01-20T05:00:42.573Z"
   },
   {
    "duration": 0,
    "start_time": "2024-01-20T05:00:42.574Z"
   },
   {
    "duration": 0,
    "start_time": "2024-01-20T05:00:42.575Z"
   },
   {
    "duration": 0,
    "start_time": "2024-01-20T05:00:42.576Z"
   },
   {
    "duration": 0,
    "start_time": "2024-01-20T05:00:42.577Z"
   },
   {
    "duration": 7,
    "start_time": "2024-01-20T05:00:42.578Z"
   },
   {
    "duration": 8,
    "start_time": "2024-01-20T05:00:42.596Z"
   },
   {
    "duration": 0,
    "start_time": "2024-01-20T05:00:42.606Z"
   },
   {
    "duration": 37,
    "start_time": "2024-01-20T05:00:42.623Z"
   },
   {
    "duration": 0,
    "start_time": "2024-01-20T05:00:42.662Z"
   },
   {
    "duration": 0,
    "start_time": "2024-01-20T05:00:42.663Z"
   },
   {
    "duration": 10,
    "start_time": "2024-01-20T05:00:42.666Z"
   },
   {
    "duration": 17,
    "start_time": "2024-01-20T05:00:42.679Z"
   },
   {
    "duration": 0,
    "start_time": "2024-01-20T05:00:42.699Z"
   },
   {
    "duration": 0,
    "start_time": "2024-01-20T05:00:42.700Z"
   },
   {
    "duration": 8,
    "start_time": "2024-01-20T05:00:42.706Z"
   },
   {
    "duration": 47,
    "start_time": "2024-01-20T05:00:42.716Z"
   },
   {
    "duration": 0,
    "start_time": "2024-01-20T05:00:42.765Z"
   },
   {
    "duration": 0,
    "start_time": "2024-01-20T05:00:42.767Z"
   },
   {
    "duration": 8,
    "start_time": "2024-01-20T05:00:42.769Z"
   },
   {
    "duration": 7,
    "start_time": "2024-01-20T05:00:43.258Z"
   },
   {
    "duration": 0,
    "start_time": "2024-01-20T05:00:43.268Z"
   },
   {
    "duration": 0,
    "start_time": "2024-01-20T05:00:43.269Z"
   },
   {
    "duration": 0,
    "start_time": "2024-01-20T05:00:43.270Z"
   },
   {
    "duration": 0,
    "start_time": "2024-01-20T05:00:43.272Z"
   },
   {
    "duration": 0,
    "start_time": "2024-01-20T05:00:43.274Z"
   },
   {
    "duration": 0,
    "start_time": "2024-01-20T05:00:43.276Z"
   },
   {
    "duration": 0,
    "start_time": "2024-01-20T05:00:43.277Z"
   },
   {
    "duration": 0,
    "start_time": "2024-01-20T05:00:43.279Z"
   },
   {
    "duration": 0,
    "start_time": "2024-01-20T05:00:43.280Z"
   },
   {
    "duration": 0,
    "start_time": "2024-01-20T05:00:43.283Z"
   },
   {
    "duration": 0,
    "start_time": "2024-01-20T05:00:43.284Z"
   },
   {
    "duration": 0,
    "start_time": "2024-01-20T05:00:43.286Z"
   },
   {
    "duration": 1,
    "start_time": "2024-01-20T05:00:43.287Z"
   },
   {
    "duration": 0,
    "start_time": "2024-01-20T05:00:43.289Z"
   },
   {
    "duration": 0,
    "start_time": "2024-01-20T05:00:43.291Z"
   },
   {
    "duration": 0,
    "start_time": "2024-01-20T05:00:43.293Z"
   },
   {
    "duration": 0,
    "start_time": "2024-01-20T05:00:43.294Z"
   },
   {
    "duration": 0,
    "start_time": "2024-01-20T05:00:43.296Z"
   },
   {
    "duration": 0,
    "start_time": "2024-01-20T05:00:43.297Z"
   },
   {
    "duration": 1,
    "start_time": "2024-01-20T05:00:43.298Z"
   },
   {
    "duration": 0,
    "start_time": "2024-01-20T05:00:43.359Z"
   },
   {
    "duration": 0,
    "start_time": "2024-01-20T05:00:43.360Z"
   },
   {
    "duration": 0,
    "start_time": "2024-01-20T05:00:43.362Z"
   },
   {
    "duration": 0,
    "start_time": "2024-01-20T05:00:43.363Z"
   },
   {
    "duration": 0,
    "start_time": "2024-01-20T05:00:43.364Z"
   },
   {
    "duration": 0,
    "start_time": "2024-01-20T05:00:43.365Z"
   },
   {
    "duration": 0,
    "start_time": "2024-01-20T05:00:43.366Z"
   },
   {
    "duration": 0,
    "start_time": "2024-01-20T05:00:43.367Z"
   },
   {
    "duration": 0,
    "start_time": "2024-01-20T05:00:43.369Z"
   },
   {
    "duration": 0,
    "start_time": "2024-01-20T05:00:43.370Z"
   },
   {
    "duration": 0,
    "start_time": "2024-01-20T05:00:43.371Z"
   },
   {
    "duration": 0,
    "start_time": "2024-01-20T05:00:43.372Z"
   },
   {
    "duration": 0,
    "start_time": "2024-01-20T05:00:43.373Z"
   },
   {
    "duration": 0,
    "start_time": "2024-01-20T05:00:43.374Z"
   },
   {
    "duration": 0,
    "start_time": "2024-01-20T05:00:43.375Z"
   },
   {
    "duration": 0,
    "start_time": "2024-01-20T05:00:43.376Z"
   },
   {
    "duration": 0,
    "start_time": "2024-01-20T05:00:43.377Z"
   },
   {
    "duration": 0,
    "start_time": "2024-01-20T05:00:43.378Z"
   },
   {
    "duration": 0,
    "start_time": "2024-01-20T05:00:43.379Z"
   },
   {
    "duration": 0,
    "start_time": "2024-01-20T05:00:43.380Z"
   },
   {
    "duration": 0,
    "start_time": "2024-01-20T05:00:43.381Z"
   },
   {
    "duration": 0,
    "start_time": "2024-01-20T05:00:43.383Z"
   },
   {
    "duration": 9,
    "start_time": "2024-01-20T05:00:43.386Z"
   },
   {
    "duration": 0,
    "start_time": "2024-01-20T05:00:43.397Z"
   },
   {
    "duration": 0,
    "start_time": "2024-01-20T05:00:43.459Z"
   },
   {
    "duration": 0,
    "start_time": "2024-01-20T05:00:43.461Z"
   },
   {
    "duration": 0,
    "start_time": "2024-01-20T05:00:43.462Z"
   },
   {
    "duration": 0,
    "start_time": "2024-01-20T05:00:43.463Z"
   },
   {
    "duration": 0,
    "start_time": "2024-01-20T05:00:43.464Z"
   },
   {
    "duration": 0,
    "start_time": "2024-01-20T05:00:43.466Z"
   },
   {
    "duration": 1427,
    "start_time": "2024-01-20T05:01:05.282Z"
   },
   {
    "duration": 273,
    "start_time": "2024-01-20T05:01:06.712Z"
   },
   {
    "duration": 14,
    "start_time": "2024-01-20T05:01:06.987Z"
   },
   {
    "duration": 61,
    "start_time": "2024-01-20T05:01:07.003Z"
   },
   {
    "duration": 33,
    "start_time": "2024-01-20T05:01:07.065Z"
   },
   {
    "duration": 10,
    "start_time": "2024-01-20T05:01:07.099Z"
   },
   {
    "duration": 10,
    "start_time": "2024-01-20T05:01:07.111Z"
   },
   {
    "duration": 12,
    "start_time": "2024-01-20T05:01:07.122Z"
   },
   {
    "duration": 10,
    "start_time": "2024-01-20T05:01:07.136Z"
   },
   {
    "duration": 16,
    "start_time": "2024-01-20T05:01:07.149Z"
   },
   {
    "duration": 19,
    "start_time": "2024-01-20T05:01:07.167Z"
   },
   {
    "duration": 8,
    "start_time": "2024-01-20T05:01:07.187Z"
   },
   {
    "duration": 8,
    "start_time": "2024-01-20T05:01:07.197Z"
   },
   {
    "duration": 5,
    "start_time": "2024-01-20T05:01:07.207Z"
   },
   {
    "duration": 49,
    "start_time": "2024-01-20T05:01:07.214Z"
   },
   {
    "duration": 12,
    "start_time": "2024-01-20T05:01:07.265Z"
   },
   {
    "duration": 12,
    "start_time": "2024-01-20T05:01:07.279Z"
   },
   {
    "duration": 10,
    "start_time": "2024-01-20T05:01:07.292Z"
   },
   {
    "duration": 13,
    "start_time": "2024-01-20T05:01:07.304Z"
   },
   {
    "duration": 10,
    "start_time": "2024-01-20T05:01:07.319Z"
   },
   {
    "duration": 199,
    "start_time": "2024-01-20T05:01:07.359Z"
   },
   {
    "duration": 12,
    "start_time": "2024-01-20T05:01:07.560Z"
   },
   {
    "duration": 28,
    "start_time": "2024-01-20T05:01:07.574Z"
   },
   {
    "duration": 289,
    "start_time": "2024-01-20T05:01:07.604Z"
   },
   {
    "duration": 314,
    "start_time": "2024-01-20T05:01:07.894Z"
   },
   {
    "duration": 196,
    "start_time": "2024-01-20T05:01:08.210Z"
   },
   {
    "duration": 6,
    "start_time": "2024-01-20T05:01:08.407Z"
   },
   {
    "duration": 17,
    "start_time": "2024-01-20T05:01:08.418Z"
   },
   {
    "duration": 383,
    "start_time": "2024-01-20T05:01:08.437Z"
   },
   {
    "duration": 13,
    "start_time": "2024-01-20T05:01:08.821Z"
   },
   {
    "duration": 202,
    "start_time": "2024-01-20T05:01:08.835Z"
   },
   {
    "duration": 342,
    "start_time": "2024-01-20T05:01:09.039Z"
   },
   {
    "duration": 7,
    "start_time": "2024-01-20T05:01:09.382Z"
   },
   {
    "duration": 30,
    "start_time": "2024-01-20T05:01:09.390Z"
   },
   {
    "duration": 6,
    "start_time": "2024-01-20T05:01:09.422Z"
   },
   {
    "duration": 188,
    "start_time": "2024-01-20T05:01:09.430Z"
   },
   {
    "duration": 8,
    "start_time": "2024-01-20T05:01:09.620Z"
   },
   {
    "duration": 167,
    "start_time": "2024-01-20T05:01:09.629Z"
   },
   {
    "duration": 11,
    "start_time": "2024-01-20T05:01:09.798Z"
   },
   {
    "duration": 414,
    "start_time": "2024-01-20T05:01:09.811Z"
   },
   {
    "duration": 14,
    "start_time": "2024-01-20T05:01:10.227Z"
   },
   {
    "duration": 307,
    "start_time": "2024-01-20T05:01:10.242Z"
   },
   {
    "duration": 10,
    "start_time": "2024-01-20T05:01:10.558Z"
   },
   {
    "duration": 237,
    "start_time": "2024-01-20T05:01:10.570Z"
   },
   {
    "duration": 269,
    "start_time": "2024-01-20T05:01:10.809Z"
   },
   {
    "duration": 7,
    "start_time": "2024-01-20T05:01:11.080Z"
   },
   {
    "duration": 201,
    "start_time": "2024-01-20T05:01:11.088Z"
   },
   {
    "duration": 253,
    "start_time": "2024-01-20T05:01:11.291Z"
   },
   {
    "duration": 5,
    "start_time": "2024-01-20T05:01:11.545Z"
   },
   {
    "duration": 7,
    "start_time": "2024-01-20T05:01:11.552Z"
   },
   {
    "duration": 8,
    "start_time": "2024-01-20T05:01:11.560Z"
   },
   {
    "duration": 291,
    "start_time": "2024-01-20T05:01:11.569Z"
   },
   {
    "duration": 13,
    "start_time": "2024-01-20T05:01:11.862Z"
   },
   {
    "duration": 394,
    "start_time": "2024-01-20T05:01:11.876Z"
   },
   {
    "duration": 7,
    "start_time": "2024-01-20T05:01:12.272Z"
   },
   {
    "duration": 177,
    "start_time": "2024-01-20T05:01:12.281Z"
   },
   {
    "duration": 13,
    "start_time": "2024-01-20T05:01:12.460Z"
   },
   {
    "duration": 285,
    "start_time": "2024-01-20T05:01:12.475Z"
   },
   {
    "duration": 6,
    "start_time": "2024-01-20T05:01:12.761Z"
   },
   {
    "duration": 133,
    "start_time": "2024-01-20T05:01:12.769Z"
   },
   {
    "duration": 12,
    "start_time": "2024-01-20T05:01:12.904Z"
   },
   {
    "duration": 216,
    "start_time": "2024-01-20T05:01:12.918Z"
   },
   {
    "duration": 41,
    "start_time": "2024-01-20T05:01:13.136Z"
   },
   {
    "duration": 10,
    "start_time": "2024-01-20T05:01:13.179Z"
   },
   {
    "duration": 7,
    "start_time": "2024-01-20T05:01:13.190Z"
   },
   {
    "duration": 61,
    "start_time": "2024-01-20T05:01:13.199Z"
   },
   {
    "duration": 4,
    "start_time": "2024-01-20T05:01:13.262Z"
   },
   {
    "duration": 3257,
    "start_time": "2024-01-20T05:01:13.267Z"
   },
   {
    "duration": 10,
    "start_time": "2024-01-20T05:01:16.526Z"
   },
   {
    "duration": 8,
    "start_time": "2024-01-20T05:01:16.538Z"
   },
   {
    "duration": 18,
    "start_time": "2024-01-20T05:01:16.548Z"
   },
   {
    "duration": 13,
    "start_time": "2024-01-20T05:01:16.568Z"
   },
   {
    "duration": 16,
    "start_time": "2024-01-20T05:01:16.583Z"
   },
   {
    "duration": 18,
    "start_time": "2024-01-20T05:01:16.601Z"
   },
   {
    "duration": 895,
    "start_time": "2024-01-20T05:01:16.621Z"
   },
   {
    "duration": 4,
    "start_time": "2024-01-20T05:01:17.518Z"
   },
   {
    "duration": 1439,
    "start_time": "2024-01-20T05:01:17.524Z"
   },
   {
    "duration": 5,
    "start_time": "2024-01-20T05:01:18.964Z"
   },
   {
    "duration": 1918,
    "start_time": "2024-01-20T05:01:18.971Z"
   },
   {
    "duration": 4,
    "start_time": "2024-01-20T05:01:20.891Z"
   },
   {
    "duration": 2186,
    "start_time": "2024-01-20T05:01:20.897Z"
   },
   {
    "duration": 6,
    "start_time": "2024-01-20T05:01:23.088Z"
   },
   {
    "duration": 36334,
    "start_time": "2024-01-20T05:01:23.095Z"
   },
   {
    "duration": 4,
    "start_time": "2024-01-20T05:01:59.431Z"
   },
   {
    "duration": 27,
    "start_time": "2024-01-20T05:01:59.437Z"
   },
   {
    "duration": 144,
    "start_time": "2024-01-20T05:01:59.465Z"
   },
   {
    "duration": 9,
    "start_time": "2024-01-20T05:02:02.913Z"
   },
   {
    "duration": 12,
    "start_time": "2024-01-20T05:02:03.534Z"
   },
   {
    "duration": 12,
    "start_time": "2024-01-20T05:02:15.568Z"
   },
   {
    "duration": 100,
    "start_time": "2024-01-20T05:02:24.107Z"
   },
   {
    "duration": 10,
    "start_time": "2024-01-20T05:02:26.151Z"
   },
   {
    "duration": 10,
    "start_time": "2024-01-20T05:02:26.406Z"
   },
   {
    "duration": 8,
    "start_time": "2024-01-20T05:13:39.147Z"
   },
   {
    "duration": 6,
    "start_time": "2024-01-20T05:13:47.339Z"
   },
   {
    "duration": 8,
    "start_time": "2024-01-20T05:16:23.973Z"
   },
   {
    "duration": 7,
    "start_time": "2024-01-20T05:17:11.591Z"
   },
   {
    "duration": 7,
    "start_time": "2024-01-20T05:17:19.688Z"
   },
   {
    "duration": 7,
    "start_time": "2024-01-20T05:17:22.982Z"
   },
   {
    "duration": 9,
    "start_time": "2024-01-20T05:20:30.172Z"
   },
   {
    "duration": 185,
    "start_time": "2024-01-20T05:21:04.551Z"
   },
   {
    "duration": 171,
    "start_time": "2024-01-20T05:21:12.877Z"
   },
   {
    "duration": 169,
    "start_time": "2024-01-20T05:21:25.125Z"
   },
   {
    "duration": 13,
    "start_time": "2024-01-20T05:22:27.311Z"
   },
   {
    "duration": 9,
    "start_time": "2024-01-20T05:22:48.223Z"
   },
   {
    "duration": 10,
    "start_time": "2024-01-20T05:23:00.710Z"
   },
   {
    "duration": 8,
    "start_time": "2024-01-20T05:23:04.464Z"
   },
   {
    "duration": 8,
    "start_time": "2024-01-20T05:23:07.379Z"
   },
   {
    "duration": 143,
    "start_time": "2024-01-20T05:23:13.120Z"
   },
   {
    "duration": 66,
    "start_time": "2024-01-20T05:23:22.047Z"
   },
   {
    "duration": 64,
    "start_time": "2024-01-20T05:23:37.407Z"
   },
   {
    "duration": 68,
    "start_time": "2024-01-20T05:23:49.887Z"
   },
   {
    "duration": 71,
    "start_time": "2024-01-20T05:24:29.253Z"
   },
   {
    "duration": 102,
    "start_time": "2024-01-20T05:24:49.256Z"
   },
   {
    "duration": 78,
    "start_time": "2024-01-20T05:25:07.896Z"
   },
   {
    "duration": 8,
    "start_time": "2024-01-20T05:26:13.962Z"
   },
   {
    "duration": 8,
    "start_time": "2024-01-20T05:26:45.046Z"
   },
   {
    "duration": 314,
    "start_time": "2024-01-20T05:29:29.957Z"
   },
   {
    "duration": 287,
    "start_time": "2024-01-20T05:29:41.448Z"
   },
   {
    "duration": 285,
    "start_time": "2024-01-20T05:29:45.484Z"
   },
   {
    "duration": 72,
    "start_time": "2024-01-20T05:30:59.172Z"
   },
   {
    "duration": 15,
    "start_time": "2024-01-20T05:33:10.320Z"
   },
   {
    "duration": 12,
    "start_time": "2024-01-20T05:33:17.745Z"
   },
   {
    "duration": 13,
    "start_time": "2024-01-20T05:33:48.772Z"
   },
   {
    "duration": 13,
    "start_time": "2024-01-20T05:34:42.727Z"
   },
   {
    "duration": 14,
    "start_time": "2024-01-20T05:35:11.876Z"
   },
   {
    "duration": 12,
    "start_time": "2024-01-20T05:35:51.682Z"
   },
   {
    "duration": 11,
    "start_time": "2024-01-20T05:36:07.336Z"
   },
   {
    "duration": 10,
    "start_time": "2024-01-20T05:37:43.462Z"
   },
   {
    "duration": 12,
    "start_time": "2024-01-20T05:37:53.479Z"
   },
   {
    "duration": 11,
    "start_time": "2024-01-20T05:38:09.653Z"
   },
   {
    "duration": 11,
    "start_time": "2024-01-20T05:38:24.989Z"
   },
   {
    "duration": 11,
    "start_time": "2024-01-20T05:42:38.602Z"
   },
   {
    "duration": 11,
    "start_time": "2024-01-20T05:42:46.813Z"
   },
   {
    "duration": 15,
    "start_time": "2024-01-20T05:43:13.239Z"
   },
   {
    "duration": 11,
    "start_time": "2024-01-20T05:43:29.961Z"
   },
   {
    "duration": 4,
    "start_time": "2024-01-20T05:45:08.547Z"
   },
   {
    "duration": 7,
    "start_time": "2024-01-20T05:45:35.977Z"
   },
   {
    "duration": 69,
    "start_time": "2024-01-20T05:45:46.116Z"
   },
   {
    "duration": 4,
    "start_time": "2024-01-20T05:45:48.301Z"
   },
   {
    "duration": 4,
    "start_time": "2024-01-20T05:46:09.082Z"
   },
   {
    "duration": 23,
    "start_time": "2024-01-20T05:46:15.698Z"
   },
   {
    "duration": 3,
    "start_time": "2024-01-20T05:46:20.055Z"
   },
   {
    "duration": 4,
    "start_time": "2024-01-20T05:46:28.050Z"
   },
   {
    "duration": 1192,
    "start_time": "2024-01-20T05:47:36.202Z"
   },
   {
    "duration": 4,
    "start_time": "2024-01-20T05:47:44.484Z"
   },
   {
    "duration": 8,
    "start_time": "2024-01-20T05:48:22.824Z"
   },
   {
    "duration": 166,
    "start_time": "2024-01-20T05:48:26.375Z"
   },
   {
    "duration": 3,
    "start_time": "2024-01-20T05:48:35.291Z"
   },
   {
    "duration": 11,
    "start_time": "2024-01-20T05:48:51.578Z"
   },
   {
    "duration": 25,
    "start_time": "2024-01-20T05:50:02.059Z"
   },
   {
    "duration": 4,
    "start_time": "2024-01-20T05:50:05.133Z"
   },
   {
    "duration": 4,
    "start_time": "2024-01-20T05:50:06.309Z"
   },
   {
    "duration": 5,
    "start_time": "2024-01-20T05:50:06.766Z"
   },
   {
    "duration": 5,
    "start_time": "2024-01-20T05:50:06.948Z"
   },
   {
    "duration": 5,
    "start_time": "2024-01-20T05:50:07.118Z"
   },
   {
    "duration": 4,
    "start_time": "2024-01-20T05:50:07.301Z"
   },
   {
    "duration": 4,
    "start_time": "2024-01-20T05:50:07.468Z"
   },
   {
    "duration": 4,
    "start_time": "2024-01-20T05:50:07.626Z"
   },
   {
    "duration": 4,
    "start_time": "2024-01-20T05:50:07.812Z"
   },
   {
    "duration": 4,
    "start_time": "2024-01-20T05:50:08.092Z"
   },
   {
    "duration": 4,
    "start_time": "2024-01-20T05:50:08.285Z"
   },
   {
    "duration": 4,
    "start_time": "2024-01-20T05:50:13.520Z"
   },
   {
    "duration": 4,
    "start_time": "2024-01-20T05:50:20.960Z"
   },
   {
    "duration": 11,
    "start_time": "2024-01-20T05:50:46.305Z"
   },
   {
    "duration": 11,
    "start_time": "2024-01-20T05:50:53.306Z"
   },
   {
    "duration": 3,
    "start_time": "2024-01-20T05:53:39.917Z"
   },
   {
    "duration": 77,
    "start_time": "2024-01-20T05:54:43.685Z"
   },
   {
    "duration": 9,
    "start_time": "2024-01-20T05:54:57.843Z"
   },
   {
    "duration": 10,
    "start_time": "2024-01-20T05:55:00.472Z"
   },
   {
    "duration": 258,
    "start_time": "2024-01-20T05:55:05.509Z"
   },
   {
    "duration": 10,
    "start_time": "2024-01-20T05:55:17.174Z"
   },
   {
    "duration": 10,
    "start_time": "2024-01-20T05:55:45.923Z"
   },
   {
    "duration": 17,
    "start_time": "2024-01-20T05:55:51.961Z"
   },
   {
    "duration": 48,
    "start_time": "2024-01-20T05:57:05.279Z"
   },
   {
    "duration": 1300,
    "start_time": "2024-01-20T05:57:14.402Z"
   },
   {
    "duration": 152,
    "start_time": "2024-01-20T05:57:15.704Z"
   },
   {
    "duration": 13,
    "start_time": "2024-01-20T05:57:15.858Z"
   },
   {
    "duration": 12,
    "start_time": "2024-01-20T05:57:15.873Z"
   },
   {
    "duration": 15,
    "start_time": "2024-01-20T05:57:15.886Z"
   },
   {
    "duration": 37,
    "start_time": "2024-01-20T05:57:15.903Z"
   },
   {
    "duration": 17,
    "start_time": "2024-01-20T05:57:15.943Z"
   },
   {
    "duration": 17,
    "start_time": "2024-01-20T05:57:15.962Z"
   },
   {
    "duration": 15,
    "start_time": "2024-01-20T05:57:15.980Z"
   },
   {
    "duration": 12,
    "start_time": "2024-01-20T05:57:15.997Z"
   },
   {
    "duration": 5,
    "start_time": "2024-01-20T05:57:16.011Z"
   },
   {
    "duration": 13,
    "start_time": "2024-01-20T05:57:16.018Z"
   },
   {
    "duration": 16,
    "start_time": "2024-01-20T05:57:16.033Z"
   },
   {
    "duration": 22,
    "start_time": "2024-01-20T05:57:16.051Z"
   },
   {
    "duration": 9,
    "start_time": "2024-01-20T05:57:16.075Z"
   },
   {
    "duration": 8,
    "start_time": "2024-01-20T05:57:16.086Z"
   },
   {
    "duration": 17,
    "start_time": "2024-01-20T05:57:16.096Z"
   },
   {
    "duration": 24,
    "start_time": "2024-01-20T05:57:16.115Z"
   },
   {
    "duration": 19,
    "start_time": "2024-01-20T05:57:16.141Z"
   },
   {
    "duration": 21,
    "start_time": "2024-01-20T05:57:16.162Z"
   },
   {
    "duration": 10,
    "start_time": "2024-01-20T05:57:16.185Z"
   },
   {
    "duration": 28,
    "start_time": "2024-01-20T05:57:16.197Z"
   },
   {
    "duration": 197,
    "start_time": "2024-01-20T05:57:16.227Z"
   },
   {
    "duration": 11,
    "start_time": "2024-01-20T05:57:16.426Z"
   },
   {
    "duration": 96,
    "start_time": "2024-01-20T05:57:16.439Z"
   },
   {
    "duration": 8,
    "start_time": "2024-01-20T05:57:16.537Z"
   },
   {
    "duration": 289,
    "start_time": "2024-01-20T05:57:16.546Z"
   },
   {
    "duration": 331,
    "start_time": "2024-01-20T05:57:16.840Z"
   },
   {
    "duration": 8,
    "start_time": "2024-01-20T05:57:17.173Z"
   },
   {
    "duration": 192,
    "start_time": "2024-01-20T05:57:17.183Z"
   },
   {
    "duration": 6,
    "start_time": "2024-01-20T05:57:17.377Z"
   },
   {
    "duration": 87,
    "start_time": "2024-01-20T05:57:17.385Z"
   },
   {
    "duration": 369,
    "start_time": "2024-01-20T05:57:17.473Z"
   },
   {
    "duration": 21,
    "start_time": "2024-01-20T05:57:17.843Z"
   },
   {
    "duration": 274,
    "start_time": "2024-01-20T05:57:17.865Z"
   },
   {
    "duration": 281,
    "start_time": "2024-01-20T05:57:18.140Z"
   },
   {
    "duration": 7,
    "start_time": "2024-01-20T05:57:18.422Z"
   },
   {
    "duration": 11,
    "start_time": "2024-01-20T05:57:18.430Z"
   },
   {
    "duration": 7,
    "start_time": "2024-01-20T05:57:18.458Z"
   },
   {
    "duration": 194,
    "start_time": "2024-01-20T05:57:18.467Z"
   },
   {
    "duration": 7,
    "start_time": "2024-01-20T05:57:18.662Z"
   },
   {
    "duration": 169,
    "start_time": "2024-01-20T05:57:18.671Z"
   },
   {
    "duration": 19,
    "start_time": "2024-01-20T05:57:18.842Z"
   },
   {
    "duration": 425,
    "start_time": "2024-01-20T05:57:18.862Z"
   },
   {
    "duration": 14,
    "start_time": "2024-01-20T05:57:19.290Z"
   },
   {
    "duration": 313,
    "start_time": "2024-01-20T05:57:19.305Z"
   },
   {
    "duration": 12,
    "start_time": "2024-01-20T05:57:19.620Z"
   },
   {
    "duration": 242,
    "start_time": "2024-01-20T05:57:19.634Z"
   },
   {
    "duration": 283,
    "start_time": "2024-01-20T05:57:19.878Z"
   },
   {
    "duration": 7,
    "start_time": "2024-01-20T05:57:20.163Z"
   },
   {
    "duration": 182,
    "start_time": "2024-01-20T05:57:20.172Z"
   },
   {
    "duration": 374,
    "start_time": "2024-01-20T05:57:20.358Z"
   },
   {
    "duration": 6,
    "start_time": "2024-01-20T05:57:20.734Z"
   },
   {
    "duration": 33,
    "start_time": "2024-01-20T05:57:20.742Z"
   },
   {
    "duration": 18,
    "start_time": "2024-01-20T05:57:20.777Z"
   },
   {
    "duration": 16,
    "start_time": "2024-01-20T05:57:20.797Z"
   },
   {
    "duration": 12,
    "start_time": "2024-01-20T05:57:20.814Z"
   },
   {
    "duration": 36,
    "start_time": "2024-01-20T05:57:20.828Z"
   },
   {
    "duration": 12,
    "start_time": "2024-01-20T05:57:20.866Z"
   },
   {
    "duration": 6,
    "start_time": "2024-01-20T05:57:20.880Z"
   },
   {
    "duration": 15,
    "start_time": "2024-01-20T05:57:20.887Z"
   },
   {
    "duration": 209,
    "start_time": "2024-01-20T05:57:20.904Z"
   },
   {
    "duration": 14,
    "start_time": "2024-01-20T05:57:21.114Z"
   },
   {
    "duration": 405,
    "start_time": "2024-01-20T05:57:21.130Z"
   },
   {
    "duration": 6,
    "start_time": "2024-01-20T05:57:21.536Z"
   },
   {
    "duration": 170,
    "start_time": "2024-01-20T05:57:21.544Z"
   },
   {
    "duration": 14,
    "start_time": "2024-01-20T05:57:21.716Z"
   },
   {
    "duration": 345,
    "start_time": "2024-01-20T05:57:21.732Z"
   },
   {
    "duration": 8,
    "start_time": "2024-01-20T05:57:22.079Z"
   },
   {
    "duration": 157,
    "start_time": "2024-01-20T05:57:22.088Z"
   },
   {
    "duration": 19,
    "start_time": "2024-01-20T05:57:22.247Z"
   },
   {
    "duration": 218,
    "start_time": "2024-01-20T05:57:22.268Z"
   },
   {
    "duration": 16,
    "start_time": "2024-01-20T05:57:22.487Z"
   },
   {
    "duration": 46,
    "start_time": "2024-01-20T05:57:22.505Z"
   },
   {
    "duration": 8,
    "start_time": "2024-01-20T05:57:22.553Z"
   },
   {
    "duration": 79,
    "start_time": "2024-01-20T05:57:22.563Z"
   },
   {
    "duration": 78,
    "start_time": "2024-01-20T05:57:22.643Z"
   },
   {
    "duration": 33,
    "start_time": "2024-01-20T05:57:22.722Z"
   },
   {
    "duration": 28,
    "start_time": "2024-01-20T05:57:22.756Z"
   },
   {
    "duration": 65,
    "start_time": "2024-01-20T05:57:22.786Z"
   },
   {
    "duration": 11,
    "start_time": "2024-01-20T05:57:22.853Z"
   },
   {
    "duration": 12,
    "start_time": "2024-01-20T05:57:22.871Z"
   },
   {
    "duration": 60,
    "start_time": "2024-01-20T05:57:22.885Z"
   },
   {
    "duration": 4,
    "start_time": "2024-01-20T05:57:22.946Z"
   },
   {
    "duration": 3136,
    "start_time": "2024-01-20T05:57:22.952Z"
   },
   {
    "duration": 10,
    "start_time": "2024-01-20T05:57:26.090Z"
   },
   {
    "duration": 13,
    "start_time": "2024-01-20T05:57:26.102Z"
   },
   {
    "duration": 15,
    "start_time": "2024-01-20T05:57:26.117Z"
   },
   {
    "duration": 10,
    "start_time": "2024-01-20T05:57:26.134Z"
   },
   {
    "duration": 20,
    "start_time": "2024-01-20T05:57:26.146Z"
   },
   {
    "duration": 32,
    "start_time": "2024-01-20T05:57:26.168Z"
   },
   {
    "duration": 795,
    "start_time": "2024-01-20T05:57:26.201Z"
   },
   {
    "duration": 4,
    "start_time": "2024-01-20T05:57:26.998Z"
   },
   {
    "duration": 1543,
    "start_time": "2024-01-20T05:57:27.004Z"
   },
   {
    "duration": 11,
    "start_time": "2024-01-20T05:57:28.549Z"
   },
   {
    "duration": 1819,
    "start_time": "2024-01-20T05:57:28.561Z"
   },
   {
    "duration": 6,
    "start_time": "2024-01-20T05:57:30.382Z"
   },
   {
    "duration": 2149,
    "start_time": "2024-01-20T05:57:30.390Z"
   },
   {
    "duration": 6,
    "start_time": "2024-01-20T05:57:32.541Z"
   },
   {
    "duration": 36253,
    "start_time": "2024-01-20T05:57:32.548Z"
   },
   {
    "duration": 3,
    "start_time": "2024-01-20T05:58:08.803Z"
   },
   {
    "duration": 17,
    "start_time": "2024-01-20T05:58:08.809Z"
   },
   {
    "duration": 4,
    "start_time": "2024-01-20T05:58:17.565Z"
   },
   {
    "duration": 4,
    "start_time": "2024-01-20T05:59:30.888Z"
   },
   {
    "duration": 4,
    "start_time": "2024-01-20T06:03:21.057Z"
   },
   {
    "duration": 26,
    "start_time": "2024-01-20T06:03:27.729Z"
   },
   {
    "duration": 3,
    "start_time": "2024-01-20T06:04:16.281Z"
   },
   {
    "duration": 41,
    "start_time": "2024-01-20T06:04:27.306Z"
   },
   {
    "duration": 3072,
    "start_time": "2024-01-20T06:04:51.218Z"
   },
   {
    "duration": 10,
    "start_time": "2024-01-20T06:04:54.292Z"
   },
   {
    "duration": 1313,
    "start_time": "2024-01-20T06:05:29.316Z"
   },
   {
    "duration": 1590,
    "start_time": "2024-01-20T06:05:44.020Z"
   },
   {
    "duration": 35,
    "start_time": "2024-01-20T06:06:40.247Z"
   },
   {
    "duration": 7,
    "start_time": "2024-01-20T06:06:42.204Z"
   },
   {
    "duration": 23,
    "start_time": "2024-01-20T06:06:46.682Z"
   },
   {
    "duration": 57,
    "start_time": "2024-01-20T06:07:01.655Z"
   },
   {
    "duration": 1323,
    "start_time": "2024-01-20T06:08:04.658Z"
   },
   {
    "duration": 34,
    "start_time": "2024-01-20T06:08:08.705Z"
   },
   {
    "duration": 45,
    "start_time": "2024-01-20T06:08:10.616Z"
   },
   {
    "duration": 10,
    "start_time": "2024-01-20T06:08:12.108Z"
   },
   {
    "duration": 5,
    "start_time": "2024-01-20T06:12:05.098Z"
   },
   {
    "duration": 7,
    "start_time": "2024-01-20T06:13:02.759Z"
   },
   {
    "duration": 7,
    "start_time": "2024-01-20T06:13:38.485Z"
   },
   {
    "duration": 323,
    "start_time": "2024-01-20T06:17:13.224Z"
   },
   {
    "duration": 187,
    "start_time": "2024-01-20T06:17:18.918Z"
   },
   {
    "duration": 305,
    "start_time": "2024-01-20T06:17:22.639Z"
   },
   {
    "duration": 185,
    "start_time": "2024-01-20T06:17:32.814Z"
   },
   {
    "duration": 209,
    "start_time": "2024-01-20T06:17:45.318Z"
   },
   {
    "duration": 181,
    "start_time": "2024-01-20T06:21:13.303Z"
   },
   {
    "duration": 186,
    "start_time": "2024-01-20T06:21:41.743Z"
   },
   {
    "duration": 371,
    "start_time": "2024-01-20T06:21:51.826Z"
   },
   {
    "duration": 186,
    "start_time": "2024-01-20T06:22:08.032Z"
   },
   {
    "duration": 158,
    "start_time": "2024-01-20T06:22:17.200Z"
   },
   {
    "duration": 163,
    "start_time": "2024-01-20T06:22:19.997Z"
   },
   {
    "duration": 81,
    "start_time": "2024-01-20T06:22:25.024Z"
   },
   {
    "duration": 323,
    "start_time": "2024-01-20T06:22:30.463Z"
   },
   {
    "duration": 293,
    "start_time": "2024-01-20T06:24:03.493Z"
   },
   {
    "duration": 27418,
    "start_time": "2024-01-20T06:24:13.099Z"
   },
   {
    "duration": 22169,
    "start_time": "2024-01-20T06:24:51.790Z"
   },
   {
    "duration": 170236,
    "start_time": "2024-01-20T06:25:16.142Z"
   },
   {
    "duration": 4,
    "start_time": "2024-01-20T06:30:59.776Z"
   },
   {
    "duration": 12,
    "start_time": "2024-01-20T06:32:40.065Z"
   },
   {
    "duration": 3,
    "start_time": "2024-01-20T06:32:44.752Z"
   },
   {
    "duration": 4,
    "start_time": "2024-01-20T06:32:46.399Z"
   },
   {
    "duration": 4,
    "start_time": "2024-01-20T06:34:05.657Z"
   },
   {
    "duration": 3,
    "start_time": "2024-01-20T06:34:19.784Z"
   },
   {
    "duration": 284,
    "start_time": "2024-01-20T06:34:21.112Z"
   },
   {
    "duration": 4,
    "start_time": "2024-01-20T06:35:06.351Z"
   },
   {
    "duration": 146,
    "start_time": "2024-01-20T06:35:08.241Z"
   },
   {
    "duration": 4,
    "start_time": "2024-01-20T06:35:47.865Z"
   },
   {
    "duration": 4,
    "start_time": "2024-01-20T06:35:52.600Z"
   },
   {
    "duration": 4,
    "start_time": "2024-01-20T06:36:04.247Z"
   },
   {
    "duration": 134,
    "start_time": "2024-01-20T06:36:11.677Z"
   },
   {
    "duration": 2026,
    "start_time": "2024-01-20T06:36:15.697Z"
   },
   {
    "duration": 142,
    "start_time": "2024-01-20T06:36:26.725Z"
   },
   {
    "duration": 139,
    "start_time": "2024-01-20T06:37:17.942Z"
   },
   {
    "duration": 81,
    "start_time": "2024-01-20T06:38:02.506Z"
   },
   {
    "duration": 107,
    "start_time": "2024-01-20T06:38:13.277Z"
   },
   {
    "duration": 180,
    "start_time": "2024-01-20T06:38:32.206Z"
   },
   {
    "duration": 157,
    "start_time": "2024-01-20T06:38:39.037Z"
   },
   {
    "duration": 149,
    "start_time": "2024-01-20T06:38:45.198Z"
   },
   {
    "duration": 2189,
    "start_time": "2024-01-20T06:39:33.776Z"
   },
   {
    "duration": 1374,
    "start_time": "2024-01-20T06:42:28.957Z"
   },
   {
    "duration": 4,
    "start_time": "2024-01-20T06:43:05.269Z"
   },
   {
    "duration": 12,
    "start_time": "2024-01-20T06:43:07.056Z"
   },
   {
    "duration": 4,
    "start_time": "2024-01-20T06:43:31.093Z"
   },
   {
    "duration": 133,
    "start_time": "2024-01-20T06:43:32.987Z"
   },
   {
    "duration": 2153,
    "start_time": "2024-01-20T06:43:38.034Z"
   },
   {
    "duration": 1088,
    "start_time": "2024-01-20T11:17:40.661Z"
   },
   {
    "duration": 330,
    "start_time": "2024-01-20T11:17:41.750Z"
   },
   {
    "duration": 16,
    "start_time": "2024-01-20T11:17:42.082Z"
   },
   {
    "duration": 15,
    "start_time": "2024-01-20T11:17:42.100Z"
   },
   {
    "duration": 11,
    "start_time": "2024-01-20T11:17:42.117Z"
   },
   {
    "duration": 13,
    "start_time": "2024-01-20T11:17:42.129Z"
   },
   {
    "duration": 7,
    "start_time": "2024-01-20T11:17:42.144Z"
   },
   {
    "duration": 10,
    "start_time": "2024-01-20T11:17:42.165Z"
   },
   {
    "duration": 6,
    "start_time": "2024-01-20T11:17:42.177Z"
   },
   {
    "duration": 8,
    "start_time": "2024-01-20T11:17:42.186Z"
   },
   {
    "duration": 9,
    "start_time": "2024-01-20T11:17:42.195Z"
   },
   {
    "duration": 9,
    "start_time": "2024-01-20T11:17:42.205Z"
   },
   {
    "duration": 9,
    "start_time": "2024-01-20T11:17:42.215Z"
   },
   {
    "duration": 50,
    "start_time": "2024-01-20T11:17:42.226Z"
   },
   {
    "duration": 7,
    "start_time": "2024-01-20T11:17:42.277Z"
   },
   {
    "duration": 7,
    "start_time": "2024-01-20T11:17:42.286Z"
   },
   {
    "duration": 13,
    "start_time": "2024-01-20T11:17:42.295Z"
   },
   {
    "duration": 12,
    "start_time": "2024-01-20T11:17:42.310Z"
   },
   {
    "duration": 6,
    "start_time": "2024-01-20T11:17:42.324Z"
   },
   {
    "duration": 38,
    "start_time": "2024-01-20T11:17:42.332Z"
   },
   {
    "duration": 7,
    "start_time": "2024-01-20T11:17:42.372Z"
   },
   {
    "duration": 14,
    "start_time": "2024-01-20T11:17:42.380Z"
   },
   {
    "duration": 172,
    "start_time": "2024-01-20T11:17:42.395Z"
   },
   {
    "duration": 11,
    "start_time": "2024-01-20T11:17:42.568Z"
   },
   {
    "duration": 69,
    "start_time": "2024-01-20T11:17:42.581Z"
   },
   {
    "duration": 18,
    "start_time": "2024-01-20T11:17:42.652Z"
   },
   {
    "duration": 243,
    "start_time": "2024-01-20T11:17:42.672Z"
   },
   {
    "duration": 286,
    "start_time": "2024-01-20T11:17:42.919Z"
   },
   {
    "duration": 8,
    "start_time": "2024-01-20T11:17:43.207Z"
   },
   {
    "duration": 174,
    "start_time": "2024-01-20T11:17:43.217Z"
   },
   {
    "duration": 7,
    "start_time": "2024-01-20T11:17:43.393Z"
   },
   {
    "duration": 15,
    "start_time": "2024-01-20T11:17:43.402Z"
   },
   {
    "duration": 365,
    "start_time": "2024-01-20T11:17:43.419Z"
   },
   {
    "duration": 13,
    "start_time": "2024-01-20T11:17:43.786Z"
   },
   {
    "duration": 259,
    "start_time": "2024-01-20T11:17:43.800Z"
   },
   {
    "duration": 244,
    "start_time": "2024-01-20T11:17:44.061Z"
   },
   {
    "duration": 6,
    "start_time": "2024-01-20T11:17:44.307Z"
   },
   {
    "duration": 10,
    "start_time": "2024-01-20T11:17:44.314Z"
   },
   {
    "duration": 7,
    "start_time": "2024-01-20T11:17:44.325Z"
   },
   {
    "duration": 198,
    "start_time": "2024-01-20T11:17:44.333Z"
   },
   {
    "duration": 7,
    "start_time": "2024-01-20T11:17:44.533Z"
   },
   {
    "duration": 185,
    "start_time": "2024-01-20T11:17:44.541Z"
   },
   {
    "duration": 10,
    "start_time": "2024-01-20T11:17:44.728Z"
   },
   {
    "duration": 405,
    "start_time": "2024-01-20T11:17:44.739Z"
   },
   {
    "duration": 19,
    "start_time": "2024-01-20T11:17:45.146Z"
   },
   {
    "duration": 289,
    "start_time": "2024-01-20T11:17:45.167Z"
   },
   {
    "duration": 17,
    "start_time": "2024-01-20T11:17:45.458Z"
   },
   {
    "duration": 228,
    "start_time": "2024-01-20T11:17:45.477Z"
   },
   {
    "duration": 261,
    "start_time": "2024-01-20T11:17:45.707Z"
   },
   {
    "duration": 9,
    "start_time": "2024-01-20T11:17:45.971Z"
   },
   {
    "duration": 151,
    "start_time": "2024-01-20T11:17:45.981Z"
   },
   {
    "duration": 298,
    "start_time": "2024-01-20T11:17:46.134Z"
   },
   {
    "duration": 4,
    "start_time": "2024-01-20T11:17:46.434Z"
   },
   {
    "duration": 29,
    "start_time": "2024-01-20T11:17:46.440Z"
   },
   {
    "duration": 14,
    "start_time": "2024-01-20T11:17:46.471Z"
   },
   {
    "duration": 10,
    "start_time": "2024-01-20T11:17:46.487Z"
   },
   {
    "duration": 14,
    "start_time": "2024-01-20T11:17:46.499Z"
   },
   {
    "duration": 9,
    "start_time": "2024-01-20T11:17:46.515Z"
   },
   {
    "duration": 42,
    "start_time": "2024-01-20T11:17:46.526Z"
   },
   {
    "duration": 8,
    "start_time": "2024-01-20T11:17:46.571Z"
   },
   {
    "duration": 5,
    "start_time": "2024-01-20T11:17:46.581Z"
   },
   {
    "duration": 194,
    "start_time": "2024-01-20T11:17:46.588Z"
   },
   {
    "duration": 15,
    "start_time": "2024-01-20T11:17:46.784Z"
   },
   {
    "duration": 380,
    "start_time": "2024-01-20T11:17:46.801Z"
   },
   {
    "duration": 5,
    "start_time": "2024-01-20T11:17:47.182Z"
   },
   {
    "duration": 140,
    "start_time": "2024-01-20T11:17:47.189Z"
   },
   {
    "duration": 12,
    "start_time": "2024-01-20T11:17:47.331Z"
   },
   {
    "duration": 271,
    "start_time": "2024-01-20T11:17:47.344Z"
   },
   {
    "duration": 6,
    "start_time": "2024-01-20T11:17:47.617Z"
   },
   {
    "duration": 121,
    "start_time": "2024-01-20T11:17:47.624Z"
   },
   {
    "duration": 32,
    "start_time": "2024-01-20T11:17:47.747Z"
   },
   {
    "duration": 187,
    "start_time": "2024-01-20T11:17:47.781Z"
   },
   {
    "duration": 17,
    "start_time": "2024-01-20T11:17:47.970Z"
   },
   {
    "duration": 23,
    "start_time": "2024-01-20T11:17:47.989Z"
   },
   {
    "duration": 4,
    "start_time": "2024-01-20T11:17:48.014Z"
   },
   {
    "duration": 8,
    "start_time": "2024-01-20T11:17:48.019Z"
   },
   {
    "duration": 5,
    "start_time": "2024-01-20T11:17:48.029Z"
   },
   {
    "duration": 4,
    "start_time": "2024-01-20T11:17:48.066Z"
   },
   {
    "duration": 45,
    "start_time": "2024-01-20T11:17:48.072Z"
   },
   {
    "duration": 70,
    "start_time": "2024-01-20T11:17:48.119Z"
   },
   {
    "duration": 9,
    "start_time": "2024-01-20T11:17:48.191Z"
   },
   {
    "duration": 7,
    "start_time": "2024-01-20T11:17:48.205Z"
   },
   {
    "duration": 14,
    "start_time": "2024-01-20T11:17:48.213Z"
   },
   {
    "duration": 9,
    "start_time": "2024-01-20T11:17:48.228Z"
   },
   {
    "duration": 37,
    "start_time": "2024-01-20T11:17:48.239Z"
   },
   {
    "duration": 5,
    "start_time": "2024-01-20T11:17:48.279Z"
   },
   {
    "duration": 152,
    "start_time": "2024-01-20T11:17:48.285Z"
   },
   {
    "duration": 2215,
    "start_time": "2024-01-20T11:17:48.439Z"
   },
   {
    "duration": 11,
    "start_time": "2024-01-20T11:17:50.655Z"
   },
   {
    "duration": 218,
    "start_time": "2024-01-20T11:17:50.667Z"
   },
   {
    "duration": 3,
    "start_time": "2024-01-20T11:17:50.887Z"
   },
   {
    "duration": 6,
    "start_time": "2024-01-20T11:20:45.067Z"
   }
  ],
  "kernelspec": {
   "display_name": "Python 3 (ipykernel)",
   "language": "python",
   "name": "python3"
  },
  "language_info": {
   "codemirror_mode": {
    "name": "ipython",
    "version": 3
   },
   "file_extension": ".py",
   "mimetype": "text/x-python",
   "name": "python",
   "nbconvert_exporter": "python",
   "pygments_lexer": "ipython3",
   "version": "3.10.9"
  },
  "toc": {
   "base_numbering": 1,
   "nav_menu": {},
   "number_sections": true,
   "sideBar": true,
   "skip_h1_title": true,
   "title_cell": "Table of Contents",
   "title_sidebar": "Contents",
   "toc_cell": false,
   "toc_position": {},
   "toc_section_display": true,
   "toc_window_display": false
  }
 },
 "nbformat": 4,
 "nbformat_minor": 5
}
