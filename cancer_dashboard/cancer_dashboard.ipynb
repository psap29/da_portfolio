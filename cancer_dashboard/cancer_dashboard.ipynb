{
 "cells": [
  {
   "cell_type": "markdown",
   "id": "d9f921f0",
   "metadata": {},
   "source": [
    "# Разработка дашборда в Yandex DataLens для визуализации отчета главного онколога РФ"
   ]
  },
  {
   "cell_type": "markdown",
   "id": "944c1ffb",
   "metadata": {},
   "source": [
    "## Описание проекта, цель и задачи\n",
    "Основная цель проекта заключается в создании дашборда для визуализаци медицинских данных, собранных в рамках ежегодного отчета онколога РФ за 2021 год. В дальнейшем планируется работа с данными за 2022 и предыдущие годы. Проект носит гуманитарную составляющую, так как призван облегчить анализ данных в медицинской сфере для понимания статистики по раковым заболеваниям в Российской Федерации.\n",
    "\n",
    "### Задачи:\n",
    "- Импортировать, предобработать и выгрузить данные из отчета\n",
    "- Подключить полученные предобработанные данные к Yandex DataLens, сформировать чарты\n",
    "- На основе чартов спроектировать дашборд с соответствующими селекторами\n",
    "- Подготовить краткую документацию к этапам предобработки данных, а также логике построения дашборда\n",
    "\n",
    "### Особенности данных:\n",
    "Все данные были получены из отчетов в формате PDF, поэтому представляют собой удобную форму для чтения пользователем, но не совсем удобны для анализа. Решения, принятые в рамках предобработки, представлены в следующем блоке."
   ]
  },
  {
   "cell_type": "markdown",
   "id": "d1ed210e",
   "metadata": {},
   "source": [
    "## Особенности предобработки данных\n",
    "\n",
    "### В ходе предобработки данных были сделаны следующие допущения:\n",
    "1. Так как количество листов в файлах разное, то было принято решение обработать первые листы отдельно от вторых. На базе полученных преобразований получить 2 вида общих таблиц при помощи метода concat(): первого листа и второго.\n",
    "2. В наборе таблиц присутствует одна, которая выбивается среди всех (22). Оставил ее вне рамок анализа и дашборда, так как не совсем понял, куда ее выносить. Тем не менее, думаю, что код ниже сможет предобработать и ее, только не в цикле, а вне него.\n",
    "3. Сделал колонку с кодами, но в некоторых случаях соответствия между кодом и названием органа не было. В целом, нужно получить список соответствий от заказчика и совместить по ключу (в нашем случае - коду), с этим проблем не должно быть. Оставляю пока что так из-за нехватки времени.\n",
    "4. Весь проект делал локально, отсюда и выбор библиотек (тетрадка лежит в одной директории со всеми файлами)."
   ]
  },
  {
   "cell_type": "markdown",
   "id": "acbdcace",
   "metadata": {},
   "source": [
    "## Проектирование дашборда"
   ]
  },
  {
   "cell_type": "markdown",
   "id": "b71a2540",
   "metadata": {},
   "source": [
    "Ссылка на дашборд - https://datalens.yandex/6jg11tbu24ayv"
   ]
  },
  {
   "cell_type": "markdown",
   "id": "5b507482",
   "metadata": {},
   "source": [
    "## Предобработка данных"
   ]
  },
  {
   "cell_type": "code",
   "execution_count": 1,
   "id": "1c75268c",
   "metadata": {},
   "outputs": [],
   "source": [
    "# импортируем все необходимые библиотеки\n",
    "import pandas as pd\n",
    "import openpyxl\n",
    "import numpy as np\n",
    "from pathlib import Path\n",
    "import re"
   ]
  },
  {
   "cell_type": "code",
   "execution_count": 2,
   "id": "70655a4e",
   "metadata": {},
   "outputs": [],
   "source": [
    "# указываем локальный путь до директории, где лежит Jupyter-notebook, там же лежат и файлы\n",
    "input_dir = Path.cwd()\n",
    "\n",
    "# создаем два пустых массива, куда будем складывать первые и вторые листы всех таблиц\n",
    "df_sheet_one = []\n",
    "df_sheet_two = []"
   ]
  },
  {
   "cell_type": "code",
   "execution_count": 3,
   "id": "66266f07",
   "metadata": {},
   "outputs": [],
   "source": [
    "# объявим функцию для отделения федеральных округов от областей\n",
    "def set_district(row):\n",
    "    if row['область'].isupper():\n",
    "        return row['область']\n",
    "    else:\n",
    "        return np.nan"
   ]
  },
  {
   "cell_type": "code",
   "execution_count": 4,
   "id": "e4a91c28",
   "metadata": {},
   "outputs": [],
   "source": [
    "# объявим функцию для предобработки данных\n",
    "def create_df_from_xlsx(sheetname):\n",
    "    # принты использую для отладки кода, чтобы понимать, в каком файле произошла ошибка, сохраним датафрейм\n",
    "    print(path)\n",
    "    df = pd.read_excel(path, sheetname)\n",
    "    # избавимся от шапки таблицы (для этого напишем универсальное решение, ориентироваться будем на строчку, перед словом\n",
    "    # РОССИЯ, так как все файлы единообразны), перед этим вынесем код в отдельную колонку\n",
    "    df['код'] = re.search(r'\\(([А-Яа-яA-Za-z0-9-,;]+)\\)', df.columns[0])[1]\n",
    "    condition = df[df.iloc[:, 0] == 'РОССИЯ'].index[0] - 1\n",
    "    df = df.drop(df.index[0: condition])\n",
    "    df.columns = df.loc[condition]\n",
    "    df = df.drop(condition).reset_index(drop=True) \n",
    "    return df"
   ]
  },
  {
   "cell_type": "code",
   "execution_count": 5,
   "id": "84bd16fd",
   "metadata": {},
   "outputs": [],
   "source": [
    "# создадим списки для переименования обоих листов в дальнейшем\n",
    "first_sheet_columns = ['область', 'всего на учете', 'в т.ч. выявлены активно, %', 'учет: абсолют.', 'учет: на 100 тыс.', 'учет 5 лет: абсолют.',\\\n",
    "                          'учет 5 лет: % от учета', 'индекс накопления контингентов', 'летальность, %', 'код']\n",
    "second_sheet_columns = ['область', 'всего ЗНО', 'диагноз подтвержден морфологически', 'стадия I', 'стадия II', 'стадия III',\\\n",
    "                          'стадия IV', 'неизвестная стадия', 'летальность в 1 год', 'код']"
   ]
  },
  {
   "cell_type": "code",
   "execution_count": 6,
   "id": "cff4e983",
   "metadata": {},
   "outputs": [
    {
     "name": "stdout",
     "output_type": "stream",
     "text": [
      "/Users/paulsapozhnikov/Desktop/Analytics/test/2021_Таблица_045_Состояние_онко_помощи_в_РФ.xlsx\n",
      "/Users/paulsapozhnikov/Desktop/Analytics/test/2021_Таблица_045_Состояние_онко_помощи_в_РФ.xlsx\n",
      "/Users/paulsapozhnikov/Desktop/Analytics/test/2021_Таблица_045_Состояние_онко_помощи_в_РФ.xlsx\n",
      "/Users/paulsapozhnikov/Desktop/Analytics/test/2021_Таблица_033_Состояние_онко_помощи_в_РФ.xlsx\n",
      "/Users/paulsapozhnikov/Desktop/Analytics/test/2021_Таблица_033_Состояние_онко_помощи_в_РФ.xlsx\n",
      "/Users/paulsapozhnikov/Desktop/Analytics/test/2021_Таблица_033_Состояние_онко_помощи_в_РФ.xlsx\n",
      "/Users/paulsapozhnikov/Desktop/Analytics/test/2021_Таблица_040_Состояние_онко_помощи_в_РФ.xlsx\n",
      "/Users/paulsapozhnikov/Desktop/Analytics/test/2021_Таблица_040_Состояние_онко_помощи_в_РФ.xlsx\n",
      "/Users/paulsapozhnikov/Desktop/Analytics/test/2021_Таблица_040_Состояние_онко_помощи_в_РФ.xlsx\n",
      "/Users/paulsapozhnikov/Desktop/Analytics/test/2021_Таблица_036_Состояние_онко_помощи_в_РФ.xlsx\n",
      "/Users/paulsapozhnikov/Desktop/Analytics/test/2021_Таблица_036_Состояние_онко_помощи_в_РФ.xlsx\n",
      "/Users/paulsapozhnikov/Desktop/Analytics/test/2021_Таблица_036_Состояние_онко_помощи_в_РФ.xlsx\n",
      "/Users/paulsapozhnikov/Desktop/Analytics/test/2021_Таблица_052_Состояние_онко_помощи_в_РФ.xlsx\n",
      "/Users/paulsapozhnikov/Desktop/Analytics/test/2021_Таблица_052_Состояние_онко_помощи_в_РФ.xlsx\n",
      "/Users/paulsapozhnikov/Desktop/Analytics/test/2021_Таблица_029_Состояние_онко_помощи_в_РФ.xlsx\n",
      "/Users/paulsapozhnikov/Desktop/Analytics/test/2021_Таблица_029_Состояние_онко_помощи_в_РФ.xlsx\n",
      "/Users/paulsapozhnikov/Desktop/Analytics/test/2021_Таблица_029_Состояние_онко_помощи_в_РФ.xlsx\n",
      "/Users/paulsapozhnikov/Desktop/Analytics/test/2021_Таблица_048_Состояние_онко_помощи_в_РФ.xlsx\n",
      "/Users/paulsapozhnikov/Desktop/Analytics/test/2021_Таблица_048_Состояние_онко_помощи_в_РФ.xlsx\n",
      "/Users/paulsapozhnikov/Desktop/Analytics/test/2021_Таблица_048_Состояние_онко_помощи_в_РФ.xlsx\n",
      "/Users/paulsapozhnikov/Desktop/Analytics/test/2021_Таблица_038_Состояние_онко_помощи_в_РФ.xlsx\n",
      "/Users/paulsapozhnikov/Desktop/Analytics/test/2021_Таблица_038_Состояние_онко_помощи_в_РФ.xlsx\n",
      "/Users/paulsapozhnikov/Desktop/Analytics/test/2021_Таблица_038_Состояние_онко_помощи_в_РФ.xlsx\n",
      "/Users/paulsapozhnikov/Desktop/Analytics/test/2021_Таблица_046_Состояние_онко_помощи_в_РФ.xlsx\n",
      "/Users/paulsapozhnikov/Desktop/Analytics/test/2021_Таблица_046_Состояние_онко_помощи_в_РФ.xlsx\n",
      "/Users/paulsapozhnikov/Desktop/Analytics/test/2021_Таблица_046_Состояние_онко_помощи_в_РФ.xlsx\n",
      "/Users/paulsapozhnikov/Desktop/Analytics/test/2021_Таблица_030_Состояние_онко_помощи_в_РФ.xlsx\n",
      "/Users/paulsapozhnikov/Desktop/Analytics/test/2021_Таблица_030_Состояние_онко_помощи_в_РФ.xlsx\n",
      "/Users/paulsapozhnikov/Desktop/Analytics/test/2021_Таблица_030_Состояние_онко_помощи_в_РФ.xlsx\n",
      "/Users/paulsapozhnikov/Desktop/Analytics/test/2021_Таблица_043_Состояние_онко_помощи_в_РФ.xlsx\n",
      "/Users/paulsapozhnikov/Desktop/Analytics/test/2021_Таблица_043_Состояние_онко_помощи_в_РФ.xlsx\n",
      "/Users/paulsapozhnikov/Desktop/Analytics/test/2021_Таблица_043_Состояние_онко_помощи_в_РФ.xlsx\n",
      "/Users/paulsapozhnikov/Desktop/Analytics/test/2021_Таблица_024_пр_Состояние_онко_помощи_в_РФ.xlsx\n",
      "/Users/paulsapozhnikov/Desktop/Analytics/test/2021_Таблица_024_пр_Состояние_онко_помощи_в_РФ.xlsx\n",
      "/Users/paulsapozhnikov/Desktop/Analytics/test/2021_Таблица_024_пр_Состояние_онко_помощи_в_РФ.xlsx\n",
      "/Users/paulsapozhnikov/Desktop/Analytics/test/2021_Таблица_027_Состояние_онко_помощи_в_РФ.xlsx\n",
      "/Users/paulsapozhnikov/Desktop/Analytics/test/2021_Таблица_027_Состояние_онко_помощи_в_РФ.xlsx\n",
      "/Users/paulsapozhnikov/Desktop/Analytics/test/2021_Таблица_027_Состояние_онко_помощи_в_РФ.xlsx\n",
      "/Users/paulsapozhnikov/Desktop/Analytics/test/2021_Таблица_051_Состояние_онко_помощи_в_РФ.xlsx\n",
      "/Users/paulsapozhnikov/Desktop/Analytics/test/2021_Таблица_051_Состояние_онко_помощи_в_РФ.xlsx\n",
      "/Users/paulsapozhnikov/Desktop/Analytics/test/2021_Таблица_051_Состояние_онко_помощи_в_РФ.xlsx\n",
      "/Users/paulsapozhnikov/Desktop/Analytics/test/2021_Таблица_035_Состояние_онко_помощи_в_РФ.xlsx\n",
      "/Users/paulsapozhnikov/Desktop/Analytics/test/2021_Таблица_035_Состояние_онко_помощи_в_РФ.xlsx\n",
      "/Users/paulsapozhnikov/Desktop/Analytics/test/2021_Таблица_035_Состояние_онко_помощи_в_РФ.xlsx\n",
      "/Users/paulsapozhnikov/Desktop/Analytics/test/2021_Таблица_039_Состояние_онко_помощи_в_РФ.xlsx\n",
      "/Users/paulsapozhnikov/Desktop/Analytics/test/2021_Таблица_039_Состояние_онко_помощи_в_РФ.xlsx\n",
      "/Users/paulsapozhnikov/Desktop/Analytics/test/2021_Таблица_039_Состояние_онко_помощи_в_РФ.xlsx\n",
      "/Users/paulsapozhnikov/Desktop/Analytics/test/2021_Таблица_050_Состояние_онко_помощи_в_РФ.xlsx\n",
      "/Users/paulsapozhnikov/Desktop/Analytics/test/2021_Таблица_050_Состояние_онко_помощи_в_РФ.xlsx\n",
      "/Users/paulsapozhnikov/Desktop/Analytics/test/2021_Таблица_050_Состояние_онко_помощи_в_РФ.xlsx\n",
      "/Users/paulsapozhnikov/Desktop/Analytics/test/2021_Таблица_034_Состояние_онко_помощи_в_РФ.xlsx\n",
      "/Users/paulsapozhnikov/Desktop/Analytics/test/2021_Таблица_034_Состояние_онко_помощи_в_РФ.xlsx\n",
      "/Users/paulsapozhnikov/Desktop/Analytics/test/2021_Таблица_034_Состояние_онко_помощи_в_РФ.xlsx\n",
      "/Users/paulsapozhnikov/Desktop/Analytics/test/2021_Таблица_042_Состояние_онко_помощи_в_РФ.xlsx\n",
      "/Users/paulsapozhnikov/Desktop/Analytics/test/2021_Таблица_042_Состояние_онко_помощи_в_РФ.xlsx\n",
      "/Users/paulsapozhnikov/Desktop/Analytics/test/2021_Таблица_042_Состояние_онко_помощи_в_РФ.xlsx\n",
      "/Users/paulsapozhnikov/Desktop/Analytics/test/2021_Таблица_026_Состояние_онко_помощи_в_РФ.xlsx\n",
      "/Users/paulsapozhnikov/Desktop/Analytics/test/2021_Таблица_026_Состояние_онко_помощи_в_РФ.xlsx\n",
      "/Users/paulsapozhnikov/Desktop/Analytics/test/2021_Таблица_026_Состояние_онко_помощи_в_РФ.xlsx\n",
      "/Users/paulsapozhnikov/Desktop/Analytics/test/2021_Таблица_031_Состояние_онко_помощи_в_РФ.xlsx\n",
      "/Users/paulsapozhnikov/Desktop/Analytics/test/2021_Таблица_031_Состояние_онко_помощи_в_РФ.xlsx\n",
      "/Users/paulsapozhnikov/Desktop/Analytics/test/2021_Таблица_031_Состояние_онко_помощи_в_РФ.xlsx\n",
      "/Users/paulsapozhnikov/Desktop/Analytics/test/2021_Таблица_047_Состояние_онко_помощи_в_РФ.xlsx\n",
      "/Users/paulsapozhnikov/Desktop/Analytics/test/2021_Таблица_047_Состояние_онко_помощи_в_РФ.xlsx\n",
      "/Users/paulsapozhnikov/Desktop/Analytics/test/2021_Таблица_047_Состояние_онко_помощи_в_РФ.xlsx\n",
      "/Users/paulsapozhnikov/Desktop/Analytics/test/2021_Таблица_037_Состояние_онко_помощи_в_РФ.xlsx\n",
      "/Users/paulsapozhnikov/Desktop/Analytics/test/2021_Таблица_037_Состояние_онко_помощи_в_РФ.xlsx\n",
      "/Users/paulsapozhnikov/Desktop/Analytics/test/2021_Таблица_037_Состояние_онко_помощи_в_РФ.xlsx\n",
      "/Users/paulsapozhnikov/Desktop/Analytics/test/2021_Таблица_053_Состояние_онко_помощи_в_РФ.xlsx\n",
      "/Users/paulsapozhnikov/Desktop/Analytics/test/2021_Таблица_053_Состояние_онко_помощи_в_РФ.xlsx\n",
      "/Users/paulsapozhnikov/Desktop/Analytics/test/2021_Таблица_025_Состояние_онко_помощи_в_РФ.xlsx\n",
      "/Users/paulsapozhnikov/Desktop/Analytics/test/2021_Таблица_025_Состояние_онко_помощи_в_РФ.xlsx\n",
      "/Users/paulsapozhnikov/Desktop/Analytics/test/2021_Таблица_025_Состояние_онко_помощи_в_РФ.xlsx\n",
      "/Users/paulsapozhnikov/Desktop/Analytics/test/2021_Таблица_041_Состояние_онко_помощи_в_РФ.xlsx\n",
      "/Users/paulsapozhnikov/Desktop/Analytics/test/2021_Таблица_041_Состояние_онко_помощи_в_РФ.xlsx\n",
      "/Users/paulsapozhnikov/Desktop/Analytics/test/2021_Таблица_041_Состояние_онко_помощи_в_РФ.xlsx\n",
      "/Users/paulsapozhnikov/Desktop/Analytics/test/2021_Таблица_032_Состояние_онко_помощи_в_РФ.xlsx\n",
      "/Users/paulsapozhnikov/Desktop/Analytics/test/2021_Таблица_032_Состояние_онко_помощи_в_РФ.xlsx\n",
      "/Users/paulsapozhnikov/Desktop/Analytics/test/2021_Таблица_032_Состояние_онко_помощи_в_РФ.xlsx\n",
      "/Users/paulsapozhnikov/Desktop/Analytics/test/2021_Таблица_044_Состояние_онко_помощи_в_РФ.xlsx\n",
      "/Users/paulsapozhnikov/Desktop/Analytics/test/2021_Таблица_044_Состояние_онко_помощи_в_РФ.xlsx\n",
      "/Users/paulsapozhnikov/Desktop/Analytics/test/2021_Таблица_044_Состояние_онко_помощи_в_РФ.xlsx\n",
      "/Users/paulsapozhnikov/Desktop/Analytics/test/2021_Таблица_049_Состояние_онко_помощи_в_РФ.xlsx\n",
      "/Users/paulsapozhnikov/Desktop/Analytics/test/2021_Таблица_049_Состояние_онко_помощи_в_РФ.xlsx\n",
      "/Users/paulsapozhnikov/Desktop/Analytics/test/2021_Таблица_049_Состояние_онко_помощи_в_РФ.xlsx\n",
      "/Users/paulsapozhnikov/Desktop/Analytics/test/2021_Таблица_028_Состояние_онко_помощи_в_РФ.xlsx\n",
      "/Users/paulsapozhnikov/Desktop/Analytics/test/2021_Таблица_028_Состояние_онко_помощи_в_РФ.xlsx\n",
      "/Users/paulsapozhnikov/Desktop/Analytics/test/2021_Таблица_028_Состояние_онко_помощи_в_РФ.xlsx\n"
     ]
    }
   ],
   "source": [
    "# пройдемся циклом по всем файлам формата xsl в указанной ранее директории без доступа в директории уровнем ниже, в зависимости от\n",
    "# количества листов в файле проведем необходимую предобработку (прокомментирую логику только первой ветки, остальные две по аналогии)\n",
    "for path in list(input_dir.glob('*.xls*')):\n",
    "    # открываем файл и получаем массив с названиями листов, чтобы автоматизировать выбор названия листа\n",
    "    workbook = openpyxl.load_workbook(path)\n",
    "    sheetnames = workbook.sheetnames\n",
    "    if len(sheetnames) > 1:\n",
    "        if sheetnames[0]:\n",
    "            df = create_df_from_xlsx(sheetnames[0])\n",
    "            \n",
    "            # преобразуем заголовки в понятную форму\n",
    "            df.columns = first_sheet_columns\n",
    "\n",
    "            # на основе созданной функции создадим столбец с федеральными округами, а также удалим строчки с суммарными значениями\n",
    "            # по каждому федеральному округу из датафрейма\n",
    "            df['ФО'] = df.apply(set_district, axis=1).fillna(method='ffill')\n",
    "            df = df.drop(df.loc[df['область'].str.isupper()].index)\n",
    "\n",
    "            # полученный датафрейм прикрепляем к массиву\n",
    "            df_sheet_one.append(df)\n",
    "\n",
    "        if sheetnames[1]:\n",
    "            print(path)\n",
    "            df = create_df_from_xlsx(sheetnames[1])\n",
    "            df.columns = second_sheet_columns\n",
    "            df['область'] = df['область'].astype('str')\n",
    "            df['ФО'] = df.apply(set_district, axis=1).fillna(method='ffill')\n",
    "            df = df.drop(df.loc[df['область'].str.isupper()].index)\n",
    "            df_sheet_two.append(df)\n",
    "\n",
    "    else:\n",
    "        print(path)\n",
    "        df = create_df_from_xlsx(sheetnames[0])\n",
    "        df.columns = first_sheet_columns\n",
    "        df['область'] = df['область'].astype('str')\n",
    "        df['ФО'] = df.apply(set_district, axis=1).fillna(method='ffill')\n",
    "        df = df.drop(df.loc[df['область'].str.isupper()].index)\n",
    "        df_sheet_one.append(df)"
   ]
  },
  {
   "cell_type": "code",
   "execution_count": 7,
   "id": "ccdf82a7",
   "metadata": {},
   "outputs": [],
   "source": [
    "# объединим датафреймы каждого из листов по вертикали, по аналогии с UNION-объединением в SQL\n",
    "sheet_one = pd.concat(df_sheet_one, ignore_index=False).reset_index(drop=True).reset_index()\n",
    "sheet_two = pd.concat(df_sheet_two, ignore_index=False).reset_index(drop=True).reset_index()"
   ]
  },
  {
   "cell_type": "code",
   "execution_count": 8,
   "id": "8bc5e313",
   "metadata": {},
   "outputs": [],
   "source": [
    "# экспортируем оба файла в формат .csv, так как Yandex DataLens не поддерживает формат Excel\n",
    "sheet_one.to_csv('sheet_one.csv', index=True)\n",
    "sheet_two.to_csv('sheet_two.csv', index=True)\n",
    "sheet_two.to_excel('sheet_two.xlsx', index=True)"
   ]
  }
 ],
 "metadata": {
  "kernelspec": {
   "display_name": "Python 3 (ipykernel)",
   "language": "python",
   "name": "python3"
  },
  "language_info": {
   "codemirror_mode": {
    "name": "ipython",
    "version": 3
   },
   "file_extension": ".py",
   "mimetype": "text/x-python",
   "name": "python",
   "nbconvert_exporter": "python",
   "pygments_lexer": "ipython3",
   "version": "3.10.9"
  }
 },
 "nbformat": 4,
 "nbformat_minor": 5
}
