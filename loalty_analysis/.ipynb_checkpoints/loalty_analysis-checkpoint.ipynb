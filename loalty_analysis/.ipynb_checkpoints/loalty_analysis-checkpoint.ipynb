{
 "cells": [
  {
   "cell_type": "markdown",
   "id": "2da238f4",
   "metadata": {},
   "source": [
    "# Исследование уровня потребительской лояльности"
   ]
  },
  {
   "cell_type": "markdown",
   "id": "330d2098",
   "metadata": {},
   "source": [
    "## Цель и задачи исследования"
   ]
  },
  {
   "cell_type": "markdown",
   "id": "7c7bd42d",
   "metadata": {},
   "source": [
    "**Заказчик исследования** — телекоммуникационная компания (NDA), оказывающая услуги на территории всего СНГ.\n",
    "\n",
    "**Цель исследования** — определить текущий уровень потребительской лояльности в компании на основе показателя NPS.\n",
    "\n",
    "**Задачи исследования**:\n",
    "- подключиться к базе данных,\n",
    "- выгрузить и провести предобработку данных при помощи SQL, а также получить итоговый датасет в формате csv,\n",
    "- создать дашборд в Tableau на базе полученного датасета, в котором отобразить распределение участников по полу и возрасту, количеству дней «жизни» клиента, географии, лояльности, общему NPS, а также более подробное описание категории «cторонников».\n",
    "\n",
    "**Источник данных** — данные предоставлены локально в SQLite в формате нескольких таблиц: `user` - информация о пользователях, `location` - справочник территорий, `age_segment` - информация о возрастных сегментах клиентах, `traffic_segment` - информация по потребляемому трафику, `lifetime_segment` - информация о выделяемых сегментах по количеству месяцев «жизни» клиента. Таблицы соединяются между собой посредством ключей, указанных в прилагаемой к исследованию документации.\n"
   ]
  },
  {
   "cell_type": "markdown",
   "id": "7f63a7c7",
   "metadata": {},
   "source": [
    "## Подключение к базе данных"
   ]
  },
  {
   "cell_type": "markdown",
   "id": "63289833",
   "metadata": {},
   "source": [
    "Для получения датасета необходимо подключиться к базе данных, представленной в формате `.db`. Для этого импортируем библиотеки `os`, отвечающей за системные настройки, `pandas` для выгрузки полученного датасета, `numpy` для работы с числовыми значениями, а также модуль `create_engine` библиотеки `sqlalchemy` для работы с SQL-запросами в рамках jupyter-тетрадки и pandas."
   ]
  },
  {
   "cell_type": "code",
   "execution_count": 1,
   "id": "fc7efa54",
   "metadata": {},
   "outputs": [],
   "source": [
    "# импортируем необходимые библиотеки\n",
    "import os\n",
    "import pandas as pd\n",
    "import numpy as np\n",
    "\n",
    "from sqlalchemy import create_engine"
   ]
  },
  {
   "cell_type": "markdown",
   "id": "73391308",
   "metadata": {},
   "source": [
    "Далее пропишем путь к базе данных в зависимости от пути расположения файла (на практике можно было бы оставит один путь, но так как мы работаем локально или на платформе, то лучше прописать оба)."
   ]
  },
  {
   "cell_type": "code",
   "execution_count": 2,
   "id": "0017f8e7",
   "metadata": {},
   "outputs": [],
   "source": [
    "# объявим переменные с возможными путями, а также основную переменную path_to_db, куда впоследствии будет сохраняться реализуемый\n",
    "# путь\n",
    "path_to_db_local = 'db.db'\n",
    "path_to_db_platform = '/datasets/db.db'\n",
    "path_to_db = None\n",
    "\n",
    "# при помощи библиотеки os определим путь файла и запишем его в переменную path_to_db\n",
    "if os.path.exists(path_to_db_local):\n",
    "    path_to_db = path_to_db_local\n",
    "elif os.path.exists(path_to_db_platform):\n",
    "    path_to_db = path_to_db_platform\n",
    "else:\n",
    "    raise Exception('Файл с базой данных SQLite не найден!')\n",
    "\n",
    "# создадим переменную с базой данных, которую будем использовать впоследствии с pandas\n",
    "if path_to_db:\n",
    "    engine = create_engine(f'sqlite:///{path_to_db}', echo=False)"
   ]
  },
  {
   "cell_type": "markdown",
   "id": "2bf10904",
   "metadata": {},
   "source": [
    "## Составление запроса и экспорт датасета"
   ]
  },
  {
   "cell_type": "markdown",
   "id": "56343310",
   "metadata": {},
   "source": [
    "Далее сформируем запрос: в рамках исследования необходимо объединить 4 таблицы, при этом срезы данных делаться не планируются, поэтому для удобства разбиения запросы на подзапросы воспользуемся табличными выражениями с `WITH`. При этом сами таблицы будем объединять при помощи `LEFT JOIN`: в случае того, если количество данных в справочниках по каким-то причинам отличаются от основной таблицы `user`, то в итоговый датасет попадут только те строки, которые присутствуют в таблице `user`.\n",
    "\n",
    "**В исследовании были сделаны следующие подзапросы:**\n",
    "- `new` - дополнительный столбец с категорией новизны клиенты;\n",
    "- `gs` - дополнительный столбец с изменением типа переменной с числовой на строковую в столбце с полом;"
   ]
  },
  {
   "cell_type": "code",
   "execution_count": 3,
   "id": "84ebad43",
   "metadata": {},
   "outputs": [],
   "source": [
    "# осуществляем запрос и сохраняем его в переменную query\n",
    "query = \"\"\"\n",
    "        WITH \n",
    "        new AS (SELECT user_id, \n",
    "                            CASE\n",
    "                             WHEN lt_day <= 365 THEN 'новые'\n",
    "                             WHEN lt_day > 365 THEN 'старые'\n",
    "                            END AS is_new\n",
    "                    FROM user),\n",
    "        gs AS (SELECT user_id,\n",
    "                               CASE\n",
    "                                WHEN gender_segment = 0 THEN 'мужчина'\n",
    "                                WHEN gender_segment = 1 THEN 'женщина'\n",
    "                                ELSE 'другой'\n",
    "                               END AS gender_segment\n",
    "                        FROM user)\n",
    "                        \n",
    "        SELECT u.user_id,\n",
    "               u.lt_day,\n",
    "               n.is_new,\n",
    "               u.age,\n",
    "               g.gender_segment,\n",
    "               u.os_name,\n",
    "               u.cpe_type_name,\n",
    "               l.country,\n",
    "               l.city,\n",
    "               ags.title AS age_segment,\n",
    "               trs.title AS traffic_segment,\n",
    "               lts.title AS lifetime_segment,\n",
    "               u.nps_score,\n",
    "               CASE\n",
    "                   WHEN u.nps_score >= 9 THEN \"сторонники\"\n",
    "                   WHEN u.nps_score >= 7 AND u.nps_score <= 8 THEN \"нейтралы\"\n",
    "                   WHEN u.nps_score <= 6 THEN \"критики\"\n",
    "               END AS nps_group\n",
    "        FROM user AS u\n",
    "        LEFT JOIN new AS n ON u.user_id = n.user_id\n",
    "        LEFT JOIN gs AS g ON u.user_id = g.user_id\n",
    "        LEFT JOIN location AS l ON u.location_id = l.location_id\n",
    "        LEFT JOIN age_segment AS ags ON u.age_gr_id = ags.age_gr_id\n",
    "        LEFT JOIN traffic_segment AS trs ON u.tr_gr_id = trs.tr_gr_id\n",
    "        LEFT JOIN lifetime_segment AS lts ON u.lt_gr_id = lts.lt_gr_id;\n",
    "\"\"\""
   ]
  },
  {
   "cell_type": "markdown",
   "id": "d756ffa7",
   "metadata": {},
   "source": [
    "На базе полученного запроса создадим датасет для дальнейшего экспорта в формате `csv` и работе в Tableau. Перед экспортом проверим датасет на корректность составленного запроса и отобразим 5 первых элементов."
   ]
  },
  {
   "cell_type": "code",
   "execution_count": 4,
   "id": "3965faf2",
   "metadata": {},
   "outputs": [
    {
     "data": {
      "text/html": [
       "<div>\n",
       "<style scoped>\n",
       "    .dataframe tbody tr th:only-of-type {\n",
       "        vertical-align: middle;\n",
       "    }\n",
       "\n",
       "    .dataframe tbody tr th {\n",
       "        vertical-align: top;\n",
       "    }\n",
       "\n",
       "    .dataframe thead th {\n",
       "        text-align: right;\n",
       "    }\n",
       "</style>\n",
       "<table border=\"1\" class=\"dataframe\">\n",
       "  <thead>\n",
       "    <tr style=\"text-align: right;\">\n",
       "      <th></th>\n",
       "      <th>user_id</th>\n",
       "      <th>lt_day</th>\n",
       "      <th>is_new</th>\n",
       "      <th>age</th>\n",
       "      <th>gender_segment</th>\n",
       "      <th>os_name</th>\n",
       "      <th>cpe_type_name</th>\n",
       "      <th>country</th>\n",
       "      <th>city</th>\n",
       "      <th>age_segment</th>\n",
       "      <th>traffic_segment</th>\n",
       "      <th>lifetime_segment</th>\n",
       "      <th>nps_score</th>\n",
       "      <th>nps_group</th>\n",
       "    </tr>\n",
       "  </thead>\n",
       "  <tbody>\n",
       "    <tr>\n",
       "      <th>0</th>\n",
       "      <td>A001A2</td>\n",
       "      <td>2320</td>\n",
       "      <td>старые</td>\n",
       "      <td>45.0</td>\n",
       "      <td>женщина</td>\n",
       "      <td>ANDROID</td>\n",
       "      <td>SMARTPHONE</td>\n",
       "      <td>Россия</td>\n",
       "      <td>Уфа</td>\n",
       "      <td>05 45-54</td>\n",
       "      <td>04 1-5</td>\n",
       "      <td>08 36+</td>\n",
       "      <td>10</td>\n",
       "      <td>сторонники</td>\n",
       "    </tr>\n",
       "    <tr>\n",
       "      <th>1</th>\n",
       "      <td>A001WF</td>\n",
       "      <td>2344</td>\n",
       "      <td>старые</td>\n",
       "      <td>53.0</td>\n",
       "      <td>мужчина</td>\n",
       "      <td>ANDROID</td>\n",
       "      <td>SMARTPHONE</td>\n",
       "      <td>Россия</td>\n",
       "      <td>Киров</td>\n",
       "      <td>05 45-54</td>\n",
       "      <td>04 1-5</td>\n",
       "      <td>08 36+</td>\n",
       "      <td>10</td>\n",
       "      <td>сторонники</td>\n",
       "    </tr>\n",
       "    <tr>\n",
       "      <th>2</th>\n",
       "      <td>A003Q7</td>\n",
       "      <td>467</td>\n",
       "      <td>старые</td>\n",
       "      <td>57.0</td>\n",
       "      <td>мужчина</td>\n",
       "      <td>ANDROID</td>\n",
       "      <td>SMARTPHONE</td>\n",
       "      <td>Россия</td>\n",
       "      <td>Москва</td>\n",
       "      <td>06 55-64</td>\n",
       "      <td>08 20-25</td>\n",
       "      <td>06 13-24</td>\n",
       "      <td>10</td>\n",
       "      <td>сторонники</td>\n",
       "    </tr>\n",
       "    <tr>\n",
       "      <th>3</th>\n",
       "      <td>A004TB</td>\n",
       "      <td>4190</td>\n",
       "      <td>старые</td>\n",
       "      <td>44.0</td>\n",
       "      <td>женщина</td>\n",
       "      <td>IOS</td>\n",
       "      <td>SMARTPHONE</td>\n",
       "      <td>Россия</td>\n",
       "      <td>РостовнаДону</td>\n",
       "      <td>04 35-44</td>\n",
       "      <td>03 0.1-1</td>\n",
       "      <td>08 36+</td>\n",
       "      <td>10</td>\n",
       "      <td>сторонники</td>\n",
       "    </tr>\n",
       "    <tr>\n",
       "      <th>4</th>\n",
       "      <td>A004XT</td>\n",
       "      <td>1163</td>\n",
       "      <td>старые</td>\n",
       "      <td>24.0</td>\n",
       "      <td>мужчина</td>\n",
       "      <td>ANDROID</td>\n",
       "      <td>SMARTPHONE</td>\n",
       "      <td>Россия</td>\n",
       "      <td>Рязань</td>\n",
       "      <td>02 16-24</td>\n",
       "      <td>05 5-10</td>\n",
       "      <td>08 36+</td>\n",
       "      <td>10</td>\n",
       "      <td>сторонники</td>\n",
       "    </tr>\n",
       "  </tbody>\n",
       "</table>\n",
       "</div>"
      ],
      "text/plain": [
       "  user_id  lt_day  is_new   age gender_segment  os_name cpe_type_name country  \\\n",
       "0  A001A2    2320  старые  45.0        женщина  ANDROID    SMARTPHONE  Россия   \n",
       "1  A001WF    2344  старые  53.0        мужчина  ANDROID    SMARTPHONE  Россия   \n",
       "2  A003Q7     467  старые  57.0        мужчина  ANDROID    SMARTPHONE  Россия   \n",
       "3  A004TB    4190  старые  44.0        женщина      IOS    SMARTPHONE  Россия   \n",
       "4  A004XT    1163  старые  24.0        мужчина  ANDROID    SMARTPHONE  Россия   \n",
       "\n",
       "           city age_segment traffic_segment lifetime_segment  nps_score  \\\n",
       "0           Уфа    05 45-54          04 1-5           08 36+         10   \n",
       "1         Киров    05 45-54          04 1-5           08 36+         10   \n",
       "2        Москва    06 55-64        08 20-25         06 13-24         10   \n",
       "3  РостовнаДону    04 35-44        03 0.1-1           08 36+         10   \n",
       "4        Рязань    02 16-24         05 5-10           08 36+         10   \n",
       "\n",
       "    nps_group  \n",
       "0  сторонники  \n",
       "1  сторонники  \n",
       "2  сторонники  \n",
       "3  сторонники  \n",
       "4  сторонники  "
      ]
     },
     "execution_count": 4,
     "metadata": {},
     "output_type": "execute_result"
    }
   ],
   "source": [
    "# сохраним результаты запроса в переменную df для создания датасета\n",
    "df = pd.read_sql(query, engine)\n",
    "\n",
    "# проверим корректность составленного запроса и выведем первые 5 строк датасета на экран\n",
    "df.head()"
   ]
  },
  {
   "cell_type": "markdown",
   "id": "cc19c09b",
   "metadata": {},
   "source": [
    "Запрос был составлен корректно, о чем свидетельствует полученный выше датасет. Тем не менее, необходимо провести первичную предобработку данных и скорректировать запрос, в частности:\n",
    "- отформатировать значения в столбце `city` (и, возможно, в `country`) в силу того, что названия городов, написанных через пробел или дефис, были написаны некорректно;\n",
    "- убрать нумерацию в значениях категорий в столбцах `age_segment`, `traffic_segment` и `lifetime_segment`. Мне кажется, что нумерация является избыточной: ее можно было бы оставить, если бы, например, в документации к исследованию было сказано, что это кодовые значения, которые необходимо использовать в рамках анализа вместо наименований, однако этого указано не было, поэтому для наглядности оставим именно названия категорий.\n",
    "\n",
    "Для форматирования значений выведем уникальные значения столбцов `country` и `unique` (про условия использования SQL помню, но Python я использую не столько для предобработки сколько для проведения анализа, чтобы не переписывать запрос несколько раз). "
   ]
  },
  {
   "cell_type": "code",
   "execution_count": 5,
   "id": "642e37b6",
   "metadata": {},
   "outputs": [
    {
     "data": {
      "text/plain": [
       "array(['Россия'], dtype=object)"
      ]
     },
     "execution_count": 5,
     "metadata": {},
     "output_type": "execute_result"
    }
   ],
   "source": [
    "# выведем уникальные значения стран\n",
    "df['country'].unique()"
   ]
  },
  {
   "cell_type": "code",
   "execution_count": 6,
   "id": "0615d604",
   "metadata": {},
   "outputs": [
    {
     "data": {
      "text/plain": [
       "array(['Уфа', 'Киров', 'Москва', 'РостовнаДону', 'Рязань', 'Омск',\n",
       "       'СанктПетербург', 'Волгоград', 'Тольятти', 'Казань', 'Самара',\n",
       "       'Красноярск', 'Екатеринбург', 'Калуга', 'Краснодар', 'Иркутск',\n",
       "       'Пермь', 'Владимир', 'Ижевск', 'Тюмень', 'Оренбург',\n",
       "       'НижнийНовгород', 'Брянск', 'Челябинск', 'Астрахань', 'Сургут',\n",
       "       'Тверь', 'Новосибирск', 'НабережныеЧелны', 'Махачкала', 'Воронеж',\n",
       "       'Курск', 'Владивосток', 'Балашиха', 'Пенза', 'Калининград', 'Тула',\n",
       "       'Саратов', 'Кемерово', 'Белгород', 'Барнаул', 'Чебоксары',\n",
       "       'Архангельск', 'Томск', 'Ярославль', 'Ульяновск', 'Хабаровск',\n",
       "       'Грозный', 'Ставрополь', 'Липецк', 'Новокузнецк', 'Якутск',\n",
       "       'УланУдэ', 'Сочи', 'Иваново', 'НижнийТагил', 'Смоленск',\n",
       "       'Волжский', 'Магнитогорск', 'Чита', 'Череповец', 'Саранск'],\n",
       "      dtype=object)"
      ]
     },
     "execution_count": 6,
     "metadata": {},
     "output_type": "execute_result"
    }
   ],
   "source": [
    "# выведем уникальные значения городов\n",
    "df['city'].unique()"
   ]
  },
  {
   "cell_type": "markdown",
   "id": "64aff750",
   "metadata": {},
   "source": [
    "Видим, что в датасете присутствует только одна страна - Россия, а вот среди городов встречаются некорретные значения, в частности - `РостовнаДону`, `СанктПетербург`, `НижнийНовгород`, `НабережныеЧелны`, `УланУдэ` и `НижнийТагил`. Переименуем данные значения вручную: для автоматизации можно было бы использовать регулярные выражения, но в данном случае количество значений не такое большое, поэтому можно обойтись без них. Также уберем нумерацию из столбцов, обозначенных выше."
   ]
  },
  {
   "cell_type": "code",
   "execution_count": 7,
   "id": "bbc3b7c1",
   "metadata": {},
   "outputs": [
    {
     "data": {
      "text/html": [
       "<div>\n",
       "<style scoped>\n",
       "    .dataframe tbody tr th:only-of-type {\n",
       "        vertical-align: middle;\n",
       "    }\n",
       "\n",
       "    .dataframe tbody tr th {\n",
       "        vertical-align: top;\n",
       "    }\n",
       "\n",
       "    .dataframe thead th {\n",
       "        text-align: right;\n",
       "    }\n",
       "</style>\n",
       "<table border=\"1\" class=\"dataframe\">\n",
       "  <thead>\n",
       "    <tr style=\"text-align: right;\">\n",
       "      <th></th>\n",
       "      <th>user_id</th>\n",
       "      <th>lt_day</th>\n",
       "      <th>is_new</th>\n",
       "      <th>age</th>\n",
       "      <th>gender_segment</th>\n",
       "      <th>os_name</th>\n",
       "      <th>cpe_type_name</th>\n",
       "      <th>country</th>\n",
       "      <th>city</th>\n",
       "      <th>age_segment</th>\n",
       "      <th>traffic_segment</th>\n",
       "      <th>lifetime_segment</th>\n",
       "      <th>nps_score</th>\n",
       "      <th>nps_group</th>\n",
       "    </tr>\n",
       "  </thead>\n",
       "  <tbody>\n",
       "    <tr>\n",
       "      <th>0</th>\n",
       "      <td>A001A2</td>\n",
       "      <td>2320</td>\n",
       "      <td>старые</td>\n",
       "      <td>45.0</td>\n",
       "      <td>женщина</td>\n",
       "      <td>ANDROID</td>\n",
       "      <td>SMARTPHONE</td>\n",
       "      <td>Россия</td>\n",
       "      <td>Уфа</td>\n",
       "      <td>45-54</td>\n",
       "      <td>1-5</td>\n",
       "      <td>36+</td>\n",
       "      <td>10</td>\n",
       "      <td>сторонники</td>\n",
       "    </tr>\n",
       "    <tr>\n",
       "      <th>1</th>\n",
       "      <td>A001WF</td>\n",
       "      <td>2344</td>\n",
       "      <td>старые</td>\n",
       "      <td>53.0</td>\n",
       "      <td>мужчина</td>\n",
       "      <td>ANDROID</td>\n",
       "      <td>SMARTPHONE</td>\n",
       "      <td>Россия</td>\n",
       "      <td>Киров</td>\n",
       "      <td>45-54</td>\n",
       "      <td>1-5</td>\n",
       "      <td>36+</td>\n",
       "      <td>10</td>\n",
       "      <td>сторонники</td>\n",
       "    </tr>\n",
       "    <tr>\n",
       "      <th>2</th>\n",
       "      <td>A003Q7</td>\n",
       "      <td>467</td>\n",
       "      <td>старые</td>\n",
       "      <td>57.0</td>\n",
       "      <td>мужчина</td>\n",
       "      <td>ANDROID</td>\n",
       "      <td>SMARTPHONE</td>\n",
       "      <td>Россия</td>\n",
       "      <td>Москва</td>\n",
       "      <td>55-64</td>\n",
       "      <td>20-25</td>\n",
       "      <td>13-24</td>\n",
       "      <td>10</td>\n",
       "      <td>сторонники</td>\n",
       "    </tr>\n",
       "    <tr>\n",
       "      <th>3</th>\n",
       "      <td>A004TB</td>\n",
       "      <td>4190</td>\n",
       "      <td>старые</td>\n",
       "      <td>44.0</td>\n",
       "      <td>женщина</td>\n",
       "      <td>IOS</td>\n",
       "      <td>SMARTPHONE</td>\n",
       "      <td>Россия</td>\n",
       "      <td>Ростов-на-Дону</td>\n",
       "      <td>35-44</td>\n",
       "      <td>0.1-1</td>\n",
       "      <td>36+</td>\n",
       "      <td>10</td>\n",
       "      <td>сторонники</td>\n",
       "    </tr>\n",
       "    <tr>\n",
       "      <th>4</th>\n",
       "      <td>A004XT</td>\n",
       "      <td>1163</td>\n",
       "      <td>старые</td>\n",
       "      <td>24.0</td>\n",
       "      <td>мужчина</td>\n",
       "      <td>ANDROID</td>\n",
       "      <td>SMARTPHONE</td>\n",
       "      <td>Россия</td>\n",
       "      <td>Рязань</td>\n",
       "      <td>16-24</td>\n",
       "      <td>5-10</td>\n",
       "      <td>36+</td>\n",
       "      <td>10</td>\n",
       "      <td>сторонники</td>\n",
       "    </tr>\n",
       "  </tbody>\n",
       "</table>\n",
       "</div>"
      ],
      "text/plain": [
       "  user_id  lt_day  is_new   age gender_segment  os_name cpe_type_name country  \\\n",
       "0  A001A2    2320  старые  45.0        женщина  ANDROID    SMARTPHONE  Россия   \n",
       "1  A001WF    2344  старые  53.0        мужчина  ANDROID    SMARTPHONE  Россия   \n",
       "2  A003Q7     467  старые  57.0        мужчина  ANDROID    SMARTPHONE  Россия   \n",
       "3  A004TB    4190  старые  44.0        женщина      IOS    SMARTPHONE  Россия   \n",
       "4  A004XT    1163  старые  24.0        мужчина  ANDROID    SMARTPHONE  Россия   \n",
       "\n",
       "             city age_segment traffic_segment lifetime_segment  nps_score  \\\n",
       "0             Уфа       45-54             1-5              36+         10   \n",
       "1           Киров       45-54             1-5              36+         10   \n",
       "2          Москва       55-64           20-25            13-24         10   \n",
       "3  Ростов-на-Дону       35-44           0.1-1              36+         10   \n",
       "4          Рязань       16-24            5-10              36+         10   \n",
       "\n",
       "    nps_group  \n",
       "0  сторонники  \n",
       "1  сторонники  \n",
       "2  сторонники  \n",
       "3  сторонники  \n",
       "4  сторонники  "
      ]
     },
     "execution_count": 7,
     "metadata": {},
     "output_type": "execute_result"
    }
   ],
   "source": [
    "# перезаписываем запрос\n",
    "query = \"\"\"\n",
    "        WITH \n",
    "        new AS (SELECT user_id, \n",
    "                            CASE\n",
    "                             WHEN lt_day <= 365 THEN 'новые'\n",
    "                             WHEN lt_day > 365 THEN 'старые'\n",
    "                            END AS is_new\n",
    "                    FROM user),\n",
    "        gs AS (SELECT user_id,\n",
    "                               CASE\n",
    "                                WHEN gender_segment = 0 THEN 'мужчина'\n",
    "                                WHEN gender_segment = 1 THEN 'женщина'\n",
    "                                ELSE 'другой'\n",
    "                               END AS gender_segment\n",
    "                        FROM user)\n",
    "                        \n",
    "        SELECT u.user_id,\n",
    "               u.lt_day,\n",
    "               n.is_new,\n",
    "               u.age,\n",
    "               g.gender_segment,\n",
    "               u.os_name,\n",
    "               u.cpe_type_name,\n",
    "               l.country,\n",
    "               CASE\n",
    "                   WHEN l.city = 'РостовнаДону' THEN 'Ростов-на-Дону'\n",
    "                   WHEN l.city = 'СанктПетербург' THEN 'Санкт-Петербург'\n",
    "                   WHEN l.city = 'НижнийНовгород' THEN 'Нижний Новгород'\n",
    "                   WHEN l.city = 'НабережныеЧелны' THEN 'Набережные Челны'\n",
    "                   WHEN l.city = 'УланУдэ' THEN 'Улан-Удэ'\n",
    "                   WHEN l.city = 'НижнийТагил' THEN 'Нижний Тагил'\n",
    "                   ELSE l.city\n",
    "                   END AS city,\n",
    "               SUBSTRING(ags.title, 3) AS age_segment,\n",
    "               SUBSTRING(trs.title, 3) AS traffic_segment,\n",
    "               SUBSTRING(lts.title, 3) AS lifetime_segment,\n",
    "               u.nps_score,\n",
    "               CASE\n",
    "                   WHEN u.nps_score >= 9 THEN \"сторонники\"\n",
    "                   WHEN u.nps_score >= 7 AND u.nps_score <= 8 THEN \"нейтралы\"\n",
    "                   WHEN u.nps_score <= 6 THEN \"критики\"\n",
    "               END AS nps_group\n",
    "        FROM user AS u\n",
    "        LEFT JOIN new AS n ON u.user_id = n.user_id\n",
    "        LEFT JOIN gs AS g ON u.user_id = g.user_id\n",
    "        LEFT JOIN location AS l ON u.location_id = l.location_id\n",
    "        LEFT JOIN age_segment AS ags ON u.age_gr_id = ags.age_gr_id\n",
    "        LEFT JOIN traffic_segment AS trs ON u.tr_gr_id = trs.tr_gr_id\n",
    "        LEFT JOIN lifetime_segment AS lts ON u.lt_gr_id = lts.lt_gr_id;\n",
    "\"\"\"\n",
    "\n",
    "# перезапишем датасет в переменную и выведем первые пять строк на экране\n",
    "df = pd.read_sql(query, engine)\n",
    "df.head()"
   ]
  },
  {
   "cell_type": "markdown",
   "id": "f0150387",
   "metadata": {},
   "source": [
    "Видим, что необходимые преобразования в датасете были успешно проведены. Экспортируем датасет в формате `csv` для проведения анализа и проектирования дашборда в Tableau."
   ]
  },
  {
   "cell_type": "code",
   "execution_count": 8,
   "id": "9db04858",
   "metadata": {},
   "outputs": [],
   "source": [
    "# экспортируем датасет в csv-файл\n",
    "df.to_csv('telecomm_csi_tableau.csv', index=False)"
   ]
  },
  {
   "cell_type": "markdown",
   "id": "6f98150a",
   "metadata": {},
   "source": [
    "## Проектирование дашборда и презентации в Tableau"
   ]
  },
  {
   "cell_type": "markdown",
   "id": "5c904dec",
   "metadata": {},
   "source": [
    "В рамках работы над визуализациями, дашбордами и презентацией в Tableau были переименованы поля (для удобства работы), а также рассчитана мера NPS, на базе которой были созданы визуализации, дашборды (общий и 2 детальных, с фильтрами и actions), а также презентация. \n",
    "\n",
    "**Ссылка на презентацию Tableau** - https://public.tableau.com/app/profile/pavel.6518/viz/NPS__/NPS_1?publish=yes"
   ]
  },
  {
   "cell_type": "markdown",
   "id": "a7b77f61",
   "metadata": {},
   "source": [
    "## Выводы"
   ]
  },
  {
   "cell_type": "markdown",
   "id": "7f0d4f6a",
   "metadata": {},
   "source": [
    "**В ходе проведения исследования были получены следующие выводы:**\n",
    "- В большей степени пользователи представлены в возрасте 25-54 лет, что необходимо учитывать при анализе итогового значения NPS. Так, например, менее лояльными или нейтральными являются более молодые (25-44 года), а более лояльными - старшие пользователи (34-54 года). Вполне вероятно, что если компания сможет увеличить количество лояльных пользователей среди молодежи, то это увеличит NPS.\n",
    "- По поволому распределению между пользователями нет особых различий: доминирует женский пол, однако разница между полами не очень существенная. При этом наибольшая разница наблюдается при анализе сторонников компании: женщин оказывается все еще не существенно, но больше, чем при других значениях.\n",
    "- Более 90% пользователей используют смартфоны, менее 2% - планшеты, а также 0.5% - телефоны. 1. При анализе операционных систем выяснили, что в большей степени респонденты используют Android - более 80%, около 12% - iOS, в меньшей степени прочие операционные системы. По количеству трафика большинство пользователей потребляют в районе не менее 1-15 МБ в установленный период. Значение показателя NPS держится на достаточном среднем уровне в районе 20% среди пользователей наиболее популярных устройств, ОС и количества потребляемого трафика. Стоит обратиться внимание на iOS, так как это вторая по популярности среди пользователей ОС, где NPS стремится к нулю.\n",
    "- Если анализировать соотношение новых и старых пользователей, то можно заметить, что старые пользователи значительно превалируют над новыми. При этом если сравнить их по категориям NPS, то можно заметить, что соотношения между ними не сильно меняются: единственный момент - наибольшая доля новых пользователей приходится в категории сторонников компании, а наименьшая - критиков. Вполне вероятно, что новые пользователи в большей степени склонны к позитивной оценке сервиса, чем к негативной.\n",
    "- ТОП-10 городов среди пользователей составляют Москва, Санкт-Петербург, Нижний Новгород, Омск, Екатеринбург, Новосибирск, Ростов-на-Дону, Самара и Челябинск. Во всех сегментах NPS лидируют Москва и Санкт-Петербург, а в меньшей степени - Омск, Челябинск и Ростов-на-Дону."
   ]
  }
 ],
 "metadata": {
  "ExecuteTimeLog": [
   {
    "duration": 549,
    "start_time": "2023-09-25T12:12:28.234Z"
   },
   {
    "duration": 80,
    "start_time": "2023-09-25T12:12:28.786Z"
   },
   {
    "duration": 3,
    "start_time": "2023-09-25T12:12:28.868Z"
   },
   {
    "duration": 4293,
    "start_time": "2023-09-25T12:12:28.872Z"
   },
   {
    "duration": 3195,
    "start_time": "2023-09-25T12:12:33.167Z"
   },
   {
    "duration": 3,
    "start_time": "2023-09-25T12:21:07.068Z"
   },
   {
    "duration": 562,
    "start_time": "2023-09-25T12:21:07.504Z"
   },
   {
    "duration": 3,
    "start_time": "2023-09-25T12:21:25.599Z"
   },
   {
    "duration": 1526,
    "start_time": "2023-09-25T12:21:26.659Z"
   },
   {
    "duration": 1541,
    "start_time": "2023-09-25T12:21:35.696Z"
   },
   {
    "duration": 3,
    "start_time": "2023-09-25T12:22:07.449Z"
   },
   {
    "duration": 3,
    "start_time": "2023-09-25T12:22:13.153Z"
   },
   {
    "duration": 1495,
    "start_time": "2023-09-25T12:22:13.624Z"
   },
   {
    "duration": 3,
    "start_time": "2023-09-25T12:24:17.396Z"
   },
   {
    "duration": 1426,
    "start_time": "2023-09-25T12:24:20.213Z"
   },
   {
    "duration": 3,
    "start_time": "2023-09-25T12:26:14.593Z"
   },
   {
    "duration": 5176,
    "start_time": "2023-09-25T12:26:16.221Z"
   },
   {
    "duration": 2,
    "start_time": "2023-09-25T12:28:18.472Z"
   },
   {
    "duration": 880,
    "start_time": "2023-09-25T12:28:19.086Z"
   },
   {
    "duration": 2,
    "start_time": "2023-09-25T12:28:39.639Z"
   },
   {
    "duration": 617,
    "start_time": "2023-09-25T12:28:40.237Z"
   },
   {
    "duration": 3,
    "start_time": "2023-09-25T12:31:14.832Z"
   },
   {
    "duration": 411,
    "start_time": "2023-09-25T12:31:15.349Z"
   },
   {
    "duration": 3,
    "start_time": "2023-09-25T12:31:24.614Z"
   },
   {
    "duration": 399,
    "start_time": "2023-09-25T12:31:25.034Z"
   },
   {
    "duration": 4,
    "start_time": "2023-09-25T12:31:57.178Z"
   },
   {
    "duration": 354,
    "start_time": "2023-09-25T12:31:57.526Z"
   },
   {
    "duration": 4,
    "start_time": "2023-09-25T12:32:35.511Z"
   },
   {
    "duration": 453,
    "start_time": "2023-09-25T12:32:36.065Z"
   },
   {
    "duration": 3,
    "start_time": "2023-09-25T12:33:40.653Z"
   },
   {
    "duration": 640,
    "start_time": "2023-09-25T12:33:41.204Z"
   },
   {
    "duration": 3,
    "start_time": "2023-09-25T12:34:04.188Z"
   },
   {
    "duration": 855,
    "start_time": "2023-09-25T12:34:04.842Z"
   },
   {
    "duration": 2,
    "start_time": "2023-09-25T12:34:19.017Z"
   },
   {
    "duration": 3802,
    "start_time": "2023-09-25T12:34:19.414Z"
   },
   {
    "duration": 4,
    "start_time": "2023-09-25T12:36:27.117Z"
   },
   {
    "duration": 388,
    "start_time": "2023-09-25T12:36:27.778Z"
   },
   {
    "duration": 4,
    "start_time": "2023-09-25T12:36:46.593Z"
   },
   {
    "duration": 5896,
    "start_time": "2023-09-25T12:36:47.051Z"
   },
   {
    "duration": 7,
    "start_time": "2023-09-25T12:38:40.174Z"
   },
   {
    "duration": 2,
    "start_time": "2023-09-25T12:38:47.939Z"
   },
   {
    "duration": 554,
    "start_time": "2023-09-25T12:38:48.617Z"
   },
   {
    "duration": 506,
    "start_time": "2023-09-25T12:39:39.402Z"
   },
   {
    "duration": 4,
    "start_time": "2023-09-25T12:42:02.142Z"
   },
   {
    "duration": 358,
    "start_time": "2023-09-25T12:42:02.693Z"
   },
   {
    "duration": 3,
    "start_time": "2023-09-25T12:42:30.065Z"
   },
   {
    "duration": 5642,
    "start_time": "2023-09-25T12:42:30.480Z"
   },
   {
    "duration": 3,
    "start_time": "2023-09-25T13:25:52.424Z"
   },
   {
    "duration": 601,
    "start_time": "2023-09-25T13:25:53.082Z"
   },
   {
    "duration": 5,
    "start_time": "2023-09-25T13:26:36.672Z"
   },
   {
    "duration": 5961,
    "start_time": "2023-09-25T13:26:37.082Z"
   },
   {
    "duration": 4,
    "start_time": "2023-09-25T13:27:50.465Z"
   },
   {
    "duration": 6036,
    "start_time": "2023-09-25T13:27:50.885Z"
   },
   {
    "duration": 4,
    "start_time": "2023-09-25T13:31:10.649Z"
   },
   {
    "duration": 708,
    "start_time": "2023-09-25T13:31:11.012Z"
   },
   {
    "duration": 4,
    "start_time": "2023-09-25T13:32:55.107Z"
   },
   {
    "duration": 6874,
    "start_time": "2023-09-25T13:32:55.521Z"
   },
   {
    "duration": 4,
    "start_time": "2023-09-25T13:33:50.908Z"
   },
   {
    "duration": 1930,
    "start_time": "2023-09-25T13:33:52.959Z"
   },
   {
    "duration": 4,
    "start_time": "2023-09-25T13:34:16.878Z"
   },
   {
    "duration": 2022,
    "start_time": "2023-09-25T13:34:17.072Z"
   },
   {
    "duration": 5,
    "start_time": "2023-09-25T13:34:25.935Z"
   },
   {
    "duration": 7072,
    "start_time": "2023-09-25T13:34:26.817Z"
   },
   {
    "duration": 3,
    "start_time": "2023-09-25T13:36:18.477Z"
   },
   {
    "duration": 6704,
    "start_time": "2023-09-25T13:36:18.844Z"
   },
   {
    "duration": 3,
    "start_time": "2023-09-25T13:36:38.247Z"
   },
   {
    "duration": 49,
    "start_time": "2023-09-25T13:36:49.434Z"
   },
   {
    "duration": 567,
    "start_time": "2023-09-25T13:36:54.784Z"
   },
   {
    "duration": 99,
    "start_time": "2023-09-25T13:36:55.353Z"
   },
   {
    "duration": 4,
    "start_time": "2023-09-25T13:36:55.454Z"
   },
   {
    "duration": 8620,
    "start_time": "2023-09-25T13:36:55.460Z"
   },
   {
    "duration": 3,
    "start_time": "2023-09-25T13:37:04.082Z"
   },
   {
    "duration": 535,
    "start_time": "2023-09-25T13:37:04.088Z"
   },
   {
    "duration": 6042,
    "start_time": "2023-09-25T13:37:04.625Z"
   },
   {
    "duration": 4,
    "start_time": "2023-09-25T13:37:16.155Z"
   },
   {
    "duration": 7273,
    "start_time": "2023-09-25T13:37:16.527Z"
   },
   {
    "duration": 6,
    "start_time": "2023-09-25T13:45:35.392Z"
   },
   {
    "duration": 465,
    "start_time": "2023-09-25T13:45:36.129Z"
   },
   {
    "duration": 3,
    "start_time": "2023-09-25T13:45:51.291Z"
   },
   {
    "duration": 7099,
    "start_time": "2023-09-25T13:45:51.651Z"
   },
   {
    "duration": 3,
    "start_time": "2023-09-25T13:47:58.222Z"
   },
   {
    "duration": 7043,
    "start_time": "2023-09-25T13:47:58.629Z"
   },
   {
    "duration": 4,
    "start_time": "2023-09-25T13:48:23.514Z"
   },
   {
    "duration": 7322,
    "start_time": "2023-09-25T13:48:23.884Z"
   },
   {
    "duration": 3,
    "start_time": "2023-09-25T13:50:02.182Z"
   },
   {
    "duration": 6901,
    "start_time": "2023-09-25T13:50:02.614Z"
   },
   {
    "duration": 6987,
    "start_time": "2023-09-25T15:03:04.145Z"
   },
   {
    "duration": 498,
    "start_time": "2023-09-25T15:31:41.137Z"
   },
   {
    "duration": 82,
    "start_time": "2023-09-25T15:31:41.637Z"
   },
   {
    "duration": 5,
    "start_time": "2023-09-25T15:31:41.721Z"
   },
   {
    "duration": 693,
    "start_time": "2023-09-25T15:31:41.728Z"
   },
   {
    "duration": 0,
    "start_time": "2023-09-25T15:31:42.424Z"
   },
   {
    "duration": 509,
    "start_time": "2023-09-25T15:31:55.541Z"
   },
   {
    "duration": 67,
    "start_time": "2023-09-25T15:31:56.053Z"
   },
   {
    "duration": 4,
    "start_time": "2023-09-25T15:31:56.122Z"
   },
   {
    "duration": 8321,
    "start_time": "2023-09-25T15:31:56.128Z"
   },
   {
    "duration": 5073,
    "start_time": "2023-09-25T15:32:04.451Z"
   },
   {
    "duration": 4,
    "start_time": "2023-09-25T15:37:53.547Z"
   },
   {
    "duration": 460,
    "start_time": "2023-09-25T15:37:56.050Z"
   },
   {
    "duration": 4,
    "start_time": "2023-09-25T15:47:24.341Z"
   },
   {
    "duration": 472,
    "start_time": "2023-09-25T15:47:25.700Z"
   },
   {
    "duration": 4,
    "start_time": "2023-09-25T15:47:47.834Z"
   },
   {
    "duration": 7353,
    "start_time": "2023-09-25T15:47:50.183Z"
   },
   {
    "duration": 132,
    "start_time": "2023-09-25T15:48:19.177Z"
   },
   {
    "duration": 110,
    "start_time": "2023-09-25T15:48:36.058Z"
   },
   {
    "duration": 100,
    "start_time": "2023-09-25T15:52:13.306Z"
   },
   {
    "duration": 83,
    "start_time": "2023-09-25T15:52:22.833Z"
   },
   {
    "duration": 4,
    "start_time": "2023-09-25T16:02:58.628Z"
   },
   {
    "duration": 5,
    "start_time": "2023-09-25T16:07:47.216Z"
   },
   {
    "duration": 602,
    "start_time": "2023-09-25T16:07:50.072Z"
   },
   {
    "duration": 5,
    "start_time": "2023-09-25T16:08:04.479Z"
   },
   {
    "duration": 610,
    "start_time": "2023-09-25T16:08:07.104Z"
   },
   {
    "duration": 3,
    "start_time": "2023-09-25T16:08:22.860Z"
   },
   {
    "duration": 610,
    "start_time": "2023-09-25T16:08:25.829Z"
   },
   {
    "duration": 3,
    "start_time": "2023-09-25T16:08:37.008Z"
   },
   {
    "duration": 6555,
    "start_time": "2023-09-25T16:08:38.972Z"
   },
   {
    "duration": 6524,
    "start_time": "2023-09-25T16:08:56.682Z"
   },
   {
    "duration": 4,
    "start_time": "2023-09-25T16:13:13.793Z"
   },
   {
    "duration": 7271,
    "start_time": "2023-09-25T16:13:16.068Z"
   },
   {
    "duration": 6877,
    "start_time": "2023-09-25T16:13:55.089Z"
   },
   {
    "duration": 7278,
    "start_time": "2023-09-25T16:14:24.908Z"
   },
   {
    "duration": 4853,
    "start_time": "2023-09-25T16:15:53.076Z"
   },
   {
    "duration": 563,
    "start_time": "2023-09-25T22:49:59.297Z"
   },
   {
    "duration": 79,
    "start_time": "2023-09-25T22:49:59.862Z"
   },
   {
    "duration": 3,
    "start_time": "2023-09-25T22:49:59.943Z"
   },
   {
    "duration": 8533,
    "start_time": "2023-09-25T22:49:59.948Z"
   },
   {
    "duration": 109,
    "start_time": "2023-09-25T22:50:08.484Z"
   },
   {
    "duration": 190,
    "start_time": "2023-09-25T22:50:08.603Z"
   },
   {
    "duration": 7266,
    "start_time": "2023-09-25T22:50:08.802Z"
   },
   {
    "duration": 5088,
    "start_time": "2023-09-25T22:50:16.069Z"
   },
   {
    "duration": 527,
    "start_time": "2023-09-26T11:28:12.542Z"
   },
   {
    "duration": 100,
    "start_time": "2023-09-26T11:28:13.072Z"
   },
   {
    "duration": 5,
    "start_time": "2023-09-26T11:28:13.174Z"
   },
   {
    "duration": 7793,
    "start_time": "2023-09-26T11:28:13.181Z"
   },
   {
    "duration": 82,
    "start_time": "2023-09-26T11:28:20.976Z"
   },
   {
    "duration": 112,
    "start_time": "2023-09-26T11:28:21.059Z"
   },
   {
    "duration": 6644,
    "start_time": "2023-09-26T11:28:21.173Z"
   },
   {
    "duration": 4761,
    "start_time": "2023-09-26T11:28:27.819Z"
   },
   {
    "duration": 523,
    "start_time": "2023-09-26T16:39:34.863Z"
   },
   {
    "duration": 93,
    "start_time": "2023-09-26T16:39:35.388Z"
   },
   {
    "duration": 4,
    "start_time": "2023-09-26T16:39:35.483Z"
   },
   {
    "duration": 6895,
    "start_time": "2023-09-26T16:39:35.489Z"
   },
   {
    "duration": 118,
    "start_time": "2023-09-26T16:39:42.386Z"
   },
   {
    "duration": 122,
    "start_time": "2023-09-26T16:39:42.506Z"
   },
   {
    "duration": 6736,
    "start_time": "2023-09-26T16:39:42.630Z"
   },
   {
    "duration": 4423,
    "start_time": "2023-09-26T16:39:49.367Z"
   },
   {
    "duration": 4,
    "start_time": "2023-09-26T16:41:20.459Z"
   },
   {
    "duration": 6911,
    "start_time": "2023-09-26T16:41:25.480Z"
   },
   {
    "duration": 99,
    "start_time": "2023-09-26T16:41:32.393Z"
   },
   {
    "duration": 547,
    "start_time": "2023-09-26T17:16:16.913Z"
   },
   {
    "duration": 73,
    "start_time": "2023-09-26T17:16:17.462Z"
   },
   {
    "duration": 5,
    "start_time": "2023-09-26T17:16:17.537Z"
   },
   {
    "duration": 6832,
    "start_time": "2023-09-26T17:16:17.543Z"
   },
   {
    "duration": 114,
    "start_time": "2023-09-26T17:16:24.378Z"
   },
   {
    "duration": 124,
    "start_time": "2023-09-26T17:16:24.494Z"
   },
   {
    "duration": 6630,
    "start_time": "2023-09-26T17:16:24.620Z"
   },
   {
    "duration": 4508,
    "start_time": "2023-09-26T17:16:31.251Z"
   },
   {
    "duration": 7083,
    "start_time": "2023-09-26T17:21:16.509Z"
   },
   {
    "duration": 477,
    "start_time": "2023-09-27T23:02:19.274Z"
   },
   {
    "duration": 105,
    "start_time": "2023-09-27T23:02:19.753Z"
   },
   {
    "duration": 3,
    "start_time": "2023-09-27T23:02:19.860Z"
   },
   {
    "duration": 6931,
    "start_time": "2023-09-27T23:02:19.865Z"
   },
   {
    "duration": 102,
    "start_time": "2023-09-27T23:02:26.797Z"
   },
   {
    "duration": 127,
    "start_time": "2023-09-27T23:02:26.900Z"
   },
   {
    "duration": 6871,
    "start_time": "2023-09-27T23:02:27.029Z"
   },
   {
    "duration": 4425,
    "start_time": "2023-09-27T23:02:33.901Z"
   }
  ],
  "kernelspec": {
   "display_name": "Python 3 (ipykernel)",
   "language": "python",
   "name": "python3"
  },
  "language_info": {
   "codemirror_mode": {
    "name": "ipython",
    "version": 3
   },
   "file_extension": ".py",
   "mimetype": "text/x-python",
   "name": "python",
   "nbconvert_exporter": "python",
   "pygments_lexer": "ipython3",
   "version": "3.10.9"
  },
  "toc": {
   "base_numbering": 1,
   "nav_menu": {},
   "number_sections": true,
   "sideBar": true,
   "skip_h1_title": true,
   "title_cell": "Table of Contents",
   "title_sidebar": "Contents",
   "toc_cell": false,
   "toc_position": {},
   "toc_section_display": true,
   "toc_window_display": false
  }
 },
 "nbformat": 4,
 "nbformat_minor": 5
}
