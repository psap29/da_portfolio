{
 "cells": [
  {
   "cell_type": "markdown",
   "metadata": {
    "id": "sIfNaMOxgFyK"
   },
   "source": [
    "## Исследование данных о российском кинопрокате\n",
    "\n"
   ]
  },
  {
   "cell_type": "markdown",
   "metadata": {},
   "source": [
    "**В рамках данного проекта** анализируются данные по рынку российского кинопропрокатов, в том числе фильмы, снятые при помощи государственной поддержки. Заказчиком является Министерство культуры Российской Федерации.\n",
    "\n",
    "**Цель проекта:** выявить основные тенденции в области рынка российского кинопрокатов. \n",
    "\n",
    "**Набор данных** содержит информацию о прокатных удостоверениях, сборах и государственной поддержке фильмов, а также информацию с сайта КиноПоиск. "
   ]
  },
  {
   "cell_type": "markdown",
   "metadata": {
    "id": "3bSlkCsbgFyL"
   },
   "source": [
    "### Шаг 1. Откройте файлы с данными и объедините их в один датафрейм. "
   ]
  },
  {
   "cell_type": "markdown",
   "metadata": {},
   "source": [
    "Перед началом работы импортируем библиотеку `pandas`, а также сохраним оба дата-сеты в соотствутствующие переменные. Так как на данном этапе нам важно объединить таблицы, то изменим формат колонки `puNumber` в первом дата-сете на `float` для упрощения процедуры объединения (в первом дата-сете присутствуют как числовые, так и строчные значения, поэтому вторые принудительно заменим на `NaN`)."
   ]
  },
  {
   "cell_type": "code",
   "execution_count": 1,
   "metadata": {},
   "outputs": [],
   "source": [
    "import pandas as pd\n",
    "import matplotlib.pyplot as plt\n",
    "plt.ion()\n",
    "\n",
    "pd.options.display.float_format = '{:,.2f}'.format"
   ]
  },
  {
   "cell_type": "code",
   "execution_count": 2,
   "metadata": {
    "id": "dw87FlzMgFyM"
   },
   "outputs": [],
   "source": [
    "mkrf_movies = pd.read_csv('./mkrf_movies.csv')\n",
    "mkrf_shows = pd.read_csv('./mkrf_shows.csv')\n",
    "mkrf_movies['puNumber'] = pd.to_numeric(mkrf_movies['puNumber'], errors='coerce')"
   ]
  },
  {
   "cell_type": "markdown",
   "metadata": {},
   "source": [
    "Так как в задании сказано, что все данные из `mkrf_movies` должны обязательно войти в объединенный дата-фрейм, то выведем основную информацию о дата-сетах `mkrf_shows` и `mkrf_movies` для того, чтобы понимать, что данные не были утеряны."
   ]
  },
  {
   "cell_type": "code",
   "execution_count": 3,
   "metadata": {},
   "outputs": [
    {
     "name": "stdout",
     "output_type": "stream",
     "text": [
      "<class 'pandas.core.frame.DataFrame'>\n",
      "RangeIndex: 7486 entries, 0 to 7485\n",
      "Data columns (total 15 columns):\n",
      " #   Column                 Non-Null Count  Dtype  \n",
      "---  ------                 --------------  -----  \n",
      " 0   title                  7486 non-null   object \n",
      " 1   puNumber               7485 non-null   float64\n",
      " 2   show_start_date        7486 non-null   object \n",
      " 3   type                   7486 non-null   object \n",
      " 4   film_studio            7468 non-null   object \n",
      " 5   production_country     7484 non-null   object \n",
      " 6   director               7477 non-null   object \n",
      " 7   producer               6918 non-null   object \n",
      " 8   age_restriction        7486 non-null   object \n",
      " 9   refundable_support     332 non-null    float64\n",
      " 10  nonrefundable_support  332 non-null    float64\n",
      " 11  budget                 332 non-null    float64\n",
      " 12  financing_source       332 non-null    object \n",
      " 13  ratings                6519 non-null   object \n",
      " 14  genres                 6510 non-null   object \n",
      "dtypes: float64(4), object(11)\n",
      "memory usage: 877.4+ KB\n"
     ]
    }
   ],
   "source": [
    "mkrf_movies.info()"
   ]
  },
  {
   "cell_type": "code",
   "execution_count": 4,
   "metadata": {},
   "outputs": [
    {
     "name": "stdout",
     "output_type": "stream",
     "text": [
      "<class 'pandas.core.frame.DataFrame'>\n",
      "RangeIndex: 3158 entries, 0 to 3157\n",
      "Data columns (total 2 columns):\n",
      " #   Column      Non-Null Count  Dtype  \n",
      "---  ------      --------------  -----  \n",
      " 0   puNumber    3158 non-null   int64  \n",
      " 1   box_office  3158 non-null   float64\n",
      "dtypes: float64(1), int64(1)\n",
      "memory usage: 49.5 KB\n"
     ]
    }
   ],
   "source": [
    "mkrf_shows.info()"
   ]
  },
  {
   "cell_type": "markdown",
   "metadata": {},
   "source": [
    "Видим, что данные присутствуют не во всех колонках: например, имеются пропуски в колонках `director`, `producer`, `refundable_support`, `nonrefundable_support`, `budget`, `financing_source`, `ratings`, `genres` и `box_office`, то есть при объединении таблиц будут пропуски, с которыми необходимо будет поработать на этапе предобработки данных. Объединим таблицы: при этом для того, чтобы часть данных из `mkrf_movies` не была потеряна, объединять будем по нему."
   ]
  },
  {
   "cell_type": "code",
   "execution_count": 5,
   "metadata": {},
   "outputs": [
    {
     "name": "stdout",
     "output_type": "stream",
     "text": [
      "<class 'pandas.core.frame.DataFrame'>\n",
      "Int64Index: 7486 entries, 0 to 7485\n",
      "Data columns (total 16 columns):\n",
      " #   Column                 Non-Null Count  Dtype  \n",
      "---  ------                 --------------  -----  \n",
      " 0   title                  7486 non-null   object \n",
      " 1   puNumber               7485 non-null   float64\n",
      " 2   show_start_date        7486 non-null   object \n",
      " 3   type                   7486 non-null   object \n",
      " 4   film_studio            7468 non-null   object \n",
      " 5   production_country     7484 non-null   object \n",
      " 6   director               7477 non-null   object \n",
      " 7   producer               6918 non-null   object \n",
      " 8   age_restriction        7486 non-null   object \n",
      " 9   refundable_support     332 non-null    float64\n",
      " 10  nonrefundable_support  332 non-null    float64\n",
      " 11  budget                 332 non-null    float64\n",
      " 12  financing_source       332 non-null    object \n",
      " 13  ratings                6519 non-null   object \n",
      " 14  genres                 6510 non-null   object \n",
      " 15  box_office             3158 non-null   float64\n",
      "dtypes: float64(5), object(11)\n",
      "memory usage: 994.2+ KB\n"
     ]
    }
   ],
   "source": [
    "data = mkrf_movies.merge(mkrf_shows, how='left', on='puNumber')\n",
    "data.info()"
   ]
  },
  {
   "cell_type": "markdown",
   "metadata": {},
   "source": [
    "После объединения таблиц видим, что данные присутствуют также не во всех колонках: имеются пропуски в колонках `director`, `producer`, `refundable_support`, `nonrefundable_support`, `budget`, `financing_source`, `ratings`, `genres` и `box_office`, однако совокупный объем данных при этом равен объему исходного дата-сета `mkrf_movies` (7486 наблюдений), то есть объединение таблиц по условиям задачи прошло корректно. Также часть данных представлена не в верном формате."
   ]
  },
  {
   "cell_type": "code",
   "execution_count": 6,
   "metadata": {},
   "outputs": [
    {
     "data": {
      "text/html": [
       "<div>\n",
       "<style scoped>\n",
       "    .dataframe tbody tr th:only-of-type {\n",
       "        vertical-align: middle;\n",
       "    }\n",
       "\n",
       "    .dataframe tbody tr th {\n",
       "        vertical-align: top;\n",
       "    }\n",
       "\n",
       "    .dataframe thead th {\n",
       "        text-align: right;\n",
       "    }\n",
       "</style>\n",
       "<table border=\"1\" class=\"dataframe\">\n",
       "  <thead>\n",
       "    <tr style=\"text-align: right;\">\n",
       "      <th></th>\n",
       "      <th>title</th>\n",
       "      <th>puNumber</th>\n",
       "      <th>show_start_date</th>\n",
       "      <th>type</th>\n",
       "      <th>film_studio</th>\n",
       "      <th>production_country</th>\n",
       "      <th>director</th>\n",
       "      <th>producer</th>\n",
       "      <th>age_restriction</th>\n",
       "      <th>refundable_support</th>\n",
       "      <th>nonrefundable_support</th>\n",
       "      <th>budget</th>\n",
       "      <th>financing_source</th>\n",
       "      <th>ratings</th>\n",
       "      <th>genres</th>\n",
       "      <th>box_office</th>\n",
       "    </tr>\n",
       "  </thead>\n",
       "  <tbody>\n",
       "    <tr>\n",
       "      <th>0</th>\n",
       "      <td>Открытый простор</td>\n",
       "      <td>221,048,915.00</td>\n",
       "      <td>2015-11-27T12:00:00.000Z</td>\n",
       "      <td>Художественный</td>\n",
       "      <td>Тачстоун Пикчерз, Кобальт Пикчерз, Бикон Пикче...</td>\n",
       "      <td>США</td>\n",
       "      <td>Кевин Костнер</td>\n",
       "      <td>Дэвид Валдес, Кевин Костнер, Джейк Эбертс</td>\n",
       "      <td>«18+» - запрещено для детей</td>\n",
       "      <td>NaN</td>\n",
       "      <td>NaN</td>\n",
       "      <td>NaN</td>\n",
       "      <td>NaN</td>\n",
       "      <td>7.2</td>\n",
       "      <td>боевик,драма,мелодрама</td>\n",
       "      <td>NaN</td>\n",
       "    </tr>\n",
       "    <tr>\n",
       "      <th>1</th>\n",
       "      <td>Особо важное задание</td>\n",
       "      <td>111,013,716.00</td>\n",
       "      <td>2016-09-13T12:00:00.000Z</td>\n",
       "      <td>Художественный</td>\n",
       "      <td>Киностудия \"Мосфильм\"</td>\n",
       "      <td>СССР</td>\n",
       "      <td>Е.Матвеев</td>\n",
       "      <td>NaN</td>\n",
       "      <td>«6+» - для детей старше 6 лет</td>\n",
       "      <td>NaN</td>\n",
       "      <td>NaN</td>\n",
       "      <td>NaN</td>\n",
       "      <td>NaN</td>\n",
       "      <td>6.6</td>\n",
       "      <td>драма,военный</td>\n",
       "      <td>NaN</td>\n",
       "    </tr>\n",
       "    <tr>\n",
       "      <th>2</th>\n",
       "      <td>Особо опасен</td>\n",
       "      <td>221,038,416.00</td>\n",
       "      <td>2016-10-10T12:00:00.000Z</td>\n",
       "      <td>Художественный</td>\n",
       "      <td>Юниверсал Пикчерз, Кикстарт Продакшнз, Марк Пл...</td>\n",
       "      <td>США</td>\n",
       "      <td>Тимур Бекмамбетов</td>\n",
       "      <td>Джим Лемли, Джейсон Нетер, Марк Е.Платт, Яйн Смит</td>\n",
       "      <td>«18+» - запрещено для детей</td>\n",
       "      <td>NaN</td>\n",
       "      <td>NaN</td>\n",
       "      <td>NaN</td>\n",
       "      <td>NaN</td>\n",
       "      <td>6.8</td>\n",
       "      <td>фантастика,боевик,триллер</td>\n",
       "      <td>NaN</td>\n",
       "    </tr>\n",
       "    <tr>\n",
       "      <th>3</th>\n",
       "      <td>Особо опасен</td>\n",
       "      <td>221,026,916.00</td>\n",
       "      <td>2016-06-10T12:00:00.000Z</td>\n",
       "      <td>Художественный</td>\n",
       "      <td>Юниверсал Пикчерз, Кикстарт Продакшнз, Марк Пл...</td>\n",
       "      <td>США</td>\n",
       "      <td>Тимур Бекмамбетов</td>\n",
       "      <td>Джим Лемли, Джейсон Нетер, Марк Е.Платт, Яйн Смит</td>\n",
       "      <td>«18+» - запрещено для детей</td>\n",
       "      <td>NaN</td>\n",
       "      <td>NaN</td>\n",
       "      <td>NaN</td>\n",
       "      <td>NaN</td>\n",
       "      <td>6.8</td>\n",
       "      <td>фантастика,боевик,триллер</td>\n",
       "      <td>NaN</td>\n",
       "    </tr>\n",
       "    <tr>\n",
       "      <th>4</th>\n",
       "      <td>Особо опасен</td>\n",
       "      <td>221,030,815.00</td>\n",
       "      <td>2015-07-29T12:00:00.000Z</td>\n",
       "      <td>Художественный</td>\n",
       "      <td>Юниверсал Пикчерз, Кикстарт Продакшнз, Марк Пл...</td>\n",
       "      <td>США</td>\n",
       "      <td>Тимур Бекмамбетов</td>\n",
       "      <td>Джим Лемли, Джейсон Нетер, Марк Е.Платт, Яйн Смит</td>\n",
       "      <td>«18+» - запрещено для детей</td>\n",
       "      <td>NaN</td>\n",
       "      <td>NaN</td>\n",
       "      <td>NaN</td>\n",
       "      <td>NaN</td>\n",
       "      <td>6.8</td>\n",
       "      <td>фантастика,боевик,триллер</td>\n",
       "      <td>NaN</td>\n",
       "    </tr>\n",
       "  </tbody>\n",
       "</table>\n",
       "</div>"
      ],
      "text/plain": [
       "                  title       puNumber           show_start_date  \\\n",
       "0      Открытый простор 221,048,915.00  2015-11-27T12:00:00.000Z   \n",
       "1  Особо важное задание 111,013,716.00  2016-09-13T12:00:00.000Z   \n",
       "2          Особо опасен 221,038,416.00  2016-10-10T12:00:00.000Z   \n",
       "3          Особо опасен 221,026,916.00  2016-06-10T12:00:00.000Z   \n",
       "4          Особо опасен 221,030,815.00  2015-07-29T12:00:00.000Z   \n",
       "\n",
       "             type                                        film_studio  \\\n",
       "0  Художественный  Тачстоун Пикчерз, Кобальт Пикчерз, Бикон Пикче...   \n",
       "1  Художественный                              Киностудия \"Мосфильм\"   \n",
       "2  Художественный  Юниверсал Пикчерз, Кикстарт Продакшнз, Марк Пл...   \n",
       "3  Художественный  Юниверсал Пикчерз, Кикстарт Продакшнз, Марк Пл...   \n",
       "4  Художественный  Юниверсал Пикчерз, Кикстарт Продакшнз, Марк Пл...   \n",
       "\n",
       "  production_country           director  \\\n",
       "0                США      Кевин Костнер   \n",
       "1               СССР          Е.Матвеев   \n",
       "2                США  Тимур Бекмамбетов   \n",
       "3                США  Тимур Бекмамбетов   \n",
       "4                США  Тимур Бекмамбетов   \n",
       "\n",
       "                                            producer  \\\n",
       "0          Дэвид Валдес, Кевин Костнер, Джейк Эбертс   \n",
       "1                                                NaN   \n",
       "2  Джим Лемли, Джейсон Нетер, Марк Е.Платт, Яйн Смит   \n",
       "3  Джим Лемли, Джейсон Нетер, Марк Е.Платт, Яйн Смит   \n",
       "4  Джим Лемли, Джейсон Нетер, Марк Е.Платт, Яйн Смит   \n",
       "\n",
       "                 age_restriction  refundable_support  nonrefundable_support  \\\n",
       "0    «18+» - запрещено для детей                 NaN                    NaN   \n",
       "1  «6+» - для детей старше 6 лет                 NaN                    NaN   \n",
       "2    «18+» - запрещено для детей                 NaN                    NaN   \n",
       "3    «18+» - запрещено для детей                 NaN                    NaN   \n",
       "4    «18+» - запрещено для детей                 NaN                    NaN   \n",
       "\n",
       "   budget financing_source ratings                     genres  box_office  \n",
       "0     NaN              NaN     7.2     боевик,драма,мелодрама         NaN  \n",
       "1     NaN              NaN     6.6              драма,военный         NaN  \n",
       "2     NaN              NaN     6.8  фантастика,боевик,триллер         NaN  \n",
       "3     NaN              NaN     6.8  фантастика,боевик,триллер         NaN  \n",
       "4     NaN              NaN     6.8  фантастика,боевик,триллер         NaN  "
      ]
     },
     "execution_count": 6,
     "metadata": {},
     "output_type": "execute_result"
    }
   ],
   "source": [
    "data.head()"
   ]
  },
  {
   "cell_type": "markdown",
   "metadata": {
    "id": "KLDGpPG0gFyM"
   },
   "source": [
    "### Шаг 2. Предобработка данных"
   ]
  },
  {
   "cell_type": "markdown",
   "metadata": {
    "id": "ssWwKXsxgFyO"
   },
   "source": [
    "#### Шаг 2.1. Проверьте типы данных\n",
    "\n",
    "В дата-сете присутствуют некорректные типы данных: `show_start_date` необходимо поменять в формат datetime, а `ratings` в float."
   ]
  },
  {
   "cell_type": "code",
   "execution_count": 7,
   "metadata": {
    "id": "kVGSplJOgFyO"
   },
   "outputs": [
    {
     "name": "stdout",
     "output_type": "stream",
     "text": [
      "<class 'pandas.core.frame.DataFrame'>\n",
      "Int64Index: 7486 entries, 0 to 7485\n",
      "Data columns (total 16 columns):\n",
      " #   Column                 Non-Null Count  Dtype              \n",
      "---  ------                 --------------  -----              \n",
      " 0   title                  7486 non-null   object             \n",
      " 1   puNumber               7485 non-null   float64            \n",
      " 2   show_start_date        7486 non-null   datetime64[ns, UTC]\n",
      " 3   type                   7486 non-null   object             \n",
      " 4   film_studio            7468 non-null   object             \n",
      " 5   production_country     7484 non-null   object             \n",
      " 6   director               7477 non-null   object             \n",
      " 7   producer               6918 non-null   object             \n",
      " 8   age_restriction        7486 non-null   object             \n",
      " 9   refundable_support     332 non-null    float64            \n",
      " 10  nonrefundable_support  332 non-null    float64            \n",
      " 11  budget                 332 non-null    float64            \n",
      " 12  financing_source       332 non-null    object             \n",
      " 13  ratings                6490 non-null   float64            \n",
      " 14  genres                 6510 non-null   object             \n",
      " 15  box_office             3158 non-null   float64            \n",
      "dtypes: datetime64[ns, UTC](1), float64(6), object(9)\n",
      "memory usage: 994.2+ KB\n"
     ]
    }
   ],
   "source": [
    "data['show_start_date'] = pd.to_datetime(data['show_start_date'], format='%Y.%m.%dT%H:%M:%S')\n",
    "data['ratings'] = pd.to_numeric(data['ratings'], errors='coerce')\n",
    "data.info()"
   ]
  },
  {
   "cell_type": "markdown",
   "metadata": {
    "id": "i0MOLbF-gFyP"
   },
   "source": [
    "#### Шаг 2.2. Изучите пропуски в датафрейме\n",
    "Для последующей обработки пропусков представим их в более наглядной форме."
   ]
  },
  {
   "cell_type": "code",
   "execution_count": 8,
   "metadata": {},
   "outputs": [
    {
     "data": {
      "text/html": [
       "<style type=\"text/css\">\n",
       "#T_e5d51_row0_col0, #T_e5d51_row1_col0, #T_e5d51_row2_col0, #T_e5d51_row3_col0, #T_e5d51_row4_col0, #T_e5d51_row5_col0, #T_e5d51_row6_col0, #T_e5d51_row8_col0 {\n",
       "  background-color: #3b4cc0;\n",
       "  color: #f1f1f1;\n",
       "}\n",
       "#T_e5d51_row7_col0 {\n",
       "  background-color: #5470de;\n",
       "  color: #f1f1f1;\n",
       "}\n",
       "#T_e5d51_row9_col0, #T_e5d51_row10_col0, #T_e5d51_row11_col0, #T_e5d51_row12_col0 {\n",
       "  background-color: #b40426;\n",
       "  color: #f1f1f1;\n",
       "}\n",
       "#T_e5d51_row13_col0, #T_e5d51_row14_col0 {\n",
       "  background-color: #6485ec;\n",
       "  color: #f1f1f1;\n",
       "}\n",
       "#T_e5d51_row15_col0 {\n",
       "  background-color: #f2cab5;\n",
       "  color: #000000;\n",
       "}\n",
       "</style>\n",
       "<table id=\"T_e5d51\">\n",
       "  <thead>\n",
       "    <tr>\n",
       "      <th class=\"blank level0\" >&nbsp;</th>\n",
       "      <th id=\"T_e5d51_level0_col0\" class=\"col_heading level0 col0\" >0</th>\n",
       "    </tr>\n",
       "  </thead>\n",
       "  <tbody>\n",
       "    <tr>\n",
       "      <th id=\"T_e5d51_level0_row0\" class=\"row_heading level0 row0\" >title</th>\n",
       "      <td id=\"T_e5d51_row0_col0\" class=\"data row0 col0\" >0.000000</td>\n",
       "    </tr>\n",
       "    <tr>\n",
       "      <th id=\"T_e5d51_level0_row1\" class=\"row_heading level0 row1\" >puNumber</th>\n",
       "      <td id=\"T_e5d51_row1_col0\" class=\"data row1 col0\" >0.000000</td>\n",
       "    </tr>\n",
       "    <tr>\n",
       "      <th id=\"T_e5d51_level0_row2\" class=\"row_heading level0 row2\" >show_start_date</th>\n",
       "      <td id=\"T_e5d51_row2_col0\" class=\"data row2 col0\" >0.000000</td>\n",
       "    </tr>\n",
       "    <tr>\n",
       "      <th id=\"T_e5d51_level0_row3\" class=\"row_heading level0 row3\" >type</th>\n",
       "      <td id=\"T_e5d51_row3_col0\" class=\"data row3 col0\" >0.000000</td>\n",
       "    </tr>\n",
       "    <tr>\n",
       "      <th id=\"T_e5d51_level0_row4\" class=\"row_heading level0 row4\" >film_studio</th>\n",
       "      <td id=\"T_e5d51_row4_col0\" class=\"data row4 col0\" >0.000000</td>\n",
       "    </tr>\n",
       "    <tr>\n",
       "      <th id=\"T_e5d51_level0_row5\" class=\"row_heading level0 row5\" >production_country</th>\n",
       "      <td id=\"T_e5d51_row5_col0\" class=\"data row5 col0\" >0.000000</td>\n",
       "    </tr>\n",
       "    <tr>\n",
       "      <th id=\"T_e5d51_level0_row6\" class=\"row_heading level0 row6\" >director</th>\n",
       "      <td id=\"T_e5d51_row6_col0\" class=\"data row6 col0\" >0.000000</td>\n",
       "    </tr>\n",
       "    <tr>\n",
       "      <th id=\"T_e5d51_level0_row7\" class=\"row_heading level0 row7\" >producer</th>\n",
       "      <td id=\"T_e5d51_row7_col0\" class=\"data row7 col0\" >8.000000</td>\n",
       "    </tr>\n",
       "    <tr>\n",
       "      <th id=\"T_e5d51_level0_row8\" class=\"row_heading level0 row8\" >age_restriction</th>\n",
       "      <td id=\"T_e5d51_row8_col0\" class=\"data row8 col0\" >0.000000</td>\n",
       "    </tr>\n",
       "    <tr>\n",
       "      <th id=\"T_e5d51_level0_row9\" class=\"row_heading level0 row9\" >refundable_support</th>\n",
       "      <td id=\"T_e5d51_row9_col0\" class=\"data row9 col0\" >96.000000</td>\n",
       "    </tr>\n",
       "    <tr>\n",
       "      <th id=\"T_e5d51_level0_row10\" class=\"row_heading level0 row10\" >nonrefundable_support</th>\n",
       "      <td id=\"T_e5d51_row10_col0\" class=\"data row10 col0\" >96.000000</td>\n",
       "    </tr>\n",
       "    <tr>\n",
       "      <th id=\"T_e5d51_level0_row11\" class=\"row_heading level0 row11\" >budget</th>\n",
       "      <td id=\"T_e5d51_row11_col0\" class=\"data row11 col0\" >96.000000</td>\n",
       "    </tr>\n",
       "    <tr>\n",
       "      <th id=\"T_e5d51_level0_row12\" class=\"row_heading level0 row12\" >financing_source</th>\n",
       "      <td id=\"T_e5d51_row12_col0\" class=\"data row12 col0\" >96.000000</td>\n",
       "    </tr>\n",
       "    <tr>\n",
       "      <th id=\"T_e5d51_level0_row13\" class=\"row_heading level0 row13\" >ratings</th>\n",
       "      <td id=\"T_e5d51_row13_col0\" class=\"data row13 col0\" >13.000000</td>\n",
       "    </tr>\n",
       "    <tr>\n",
       "      <th id=\"T_e5d51_level0_row14\" class=\"row_heading level0 row14\" >genres</th>\n",
       "      <td id=\"T_e5d51_row14_col0\" class=\"data row14 col0\" >13.000000</td>\n",
       "    </tr>\n",
       "    <tr>\n",
       "      <th id=\"T_e5d51_level0_row15\" class=\"row_heading level0 row15\" >box_office</th>\n",
       "      <td id=\"T_e5d51_row15_col0\" class=\"data row15 col0\" >58.000000</td>\n",
       "    </tr>\n",
       "  </tbody>\n",
       "</table>\n"
      ],
      "text/plain": [
       "<pandas.io.formats.style.Styler at 0x7fa5199e2d40>"
      ]
     },
     "execution_count": 8,
     "metadata": {},
     "output_type": "execute_result"
    }
   ],
   "source": [
    "pd.DataFrame(round(data.isna().mean()*100,)).style.background_gradient('coolwarm')"
   ]
  },
  {
   "cell_type": "markdown",
   "metadata": {},
   "source": [
    "Пропуски в столбцах `director`, `producer` и `genre` заполним значением `неизвестно`: можно было бы, конечно, определить их из открытых источников, но это достаточно проблематично в условиях большого количества данных."
   ]
  },
  {
   "cell_type": "code",
   "execution_count": 9,
   "metadata": {
    "id": "8MJD_lkngFyP"
   },
   "outputs": [],
   "source": [
    "data['director'] = data['director'].fillna('неизвестно')\n",
    "data['producer'] = data['producer'].fillna('неизвестно')\n",
    "data['genres'] = data['genres'].fillna('неизвестно')\n",
    "data['production_country'] = data['production_country'].fillna('неизвестно')"
   ]
  },
  {
   "cell_type": "markdown",
   "metadata": {},
   "source": [
    "Пропуски в столбцах `refundable_support`, `nonrefundable_support`, `budget`, `financing_source` не заполняем во избежание смещения оценок среднего, медианы и прочих при проведении исследовательского анализа данных: исходя из условий задачи понятно, что те фильмы, значения строк которых не являются пропусками, получали государственную поддержку. Остальные, соответственно, нет.\n",
    "\n",
    "Пропуски в столбце `box_office` заполним средним значением по каждому жанру: хоть это и примерная оценка, но при этом анализ окажется более содержательным."
   ]
  },
  {
   "cell_type": "code",
   "execution_count": 10,
   "metadata": {},
   "outputs": [],
   "source": [
    "for t in data['genres'].unique():\n",
    "    data.loc[(data['genres'] == t) & (data['box_office'].isna()), 'box_office'] = \\\n",
    "    data.loc[(data['genres'] == t), 'box_office'].mean()"
   ]
  },
  {
   "cell_type": "markdown",
   "metadata": {},
   "source": [
    "Также имеется небольшое количество пропусков в столбце `ratings`: думаю, что можно заполнить их также на основе среднего значения рейтинга каждой киностудии (можно было бы обратиться к режиссерам или продюссерам, но значений в итоге получается все равно мало)."
   ]
  },
  {
   "cell_type": "code",
   "execution_count": 11,
   "metadata": {},
   "outputs": [],
   "source": [
    "for t in data['film_studio'].unique():\n",
    "    data.loc[(data['film_studio'] == t) & (data['ratings'].isna()), 'ratings'] = \\\n",
    "    data.loc[(data['film_studio'] == t), 'ratings'].mean()"
   ]
  },
  {
   "cell_type": "code",
   "execution_count": 12,
   "metadata": {},
   "outputs": [
    {
     "name": "stdout",
     "output_type": "stream",
     "text": [
      "<class 'pandas.core.frame.DataFrame'>\n",
      "Int64Index: 7486 entries, 0 to 7485\n",
      "Data columns (total 16 columns):\n",
      " #   Column                 Non-Null Count  Dtype              \n",
      "---  ------                 --------------  -----              \n",
      " 0   title                  7486 non-null   object             \n",
      " 1   puNumber               7485 non-null   float64            \n",
      " 2   show_start_date        7486 non-null   datetime64[ns, UTC]\n",
      " 3   type                   7486 non-null   object             \n",
      " 4   film_studio            7468 non-null   object             \n",
      " 5   production_country     7486 non-null   object             \n",
      " 6   director               7486 non-null   object             \n",
      " 7   producer               7486 non-null   object             \n",
      " 8   age_restriction        7486 non-null   object             \n",
      " 9   refundable_support     332 non-null    float64            \n",
      " 10  nonrefundable_support  332 non-null    float64            \n",
      " 11  budget                 332 non-null    float64            \n",
      " 12  financing_source       332 non-null    object             \n",
      " 13  ratings                6809 non-null   float64            \n",
      " 14  genres                 7486 non-null   object             \n",
      " 15  box_office             7159 non-null   float64            \n",
      "dtypes: datetime64[ns, UTC](1), float64(6), object(9)\n",
      "memory usage: 994.2+ KB\n"
     ]
    }
   ],
   "source": [
    "data.info()"
   ]
  },
  {
   "cell_type": "markdown",
   "metadata": {},
   "source": [
    "Видим, что пропуски, которые мы стремились заполнить, оказались заполненными, а те, по отношению к которым приняли решение оставить без заполнения - остались, соответственно, такими."
   ]
  },
  {
   "cell_type": "markdown",
   "metadata": {},
   "source": [
    "Рассмотрим пропуски после принятых решений по заполнению."
   ]
  },
  {
   "cell_type": "code",
   "execution_count": 13,
   "metadata": {},
   "outputs": [
    {
     "data": {
      "text/html": [
       "<style type=\"text/css\">\n",
       "#T_67043_row0_col0, #T_67043_row1_col0, #T_67043_row2_col0, #T_67043_row3_col0, #T_67043_row4_col0, #T_67043_row5_col0, #T_67043_row6_col0, #T_67043_row7_col0, #T_67043_row8_col0, #T_67043_row14_col0 {\n",
       "  background-color: #3b4cc0;\n",
       "  color: #f1f1f1;\n",
       "}\n",
       "#T_67043_row9_col0, #T_67043_row10_col0, #T_67043_row11_col0, #T_67043_row12_col0 {\n",
       "  background-color: #b40426;\n",
       "  color: #f1f1f1;\n",
       "}\n",
       "#T_67043_row13_col0 {\n",
       "  background-color: #5875e1;\n",
       "  color: #f1f1f1;\n",
       "}\n",
       "#T_67043_row15_col0 {\n",
       "  background-color: #465ecf;\n",
       "  color: #f1f1f1;\n",
       "}\n",
       "</style>\n",
       "<table id=\"T_67043\">\n",
       "  <thead>\n",
       "    <tr>\n",
       "      <th class=\"blank level0\" >&nbsp;</th>\n",
       "      <th id=\"T_67043_level0_col0\" class=\"col_heading level0 col0\" >0</th>\n",
       "    </tr>\n",
       "  </thead>\n",
       "  <tbody>\n",
       "    <tr>\n",
       "      <th id=\"T_67043_level0_row0\" class=\"row_heading level0 row0\" >title</th>\n",
       "      <td id=\"T_67043_row0_col0\" class=\"data row0 col0\" >0.000000</td>\n",
       "    </tr>\n",
       "    <tr>\n",
       "      <th id=\"T_67043_level0_row1\" class=\"row_heading level0 row1\" >puNumber</th>\n",
       "      <td id=\"T_67043_row1_col0\" class=\"data row1 col0\" >0.000000</td>\n",
       "    </tr>\n",
       "    <tr>\n",
       "      <th id=\"T_67043_level0_row2\" class=\"row_heading level0 row2\" >show_start_date</th>\n",
       "      <td id=\"T_67043_row2_col0\" class=\"data row2 col0\" >0.000000</td>\n",
       "    </tr>\n",
       "    <tr>\n",
       "      <th id=\"T_67043_level0_row3\" class=\"row_heading level0 row3\" >type</th>\n",
       "      <td id=\"T_67043_row3_col0\" class=\"data row3 col0\" >0.000000</td>\n",
       "    </tr>\n",
       "    <tr>\n",
       "      <th id=\"T_67043_level0_row4\" class=\"row_heading level0 row4\" >film_studio</th>\n",
       "      <td id=\"T_67043_row4_col0\" class=\"data row4 col0\" >0.000000</td>\n",
       "    </tr>\n",
       "    <tr>\n",
       "      <th id=\"T_67043_level0_row5\" class=\"row_heading level0 row5\" >production_country</th>\n",
       "      <td id=\"T_67043_row5_col0\" class=\"data row5 col0\" >0.000000</td>\n",
       "    </tr>\n",
       "    <tr>\n",
       "      <th id=\"T_67043_level0_row6\" class=\"row_heading level0 row6\" >director</th>\n",
       "      <td id=\"T_67043_row6_col0\" class=\"data row6 col0\" >0.000000</td>\n",
       "    </tr>\n",
       "    <tr>\n",
       "      <th id=\"T_67043_level0_row7\" class=\"row_heading level0 row7\" >producer</th>\n",
       "      <td id=\"T_67043_row7_col0\" class=\"data row7 col0\" >0.000000</td>\n",
       "    </tr>\n",
       "    <tr>\n",
       "      <th id=\"T_67043_level0_row8\" class=\"row_heading level0 row8\" >age_restriction</th>\n",
       "      <td id=\"T_67043_row8_col0\" class=\"data row8 col0\" >0.000000</td>\n",
       "    </tr>\n",
       "    <tr>\n",
       "      <th id=\"T_67043_level0_row9\" class=\"row_heading level0 row9\" >refundable_support</th>\n",
       "      <td id=\"T_67043_row9_col0\" class=\"data row9 col0\" >96.000000</td>\n",
       "    </tr>\n",
       "    <tr>\n",
       "      <th id=\"T_67043_level0_row10\" class=\"row_heading level0 row10\" >nonrefundable_support</th>\n",
       "      <td id=\"T_67043_row10_col0\" class=\"data row10 col0\" >96.000000</td>\n",
       "    </tr>\n",
       "    <tr>\n",
       "      <th id=\"T_67043_level0_row11\" class=\"row_heading level0 row11\" >budget</th>\n",
       "      <td id=\"T_67043_row11_col0\" class=\"data row11 col0\" >96.000000</td>\n",
       "    </tr>\n",
       "    <tr>\n",
       "      <th id=\"T_67043_level0_row12\" class=\"row_heading level0 row12\" >financing_source</th>\n",
       "      <td id=\"T_67043_row12_col0\" class=\"data row12 col0\" >96.000000</td>\n",
       "    </tr>\n",
       "    <tr>\n",
       "      <th id=\"T_67043_level0_row13\" class=\"row_heading level0 row13\" >ratings</th>\n",
       "      <td id=\"T_67043_row13_col0\" class=\"data row13 col0\" >9.000000</td>\n",
       "    </tr>\n",
       "    <tr>\n",
       "      <th id=\"T_67043_level0_row14\" class=\"row_heading level0 row14\" >genres</th>\n",
       "      <td id=\"T_67043_row14_col0\" class=\"data row14 col0\" >0.000000</td>\n",
       "    </tr>\n",
       "    <tr>\n",
       "      <th id=\"T_67043_level0_row15\" class=\"row_heading level0 row15\" >box_office</th>\n",
       "      <td id=\"T_67043_row15_col0\" class=\"data row15 col0\" >4.000000</td>\n",
       "    </tr>\n",
       "  </tbody>\n",
       "</table>\n"
      ],
      "text/plain": [
       "<pandas.io.formats.style.Styler at 0x7fa51a1892a0>"
      ]
     },
     "execution_count": 13,
     "metadata": {},
     "output_type": "execute_result"
    }
   ],
   "source": [
    "pd.DataFrame(round(data.isna().mean()*100,)).style.background_gradient('coolwarm')"
   ]
  },
  {
   "cell_type": "markdown",
   "metadata": {},
   "source": [
    "Видим, что пропусков стало значительно меньше и в тех колонках, в которых и планировалось заполнение."
   ]
  },
  {
   "cell_type": "markdown",
   "metadata": {
    "id": "4c6k1t9ygFyQ"
   },
   "source": [
    "#### Шаг 2.3. Изучите дубликаты в датафрейме\n",
    "Проверим, есть ли в данных дубликаты. Вероятно, что если они и присутствуют, то в столбце `puNumber`, так как он является своего рода идентификатором для каждого фильма."
   ]
  },
  {
   "cell_type": "code",
   "execution_count": 14,
   "metadata": {
    "id": "aKck8RIdgFyQ"
   },
   "outputs": [
    {
     "data": {
      "text/plain": [
       "2"
      ]
     },
     "execution_count": 14,
     "metadata": {},
     "output_type": "execute_result"
    }
   ],
   "source": [
    "data['puNumber'].duplicated().sum()"
   ]
  },
  {
   "cell_type": "markdown",
   "metadata": {},
   "source": [
    "Видим, что в дата-фрейме присутствует 2 дубликата. Избавимся от них."
   ]
  },
  {
   "cell_type": "code",
   "execution_count": 15,
   "metadata": {},
   "outputs": [
    {
     "data": {
      "text/plain": [
       "0"
      ]
     },
     "execution_count": 15,
     "metadata": {},
     "output_type": "execute_result"
    }
   ],
   "source": [
    "data['puNumber'] = data['puNumber'].drop_duplicates().reset_index(drop=True)\n",
    "data.duplicated().sum()"
   ]
  },
  {
   "cell_type": "markdown",
   "metadata": {},
   "source": [
    "Количество дубликатов по всему дата-сету равно нулю."
   ]
  },
  {
   "cell_type": "markdown",
   "metadata": {
    "id": "52fOPrEBgFyQ"
   },
   "source": [
    "#### Шаг 2.4. Изучите категориальные значения\n",
    "\n",
    "Выведем первые 30 фильмов для анализа общих тенденций среди категориальных данных."
   ]
  },
  {
   "cell_type": "code",
   "execution_count": 16,
   "metadata": {
    "scrolled": false
   },
   "outputs": [
    {
     "data": {
      "text/html": [
       "<div>\n",
       "<style scoped>\n",
       "    .dataframe tbody tr th:only-of-type {\n",
       "        vertical-align: middle;\n",
       "    }\n",
       "\n",
       "    .dataframe tbody tr th {\n",
       "        vertical-align: top;\n",
       "    }\n",
       "\n",
       "    .dataframe thead th {\n",
       "        text-align: right;\n",
       "    }\n",
       "</style>\n",
       "<table border=\"1\" class=\"dataframe\">\n",
       "  <thead>\n",
       "    <tr style=\"text-align: right;\">\n",
       "      <th></th>\n",
       "      <th>title</th>\n",
       "      <th>puNumber</th>\n",
       "      <th>show_start_date</th>\n",
       "      <th>type</th>\n",
       "      <th>film_studio</th>\n",
       "      <th>production_country</th>\n",
       "      <th>director</th>\n",
       "      <th>producer</th>\n",
       "      <th>age_restriction</th>\n",
       "      <th>refundable_support</th>\n",
       "      <th>nonrefundable_support</th>\n",
       "      <th>budget</th>\n",
       "      <th>financing_source</th>\n",
       "      <th>ratings</th>\n",
       "      <th>genres</th>\n",
       "      <th>box_office</th>\n",
       "    </tr>\n",
       "  </thead>\n",
       "  <tbody>\n",
       "    <tr>\n",
       "      <th>0</th>\n",
       "      <td>Открытый простор</td>\n",
       "      <td>221,048,915.00</td>\n",
       "      <td>2015-11-27 12:00:00+00:00</td>\n",
       "      <td>Художественный</td>\n",
       "      <td>Тачстоун Пикчерз, Кобальт Пикчерз, Бикон Пикче...</td>\n",
       "      <td>США</td>\n",
       "      <td>Кевин Костнер</td>\n",
       "      <td>Дэвид Валдес, Кевин Костнер, Джейк Эбертс</td>\n",
       "      <td>«18+» - запрещено для детей</td>\n",
       "      <td>NaN</td>\n",
       "      <td>NaN</td>\n",
       "      <td>NaN</td>\n",
       "      <td>NaN</td>\n",
       "      <td>7.20</td>\n",
       "      <td>боевик,драма,мелодрама</td>\n",
       "      <td>15,522,807.02</td>\n",
       "    </tr>\n",
       "    <tr>\n",
       "      <th>1</th>\n",
       "      <td>Особо важное задание</td>\n",
       "      <td>111,013,716.00</td>\n",
       "      <td>2016-09-13 12:00:00+00:00</td>\n",
       "      <td>Художественный</td>\n",
       "      <td>Киностудия \"Мосфильм\"</td>\n",
       "      <td>СССР</td>\n",
       "      <td>Е.Матвеев</td>\n",
       "      <td>неизвестно</td>\n",
       "      <td>«6+» - для детей старше 6 лет</td>\n",
       "      <td>NaN</td>\n",
       "      <td>NaN</td>\n",
       "      <td>NaN</td>\n",
       "      <td>NaN</td>\n",
       "      <td>6.60</td>\n",
       "      <td>драма,военный</td>\n",
       "      <td>8,201,172.90</td>\n",
       "    </tr>\n",
       "    <tr>\n",
       "      <th>2</th>\n",
       "      <td>Особо опасен</td>\n",
       "      <td>221,038,416.00</td>\n",
       "      <td>2016-10-10 12:00:00+00:00</td>\n",
       "      <td>Художественный</td>\n",
       "      <td>Юниверсал Пикчерз, Кикстарт Продакшнз, Марк Пл...</td>\n",
       "      <td>США</td>\n",
       "      <td>Тимур Бекмамбетов</td>\n",
       "      <td>Джим Лемли, Джейсон Нетер, Марк Е.Платт, Яйн Смит</td>\n",
       "      <td>«18+» - запрещено для детей</td>\n",
       "      <td>NaN</td>\n",
       "      <td>NaN</td>\n",
       "      <td>NaN</td>\n",
       "      <td>NaN</td>\n",
       "      <td>6.80</td>\n",
       "      <td>фантастика,боевик,триллер</td>\n",
       "      <td>216,907,489.96</td>\n",
       "    </tr>\n",
       "    <tr>\n",
       "      <th>3</th>\n",
       "      <td>Особо опасен</td>\n",
       "      <td>221,026,916.00</td>\n",
       "      <td>2016-06-10 12:00:00+00:00</td>\n",
       "      <td>Художественный</td>\n",
       "      <td>Юниверсал Пикчерз, Кикстарт Продакшнз, Марк Пл...</td>\n",
       "      <td>США</td>\n",
       "      <td>Тимур Бекмамбетов</td>\n",
       "      <td>Джим Лемли, Джейсон Нетер, Марк Е.Платт, Яйн Смит</td>\n",
       "      <td>«18+» - запрещено для детей</td>\n",
       "      <td>NaN</td>\n",
       "      <td>NaN</td>\n",
       "      <td>NaN</td>\n",
       "      <td>NaN</td>\n",
       "      <td>6.80</td>\n",
       "      <td>фантастика,боевик,триллер</td>\n",
       "      <td>216,907,489.96</td>\n",
       "    </tr>\n",
       "    <tr>\n",
       "      <th>4</th>\n",
       "      <td>Особо опасен</td>\n",
       "      <td>221,030,815.00</td>\n",
       "      <td>2015-07-29 12:00:00+00:00</td>\n",
       "      <td>Художественный</td>\n",
       "      <td>Юниверсал Пикчерз, Кикстарт Продакшнз, Марк Пл...</td>\n",
       "      <td>США</td>\n",
       "      <td>Тимур Бекмамбетов</td>\n",
       "      <td>Джим Лемли, Джейсон Нетер, Марк Е.Платт, Яйн Смит</td>\n",
       "      <td>«18+» - запрещено для детей</td>\n",
       "      <td>NaN</td>\n",
       "      <td>NaN</td>\n",
       "      <td>NaN</td>\n",
       "      <td>NaN</td>\n",
       "      <td>6.80</td>\n",
       "      <td>фантастика,боевик,триллер</td>\n",
       "      <td>216,907,489.96</td>\n",
       "    </tr>\n",
       "    <tr>\n",
       "      <th>5</th>\n",
       "      <td>Остановился поезд</td>\n",
       "      <td>111,013,816.00</td>\n",
       "      <td>2016-09-13 12:00:00+00:00</td>\n",
       "      <td>Художественный</td>\n",
       "      <td>Киностудия \"Мосфильм\"</td>\n",
       "      <td>СССР</td>\n",
       "      <td>В.Абдрашитов</td>\n",
       "      <td>неизвестно</td>\n",
       "      <td>«6+» - для детей старше 6 лет</td>\n",
       "      <td>NaN</td>\n",
       "      <td>NaN</td>\n",
       "      <td>NaN</td>\n",
       "      <td>NaN</td>\n",
       "      <td>7.70</td>\n",
       "      <td>драма</td>\n",
       "      <td>16,822,613.85</td>\n",
       "    </tr>\n",
       "    <tr>\n",
       "      <th>6</th>\n",
       "      <td>Любовь и голуби</td>\n",
       "      <td>111,007,013.00</td>\n",
       "      <td>2013-10-18 12:00:00+00:00</td>\n",
       "      <td>Художественный</td>\n",
       "      <td>Киностудия \"Мосфильм\"</td>\n",
       "      <td>СССР</td>\n",
       "      <td>В.Меньшов</td>\n",
       "      <td>неизвестно</td>\n",
       "      <td>«12+» - для детей старше 12 лет</td>\n",
       "      <td>NaN</td>\n",
       "      <td>NaN</td>\n",
       "      <td>NaN</td>\n",
       "      <td>NaN</td>\n",
       "      <td>8.30</td>\n",
       "      <td>мелодрама,комедия</td>\n",
       "      <td>2,700.00</td>\n",
       "    </tr>\n",
       "    <tr>\n",
       "      <th>7</th>\n",
       "      <td>Любовь и сигареты</td>\n",
       "      <td>221,074,614.00</td>\n",
       "      <td>2014-12-29 12:00:00+00:00</td>\n",
       "      <td>Художественный</td>\n",
       "      <td>Юнайтед Артистс, Грин Стрит Филмз, Айкон Интер...</td>\n",
       "      <td>США</td>\n",
       "      <td>Джон Туртурро</td>\n",
       "      <td>Джон Пенотти, Джон Туртурро</td>\n",
       "      <td>«18+» - запрещено для детей</td>\n",
       "      <td>NaN</td>\n",
       "      <td>NaN</td>\n",
       "      <td>NaN</td>\n",
       "      <td>NaN</td>\n",
       "      <td>6.60</td>\n",
       "      <td>мюзикл,мелодрама,комедия</td>\n",
       "      <td>57,701,453.91</td>\n",
       "    </tr>\n",
       "    <tr>\n",
       "      <th>8</th>\n",
       "      <td>Отпетые мошенники.</td>\n",
       "      <td>121,011,416.00</td>\n",
       "      <td>2016-05-05 12:00:00+00:00</td>\n",
       "      <td>Художественный</td>\n",
       "      <td>Пульсар Продюксьон, ТФ1 Фильм</td>\n",
       "      <td>Франция</td>\n",
       "      <td>Эрик Беснард</td>\n",
       "      <td>Патрис Леду</td>\n",
       "      <td>«18+» - запрещено для детей</td>\n",
       "      <td>NaN</td>\n",
       "      <td>NaN</td>\n",
       "      <td>NaN</td>\n",
       "      <td>NaN</td>\n",
       "      <td>8.00</td>\n",
       "      <td>комедия,криминал</td>\n",
       "      <td>23,439,081.92</td>\n",
       "    </tr>\n",
       "    <tr>\n",
       "      <th>9</th>\n",
       "      <td>Отпуск за свой счет</td>\n",
       "      <td>111,019,114.00</td>\n",
       "      <td>2014-12-01 12:00:00+00:00</td>\n",
       "      <td>Художественный</td>\n",
       "      <td>Киностудия \"Мосфильм\", Телевидение ВНР</td>\n",
       "      <td>СССР, Венгрия</td>\n",
       "      <td>В.Титов</td>\n",
       "      <td>неизвестно</td>\n",
       "      <td>«12+» - для детей старше 12 лет</td>\n",
       "      <td>NaN</td>\n",
       "      <td>NaN</td>\n",
       "      <td>NaN</td>\n",
       "      <td>NaN</td>\n",
       "      <td>7.80</td>\n",
       "      <td>мелодрама,комедия</td>\n",
       "      <td>10,534,687.26</td>\n",
       "    </tr>\n",
       "    <tr>\n",
       "      <th>10</th>\n",
       "      <td>Превосходство Борна /По одноименной новелле Ро...</td>\n",
       "      <td>221,031,416.00</td>\n",
       "      <td>2016-06-29 12:00:00+00:00</td>\n",
       "      <td>Художественный</td>\n",
       "      <td>Кеннеди/Маршал Компани, Юниверсал Пикчерз, Гип...</td>\n",
       "      <td>США</td>\n",
       "      <td>Пол Грингросс</td>\n",
       "      <td>Патрик Кроули, Фрэнк Маршалл, Пол Сэндберг</td>\n",
       "      <td>«16+» - для детей старше 16 лет</td>\n",
       "      <td>NaN</td>\n",
       "      <td>NaN</td>\n",
       "      <td>NaN</td>\n",
       "      <td>NaN</td>\n",
       "      <td>7.70</td>\n",
       "      <td>боевик,триллер,детектив</td>\n",
       "      <td>3,085.00</td>\n",
       "    </tr>\n",
       "    <tr>\n",
       "      <th>11</th>\n",
       "      <td>Ответный ход</td>\n",
       "      <td>111,019,014.00</td>\n",
       "      <td>2014-12-01 12:00:00+00:00</td>\n",
       "      <td>Художественный</td>\n",
       "      <td>Киностудия \"Мосфильм\"</td>\n",
       "      <td>СССР</td>\n",
       "      <td>М.Туманишвили</td>\n",
       "      <td>неизвестно</td>\n",
       "      <td>«12+» - для детей старше 12 лет</td>\n",
       "      <td>NaN</td>\n",
       "      <td>NaN</td>\n",
       "      <td>NaN</td>\n",
       "      <td>NaN</td>\n",
       "      <td>7.80</td>\n",
       "      <td>боевик,драма,приключения</td>\n",
       "      <td>167,043,887.12</td>\n",
       "    </tr>\n",
       "    <tr>\n",
       "      <th>12</th>\n",
       "      <td>Малышка на миллион /По мотивам рассказов Ф.Х.Т...</td>\n",
       "      <td>221,011,415.00</td>\n",
       "      <td>2015-04-03 12:00:00+00:00</td>\n",
       "      <td>Художественный</td>\n",
       "      <td>Уорнер Бразерс, Лейкшор Интертейнмент, Малпасо...</td>\n",
       "      <td>США</td>\n",
       "      <td>Клинт Иствуд</td>\n",
       "      <td>Клинт Иствуд, Том Розенберг, Альберт С.Рудди, ...</td>\n",
       "      <td>«16+» - для детей старше 16 лет</td>\n",
       "      <td>NaN</td>\n",
       "      <td>NaN</td>\n",
       "      <td>NaN</td>\n",
       "      <td>NaN</td>\n",
       "      <td>8.10</td>\n",
       "      <td>драма,спорт</td>\n",
       "      <td>149,743,935.84</td>\n",
       "    </tr>\n",
       "    <tr>\n",
       "      <th>13</th>\n",
       "      <td>Преданный садовник</td>\n",
       "      <td>121,003,106.00</td>\n",
       "      <td>2013-08-26 12:00:00+00:00</td>\n",
       "      <td>Художественный</td>\n",
       "      <td>Потбойлер Продакшнз, Эпсилон Моушн Пикчерз, Ск...</td>\n",
       "      <td>Германия-Великобритания</td>\n",
       "      <td>Фернанду Мейрелльеш</td>\n",
       "      <td>Саймон Чэннинг Уильямс</td>\n",
       "      <td>«16+» - для детей старше 16 лет</td>\n",
       "      <td>NaN</td>\n",
       "      <td>NaN</td>\n",
       "      <td>NaN</td>\n",
       "      <td>NaN</td>\n",
       "      <td>7.10</td>\n",
       "      <td>триллер,драма,мелодрама</td>\n",
       "      <td>73,652,225.47</td>\n",
       "    </tr>\n",
       "    <tr>\n",
       "      <th>14</th>\n",
       "      <td>Отель /По мотивам пьесы Джона Уэбстера/</td>\n",
       "      <td>221,008,812.00</td>\n",
       "      <td>2012-01-27 12:00:00+00:00</td>\n",
       "      <td>Художественный</td>\n",
       "      <td>Кэтлей, Отель Продакшнс, Мунстоун Интертейнмен...</td>\n",
       "      <td>Великобритания - Италия</td>\n",
       "      <td>Майк Фиггис</td>\n",
       "      <td>Этчи Стро, Анни Стюарт, Майк Фиггис</td>\n",
       "      <td>«18+» - запрещено для детей</td>\n",
       "      <td>NaN</td>\n",
       "      <td>NaN</td>\n",
       "      <td>NaN</td>\n",
       "      <td>NaN</td>\n",
       "      <td>6.00</td>\n",
       "      <td>комедия,мелодрама</td>\n",
       "      <td>75,340,268.27</td>\n",
       "    </tr>\n",
       "    <tr>\n",
       "      <th>15</th>\n",
       "      <td>Председатель</td>\n",
       "      <td>111,014,916.00</td>\n",
       "      <td>2016-09-13 12:00:00+00:00</td>\n",
       "      <td>Художественный</td>\n",
       "      <td>Киностудия \"Мосфильм\"</td>\n",
       "      <td>СССР</td>\n",
       "      <td>А.Салтыков</td>\n",
       "      <td>неизвестно</td>\n",
       "      <td>«12+» - для детей старше 12 лет</td>\n",
       "      <td>NaN</td>\n",
       "      <td>NaN</td>\n",
       "      <td>NaN</td>\n",
       "      <td>NaN</td>\n",
       "      <td>8.30</td>\n",
       "      <td>драма</td>\n",
       "      <td>16,822,613.85</td>\n",
       "    </tr>\n",
       "    <tr>\n",
       "      <th>16</th>\n",
       "      <td>Осенний марафон</td>\n",
       "      <td>111,007,513.00</td>\n",
       "      <td>2013-10-18 12:00:00+00:00</td>\n",
       "      <td>Художественный</td>\n",
       "      <td>Киностудия \"Мосфильм\"</td>\n",
       "      <td>СССР</td>\n",
       "      <td>Г.Данелия</td>\n",
       "      <td>неизвестно</td>\n",
       "      <td>«12+» - для детей старше 12 лет</td>\n",
       "      <td>NaN</td>\n",
       "      <td>NaN</td>\n",
       "      <td>NaN</td>\n",
       "      <td>NaN</td>\n",
       "      <td>8.00</td>\n",
       "      <td>драма,мелодрама,комедия</td>\n",
       "      <td>27,363,387.90</td>\n",
       "    </tr>\n",
       "    <tr>\n",
       "      <th>17</th>\n",
       "      <td>Осень</td>\n",
       "      <td>111,027,914.00</td>\n",
       "      <td>2014-12-24 12:00:00+00:00</td>\n",
       "      <td>Художественный</td>\n",
       "      <td>Киностудия \"Мосфильм\"</td>\n",
       "      <td>СССР</td>\n",
       "      <td>А.Смирнов</td>\n",
       "      <td>неизвестно</td>\n",
       "      <td>«12+» - для детей старше 12 лет</td>\n",
       "      <td>NaN</td>\n",
       "      <td>NaN</td>\n",
       "      <td>NaN</td>\n",
       "      <td>NaN</td>\n",
       "      <td>7.40</td>\n",
       "      <td>драма,мелодрама</td>\n",
       "      <td>25,872,199.22</td>\n",
       "    </tr>\n",
       "    <tr>\n",
       "      <th>18</th>\n",
       "      <td>Неподдающиеся</td>\n",
       "      <td>111,003,616.00</td>\n",
       "      <td>2016-02-12 12:00:00+00:00</td>\n",
       "      <td>Художественный</td>\n",
       "      <td>Киностудия \"Мосфильм\"</td>\n",
       "      <td>СССР</td>\n",
       "      <td>Ю.Чулюкин</td>\n",
       "      <td>неизвестно</td>\n",
       "      <td>«6+» - для детей старше 6 лет</td>\n",
       "      <td>NaN</td>\n",
       "      <td>NaN</td>\n",
       "      <td>NaN</td>\n",
       "      <td>NaN</td>\n",
       "      <td>8.00</td>\n",
       "      <td>мелодрама,комедия</td>\n",
       "      <td>360.00</td>\n",
       "    </tr>\n",
       "    <tr>\n",
       "      <th>19</th>\n",
       "      <td>Неподсуден</td>\n",
       "      <td>111,003,716.00</td>\n",
       "      <td>2016-02-12 12:00:00+00:00</td>\n",
       "      <td>Художественный</td>\n",
       "      <td>Киностудия \"Мосфильм\"</td>\n",
       "      <td>СССР</td>\n",
       "      <td>В.Краснопольский, В.Усков</td>\n",
       "      <td>неизвестно</td>\n",
       "      <td>«6+» - для детей старше 6 лет</td>\n",
       "      <td>NaN</td>\n",
       "      <td>NaN</td>\n",
       "      <td>NaN</td>\n",
       "      <td>NaN</td>\n",
       "      <td>7.70</td>\n",
       "      <td>драма</td>\n",
       "      <td>420.00</td>\n",
       "    </tr>\n",
       "    <tr>\n",
       "      <th>20</th>\n",
       "      <td>Незабываемый 1919-й год</td>\n",
       "      <td>111,003,316.00</td>\n",
       "      <td>2016-02-12 12:00:00+00:00</td>\n",
       "      <td>Художественный</td>\n",
       "      <td>Киностудия \"Мосфильм\"</td>\n",
       "      <td>СССР</td>\n",
       "      <td>М.Чиаурели</td>\n",
       "      <td>неизвестно</td>\n",
       "      <td>«12+» - для детей старше 12 лет</td>\n",
       "      <td>NaN</td>\n",
       "      <td>NaN</td>\n",
       "      <td>NaN</td>\n",
       "      <td>NaN</td>\n",
       "      <td>5.80</td>\n",
       "      <td>драма,история</td>\n",
       "      <td>3,130,064.11</td>\n",
       "    </tr>\n",
       "    <tr>\n",
       "      <th>21</th>\n",
       "      <td>Незаконченная жизнь</td>\n",
       "      <td>121,015,405.00</td>\n",
       "      <td>2015-05-06 12:00:00+00:00</td>\n",
       "      <td>Художественный</td>\n",
       "      <td>Инишиэл Интертейнмент Групп, Мирамакс Филмз, П...</td>\n",
       "      <td>США</td>\n",
       "      <td>Лассе Халлстрем</td>\n",
       "      <td>Лесли Холлеран, Алан Лэдд мл., Келлиан Лэдд, Х...</td>\n",
       "      <td>«12+» - для детей старше 12 лет</td>\n",
       "      <td>NaN</td>\n",
       "      <td>NaN</td>\n",
       "      <td>NaN</td>\n",
       "      <td>NaN</td>\n",
       "      <td>7.20</td>\n",
       "      <td>драма,мелодрама,семейный</td>\n",
       "      <td>NaN</td>\n",
       "    </tr>\n",
       "    <tr>\n",
       "      <th>22</th>\n",
       "      <td>Операция \"Ы\" и другие приключения Шурика</td>\n",
       "      <td>111,007,413.00</td>\n",
       "      <td>2013-10-18 12:00:00+00:00</td>\n",
       "      <td>Художественный</td>\n",
       "      <td>Киностудия \"Мосфильм\"</td>\n",
       "      <td>СССР</td>\n",
       "      <td>Л.Гайдай</td>\n",
       "      <td>неизвестно</td>\n",
       "      <td>«6+» - для детей старше 6 лет</td>\n",
       "      <td>NaN</td>\n",
       "      <td>NaN</td>\n",
       "      <td>NaN</td>\n",
       "      <td>NaN</td>\n",
       "      <td>8.70</td>\n",
       "      <td>комедия,мелодрама,криминал</td>\n",
       "      <td>380.00</td>\n",
       "    </tr>\n",
       "    <tr>\n",
       "      <th>23</th>\n",
       "      <td>Неизвестные страницы из жизни разведчика</td>\n",
       "      <td>111,003,416.00</td>\n",
       "      <td>2016-02-12 12:00:00+00:00</td>\n",
       "      <td>Художественный</td>\n",
       "      <td>Киностудия \"Мосфильм\"</td>\n",
       "      <td>СССР</td>\n",
       "      <td>В.Чеботарев</td>\n",
       "      <td>неизвестно</td>\n",
       "      <td>«12+» - для детей старше 12 лет</td>\n",
       "      <td>NaN</td>\n",
       "      <td>NaN</td>\n",
       "      <td>NaN</td>\n",
       "      <td>NaN</td>\n",
       "      <td>6.30</td>\n",
       "      <td>драма,военный</td>\n",
       "      <td>8,201,172.90</td>\n",
       "    </tr>\n",
       "    <tr>\n",
       "      <th>24</th>\n",
       "      <td>Неисправимый лгун</td>\n",
       "      <td>111,003,516.00</td>\n",
       "      <td>2016-02-12 12:00:00+00:00</td>\n",
       "      <td>Художественный</td>\n",
       "      <td>Киностудия \"Мосфильм\"</td>\n",
       "      <td>СССР</td>\n",
       "      <td>В.Азаров</td>\n",
       "      <td>неизвестно</td>\n",
       "      <td>«6+» - для детей старше 6 лет</td>\n",
       "      <td>NaN</td>\n",
       "      <td>NaN</td>\n",
       "      <td>NaN</td>\n",
       "      <td>NaN</td>\n",
       "      <td>7.70</td>\n",
       "      <td>комедия</td>\n",
       "      <td>65,218,953.07</td>\n",
       "    </tr>\n",
       "    <tr>\n",
       "      <th>25</th>\n",
       "      <td>Призрак замка Моррисвиль</td>\n",
       "      <td>221,072,614.00</td>\n",
       "      <td>2014-12-29 12:00:00+00:00</td>\n",
       "      <td>Художественный</td>\n",
       "      <td>Фильмове Студио Баррандов</td>\n",
       "      <td>Чехословакия</td>\n",
       "      <td>Боривой Земан</td>\n",
       "      <td>неизвестно</td>\n",
       "      <td>«12+» - для детей старше 12 лет</td>\n",
       "      <td>NaN</td>\n",
       "      <td>NaN</td>\n",
       "      <td>NaN</td>\n",
       "      <td>NaN</td>\n",
       "      <td>7.70</td>\n",
       "      <td>комедия</td>\n",
       "      <td>65,218,953.07</td>\n",
       "    </tr>\n",
       "    <tr>\n",
       "      <th>26</th>\n",
       "      <td>Оружейный барон</td>\n",
       "      <td>221,012,515.00</td>\n",
       "      <td>2015-04-03 12:00:00+00:00</td>\n",
       "      <td>Художественный</td>\n",
       "      <td>Вэ И Пэ Медиенфондс 3, Асендант Пикчерз, Сатур...</td>\n",
       "      <td>США - Франция - Турция</td>\n",
       "      <td>Эндрю Никкол</td>\n",
       "      <td>Норман Голуайтли, Энди Грош, Николас Кейдж, Эн...</td>\n",
       "      <td>«18+» - запрещено для детей</td>\n",
       "      <td>NaN</td>\n",
       "      <td>NaN</td>\n",
       "      <td>NaN</td>\n",
       "      <td>NaN</td>\n",
       "      <td>7.70</td>\n",
       "      <td>боевик,драма,криминал</td>\n",
       "      <td>29,466,196.99</td>\n",
       "    </tr>\n",
       "    <tr>\n",
       "      <th>27</th>\n",
       "      <td>Отставной козы барабанщик</td>\n",
       "      <td>111,024,314.00</td>\n",
       "      <td>2014-12-24 12:00:00+00:00</td>\n",
       "      <td>Художественный</td>\n",
       "      <td>Киностудия \"Мосфильм\"</td>\n",
       "      <td>СССР</td>\n",
       "      <td>Г.Мыльников</td>\n",
       "      <td>неизвестно</td>\n",
       "      <td>«6+» - для детей старше 6 лет</td>\n",
       "      <td>NaN</td>\n",
       "      <td>NaN</td>\n",
       "      <td>NaN</td>\n",
       "      <td>NaN</td>\n",
       "      <td>6.90</td>\n",
       "      <td>драма,комедия</td>\n",
       "      <td>23,916,955.85</td>\n",
       "    </tr>\n",
       "    <tr>\n",
       "      <th>28</th>\n",
       "      <td>Паршивая овца</td>\n",
       "      <td>221,012,815.00</td>\n",
       "      <td>2015-04-03 12:00:00+00:00</td>\n",
       "      <td>Художественный</td>\n",
       "      <td>Лайв Сток Филмз, Нью Зиланд Филм Комишн</td>\n",
       "      <td>Новая Зеландия</td>\n",
       "      <td>Джонатан Кинг</td>\n",
       "      <td>Филиппа Кемпбелл</td>\n",
       "      <td>«18+» - запрещено для детей</td>\n",
       "      <td>NaN</td>\n",
       "      <td>NaN</td>\n",
       "      <td>NaN</td>\n",
       "      <td>NaN</td>\n",
       "      <td>5.00</td>\n",
       "      <td>ужасы,фантастика,комедия</td>\n",
       "      <td>2,497,043.70</td>\n",
       "    </tr>\n",
       "    <tr>\n",
       "      <th>29</th>\n",
       "      <td>Плюмбум, или Опасная игра</td>\n",
       "      <td>111,014,116.00</td>\n",
       "      <td>2016-09-13 12:00:00+00:00</td>\n",
       "      <td>Художественный</td>\n",
       "      <td>Киностудия \"Мосфильм\"</td>\n",
       "      <td>СССР</td>\n",
       "      <td>В.Абдрашитов</td>\n",
       "      <td>неизвестно</td>\n",
       "      <td>«16+» - для детей старше 16 лет</td>\n",
       "      <td>NaN</td>\n",
       "      <td>NaN</td>\n",
       "      <td>NaN</td>\n",
       "      <td>NaN</td>\n",
       "      <td>6.90</td>\n",
       "      <td>драма</td>\n",
       "      <td>16,822,613.85</td>\n",
       "    </tr>\n",
       "  </tbody>\n",
       "</table>\n",
       "</div>"
      ],
      "text/plain": [
       "                                                title       puNumber  \\\n",
       "0                                    Открытый простор 221,048,915.00   \n",
       "1                                Особо важное задание 111,013,716.00   \n",
       "2                                        Особо опасен 221,038,416.00   \n",
       "3                                        Особо опасен 221,026,916.00   \n",
       "4                                        Особо опасен 221,030,815.00   \n",
       "5                                   Остановился поезд 111,013,816.00   \n",
       "6                                     Любовь и голуби 111,007,013.00   \n",
       "7                                   Любовь и сигареты 221,074,614.00   \n",
       "8                                  Отпетые мошенники. 121,011,416.00   \n",
       "9                                 Отпуск за свой счет 111,019,114.00   \n",
       "10  Превосходство Борна /По одноименной новелле Ро... 221,031,416.00   \n",
       "11                                       Ответный ход 111,019,014.00   \n",
       "12  Малышка на миллион /По мотивам рассказов Ф.Х.Т... 221,011,415.00   \n",
       "13                                 Преданный садовник 121,003,106.00   \n",
       "14            Отель /По мотивам пьесы Джона Уэбстера/ 221,008,812.00   \n",
       "15                                       Председатель 111,014,916.00   \n",
       "16                                    Осенний марафон 111,007,513.00   \n",
       "17                                              Осень 111,027,914.00   \n",
       "18                                      Неподдающиеся 111,003,616.00   \n",
       "19                                         Неподсуден 111,003,716.00   \n",
       "20                            Незабываемый 1919-й год 111,003,316.00   \n",
       "21                                Незаконченная жизнь 121,015,405.00   \n",
       "22           Операция \"Ы\" и другие приключения Шурика 111,007,413.00   \n",
       "23           Неизвестные страницы из жизни разведчика 111,003,416.00   \n",
       "24                                  Неисправимый лгун 111,003,516.00   \n",
       "25                           Призрак замка Моррисвиль 221,072,614.00   \n",
       "26                                    Оружейный барон 221,012,515.00   \n",
       "27                          Отставной козы барабанщик 111,024,314.00   \n",
       "28                                      Паршивая овца 221,012,815.00   \n",
       "29                          Плюмбум, или Опасная игра 111,014,116.00   \n",
       "\n",
       "             show_start_date            type  \\\n",
       "0  2015-11-27 12:00:00+00:00  Художественный   \n",
       "1  2016-09-13 12:00:00+00:00  Художественный   \n",
       "2  2016-10-10 12:00:00+00:00  Художественный   \n",
       "3  2016-06-10 12:00:00+00:00  Художественный   \n",
       "4  2015-07-29 12:00:00+00:00  Художественный   \n",
       "5  2016-09-13 12:00:00+00:00  Художественный   \n",
       "6  2013-10-18 12:00:00+00:00  Художественный   \n",
       "7  2014-12-29 12:00:00+00:00  Художественный   \n",
       "8  2016-05-05 12:00:00+00:00  Художественный   \n",
       "9  2014-12-01 12:00:00+00:00  Художественный   \n",
       "10 2016-06-29 12:00:00+00:00  Художественный   \n",
       "11 2014-12-01 12:00:00+00:00  Художественный   \n",
       "12 2015-04-03 12:00:00+00:00  Художественный   \n",
       "13 2013-08-26 12:00:00+00:00  Художественный   \n",
       "14 2012-01-27 12:00:00+00:00  Художественный   \n",
       "15 2016-09-13 12:00:00+00:00  Художественный   \n",
       "16 2013-10-18 12:00:00+00:00  Художественный   \n",
       "17 2014-12-24 12:00:00+00:00  Художественный   \n",
       "18 2016-02-12 12:00:00+00:00  Художественный   \n",
       "19 2016-02-12 12:00:00+00:00  Художественный   \n",
       "20 2016-02-12 12:00:00+00:00  Художественный   \n",
       "21 2015-05-06 12:00:00+00:00  Художественный   \n",
       "22 2013-10-18 12:00:00+00:00  Художественный   \n",
       "23 2016-02-12 12:00:00+00:00  Художественный   \n",
       "24 2016-02-12 12:00:00+00:00  Художественный   \n",
       "25 2014-12-29 12:00:00+00:00  Художественный   \n",
       "26 2015-04-03 12:00:00+00:00  Художественный   \n",
       "27 2014-12-24 12:00:00+00:00  Художественный   \n",
       "28 2015-04-03 12:00:00+00:00  Художественный   \n",
       "29 2016-09-13 12:00:00+00:00  Художественный   \n",
       "\n",
       "                                          film_studio  \\\n",
       "0   Тачстоун Пикчерз, Кобальт Пикчерз, Бикон Пикче...   \n",
       "1                               Киностудия \"Мосфильм\"   \n",
       "2   Юниверсал Пикчерз, Кикстарт Продакшнз, Марк Пл...   \n",
       "3   Юниверсал Пикчерз, Кикстарт Продакшнз, Марк Пл...   \n",
       "4   Юниверсал Пикчерз, Кикстарт Продакшнз, Марк Пл...   \n",
       "5                               Киностудия \"Мосфильм\"   \n",
       "6                               Киностудия \"Мосфильм\"   \n",
       "7   Юнайтед Артистс, Грин Стрит Филмз, Айкон Интер...   \n",
       "8                      Пульсар Продюксьон, ТФ1 Фильм    \n",
       "9              Киностудия \"Мосфильм\", Телевидение ВНР   \n",
       "10  Кеннеди/Маршал Компани, Юниверсал Пикчерз, Гип...   \n",
       "11                              Киностудия \"Мосфильм\"   \n",
       "12  Уорнер Бразерс, Лейкшор Интертейнмент, Малпасо...   \n",
       "13  Потбойлер Продакшнз, Эпсилон Моушн Пикчерз, Ск...   \n",
       "14  Кэтлей, Отель Продакшнс, Мунстоун Интертейнмен...   \n",
       "15                              Киностудия \"Мосфильм\"   \n",
       "16                              Киностудия \"Мосфильм\"   \n",
       "17                              Киностудия \"Мосфильм\"   \n",
       "18                              Киностудия \"Мосфильм\"   \n",
       "19                              Киностудия \"Мосфильм\"   \n",
       "20                              Киностудия \"Мосфильм\"   \n",
       "21  Инишиэл Интертейнмент Групп, Мирамакс Филмз, П...   \n",
       "22                              Киностудия \"Мосфильм\"   \n",
       "23                              Киностудия \"Мосфильм\"   \n",
       "24                              Киностудия \"Мосфильм\"   \n",
       "25                          Фильмове Студио Баррандов   \n",
       "26  Вэ И Пэ Медиенфондс 3, Асендант Пикчерз, Сатур...   \n",
       "27                              Киностудия \"Мосфильм\"   \n",
       "28            Лайв Сток Филмз, Нью Зиланд Филм Комишн   \n",
       "29                              Киностудия \"Мосфильм\"   \n",
       "\n",
       "         production_country                   director  \\\n",
       "0                       США              Кевин Костнер   \n",
       "1                      СССР                  Е.Матвеев   \n",
       "2                       США          Тимур Бекмамбетов   \n",
       "3                       США          Тимур Бекмамбетов   \n",
       "4                       США          Тимур Бекмамбетов   \n",
       "5                      СССР               В.Абдрашитов   \n",
       "6                      СССР                  В.Меньшов   \n",
       "7                       США              Джон Туртурро   \n",
       "8                   Франция               Эрик Беснард   \n",
       "9             СССР, Венгрия                    В.Титов   \n",
       "10                      США              Пол Грингросс   \n",
       "11                     СССР              М.Туманишвили   \n",
       "12                      США               Клинт Иствуд   \n",
       "13  Германия-Великобритания        Фернанду Мейрелльеш   \n",
       "14  Великобритания - Италия                Майк Фиггис   \n",
       "15                     СССР                 А.Салтыков   \n",
       "16                     СССР                  Г.Данелия   \n",
       "17                     СССР                  А.Смирнов   \n",
       "18                     СССР                  Ю.Чулюкин   \n",
       "19                     СССР  В.Краснопольский, В.Усков   \n",
       "20                     СССР                 М.Чиаурели   \n",
       "21                      США            Лассе Халлстрем   \n",
       "22                     СССР                   Л.Гайдай   \n",
       "23                     СССР                В.Чеботарев   \n",
       "24                     СССР                   В.Азаров   \n",
       "25             Чехословакия              Боривой Земан   \n",
       "26   США - Франция - Турция               Эндрю Никкол   \n",
       "27                     СССР                Г.Мыльников   \n",
       "28           Новая Зеландия              Джонатан Кинг   \n",
       "29                     СССР               В.Абдрашитов   \n",
       "\n",
       "                                             producer  \\\n",
       "0           Дэвид Валдес, Кевин Костнер, Джейк Эбертс   \n",
       "1                                          неизвестно   \n",
       "2   Джим Лемли, Джейсон Нетер, Марк Е.Платт, Яйн Смит   \n",
       "3   Джим Лемли, Джейсон Нетер, Марк Е.Платт, Яйн Смит   \n",
       "4   Джим Лемли, Джейсон Нетер, Марк Е.Платт, Яйн Смит   \n",
       "5                                          неизвестно   \n",
       "6                                          неизвестно   \n",
       "7                         Джон Пенотти, Джон Туртурро   \n",
       "8                                         Патрис Леду   \n",
       "9                                          неизвестно   \n",
       "10         Патрик Кроули, Фрэнк Маршалл, Пол Сэндберг   \n",
       "11                                         неизвестно   \n",
       "12  Клинт Иствуд, Том Розенберг, Альберт С.Рудди, ...   \n",
       "13                             Саймон Чэннинг Уильямс   \n",
       "14                Этчи Стро, Анни Стюарт, Майк Фиггис   \n",
       "15                                         неизвестно   \n",
       "16                                         неизвестно   \n",
       "17                                         неизвестно   \n",
       "18                                         неизвестно   \n",
       "19                                         неизвестно   \n",
       "20                                         неизвестно   \n",
       "21  Лесли Холлеран, Алан Лэдд мл., Келлиан Лэдд, Х...   \n",
       "22                                         неизвестно   \n",
       "23                                         неизвестно   \n",
       "24                                         неизвестно   \n",
       "25                                         неизвестно   \n",
       "26  Норман Голуайтли, Энди Грош, Николас Кейдж, Эн...   \n",
       "27                                         неизвестно   \n",
       "28                                   Филиппа Кемпбелл   \n",
       "29                                         неизвестно   \n",
       "\n",
       "                    age_restriction  refundable_support  \\\n",
       "0       «18+» - запрещено для детей                 NaN   \n",
       "1     «6+» - для детей старше 6 лет                 NaN   \n",
       "2       «18+» - запрещено для детей                 NaN   \n",
       "3       «18+» - запрещено для детей                 NaN   \n",
       "4       «18+» - запрещено для детей                 NaN   \n",
       "5     «6+» - для детей старше 6 лет                 NaN   \n",
       "6   «12+» - для детей старше 12 лет                 NaN   \n",
       "7       «18+» - запрещено для детей                 NaN   \n",
       "8       «18+» - запрещено для детей                 NaN   \n",
       "9   «12+» - для детей старше 12 лет                 NaN   \n",
       "10  «16+» - для детей старше 16 лет                 NaN   \n",
       "11  «12+» - для детей старше 12 лет                 NaN   \n",
       "12  «16+» - для детей старше 16 лет                 NaN   \n",
       "13  «16+» - для детей старше 16 лет                 NaN   \n",
       "14      «18+» - запрещено для детей                 NaN   \n",
       "15  «12+» - для детей старше 12 лет                 NaN   \n",
       "16  «12+» - для детей старше 12 лет                 NaN   \n",
       "17  «12+» - для детей старше 12 лет                 NaN   \n",
       "18    «6+» - для детей старше 6 лет                 NaN   \n",
       "19    «6+» - для детей старше 6 лет                 NaN   \n",
       "20  «12+» - для детей старше 12 лет                 NaN   \n",
       "21  «12+» - для детей старше 12 лет                 NaN   \n",
       "22    «6+» - для детей старше 6 лет                 NaN   \n",
       "23  «12+» - для детей старше 12 лет                 NaN   \n",
       "24    «6+» - для детей старше 6 лет                 NaN   \n",
       "25  «12+» - для детей старше 12 лет                 NaN   \n",
       "26      «18+» - запрещено для детей                 NaN   \n",
       "27    «6+» - для детей старше 6 лет                 NaN   \n",
       "28      «18+» - запрещено для детей                 NaN   \n",
       "29  «16+» - для детей старше 16 лет                 NaN   \n",
       "\n",
       "    nonrefundable_support  budget financing_source  ratings  \\\n",
       "0                     NaN     NaN              NaN     7.20   \n",
       "1                     NaN     NaN              NaN     6.60   \n",
       "2                     NaN     NaN              NaN     6.80   \n",
       "3                     NaN     NaN              NaN     6.80   \n",
       "4                     NaN     NaN              NaN     6.80   \n",
       "5                     NaN     NaN              NaN     7.70   \n",
       "6                     NaN     NaN              NaN     8.30   \n",
       "7                     NaN     NaN              NaN     6.60   \n",
       "8                     NaN     NaN              NaN     8.00   \n",
       "9                     NaN     NaN              NaN     7.80   \n",
       "10                    NaN     NaN              NaN     7.70   \n",
       "11                    NaN     NaN              NaN     7.80   \n",
       "12                    NaN     NaN              NaN     8.10   \n",
       "13                    NaN     NaN              NaN     7.10   \n",
       "14                    NaN     NaN              NaN     6.00   \n",
       "15                    NaN     NaN              NaN     8.30   \n",
       "16                    NaN     NaN              NaN     8.00   \n",
       "17                    NaN     NaN              NaN     7.40   \n",
       "18                    NaN     NaN              NaN     8.00   \n",
       "19                    NaN     NaN              NaN     7.70   \n",
       "20                    NaN     NaN              NaN     5.80   \n",
       "21                    NaN     NaN              NaN     7.20   \n",
       "22                    NaN     NaN              NaN     8.70   \n",
       "23                    NaN     NaN              NaN     6.30   \n",
       "24                    NaN     NaN              NaN     7.70   \n",
       "25                    NaN     NaN              NaN     7.70   \n",
       "26                    NaN     NaN              NaN     7.70   \n",
       "27                    NaN     NaN              NaN     6.90   \n",
       "28                    NaN     NaN              NaN     5.00   \n",
       "29                    NaN     NaN              NaN     6.90   \n",
       "\n",
       "                        genres     box_office  \n",
       "0       боевик,драма,мелодрама  15,522,807.02  \n",
       "1                драма,военный   8,201,172.90  \n",
       "2    фантастика,боевик,триллер 216,907,489.96  \n",
       "3    фантастика,боевик,триллер 216,907,489.96  \n",
       "4    фантастика,боевик,триллер 216,907,489.96  \n",
       "5                        драма  16,822,613.85  \n",
       "6            мелодрама,комедия       2,700.00  \n",
       "7     мюзикл,мелодрама,комедия  57,701,453.91  \n",
       "8             комедия,криминал  23,439,081.92  \n",
       "9            мелодрама,комедия  10,534,687.26  \n",
       "10     боевик,триллер,детектив       3,085.00  \n",
       "11    боевик,драма,приключения 167,043,887.12  \n",
       "12                 драма,спорт 149,743,935.84  \n",
       "13     триллер,драма,мелодрама  73,652,225.47  \n",
       "14           комедия,мелодрама  75,340,268.27  \n",
       "15                       драма  16,822,613.85  \n",
       "16     драма,мелодрама,комедия  27,363,387.90  \n",
       "17             драма,мелодрама  25,872,199.22  \n",
       "18           мелодрама,комедия         360.00  \n",
       "19                       драма         420.00  \n",
       "20               драма,история   3,130,064.11  \n",
       "21    драма,мелодрама,семейный            NaN  \n",
       "22  комедия,мелодрама,криминал         380.00  \n",
       "23               драма,военный   8,201,172.90  \n",
       "24                     комедия  65,218,953.07  \n",
       "25                     комедия  65,218,953.07  \n",
       "26       боевик,драма,криминал  29,466,196.99  \n",
       "27               драма,комедия  23,916,955.85  \n",
       "28    ужасы,фантастика,комедия   2,497,043.70  \n",
       "29                       драма  16,822,613.85  "
      ]
     },
     "execution_count": 16,
     "metadata": {},
     "output_type": "execute_result"
    }
   ],
   "source": [
    "data.head(30)"
   ]
  },
  {
   "cell_type": "markdown",
   "metadata": {},
   "source": [
    "Видим, что общей особенностью среди практически всех категориальных данных является отсутствие единого формата записи: например, в столбце `production_country` перечисление ведется как через запятую, так и через дефис. "
   ]
  },
  {
   "cell_type": "code",
   "execution_count": 17,
   "metadata": {},
   "outputs": [],
   "source": [
    "data['production_country'] = data['production_country'].str.replace('-','')\n",
    "data['production_country'] = data['production_country'].str.replace('-',' ')\n",
    "data['production_country'] = data['production_country'].str.replace(',',' ')\n",
    "data['production_country'] = data['production_country'].str.replace(', ',' ')"
   ]
  },
  {
   "cell_type": "markdown",
   "metadata": {},
   "source": [
    "В поле `type` встречается проблема: некоторые значения в начале строки содержат пробелы, что порождает неявные дубликаты. Избавимся от этих пробелов."
   ]
  },
  {
   "cell_type": "code",
   "execution_count": 18,
   "metadata": {
    "id": "PnXKIVdFgFyR"
   },
   "outputs": [],
   "source": [
    "data['type'] = data['type'].str.strip()"
   ]
  },
  {
   "cell_type": "markdown",
   "metadata": {
    "id": "XFSN5lrEgFyR"
   },
   "source": [
    "#### Шаг 2.5. Проверьте количественные значения\n",
    "\n",
    "Рассчитаем показатели описательной статистики для характеристики количественных значений."
   ]
  },
  {
   "cell_type": "code",
   "execution_count": 19,
   "metadata": {
    "id": "YbzClBxagFyS",
    "scrolled": true
   },
   "outputs": [
    {
     "data": {
      "text/html": [
       "<div>\n",
       "<style scoped>\n",
       "    .dataframe tbody tr th:only-of-type {\n",
       "        vertical-align: middle;\n",
       "    }\n",
       "\n",
       "    .dataframe tbody tr th {\n",
       "        vertical-align: top;\n",
       "    }\n",
       "\n",
       "    .dataframe thead th {\n",
       "        text-align: right;\n",
       "    }\n",
       "</style>\n",
       "<table border=\"1\" class=\"dataframe\">\n",
       "  <thead>\n",
       "    <tr style=\"text-align: right;\">\n",
       "      <th></th>\n",
       "      <th>puNumber</th>\n",
       "      <th>refundable_support</th>\n",
       "      <th>nonrefundable_support</th>\n",
       "      <th>budget</th>\n",
       "      <th>ratings</th>\n",
       "      <th>box_office</th>\n",
       "    </tr>\n",
       "  </thead>\n",
       "  <tbody>\n",
       "    <tr>\n",
       "      <th>count</th>\n",
       "      <td>7,483.00</td>\n",
       "      <td>332.00</td>\n",
       "      <td>332.00</td>\n",
       "      <td>332.00</td>\n",
       "      <td>6,809.00</td>\n",
       "      <td>7,159.00</td>\n",
       "    </tr>\n",
       "    <tr>\n",
       "      <th>mean</th>\n",
       "      <td>135,173,626.78</td>\n",
       "      <td>11,864,457.83</td>\n",
       "      <td>48,980,988.89</td>\n",
       "      <td>127,229,716.68</td>\n",
       "      <td>6.47</td>\n",
       "      <td>69,698,993.21</td>\n",
       "    </tr>\n",
       "    <tr>\n",
       "      <th>std</th>\n",
       "      <td>38,332,314.26</td>\n",
       "      <td>24,916,555.26</td>\n",
       "      <td>59,980,117.92</td>\n",
       "      <td>188,588,333.12</td>\n",
       "      <td>1.12</td>\n",
       "      <td>181,328,178.07</td>\n",
       "    </tr>\n",
       "    <tr>\n",
       "      <th>min</th>\n",
       "      <td>1,811,096.00</td>\n",
       "      <td>0.00</td>\n",
       "      <td>0.00</td>\n",
       "      <td>0.00</td>\n",
       "      <td>1.00</td>\n",
       "      <td>0.00</td>\n",
       "    </tr>\n",
       "    <tr>\n",
       "      <th>25%</th>\n",
       "      <td>112,025,068.00</td>\n",
       "      <td>0.00</td>\n",
       "      <td>25,000,000.00</td>\n",
       "      <td>42,000,000.00</td>\n",
       "      <td>5.90</td>\n",
       "      <td>1,872,480.25</td>\n",
       "    </tr>\n",
       "    <tr>\n",
       "      <th>50%</th>\n",
       "      <td>121,015,419.00</td>\n",
       "      <td>0.00</td>\n",
       "      <td>30,000,000.00</td>\n",
       "      <td>68,649,916.00</td>\n",
       "      <td>6.60</td>\n",
       "      <td>16,822,613.85</td>\n",
       "    </tr>\n",
       "    <tr>\n",
       "      <th>75%</th>\n",
       "      <td>124,003,312.50</td>\n",
       "      <td>15,000,000.00</td>\n",
       "      <td>40,375,000.00</td>\n",
       "      <td>141,985,319.50</td>\n",
       "      <td>7.20</td>\n",
       "      <td>50,021,111.02</td>\n",
       "    </tr>\n",
       "    <tr>\n",
       "      <th>max</th>\n",
       "      <td>231,001,111.00</td>\n",
       "      <td>180,000,000.00</td>\n",
       "      <td>400,000,000.00</td>\n",
       "      <td>2,305,074,303.00</td>\n",
       "      <td>9.20</td>\n",
       "      <td>3,073,568,690.79</td>\n",
       "    </tr>\n",
       "  </tbody>\n",
       "</table>\n",
       "</div>"
      ],
      "text/plain": [
       "            puNumber  refundable_support  nonrefundable_support  \\\n",
       "count       7,483.00              332.00                 332.00   \n",
       "mean  135,173,626.78       11,864,457.83          48,980,988.89   \n",
       "std    38,332,314.26       24,916,555.26          59,980,117.92   \n",
       "min     1,811,096.00                0.00                   0.00   \n",
       "25%   112,025,068.00                0.00          25,000,000.00   \n",
       "50%   121,015,419.00                0.00          30,000,000.00   \n",
       "75%   124,003,312.50       15,000,000.00          40,375,000.00   \n",
       "max   231,001,111.00      180,000,000.00         400,000,000.00   \n",
       "\n",
       "                budget  ratings       box_office  \n",
       "count           332.00 6,809.00         7,159.00  \n",
       "mean    127,229,716.68     6.47    69,698,993.21  \n",
       "std     188,588,333.12     1.12   181,328,178.07  \n",
       "min               0.00     1.00             0.00  \n",
       "25%      42,000,000.00     5.90     1,872,480.25  \n",
       "50%      68,649,916.00     6.60    16,822,613.85  \n",
       "75%     141,985,319.50     7.20    50,021,111.02  \n",
       "max   2,305,074,303.00     9.20 3,073,568,690.79  "
      ]
     },
     "execution_count": 19,
     "metadata": {},
     "output_type": "execute_result"
    }
   ],
   "source": [
    "data.describe()"
   ]
  },
  {
   "cell_type": "markdown",
   "metadata": {},
   "source": [
    "Также рассмотрим дата-сет на наличие аномальных значений, построим для этого боксплоты сразу же для всех столбцов. При этом столбец `puNumber` представляет собой категориальное значение, поэтому его рассматривать не будем."
   ]
  },
  {
   "cell_type": "code",
   "execution_count": 20,
   "metadata": {},
   "outputs": [
    {
     "data": {
      "text/plain": [
       "<Axes: >"
      ]
     },
     "execution_count": 20,
     "metadata": {},
     "output_type": "execute_result"
    },
    {
     "data": {
      "image/png": "[encoded data removed]",
      "text/plain": [
       "<Figure size 3000x1500 with 1 Axes>"
      ]
     },
     "metadata": {},
     "output_type": "display_data"
    }
   ],
   "source": [
    "data.boxplot(figsize=(30,15))"
   ]
  },
  {
   "cell_type": "markdown",
   "metadata": {},
   "source": [
    "Видим, что аномальные значения встречаются в столбцах `refuntable_support`, `nonrefundable_support`, `budget`, а также `box_office` в аналогичном порядке по возрастанию данных значений. Логично предположить, что бюджет фильма, как и кассовые сборы, могут принимать аномально большие значения в зависимости от фильма."
   ]
  },
  {
   "cell_type": "markdown",
   "metadata": {},
   "source": [
    "Так как бюджет фильма включает в себя государственную поддержку, то сумма помощи от государства не может превышать бюджет в целом. Можно допустить, что государство полностью оплатило производство фильма, но превышение суммы помощи над бюджетом не логично. Проверим, встреются ли такие значения в дата-сете."
   ]
  },
  {
   "cell_type": "code",
   "execution_count": 21,
   "metadata": {},
   "outputs": [
    {
     "data": {
      "text/plain": [
       "title                    17\n",
       "puNumber                 17\n",
       "show_start_date          17\n",
       "type                     17\n",
       "film_studio              17\n",
       "production_country       17\n",
       "director                 17\n",
       "producer                 17\n",
       "age_restriction          17\n",
       "refundable_support       17\n",
       "nonrefundable_support    17\n",
       "budget                   17\n",
       "financing_source         17\n",
       "ratings                  17\n",
       "genres                   17\n",
       "box_office               17\n",
       "dtype: int64"
      ]
     },
     "execution_count": 21,
     "metadata": {},
     "output_type": "execute_result"
    }
   ],
   "source": [
    "data.query('(refundable_support + nonrefundable_support) > budget').count()"
   ]
  },
  {
   "cell_type": "code",
   "execution_count": 22,
   "metadata": {},
   "outputs": [
    {
     "data": {
      "text/html": [
       "<div>\n",
       "<style scoped>\n",
       "    .dataframe tbody tr th:only-of-type {\n",
       "        vertical-align: middle;\n",
       "    }\n",
       "\n",
       "    .dataframe tbody tr th {\n",
       "        vertical-align: top;\n",
       "    }\n",
       "\n",
       "    .dataframe thead th {\n",
       "        text-align: right;\n",
       "    }\n",
       "</style>\n",
       "<table border=\"1\" class=\"dataframe\">\n",
       "  <thead>\n",
       "    <tr style=\"text-align: right;\">\n",
       "      <th></th>\n",
       "      <th>title</th>\n",
       "      <th>puNumber</th>\n",
       "      <th>show_start_date</th>\n",
       "      <th>type</th>\n",
       "      <th>film_studio</th>\n",
       "      <th>production_country</th>\n",
       "      <th>director</th>\n",
       "      <th>producer</th>\n",
       "      <th>age_restriction</th>\n",
       "      <th>refundable_support</th>\n",
       "      <th>nonrefundable_support</th>\n",
       "      <th>budget</th>\n",
       "      <th>financing_source</th>\n",
       "      <th>ratings</th>\n",
       "      <th>genres</th>\n",
       "      <th>box_office</th>\n",
       "    </tr>\n",
       "  </thead>\n",
       "  <tbody>\n",
       "    <tr>\n",
       "      <th>2053</th>\n",
       "      <td>14+</td>\n",
       "      <td>111,023,614.00</td>\n",
       "      <td>2014-12-19 12:00:00+00:00</td>\n",
       "      <td>Художественный</td>\n",
       "      <td>ООО Киностудия  \"Сентябрь\"</td>\n",
       "      <td>Россия</td>\n",
       "      <td>А.Зайцев</td>\n",
       "      <td>О.Гранина, А.Зайцев</td>\n",
       "      <td>«16+» - для детей старше 16 лет</td>\n",
       "      <td>0.00</td>\n",
       "      <td>23,000,000.00</td>\n",
       "      <td>0.00</td>\n",
       "      <td>Министерство культуры, Фонд кино</td>\n",
       "      <td>6.60</td>\n",
       "      <td>мелодрама</td>\n",
       "      <td>10,234,016.10</td>\n",
       "    </tr>\n",
       "    <tr>\n",
       "      <th>2058</th>\n",
       "      <td>Дуxless 2</td>\n",
       "      <td>111,000,415.00</td>\n",
       "      <td>2015-01-26 12:00:00+00:00</td>\n",
       "      <td>Художественный</td>\n",
       "      <td>ООО \"Киностудия \"Слово\", ООО \"Арт Пикчерс Студия\"</td>\n",
       "      <td>Россия</td>\n",
       "      <td>Р.Прыгунов</td>\n",
       "      <td>П.Ануров, Ф.Бондарчук, Д.Рудовский</td>\n",
       "      <td>«16+» - для детей старше 16 лет</td>\n",
       "      <td>0.00</td>\n",
       "      <td>75,000,000.00</td>\n",
       "      <td>0.00</td>\n",
       "      <td>Фонд кино</td>\n",
       "      <td>6.60</td>\n",
       "      <td>драма</td>\n",
       "      <td>446,163,511.00</td>\n",
       "    </tr>\n",
       "    <tr>\n",
       "      <th>2472</th>\n",
       "      <td>Воин (2015)</td>\n",
       "      <td>111,017,315.00</td>\n",
       "      <td>2015-09-28 12:00:00+00:00</td>\n",
       "      <td>Художественный</td>\n",
       "      <td>ООО \"Форпост Продакшн\", ООО \"Арт Пикчерс Студия\"</td>\n",
       "      <td>Россия</td>\n",
       "      <td>А.Андрианов</td>\n",
       "      <td>ООО \"Арт Пикчерс Студия\"</td>\n",
       "      <td>«12+» - для детей старше 12 лет</td>\n",
       "      <td>10,000,000.00</td>\n",
       "      <td>70,000,000.00</td>\n",
       "      <td>0.00</td>\n",
       "      <td>Фонд кино</td>\n",
       "      <td>7.80</td>\n",
       "      <td>боевик,драма,криминал</td>\n",
       "      <td>196,572,438.40</td>\n",
       "    </tr>\n",
       "    <tr>\n",
       "      <th>2532</th>\n",
       "      <td>Бармен.</td>\n",
       "      <td>111,009,615.00</td>\n",
       "      <td>2015-05-26 12:00:00+00:00</td>\n",
       "      <td>Художественный</td>\n",
       "      <td>АО \"ВайТ Медиа\", ООО \"Арт Пикчерс Студия\"</td>\n",
       "      <td>Россия</td>\n",
       "      <td>Д.Штурманова</td>\n",
       "      <td>Т.Вайнштейн</td>\n",
       "      <td>«16+» - для детей старше 16 лет</td>\n",
       "      <td>20,000,000.00</td>\n",
       "      <td>0.00</td>\n",
       "      <td>0.00</td>\n",
       "      <td>Фонд кино</td>\n",
       "      <td>6.20</td>\n",
       "      <td>комедия,фэнтези</td>\n",
       "      <td>67,418,974.80</td>\n",
       "    </tr>\n",
       "    <tr>\n",
       "      <th>2615</th>\n",
       "      <td>Савва. Сердце воина</td>\n",
       "      <td>114,001,715.00</td>\n",
       "      <td>2015-07-21 12:00:00+00:00</td>\n",
       "      <td>Анимационный</td>\n",
       "      <td>ООО \"Глюкоза Продакшн\", ООО \"Арт Пикчерс Студия\"</td>\n",
       "      <td>Россия</td>\n",
       "      <td>М.Фадеев</td>\n",
       "      <td>А.Чистяков</td>\n",
       "      <td>«6+» - для детей старше 6 лет</td>\n",
       "      <td>60,000,000.00</td>\n",
       "      <td>100,000,000.00</td>\n",
       "      <td>0.00</td>\n",
       "      <td>Фонд кино</td>\n",
       "      <td>4.60</td>\n",
       "      <td>мультфильм,приключения,фэнтези</td>\n",
       "      <td>184,487,551.40</td>\n",
       "    </tr>\n",
       "    <tr>\n",
       "      <th>2684</th>\n",
       "      <td>Тряпичный союз</td>\n",
       "      <td>111,010,215.00</td>\n",
       "      <td>2015-06-08 12:00:00+00:00</td>\n",
       "      <td>Художественный</td>\n",
       "      <td>ООО \"Кинокомпания \"КОКТЕБЕЛЬ\"</td>\n",
       "      <td>Россия</td>\n",
       "      <td>М.Местецкий</td>\n",
       "      <td>Р.Борисевич, А.Кушаев</td>\n",
       "      <td>«18+» - запрещено для детей</td>\n",
       "      <td>0.00</td>\n",
       "      <td>59,000,000.00</td>\n",
       "      <td>0.00</td>\n",
       "      <td>Фонд кино</td>\n",
       "      <td>6.30</td>\n",
       "      <td>комедия,драма</td>\n",
       "      <td>1,957,738.51</td>\n",
       "    </tr>\n",
       "    <tr>\n",
       "      <th>2788</th>\n",
       "      <td>Срочно выйду замуж</td>\n",
       "      <td>111,017,115.00</td>\n",
       "      <td>2015-09-30 12:00:00+00:00</td>\n",
       "      <td>Художественный</td>\n",
       "      <td>АО \"ВайТ Медиа\", ООО \"Арт Пикчерс Студия\"</td>\n",
       "      <td>Россия</td>\n",
       "      <td>С Чекалов</td>\n",
       "      <td>Ф.Бондарчук, Т.Вайнштейн, Д.Рудовский</td>\n",
       "      <td>«16+» - для детей старше 16 лет</td>\n",
       "      <td>0.00</td>\n",
       "      <td>35,000,000.00</td>\n",
       "      <td>0.00</td>\n",
       "      <td>Фонд кино</td>\n",
       "      <td>5.10</td>\n",
       "      <td>комедия,мелодрама</td>\n",
       "      <td>72,937,783.20</td>\n",
       "    </tr>\n",
       "    <tr>\n",
       "      <th>2874</th>\n",
       "      <td>Помню - не помню!</td>\n",
       "      <td>111,004,916.00</td>\n",
       "      <td>2016-03-01 12:00:00+00:00</td>\n",
       "      <td>Художественный</td>\n",
       "      <td>ООО \"КиноФирма\"</td>\n",
       "      <td>Россия</td>\n",
       "      <td>В.Ровенский</td>\n",
       "      <td>ООО \"КиноФирма\"</td>\n",
       "      <td>«12+» - для детей старше 12 лет</td>\n",
       "      <td>0.00</td>\n",
       "      <td>6,000,000.00</td>\n",
       "      <td>0.00</td>\n",
       "      <td>Министерство культуры</td>\n",
       "      <td>4.30</td>\n",
       "      <td>комедия</td>\n",
       "      <td>15,362,931.43</td>\n",
       "    </tr>\n",
       "    <tr>\n",
       "      <th>3047</th>\n",
       "      <td>Любовь с ограничениями</td>\n",
       "      <td>111,008,216.00</td>\n",
       "      <td>2016-04-29 12:00:00+00:00</td>\n",
       "      <td>Художественный</td>\n",
       "      <td>АО \"ВайТ Медиа\", ООО \"Арт Пикчерс Студия\"</td>\n",
       "      <td>Россия</td>\n",
       "      <td>Д.Тюрин</td>\n",
       "      <td>Ф.Бондарчук, Т.Вайнштейн, Д.Рудовский</td>\n",
       "      <td>«16+» - для детей старше 16 лет</td>\n",
       "      <td>19,000,000.00</td>\n",
       "      <td>51,000,000.00</td>\n",
       "      <td>0.00</td>\n",
       "      <td>Фонд кино</td>\n",
       "      <td>6.30</td>\n",
       "      <td>комедия,мелодрама</td>\n",
       "      <td>70,299,052.00</td>\n",
       "    </tr>\n",
       "    <tr>\n",
       "      <th>3565</th>\n",
       "      <td>Притяжение (2016)</td>\n",
       "      <td>111,018,116.00</td>\n",
       "      <td>2016-12-16 12:00:00+00:00</td>\n",
       "      <td>Художественный</td>\n",
       "      <td>ООО \"Водород 2011\",  ООО \"Арт Пикчерс Студия\"</td>\n",
       "      <td>Россия</td>\n",
       "      <td>Ф.Бондарчук</td>\n",
       "      <td>ООО \"Арт Пикчерс Студия\"</td>\n",
       "      <td>«12+» - для детей старше 12 лет</td>\n",
       "      <td>0.00</td>\n",
       "      <td>250,000,000.00</td>\n",
       "      <td>0.00</td>\n",
       "      <td>Фонд кино</td>\n",
       "      <td>5.60</td>\n",
       "      <td>фантастика</td>\n",
       "      <td>1,038,321,489.00</td>\n",
       "    </tr>\n",
       "    <tr>\n",
       "      <th>3675</th>\n",
       "      <td>Чудо-юдо</td>\n",
       "      <td>114,001,817.00</td>\n",
       "      <td>2017-06-27 12:00:00+00:00</td>\n",
       "      <td>Анимационный</td>\n",
       "      <td>ООО \"КиноФирма\"</td>\n",
       "      <td>Россия</td>\n",
       "      <td>А.Лукичев</td>\n",
       "      <td>ООО \"КиноФирма\"</td>\n",
       "      <td>«6+» - для детей старше 6 лет</td>\n",
       "      <td>20,000,000.00</td>\n",
       "      <td>20,000,000.00</td>\n",
       "      <td>0.00</td>\n",
       "      <td>Фонд кино</td>\n",
       "      <td>5.20</td>\n",
       "      <td>мультфильм,фэнтези,семейный</td>\n",
       "      <td>55,108,014.76</td>\n",
       "    </tr>\n",
       "    <tr>\n",
       "      <th>3739</th>\n",
       "      <td>Мифы</td>\n",
       "      <td>111,004,317.00</td>\n",
       "      <td>2017-06-07 12:00:00+00:00</td>\n",
       "      <td>Художественный</td>\n",
       "      <td>ООО \"ХАЙПФИЛМ\", ООО \"Арт Пикчерс Студия\"</td>\n",
       "      <td>Россия</td>\n",
       "      <td>А.Молочников</td>\n",
       "      <td>Ф.Бондарчук, Д.Рудовский, И.Стюарт, М.Османн, ...</td>\n",
       "      <td>«16+» - для детей старше 16 лет</td>\n",
       "      <td>25,000,000.00</td>\n",
       "      <td>20,000,000.00</td>\n",
       "      <td>0.00</td>\n",
       "      <td>Фонд кино</td>\n",
       "      <td>4.80</td>\n",
       "      <td>комедия</td>\n",
       "      <td>50,451,949.00</td>\n",
       "    </tr>\n",
       "    <tr>\n",
       "      <th>5673</th>\n",
       "      <td>Селфи</td>\n",
       "      <td>121,028,417.00</td>\n",
       "      <td>2018-02-01 12:00:00+00:00</td>\n",
       "      <td>Художественный</td>\n",
       "      <td>ООО \"Киностудия \"Слово\", ООО \"Арт Пикчерс Студия\"</td>\n",
       "      <td>Россия</td>\n",
       "      <td>Н.Хомерики</td>\n",
       "      <td>П.Ануров, Ф.Бондарчук, Д.Рудовский</td>\n",
       "      <td>«16+» - для детей старше 16 лет</td>\n",
       "      <td>20,000,000.00</td>\n",
       "      <td>40,000,000.00</td>\n",
       "      <td>0.00</td>\n",
       "      <td>Фонд кино</td>\n",
       "      <td>5.80</td>\n",
       "      <td>триллер,драма</td>\n",
       "      <td>225,196,400.03</td>\n",
       "    </tr>\n",
       "    <tr>\n",
       "      <th>5806</th>\n",
       "      <td>Два хвоста</td>\n",
       "      <td>111,002,818.00</td>\n",
       "      <td>2018-05-31 12:00:00+00:00</td>\n",
       "      <td>Анимационный</td>\n",
       "      <td>ООО \"ЛИЦЕНЗИОННЫЕ БРЕНДЫ\"</td>\n",
       "      <td>Россия</td>\n",
       "      <td>В.Ровенский, Н.Лопато, В.Азеев</td>\n",
       "      <td>ООО \"ЛИЦЕНЗИОННЫЕ БРЕНДЫ\"</td>\n",
       "      <td>«6+» - для детей старше 6 лет</td>\n",
       "      <td>10,000,000.00</td>\n",
       "      <td>60,000,000.00</td>\n",
       "      <td>0.00</td>\n",
       "      <td>Фонд кино</td>\n",
       "      <td>5.00</td>\n",
       "      <td>мультфильм,детский</td>\n",
       "      <td>106,514,301.03</td>\n",
       "    </tr>\n",
       "    <tr>\n",
       "      <th>6008</th>\n",
       "      <td>Принцесса и дракон</td>\n",
       "      <td>121,014,118.00</td>\n",
       "      <td>2018-08-23 12:00:00+00:00</td>\n",
       "      <td>Анимационный</td>\n",
       "      <td>ООО \"ЛИЦЕНЗИОННЫЕ БРЕНДЫ\"</td>\n",
       "      <td>Россия</td>\n",
       "      <td>М.Нефедова</td>\n",
       "      <td>ООО \"ЛИЦЕНЗИОННЫЕ БРЕНДЫ\"</td>\n",
       "      <td>«6+» - для детей старше 6 лет</td>\n",
       "      <td>40,000,000.00</td>\n",
       "      <td>40,000,000.00</td>\n",
       "      <td>0.00</td>\n",
       "      <td>Фонд кино</td>\n",
       "      <td>5.20</td>\n",
       "      <td>мультфильм,фэнтези,детский</td>\n",
       "      <td>83,366,328.66</td>\n",
       "    </tr>\n",
       "    <tr>\n",
       "      <th>6323</th>\n",
       "      <td>Баба Яга</td>\n",
       "      <td>114,006,618.00</td>\n",
       "      <td>2018-11-08 12:00:00+00:00</td>\n",
       "      <td>Анимационный</td>\n",
       "      <td>ООО \"Арт Пикчерс Студия\"</td>\n",
       "      <td>Россия</td>\n",
       "      <td>В.Саков</td>\n",
       "      <td>ООО \"Арт Пикчерс Студия\", ООО \"КРИЭЙТИВ АНИМЭЙ...</td>\n",
       "      <td>«6+» - для детей старше 6 лет</td>\n",
       "      <td>0.00</td>\n",
       "      <td>138,969,465.00</td>\n",
       "      <td>0.00</td>\n",
       "      <td>Фонд кино</td>\n",
       "      <td>3.55</td>\n",
       "      <td>неизвестно</td>\n",
       "      <td>1,334,699.40</td>\n",
       "    </tr>\n",
       "    <tr>\n",
       "      <th>6823</th>\n",
       "      <td>Большое путешествие</td>\n",
       "      <td>121,005,819.00</td>\n",
       "      <td>2019-04-20 12:00:00+00:00</td>\n",
       "      <td>Анимационный</td>\n",
       "      <td>ООО \"ЛИЦЕНЗИОННЫЕ БРЕНДЫ\"</td>\n",
       "      <td>Россия</td>\n",
       "      <td>Н.Лопато, В.Ровенский</td>\n",
       "      <td>ООО \"ЛИЦЕНЗИОННЫЕ БРЕНДЫ\"</td>\n",
       "      <td>«6+» - для детей старше 6 лет</td>\n",
       "      <td>60,000,000.00</td>\n",
       "      <td>120,000,000.00</td>\n",
       "      <td>0.00</td>\n",
       "      <td>Фонд кино</td>\n",
       "      <td>6.20</td>\n",
       "      <td>мультфильм,комедия,приключения</td>\n",
       "      <td>147,606,826.51</td>\n",
       "    </tr>\n",
       "  </tbody>\n",
       "</table>\n",
       "</div>"
      ],
      "text/plain": [
       "                       title       puNumber           show_start_date  \\\n",
       "2053                     14+ 111,023,614.00 2014-12-19 12:00:00+00:00   \n",
       "2058               Дуxless 2 111,000,415.00 2015-01-26 12:00:00+00:00   \n",
       "2472             Воин (2015) 111,017,315.00 2015-09-28 12:00:00+00:00   \n",
       "2532                 Бармен. 111,009,615.00 2015-05-26 12:00:00+00:00   \n",
       "2615     Савва. Сердце воина 114,001,715.00 2015-07-21 12:00:00+00:00   \n",
       "2684          Тряпичный союз 111,010,215.00 2015-06-08 12:00:00+00:00   \n",
       "2788      Срочно выйду замуж 111,017,115.00 2015-09-30 12:00:00+00:00   \n",
       "2874       Помню - не помню! 111,004,916.00 2016-03-01 12:00:00+00:00   \n",
       "3047  Любовь с ограничениями 111,008,216.00 2016-04-29 12:00:00+00:00   \n",
       "3565       Притяжение (2016) 111,018,116.00 2016-12-16 12:00:00+00:00   \n",
       "3675                Чудо-юдо 114,001,817.00 2017-06-27 12:00:00+00:00   \n",
       "3739                    Мифы 111,004,317.00 2017-06-07 12:00:00+00:00   \n",
       "5673                   Селфи 121,028,417.00 2018-02-01 12:00:00+00:00   \n",
       "5806              Два хвоста 111,002,818.00 2018-05-31 12:00:00+00:00   \n",
       "6008      Принцесса и дракон 121,014,118.00 2018-08-23 12:00:00+00:00   \n",
       "6323                Баба Яга 114,006,618.00 2018-11-08 12:00:00+00:00   \n",
       "6823     Большое путешествие 121,005,819.00 2019-04-20 12:00:00+00:00   \n",
       "\n",
       "                type                                        film_studio  \\\n",
       "2053  Художественный                         ООО Киностудия  \"Сентябрь\"   \n",
       "2058  Художественный  ООО \"Киностудия \"Слово\", ООО \"Арт Пикчерс Студия\"   \n",
       "2472  Художественный   ООО \"Форпост Продакшн\", ООО \"Арт Пикчерс Студия\"   \n",
       "2532  Художественный          АО \"ВайТ Медиа\", ООО \"Арт Пикчерс Студия\"   \n",
       "2615    Анимационный   ООО \"Глюкоза Продакшн\", ООО \"Арт Пикчерс Студия\"   \n",
       "2684  Художественный                      ООО \"Кинокомпания \"КОКТЕБЕЛЬ\"   \n",
       "2788  Художественный          АО \"ВайТ Медиа\", ООО \"Арт Пикчерс Студия\"   \n",
       "2874  Художественный                                    ООО \"КиноФирма\"   \n",
       "3047  Художественный          АО \"ВайТ Медиа\", ООО \"Арт Пикчерс Студия\"   \n",
       "3565  Художественный      ООО \"Водород 2011\",  ООО \"Арт Пикчерс Студия\"   \n",
       "3675    Анимационный                                    ООО \"КиноФирма\"   \n",
       "3739  Художественный           ООО \"ХАЙПФИЛМ\", ООО \"Арт Пикчерс Студия\"   \n",
       "5673  Художественный  ООО \"Киностудия \"Слово\", ООО \"Арт Пикчерс Студия\"   \n",
       "5806    Анимационный                          ООО \"ЛИЦЕНЗИОННЫЕ БРЕНДЫ\"   \n",
       "6008    Анимационный                          ООО \"ЛИЦЕНЗИОННЫЕ БРЕНДЫ\"   \n",
       "6323    Анимационный                           ООО \"Арт Пикчерс Студия\"   \n",
       "6823    Анимационный                          ООО \"ЛИЦЕНЗИОННЫЕ БРЕНДЫ\"   \n",
       "\n",
       "     production_country                        director  \\\n",
       "2053             Россия                        А.Зайцев   \n",
       "2058             Россия                      Р.Прыгунов   \n",
       "2472             Россия                     А.Андрианов   \n",
       "2532             Россия                    Д.Штурманова   \n",
       "2615             Россия                        М.Фадеев   \n",
       "2684             Россия                     М.Местецкий   \n",
       "2788             Россия                       С Чекалов   \n",
       "2874             Россия                     В.Ровенский   \n",
       "3047             Россия                         Д.Тюрин   \n",
       "3565             Россия                     Ф.Бондарчук   \n",
       "3675             Россия                       А.Лукичев   \n",
       "3739             Россия                    А.Молочников   \n",
       "5673             Россия                      Н.Хомерики   \n",
       "5806             Россия  В.Ровенский, Н.Лопато, В.Азеев   \n",
       "6008             Россия                      М.Нефедова   \n",
       "6323             Россия                         В.Саков   \n",
       "6823             Россия           Н.Лопато, В.Ровенский   \n",
       "\n",
       "                                               producer  \\\n",
       "2053                                О.Гранина, А.Зайцев   \n",
       "2058                 П.Ануров, Ф.Бондарчук, Д.Рудовский   \n",
       "2472                           ООО \"Арт Пикчерс Студия\"   \n",
       "2532                                        Т.Вайнштейн   \n",
       "2615                                         А.Чистяков   \n",
       "2684                              Р.Борисевич, А.Кушаев   \n",
       "2788              Ф.Бондарчук, Т.Вайнштейн, Д.Рудовский   \n",
       "2874                                    ООО \"КиноФирма\"   \n",
       "3047              Ф.Бондарчук, Т.Вайнштейн, Д.Рудовский   \n",
       "3565                           ООО \"Арт Пикчерс Студия\"   \n",
       "3675                                    ООО \"КиноФирма\"   \n",
       "3739  Ф.Бондарчук, Д.Рудовский, И.Стюарт, М.Османн, ...   \n",
       "5673                 П.Ануров, Ф.Бондарчук, Д.Рудовский   \n",
       "5806                          ООО \"ЛИЦЕНЗИОННЫЕ БРЕНДЫ\"   \n",
       "6008                          ООО \"ЛИЦЕНЗИОННЫЕ БРЕНДЫ\"   \n",
       "6323  ООО \"Арт Пикчерс Студия\", ООО \"КРИЭЙТИВ АНИМЭЙ...   \n",
       "6823                          ООО \"ЛИЦЕНЗИОННЫЕ БРЕНДЫ\"   \n",
       "\n",
       "                      age_restriction  refundable_support  \\\n",
       "2053  «16+» - для детей старше 16 лет                0.00   \n",
       "2058  «16+» - для детей старше 16 лет                0.00   \n",
       "2472  «12+» - для детей старше 12 лет       10,000,000.00   \n",
       "2532  «16+» - для детей старше 16 лет       20,000,000.00   \n",
       "2615    «6+» - для детей старше 6 лет       60,000,000.00   \n",
       "2684      «18+» - запрещено для детей                0.00   \n",
       "2788  «16+» - для детей старше 16 лет                0.00   \n",
       "2874  «12+» - для детей старше 12 лет                0.00   \n",
       "3047  «16+» - для детей старше 16 лет       19,000,000.00   \n",
       "3565  «12+» - для детей старше 12 лет                0.00   \n",
       "3675    «6+» - для детей старше 6 лет       20,000,000.00   \n",
       "3739  «16+» - для детей старше 16 лет       25,000,000.00   \n",
       "5673  «16+» - для детей старше 16 лет       20,000,000.00   \n",
       "5806    «6+» - для детей старше 6 лет       10,000,000.00   \n",
       "6008    «6+» - для детей старше 6 лет       40,000,000.00   \n",
       "6323    «6+» - для детей старше 6 лет                0.00   \n",
       "6823    «6+» - для детей старше 6 лет       60,000,000.00   \n",
       "\n",
       "      nonrefundable_support  budget                  financing_source  \\\n",
       "2053          23,000,000.00    0.00  Министерство культуры, Фонд кино   \n",
       "2058          75,000,000.00    0.00                         Фонд кино   \n",
       "2472          70,000,000.00    0.00                         Фонд кино   \n",
       "2532                   0.00    0.00                         Фонд кино   \n",
       "2615         100,000,000.00    0.00                         Фонд кино   \n",
       "2684          59,000,000.00    0.00                         Фонд кино   \n",
       "2788          35,000,000.00    0.00                         Фонд кино   \n",
       "2874           6,000,000.00    0.00             Министерство культуры   \n",
       "3047          51,000,000.00    0.00                         Фонд кино   \n",
       "3565         250,000,000.00    0.00                         Фонд кино   \n",
       "3675          20,000,000.00    0.00                         Фонд кино   \n",
       "3739          20,000,000.00    0.00                         Фонд кино   \n",
       "5673          40,000,000.00    0.00                         Фонд кино   \n",
       "5806          60,000,000.00    0.00                         Фонд кино   \n",
       "6008          40,000,000.00    0.00                         Фонд кино   \n",
       "6323         138,969,465.00    0.00                         Фонд кино   \n",
       "6823         120,000,000.00    0.00                         Фонд кино   \n",
       "\n",
       "      ratings                          genres       box_office  \n",
       "2053     6.60                       мелодрама    10,234,016.10  \n",
       "2058     6.60                           драма   446,163,511.00  \n",
       "2472     7.80           боевик,драма,криминал   196,572,438.40  \n",
       "2532     6.20                 комедия,фэнтези    67,418,974.80  \n",
       "2615     4.60  мультфильм,приключения,фэнтези   184,487,551.40  \n",
       "2684     6.30                   комедия,драма     1,957,738.51  \n",
       "2788     5.10               комедия,мелодрама    72,937,783.20  \n",
       "2874     4.30                         комедия    15,362,931.43  \n",
       "3047     6.30               комедия,мелодрама    70,299,052.00  \n",
       "3565     5.60                      фантастика 1,038,321,489.00  \n",
       "3675     5.20     мультфильм,фэнтези,семейный    55,108,014.76  \n",
       "3739     4.80                         комедия    50,451,949.00  \n",
       "5673     5.80                   триллер,драма   225,196,400.03  \n",
       "5806     5.00              мультфильм,детский   106,514,301.03  \n",
       "6008     5.20      мультфильм,фэнтези,детский    83,366,328.66  \n",
       "6323     3.55                      неизвестно     1,334,699.40  \n",
       "6823     6.20  мультфильм,комедия,приключения   147,606,826.51  "
      ]
     },
     "execution_count": 22,
     "metadata": {},
     "output_type": "execute_result"
    }
   ],
   "source": [
    "data.query('(refundable_support + nonrefundable_support) > budget')"
   ]
  },
  {
   "cell_type": "markdown",
   "metadata": {},
   "source": [
    "Видим, что таких фильмов всего 17, а это около 0.01% от всей совокупности или 5% от фильмов с государственной поддержкой. Восстановить данные вряд ли можно, поэтому избавимся от них для того, чтобы не смещать последующие оценки."
   ]
  },
  {
   "cell_type": "code",
   "execution_count": 23,
   "metadata": {},
   "outputs": [],
   "source": [
    "data = data.drop(data.query('(refundable_support + nonrefundable_support) > budget').index)"
   ]
  },
  {
   "cell_type": "markdown",
   "metadata": {
    "id": "Eu6oWp2CgFyS"
   },
   "source": [
    "#### Шаг 2.6. Добавьте новые столбцы\n",
    "\n",
    "\n",
    "\n"
   ]
  },
  {
   "cell_type": "markdown",
   "metadata": {
    "id": "7GgW-UpAgFyS"
   },
   "source": [
    "Создадим столбец с информацией о годе проката фильма."
   ]
  },
  {
   "cell_type": "code",
   "execution_count": 24,
   "metadata": {
    "id": "I-yd1DkWgFyT"
   },
   "outputs": [],
   "source": [
    "data['release_year'] = data['show_start_date'].dt.year"
   ]
  },
  {
   "cell_type": "markdown",
   "metadata": {
    "id": "nFTDLDYOgFyT"
   },
   "source": [
    "Создадим два столбца: с именем и фамилией главного режиссёра и основным жанром фильма."
   ]
  },
  {
   "cell_type": "code",
   "execution_count": 25,
   "metadata": {
    "id": "LSbRZKbMgFyU"
   },
   "outputs": [],
   "source": [
    "def define_the_first_value(string):\n",
    "    values_list = list(string.split(','))\n",
    "    return values_list[0]\n",
    "\n",
    "data['main_director'] = data['director'].apply(define_the_first_value)\n",
    "data['main_genre'] = data['genres'].apply(define_the_first_value)"
   ]
  },
  {
   "cell_type": "markdown",
   "metadata": {
    "id": "1FsCXHwdgFyU"
   },
   "source": [
    "Рассчитаем долю государственной поддержки от общего бюджета фильма."
   ]
  },
  {
   "cell_type": "code",
   "execution_count": 26,
   "metadata": {
    "id": "LV6qFuZLgFyV"
   },
   "outputs": [],
   "source": [
    "data['goverment_support_share'] = (data['refundable_support'] + data['nonrefundable_support']) / data['budget']"
   ]
  },
  {
   "cell_type": "markdown",
   "metadata": {},
   "source": [
    "Проверим, все ли столбцы рассчитались так, как было необходимо."
   ]
  },
  {
   "cell_type": "code",
   "execution_count": 27,
   "metadata": {},
   "outputs": [
    {
     "data": {
      "text/html": [
       "<div>\n",
       "<style scoped>\n",
       "    .dataframe tbody tr th:only-of-type {\n",
       "        vertical-align: middle;\n",
       "    }\n",
       "\n",
       "    .dataframe tbody tr th {\n",
       "        vertical-align: top;\n",
       "    }\n",
       "\n",
       "    .dataframe thead th {\n",
       "        text-align: right;\n",
       "    }\n",
       "</style>\n",
       "<table border=\"1\" class=\"dataframe\">\n",
       "  <thead>\n",
       "    <tr style=\"text-align: right;\">\n",
       "      <th></th>\n",
       "      <th>title</th>\n",
       "      <th>puNumber</th>\n",
       "      <th>show_start_date</th>\n",
       "      <th>type</th>\n",
       "      <th>film_studio</th>\n",
       "      <th>production_country</th>\n",
       "      <th>director</th>\n",
       "      <th>producer</th>\n",
       "      <th>age_restriction</th>\n",
       "      <th>refundable_support</th>\n",
       "      <th>nonrefundable_support</th>\n",
       "      <th>budget</th>\n",
       "      <th>financing_source</th>\n",
       "      <th>ratings</th>\n",
       "      <th>genres</th>\n",
       "      <th>box_office</th>\n",
       "      <th>release_year</th>\n",
       "      <th>main_director</th>\n",
       "      <th>main_genre</th>\n",
       "      <th>goverment_support_share</th>\n",
       "    </tr>\n",
       "  </thead>\n",
       "  <tbody>\n",
       "    <tr>\n",
       "      <th>0</th>\n",
       "      <td>Открытый простор</td>\n",
       "      <td>221,048,915.00</td>\n",
       "      <td>2015-11-27 12:00:00+00:00</td>\n",
       "      <td>Художественный</td>\n",
       "      <td>Тачстоун Пикчерз, Кобальт Пикчерз, Бикон Пикче...</td>\n",
       "      <td>США</td>\n",
       "      <td>Кевин Костнер</td>\n",
       "      <td>Дэвид Валдес, Кевин Костнер, Джейк Эбертс</td>\n",
       "      <td>«18+» - запрещено для детей</td>\n",
       "      <td>NaN</td>\n",
       "      <td>NaN</td>\n",
       "      <td>NaN</td>\n",
       "      <td>NaN</td>\n",
       "      <td>7.20</td>\n",
       "      <td>боевик,драма,мелодрама</td>\n",
       "      <td>15,522,807.02</td>\n",
       "      <td>2015</td>\n",
       "      <td>Кевин Костнер</td>\n",
       "      <td>боевик</td>\n",
       "      <td>NaN</td>\n",
       "    </tr>\n",
       "    <tr>\n",
       "      <th>1</th>\n",
       "      <td>Особо важное задание</td>\n",
       "      <td>111,013,716.00</td>\n",
       "      <td>2016-09-13 12:00:00+00:00</td>\n",
       "      <td>Художественный</td>\n",
       "      <td>Киностудия \"Мосфильм\"</td>\n",
       "      <td>СССР</td>\n",
       "      <td>Е.Матвеев</td>\n",
       "      <td>неизвестно</td>\n",
       "      <td>«6+» - для детей старше 6 лет</td>\n",
       "      <td>NaN</td>\n",
       "      <td>NaN</td>\n",
       "      <td>NaN</td>\n",
       "      <td>NaN</td>\n",
       "      <td>6.60</td>\n",
       "      <td>драма,военный</td>\n",
       "      <td>8,201,172.90</td>\n",
       "      <td>2016</td>\n",
       "      <td>Е.Матвеев</td>\n",
       "      <td>драма</td>\n",
       "      <td>NaN</td>\n",
       "    </tr>\n",
       "    <tr>\n",
       "      <th>2</th>\n",
       "      <td>Особо опасен</td>\n",
       "      <td>221,038,416.00</td>\n",
       "      <td>2016-10-10 12:00:00+00:00</td>\n",
       "      <td>Художественный</td>\n",
       "      <td>Юниверсал Пикчерз, Кикстарт Продакшнз, Марк Пл...</td>\n",
       "      <td>США</td>\n",
       "      <td>Тимур Бекмамбетов</td>\n",
       "      <td>Джим Лемли, Джейсон Нетер, Марк Е.Платт, Яйн Смит</td>\n",
       "      <td>«18+» - запрещено для детей</td>\n",
       "      <td>NaN</td>\n",
       "      <td>NaN</td>\n",
       "      <td>NaN</td>\n",
       "      <td>NaN</td>\n",
       "      <td>6.80</td>\n",
       "      <td>фантастика,боевик,триллер</td>\n",
       "      <td>216,907,489.96</td>\n",
       "      <td>2016</td>\n",
       "      <td>Тимур Бекмамбетов</td>\n",
       "      <td>фантастика</td>\n",
       "      <td>NaN</td>\n",
       "    </tr>\n",
       "    <tr>\n",
       "      <th>3</th>\n",
       "      <td>Особо опасен</td>\n",
       "      <td>221,026,916.00</td>\n",
       "      <td>2016-06-10 12:00:00+00:00</td>\n",
       "      <td>Художественный</td>\n",
       "      <td>Юниверсал Пикчерз, Кикстарт Продакшнз, Марк Пл...</td>\n",
       "      <td>США</td>\n",
       "      <td>Тимур Бекмамбетов</td>\n",
       "      <td>Джим Лемли, Джейсон Нетер, Марк Е.Платт, Яйн Смит</td>\n",
       "      <td>«18+» - запрещено для детей</td>\n",
       "      <td>NaN</td>\n",
       "      <td>NaN</td>\n",
       "      <td>NaN</td>\n",
       "      <td>NaN</td>\n",
       "      <td>6.80</td>\n",
       "      <td>фантастика,боевик,триллер</td>\n",
       "      <td>216,907,489.96</td>\n",
       "      <td>2016</td>\n",
       "      <td>Тимур Бекмамбетов</td>\n",
       "      <td>фантастика</td>\n",
       "      <td>NaN</td>\n",
       "    </tr>\n",
       "    <tr>\n",
       "      <th>4</th>\n",
       "      <td>Особо опасен</td>\n",
       "      <td>221,030,815.00</td>\n",
       "      <td>2015-07-29 12:00:00+00:00</td>\n",
       "      <td>Художественный</td>\n",
       "      <td>Юниверсал Пикчерз, Кикстарт Продакшнз, Марк Пл...</td>\n",
       "      <td>США</td>\n",
       "      <td>Тимур Бекмамбетов</td>\n",
       "      <td>Джим Лемли, Джейсон Нетер, Марк Е.Платт, Яйн Смит</td>\n",
       "      <td>«18+» - запрещено для детей</td>\n",
       "      <td>NaN</td>\n",
       "      <td>NaN</td>\n",
       "      <td>NaN</td>\n",
       "      <td>NaN</td>\n",
       "      <td>6.80</td>\n",
       "      <td>фантастика,боевик,триллер</td>\n",
       "      <td>216,907,489.96</td>\n",
       "      <td>2015</td>\n",
       "      <td>Тимур Бекмамбетов</td>\n",
       "      <td>фантастика</td>\n",
       "      <td>NaN</td>\n",
       "    </tr>\n",
       "  </tbody>\n",
       "</table>\n",
       "</div>"
      ],
      "text/plain": [
       "                  title       puNumber           show_start_date  \\\n",
       "0      Открытый простор 221,048,915.00 2015-11-27 12:00:00+00:00   \n",
       "1  Особо важное задание 111,013,716.00 2016-09-13 12:00:00+00:00   \n",
       "2          Особо опасен 221,038,416.00 2016-10-10 12:00:00+00:00   \n",
       "3          Особо опасен 221,026,916.00 2016-06-10 12:00:00+00:00   \n",
       "4          Особо опасен 221,030,815.00 2015-07-29 12:00:00+00:00   \n",
       "\n",
       "             type                                        film_studio  \\\n",
       "0  Художественный  Тачстоун Пикчерз, Кобальт Пикчерз, Бикон Пикче...   \n",
       "1  Художественный                              Киностудия \"Мосфильм\"   \n",
       "2  Художественный  Юниверсал Пикчерз, Кикстарт Продакшнз, Марк Пл...   \n",
       "3  Художественный  Юниверсал Пикчерз, Кикстарт Продакшнз, Марк Пл...   \n",
       "4  Художественный  Юниверсал Пикчерз, Кикстарт Продакшнз, Марк Пл...   \n",
       "\n",
       "  production_country           director  \\\n",
       "0                США      Кевин Костнер   \n",
       "1               СССР          Е.Матвеев   \n",
       "2                США  Тимур Бекмамбетов   \n",
       "3                США  Тимур Бекмамбетов   \n",
       "4                США  Тимур Бекмамбетов   \n",
       "\n",
       "                                            producer  \\\n",
       "0          Дэвид Валдес, Кевин Костнер, Джейк Эбертс   \n",
       "1                                         неизвестно   \n",
       "2  Джим Лемли, Джейсон Нетер, Марк Е.Платт, Яйн Смит   \n",
       "3  Джим Лемли, Джейсон Нетер, Марк Е.Платт, Яйн Смит   \n",
       "4  Джим Лемли, Джейсон Нетер, Марк Е.Платт, Яйн Смит   \n",
       "\n",
       "                 age_restriction  refundable_support  nonrefundable_support  \\\n",
       "0    «18+» - запрещено для детей                 NaN                    NaN   \n",
       "1  «6+» - для детей старше 6 лет                 NaN                    NaN   \n",
       "2    «18+» - запрещено для детей                 NaN                    NaN   \n",
       "3    «18+» - запрещено для детей                 NaN                    NaN   \n",
       "4    «18+» - запрещено для детей                 NaN                    NaN   \n",
       "\n",
       "   budget financing_source  ratings                     genres     box_office  \\\n",
       "0     NaN              NaN     7.20     боевик,драма,мелодрама  15,522,807.02   \n",
       "1     NaN              NaN     6.60              драма,военный   8,201,172.90   \n",
       "2     NaN              NaN     6.80  фантастика,боевик,триллер 216,907,489.96   \n",
       "3     NaN              NaN     6.80  фантастика,боевик,триллер 216,907,489.96   \n",
       "4     NaN              NaN     6.80  фантастика,боевик,триллер 216,907,489.96   \n",
       "\n",
       "   release_year      main_director  main_genre  goverment_support_share  \n",
       "0          2015      Кевин Костнер      боевик                      NaN  \n",
       "1          2016          Е.Матвеев       драма                      NaN  \n",
       "2          2016  Тимур Бекмамбетов  фантастика                      NaN  \n",
       "3          2016  Тимур Бекмамбетов  фантастика                      NaN  \n",
       "4          2015  Тимур Бекмамбетов  фантастика                      NaN  "
      ]
     },
     "execution_count": 27,
     "metadata": {},
     "output_type": "execute_result"
    }
   ],
   "source": [
    "data.head()"
   ]
  },
  {
   "cell_type": "markdown",
   "metadata": {},
   "source": [
    "**Промежуточный вывод по этапу предобработки данных:**\n",
    "\n",
    "В ходе работы были приняты следующие решения:\n",
    "- **во-первых, изучены и заполнены пропуски там, где это возможно и необходимо**, в частности, в столбцах `director`, `producer`, `genre` - заполнены на \"неизвестно\", так как эту часть данных восстановить невозможно, а также `box_office` и `ratings` по медианным значениям других категориальных переменных (по жанрам фильмов и по киностудии).\n",
    "- **во-вторых, были изменены типы данных в тех столбцах, где они представляли некорректное значение:** в частности, в `show_start_date` и `ratings` - со строчного типа (object) на формат datetime и float. \n",
    "- **в-третих, были убраны явные дубликаты в размере двух штук.**\n",
    "- **в-четвертых, были проанализирвоаны категориальные и количественные переменные**, что привело к тому, что были убраны неявные дубликаты, а также некорректные значения, где совокупная поддержка превышала бюджет фильма.\n",
    "- **в-пятых, были добавлены вспомогательные столбцы:** в частности, с годом выпуска фильма, именем главного режиссера и основным жанром. \n",
    "\n",
    "Полученные результаты будут использоваться в дальнейшем при проведении исследовательского анализа данных. "
   ]
  },
  {
   "cell_type": "markdown",
   "metadata": {
    "id": "6t4EukPLgFyV"
   },
   "source": [
    "### Шаг 3. Проведите исследовательский анализ данных\n"
   ]
  },
  {
   "cell_type": "markdown",
   "metadata": {
    "id": "vAH8WCzugFyV"
   },
   "source": [
    "Прежде всего проанализируем количество фильмов, выходивших в прокат каждый год. При этом важно понимать, что в дата-сете отсутсвует ряд данных, поэтому сначала рассчитаем количество недостающих данных по столбцу `box_office` для определения того, критично ли количество отсутствующих данных или нет."
   ]
  },
  {
   "cell_type": "code",
   "execution_count": 28,
   "metadata": {
    "scrolled": true
   },
   "outputs": [
    {
     "data": {
      "text/plain": [
       "0.9562190386932655"
      ]
     },
     "execution_count": 28,
     "metadata": {},
     "output_type": "execute_result"
    }
   ],
   "source": [
    "data['box_office'].count() / data['title'].count()"
   ]
  },
  {
   "cell_type": "markdown",
   "metadata": {},
   "source": [
    "Видим, что отсутствуют около 5% данных: это не критический показатель, поэтому построим сводную таблицу для проведения исследовательского анализа данных на предмет того, какие суммы собрали фильмы в разные годы."
   ]
  },
  {
   "cell_type": "code",
   "execution_count": 29,
   "metadata": {
    "id": "ABeV47y7gFyW"
   },
   "outputs": [
    {
     "data": {
      "text/html": [
       "<div>\n",
       "<style scoped>\n",
       "    .dataframe tbody tr th:only-of-type {\n",
       "        vertical-align: middle;\n",
       "    }\n",
       "\n",
       "    .dataframe tbody tr th {\n",
       "        vertical-align: top;\n",
       "    }\n",
       "\n",
       "    .dataframe thead th {\n",
       "        text-align: right;\n",
       "    }\n",
       "</style>\n",
       "<table border=\"1\" class=\"dataframe\">\n",
       "  <thead>\n",
       "    <tr style=\"text-align: right;\">\n",
       "      <th></th>\n",
       "      <th>puNumber</th>\n",
       "    </tr>\n",
       "    <tr>\n",
       "      <th>release_year</th>\n",
       "      <th></th>\n",
       "    </tr>\n",
       "  </thead>\n",
       "  <tbody>\n",
       "    <tr>\n",
       "      <th>2010</th>\n",
       "      <td>985</td>\n",
       "    </tr>\n",
       "    <tr>\n",
       "      <th>2011</th>\n",
       "      <td>622</td>\n",
       "    </tr>\n",
       "    <tr>\n",
       "      <th>2012</th>\n",
       "      <td>593</td>\n",
       "    </tr>\n",
       "    <tr>\n",
       "      <th>2013</th>\n",
       "      <td>630</td>\n",
       "    </tr>\n",
       "    <tr>\n",
       "      <th>2014</th>\n",
       "      <td>805</td>\n",
       "    </tr>\n",
       "    <tr>\n",
       "      <th>2015</th>\n",
       "      <td>699</td>\n",
       "    </tr>\n",
       "    <tr>\n",
       "      <th>2016</th>\n",
       "      <td>815</td>\n",
       "    </tr>\n",
       "    <tr>\n",
       "      <th>2017</th>\n",
       "      <td>503</td>\n",
       "    </tr>\n",
       "    <tr>\n",
       "      <th>2018</th>\n",
       "      <td>887</td>\n",
       "    </tr>\n",
       "    <tr>\n",
       "      <th>2019</th>\n",
       "      <td>927</td>\n",
       "    </tr>\n",
       "  </tbody>\n",
       "</table>\n",
       "</div>"
      ],
      "text/plain": [
       "              puNumber\n",
       "release_year          \n",
       "2010               985\n",
       "2011               622\n",
       "2012               593\n",
       "2013               630\n",
       "2014               805\n",
       "2015               699\n",
       "2016               815\n",
       "2017               503\n",
       "2018               887\n",
       "2019               927"
      ]
     },
     "execution_count": 29,
     "metadata": {},
     "output_type": "execute_result"
    }
   ],
   "source": [
    "data.pivot_table(index='release_year', values='puNumber', aggfunc='count')"
   ]
  },
  {
   "cell_type": "markdown",
   "metadata": {
    "id": "BEOdcIrIgFyW"
   },
   "source": [
    "Для анализа динамики прокатов построим столбчатую диаграмму."
   ]
  },
  {
   "cell_type": "code",
   "execution_count": 30,
   "metadata": {
    "scrolled": false
   },
   "outputs": [
    {
     "data": {
      "image/png": "[encoded data removed]",
      "text/plain": [
       "<Figure size 640x480 with 1 Axes>"
      ]
     },
     "metadata": {},
     "output_type": "display_data"
    }
   ],
   "source": [
    "data.pivot_table(index='release_year', values='title', aggfunc='count').plot(title = \"Доля фильмов с известной информацией о прокате в кинотеатрах по годам\")\n",
    "plt.show()"
   ]
  },
  {
   "cell_type": "markdown",
   "metadata": {},
   "source": [
    "Исходя из диаграммы можно заметить, что количество прокатов распределяется по годам неравномерно: так, пиковые значения приходятся на 2010, 2016 и 2018 годы, а минимальные на 2011, 2012, 2013 и 2017 годы. При этом 2014, 2015 и 2016 годы представляют собой промежуточные значения по количеству прокатов. Далее рассчитаем среднее и медианное значения по сборам прокатов в зависимости от года, а также снова построим столбчатую диаграмму для проведения последующего анализа."
   ]
  },
  {
   "cell_type": "code",
   "execution_count": 31,
   "metadata": {
    "id": "jmp-rgg9gFyY"
   },
   "outputs": [
    {
     "data": {
      "text/html": [
       "<div>\n",
       "<style scoped>\n",
       "    .dataframe tbody tr th:only-of-type {\n",
       "        vertical-align: middle;\n",
       "    }\n",
       "\n",
       "    .dataframe tbody tr th {\n",
       "        vertical-align: top;\n",
       "    }\n",
       "\n",
       "    .dataframe thead tr th {\n",
       "        text-align: left;\n",
       "    }\n",
       "\n",
       "    .dataframe thead tr:last-of-type th {\n",
       "        text-align: right;\n",
       "    }\n",
       "</style>\n",
       "<table border=\"1\" class=\"dataframe\">\n",
       "  <thead>\n",
       "    <tr>\n",
       "      <th></th>\n",
       "      <th>mean</th>\n",
       "      <th>median</th>\n",
       "    </tr>\n",
       "    <tr>\n",
       "      <th></th>\n",
       "      <th>box_office</th>\n",
       "      <th>box_office</th>\n",
       "    </tr>\n",
       "    <tr>\n",
       "      <th>release_year</th>\n",
       "      <th></th>\n",
       "      <th></th>\n",
       "    </tr>\n",
       "  </thead>\n",
       "  <tbody>\n",
       "    <tr>\n",
       "      <th>2010</th>\n",
       "      <td>69,182,691.71</td>\n",
       "      <td>26,261,685.42</td>\n",
       "    </tr>\n",
       "    <tr>\n",
       "      <th>2011</th>\n",
       "      <td>54,917,587.38</td>\n",
       "      <td>19,691,467.52</td>\n",
       "    </tr>\n",
       "    <tr>\n",
       "      <th>2012</th>\n",
       "      <td>58,714,084.93</td>\n",
       "      <td>18,271,055.18</td>\n",
       "    </tr>\n",
       "    <tr>\n",
       "      <th>2013</th>\n",
       "      <td>44,597,210.05</td>\n",
       "      <td>16,822,613.85</td>\n",
       "    </tr>\n",
       "    <tr>\n",
       "      <th>2014</th>\n",
       "      <td>45,797,610.50</td>\n",
       "      <td>13,058,019.42</td>\n",
       "    </tr>\n",
       "    <tr>\n",
       "      <th>2015</th>\n",
       "      <td>78,668,899.54</td>\n",
       "      <td>14,978,689.90</td>\n",
       "    </tr>\n",
       "    <tr>\n",
       "      <th>2016</th>\n",
       "      <td>83,450,319.98</td>\n",
       "      <td>12,555,250.48</td>\n",
       "    </tr>\n",
       "    <tr>\n",
       "      <th>2017</th>\n",
       "      <td>111,319,280.90</td>\n",
       "      <td>16,822,613.85</td>\n",
       "    </tr>\n",
       "    <tr>\n",
       "      <th>2018</th>\n",
       "      <td>78,635,097.50</td>\n",
       "      <td>27,363,387.90</td>\n",
       "    </tr>\n",
       "    <tr>\n",
       "      <th>2019</th>\n",
       "      <td>71,349,307.95</td>\n",
       "      <td>16,822,613.85</td>\n",
       "    </tr>\n",
       "  </tbody>\n",
       "</table>\n",
       "</div>"
      ],
      "text/plain": [
       "                       mean        median\n",
       "                 box_office    box_office\n",
       "release_year                             \n",
       "2010          69,182,691.71 26,261,685.42\n",
       "2011          54,917,587.38 19,691,467.52\n",
       "2012          58,714,084.93 18,271,055.18\n",
       "2013          44,597,210.05 16,822,613.85\n",
       "2014          45,797,610.50 13,058,019.42\n",
       "2015          78,668,899.54 14,978,689.90\n",
       "2016          83,450,319.98 12,555,250.48\n",
       "2017         111,319,280.90 16,822,613.85\n",
       "2018          78,635,097.50 27,363,387.90\n",
       "2019          71,349,307.95 16,822,613.85"
      ]
     },
     "execution_count": 31,
     "metadata": {},
     "output_type": "execute_result"
    }
   ],
   "source": [
    "data.pivot_table(index='release_year', values='box_office', aggfunc=['mean', 'median'])"
   ]
  },
  {
   "cell_type": "code",
   "execution_count": 32,
   "metadata": {},
   "outputs": [
    {
     "data": {
      "image/png": "[encoded data removed]",
      "text/plain": [
       "<Figure size 640x480 with 1 Axes>"
      ]
     },
     "metadata": {},
     "output_type": "display_data"
    }
   ],
   "source": [
    "data.pivot_table(index='release_year', values='box_office', aggfunc=['mean', 'median']).plot(title='Доля сборов по фильмам по годам')\n",
    "plt.show()"
   ]
  },
  {
   "cell_type": "markdown",
   "metadata": {},
   "source": [
    "На графике можно заметить несколько тенденций:\n",
    "- во-первых, среднее значение достаточно сильно превышает медианное, а также менее однородно. Подобное очевидно: так как среднее значение не устойчиво к неоднородным значениям или аномальным, то зачастую оценки оказываются смещенными, поэтому для последующего анализа предлагается использовать именно медианное значение.\n",
    "- во-вторых, по общей тенденции сборов: в целом, количество сборов имеет тенденцию к снижению с 2010 по 2014 годы (среднее значение, кстати, это также показывает), а с 2015 по 2017 года - к росту. При этом пиковое значение достигается в 2018 году, а в 2019 снова идет на спад.\n",
    "\n",
    "Также проанализируем зависимость сборов от возрастного ограничения: для этого также рассчитаем медианное значение и построим столбчатую диаграмму для большей наглядности. Так как возрастное ограчение представляет собой категориальные данные, то стоит воспользоваться именно средним или медианным значением, так как коэффициент корелляции здесь не подойдет."
   ]
  },
  {
   "cell_type": "code",
   "execution_count": 33,
   "metadata": {},
   "outputs": [
    {
     "data": {
      "text/html": [
       "<div>\n",
       "<style scoped>\n",
       "    .dataframe tbody tr th:only-of-type {\n",
       "        vertical-align: middle;\n",
       "    }\n",
       "\n",
       "    .dataframe tbody tr th {\n",
       "        vertical-align: top;\n",
       "    }\n",
       "\n",
       "    .dataframe thead th {\n",
       "        text-align: right;\n",
       "    }\n",
       "</style>\n",
       "<table border=\"1\" class=\"dataframe\">\n",
       "  <thead>\n",
       "    <tr style=\"text-align: right;\">\n",
       "      <th></th>\n",
       "      <th>box_office</th>\n",
       "    </tr>\n",
       "    <tr>\n",
       "      <th>age_restriction</th>\n",
       "      <th></th>\n",
       "    </tr>\n",
       "  </thead>\n",
       "  <tbody>\n",
       "    <tr>\n",
       "      <th>«0+» - для любой зрительской аудитории</th>\n",
       "      <td>36,055,705.07</td>\n",
       "    </tr>\n",
       "    <tr>\n",
       "      <th>«12+» - для детей старше 12 лет</th>\n",
       "      <td>18,958,074.00</td>\n",
       "    </tr>\n",
       "    <tr>\n",
       "      <th>«16+» - для детей старше 16 лет</th>\n",
       "      <td>16,822,613.85</td>\n",
       "    </tr>\n",
       "    <tr>\n",
       "      <th>«18+» - запрещено для детей</th>\n",
       "      <td>16,822,613.85</td>\n",
       "    </tr>\n",
       "    <tr>\n",
       "      <th>«6+» - для детей старше 6 лет</th>\n",
       "      <td>17,553,731.12</td>\n",
       "    </tr>\n",
       "  </tbody>\n",
       "</table>\n",
       "</div>"
      ],
      "text/plain": [
       "                                          box_office\n",
       "age_restriction                                     \n",
       "«0+» - для любой зрительской аудитории 36,055,705.07\n",
       "«12+» - для детей старше 12 лет        18,958,074.00\n",
       "«16+» - для детей старше 16 лет        16,822,613.85\n",
       "«18+» - запрещено для детей            16,822,613.85\n",
       "«6+» - для детей старше 6 лет          17,553,731.12"
      ]
     },
     "execution_count": 33,
     "metadata": {},
     "output_type": "execute_result"
    }
   ],
   "source": [
    "data.pivot_table(index='age_restriction', values='box_office', aggfunc='median')"
   ]
  },
  {
   "cell_type": "code",
   "execution_count": 34,
   "metadata": {},
   "outputs": [
    {
     "data": {
      "image/png": "[encoded data removed]",
      "text/plain": [
       "<Figure size 640x480 with 1 Axes>"
      ]
     },
     "metadata": {},
     "output_type": "display_data"
    }
   ],
   "source": [
    "data.pivot_table(index='age_restriction', values='box_office', aggfunc='median').plot(kind='bar', title='Доля сборов по фильмам в зависимости от возраста по годам')\n",
    "plt.show()"
   ]
  },
  {
   "cell_type": "markdown",
   "metadata": {},
   "source": [
    "Исходя из графика можно заметить, что больше всего сборов получили фильмы, предназначенные для любой аудитории, то есть широкого профиля зрителей, а оставшиеся возрастные группы, в целом, принимают более-менее однородные значения: единственное отличие заключается в том, что категории фильмов 12+ и 6+ собирают немного больше кассовых сборов, чем категории фильмов 16+ и 18+. Также проанализируем взаимосвязь возрастных ограничений с кассовыми сборами, но только среди фильмых, которые были выпущены в период с 2015 по 2019 годы, так как в эти периоды наблюдается тенденция к росту по количеству кассовых сборов. Прежде всего, отфильтруем данные, а потом построим аналогичные таблицу и диаграмму с медианным значением."
   ]
  },
  {
   "cell_type": "code",
   "execution_count": 35,
   "metadata": {},
   "outputs": [
    {
     "data": {
      "text/html": [
       "<div>\n",
       "<style scoped>\n",
       "    .dataframe tbody tr th:only-of-type {\n",
       "        vertical-align: middle;\n",
       "    }\n",
       "\n",
       "    .dataframe tbody tr th {\n",
       "        vertical-align: top;\n",
       "    }\n",
       "\n",
       "    .dataframe thead th {\n",
       "        text-align: right;\n",
       "    }\n",
       "</style>\n",
       "<table border=\"1\" class=\"dataframe\">\n",
       "  <thead>\n",
       "    <tr style=\"text-align: right;\">\n",
       "      <th></th>\n",
       "      <th>box_office</th>\n",
       "    </tr>\n",
       "    <tr>\n",
       "      <th>age_restriction</th>\n",
       "      <th></th>\n",
       "    </tr>\n",
       "  </thead>\n",
       "  <tbody>\n",
       "    <tr>\n",
       "      <th>«0+» - для любой зрительской аудитории</th>\n",
       "      <td>36,055,705.07</td>\n",
       "    </tr>\n",
       "    <tr>\n",
       "      <th>«12+» - для детей старше 12 лет</th>\n",
       "      <td>25,872,199.22</td>\n",
       "    </tr>\n",
       "    <tr>\n",
       "      <th>«16+» - для детей старше 16 лет</th>\n",
       "      <td>14,857,951.11</td>\n",
       "    </tr>\n",
       "    <tr>\n",
       "      <th>«18+» - запрещено для детей</th>\n",
       "      <td>12,300,474.55</td>\n",
       "    </tr>\n",
       "    <tr>\n",
       "      <th>«6+» - для детей старше 6 лет</th>\n",
       "      <td>30,325,879.15</td>\n",
       "    </tr>\n",
       "  </tbody>\n",
       "</table>\n",
       "</div>"
      ],
      "text/plain": [
       "                                          box_office\n",
       "age_restriction                                     \n",
       "«0+» - для любой зрительской аудитории 36,055,705.07\n",
       "«12+» - для детей старше 12 лет        25,872,199.22\n",
       "«16+» - для детей старше 16 лет        14,857,951.11\n",
       "«18+» - запрещено для детей            12,300,474.55\n",
       "«6+» - для детей старше 6 лет          30,325,879.15"
      ]
     },
     "execution_count": 35,
     "metadata": {},
     "output_type": "execute_result"
    }
   ],
   "source": [
    "data_filtered_by_release_year = data.query('release_year >= 2015')\n",
    "data_filtered_by_release_year.pivot_table(index='age_restriction', values='box_office', aggfunc='median')"
   ]
  },
  {
   "cell_type": "code",
   "execution_count": 36,
   "metadata": {},
   "outputs": [
    {
     "data": {
      "image/png": "[encoded data removed]",
      "text/plain": [
       "<Figure size 640x480 with 1 Axes>"
      ]
     },
     "metadata": {},
     "output_type": "display_data"
    }
   ],
   "source": [
    "data_filtered_by_release_year.pivot_table(index='age_restriction', values='box_office', aggfunc='median').plot(kind='bar', title='Доля сборов по фильмам 2015 года выпуска и более в зависимости от возраста по годам')\n",
    "plt.show()"
   ]
  },
  {
   "cell_type": "markdown",
   "metadata": {},
   "source": [
    "Также сравним среднеее и медианное значение при помощи боскплотов."
   ]
  },
  {
   "cell_type": "code",
   "execution_count": 37,
   "metadata": {},
   "outputs": [
    {
     "data": {
      "text/plain": [
       "<Axes: >"
      ]
     },
     "execution_count": 37,
     "metadata": {},
     "output_type": "execute_result"
    },
    {
     "data": {
      "image/png": "[encoded data removed]",
      "text/plain": [
       "<Figure size 640x480 with 1 Axes>"
      ]
     },
     "metadata": {},
     "output_type": "display_data"
    }
   ],
   "source": [
    "data_filtered_by_release_year.pivot_table(index='age_restriction', values='box_office', aggfunc=['mean', 'median']).boxplot()"
   ]
  },
  {
   "cell_type": "markdown",
   "metadata": {},
   "source": [
    "Видим, что среднее значение значительно превышает медианное в силу того, что в данных присутствуют аномальные значения, особенно в столбце `box_office`, поэтому выбранное решение использовать медиану для проведения анализа оказалось корректным."
   ]
  },
  {
   "cell_type": "markdown",
   "metadata": {},
   "source": [
    "В целом, ситуация аналогичная, однако становится более выраженной тенденция, озвученная раннее: фильмы категории 6+ и 12+ собирают больше сборов, чем 16+ и 18+, а категория 0+ остается лидирующей, так как предназначена для широкого круга зрителей."
   ]
  },
  {
   "cell_type": "markdown",
   "metadata": {
    "id": "l_Kg6Ku4gFya"
   },
   "source": [
    "### Шаг 4. Исследуйте фильмы, которые получили государственную поддержку"
   ]
  },
  {
   "cell_type": "markdown",
   "metadata": {
    "id": "W9QKpjUdgFyb"
   },
   "source": [
    "Прежде всего проанализируем совокупное количество средств, которое выделяется государством на производство фильмов в каждом году."
   ]
  },
  {
   "cell_type": "code",
   "execution_count": 38,
   "metadata": {},
   "outputs": [
    {
     "data": {
      "text/html": [
       "<div>\n",
       "<style scoped>\n",
       "    .dataframe tbody tr th:only-of-type {\n",
       "        vertical-align: middle;\n",
       "    }\n",
       "\n",
       "    .dataframe tbody tr th {\n",
       "        vertical-align: top;\n",
       "    }\n",
       "\n",
       "    .dataframe thead th {\n",
       "        text-align: right;\n",
       "    }\n",
       "</style>\n",
       "<table border=\"1\" class=\"dataframe\">\n",
       "  <thead>\n",
       "    <tr style=\"text-align: right;\">\n",
       "      <th></th>\n",
       "      <th>budget</th>\n",
       "    </tr>\n",
       "    <tr>\n",
       "      <th>release_year</th>\n",
       "      <th></th>\n",
       "    </tr>\n",
       "  </thead>\n",
       "  <tbody>\n",
       "    <tr>\n",
       "      <th>2010</th>\n",
       "      <td>0.00</td>\n",
       "    </tr>\n",
       "    <tr>\n",
       "      <th>2011</th>\n",
       "      <td>0.00</td>\n",
       "    </tr>\n",
       "    <tr>\n",
       "      <th>2012</th>\n",
       "      <td>0.00</td>\n",
       "    </tr>\n",
       "    <tr>\n",
       "      <th>2013</th>\n",
       "      <td>255,435,390.00</td>\n",
       "    </tr>\n",
       "    <tr>\n",
       "      <th>2014</th>\n",
       "      <td>1,279,484,783.00</td>\n",
       "    </tr>\n",
       "    <tr>\n",
       "      <th>2015</th>\n",
       "      <td>7,309,669,207.00</td>\n",
       "    </tr>\n",
       "    <tr>\n",
       "      <th>2016</th>\n",
       "      <td>7,228,942,748.00</td>\n",
       "    </tr>\n",
       "    <tr>\n",
       "      <th>2017</th>\n",
       "      <td>6,972,172,568.00</td>\n",
       "    </tr>\n",
       "    <tr>\n",
       "      <th>2018</th>\n",
       "      <td>6,651,694,634.00</td>\n",
       "    </tr>\n",
       "    <tr>\n",
       "      <th>2019</th>\n",
       "      <td>12,542,866,609.00</td>\n",
       "    </tr>\n",
       "  </tbody>\n",
       "</table>\n",
       "</div>"
      ],
      "text/plain": [
       "                        budget\n",
       "release_year                  \n",
       "2010                      0.00\n",
       "2011                      0.00\n",
       "2012                      0.00\n",
       "2013            255,435,390.00\n",
       "2014          1,279,484,783.00\n",
       "2015          7,309,669,207.00\n",
       "2016          7,228,942,748.00\n",
       "2017          6,972,172,568.00\n",
       "2018          6,651,694,634.00\n",
       "2019         12,542,866,609.00"
      ]
     },
     "execution_count": 38,
     "metadata": {},
     "output_type": "execute_result"
    }
   ],
   "source": [
    "data.pivot_table(index='release_year', values='budget', aggfunc='sum')"
   ]
  },
  {
   "cell_type": "code",
   "execution_count": 39,
   "metadata": {},
   "outputs": [
    {
     "data": {
      "text/plain": [
       "<Axes: xlabel='release_year'>"
      ]
     },
     "execution_count": 39,
     "metadata": {},
     "output_type": "execute_result"
    },
    {
     "data": {
      "image/png": "[encoded data removed]",
      "text/plain": [
       "<Figure size 640x480 with 1 Axes>"
      ]
     },
     "metadata": {},
     "output_type": "display_data"
    }
   ],
   "source": [
    "data.pivot_table(index='release_year', values='budget', aggfunc='sum').plot(kind='bar')"
   ]
  },
  {
   "cell_type": "markdown",
   "metadata": {},
   "source": [
    "На графике можно заметить, что государственная поддержка в области кинопроизводства началась примерно в 2013 году и, в среднем, имеет тенденцию к росту несмотря на небольшое количество спадов в период с 2016 по 2018 годы. Пиковое значение достигается в 2019 году, при этом если сравнить его с показателем за 2013 год, то можно понять, что превышается он достаточно сильно. Также посмотрим на окупаемость данных фильмов."
   ]
  },
  {
   "cell_type": "code",
   "execution_count": 40,
   "metadata": {},
   "outputs": [
    {
     "data": {
      "text/html": [
       "<div>\n",
       "<style scoped>\n",
       "    .dataframe tbody tr th:only-of-type {\n",
       "        vertical-align: middle;\n",
       "    }\n",
       "\n",
       "    .dataframe tbody tr th {\n",
       "        vertical-align: top;\n",
       "    }\n",
       "\n",
       "    .dataframe thead th {\n",
       "        text-align: right;\n",
       "    }\n",
       "</style>\n",
       "<table border=\"1\" class=\"dataframe\">\n",
       "  <thead>\n",
       "    <tr style=\"text-align: right;\">\n",
       "      <th></th>\n",
       "      <th>profit</th>\n",
       "    </tr>\n",
       "    <tr>\n",
       "      <th>release_year</th>\n",
       "      <th></th>\n",
       "    </tr>\n",
       "  </thead>\n",
       "  <tbody>\n",
       "    <tr>\n",
       "      <th>2013</th>\n",
       "      <td>-117,556,502.45</td>\n",
       "    </tr>\n",
       "    <tr>\n",
       "      <th>2014</th>\n",
       "      <td>-39,130,819.00</td>\n",
       "    </tr>\n",
       "    <tr>\n",
       "      <th>2015</th>\n",
       "      <td>-39,851,256.00</td>\n",
       "    </tr>\n",
       "    <tr>\n",
       "      <th>2016</th>\n",
       "      <td>-54,087,070.50</td>\n",
       "    </tr>\n",
       "    <tr>\n",
       "      <th>2017</th>\n",
       "      <td>-35,328,950.00</td>\n",
       "    </tr>\n",
       "    <tr>\n",
       "      <th>2018</th>\n",
       "      <td>-38,495,370.81</td>\n",
       "    </tr>\n",
       "    <tr>\n",
       "      <th>2019</th>\n",
       "      <td>-45,780,330.56</td>\n",
       "    </tr>\n",
       "  </tbody>\n",
       "</table>\n",
       "</div>"
      ],
      "text/plain": [
       "                      profit\n",
       "release_year                \n",
       "2013         -117,556,502.45\n",
       "2014          -39,130,819.00\n",
       "2015          -39,851,256.00\n",
       "2016          -54,087,070.50\n",
       "2017          -35,328,950.00\n",
       "2018          -38,495,370.81\n",
       "2019          -45,780,330.56"
      ]
     },
     "execution_count": 40,
     "metadata": {},
     "output_type": "execute_result"
    }
   ],
   "source": [
    "data['profit'] = data['box_office'] - data['budget']\n",
    "data.pivot_table(index='release_year', values='profit', aggfunc='median')"
   ]
  },
  {
   "cell_type": "code",
   "execution_count": 41,
   "metadata": {},
   "outputs": [
    {
     "data": {
      "text/plain": [
       "<Axes: xlabel='release_year'>"
      ]
     },
     "execution_count": 41,
     "metadata": {},
     "output_type": "execute_result"
    },
    {
     "data": {
      "image/png": "[encoded data removed]",
      "text/plain": [
       "<Figure size 640x480 with 1 Axes>"
      ]
     },
     "metadata": {},
     "output_type": "display_data"
    }
   ],
   "source": [
    "data.pivot_table(index='release_year', values='profit', aggfunc='median').plot(kind='bar')"
   ]
  },
  {
   "cell_type": "markdown",
   "metadata": {},
   "source": [
    "Исходя из графика можно заметить, что практически все фильмы с государственной поддержкой не окупаются. Наконец, проанализируем рейтинг таких фильмов. Сначала рассмотрим медианный рейтинг жанров фильмов по годам."
   ]
  },
  {
   "cell_type": "code",
   "execution_count": 42,
   "metadata": {},
   "outputs": [
    {
     "data": {
      "text/html": [
       "<div>\n",
       "<style scoped>\n",
       "    .dataframe tbody tr th:only-of-type {\n",
       "        vertical-align: middle;\n",
       "    }\n",
       "\n",
       "    .dataframe tbody tr th {\n",
       "        vertical-align: top;\n",
       "    }\n",
       "\n",
       "    .dataframe thead th {\n",
       "        text-align: right;\n",
       "    }\n",
       "</style>\n",
       "<table border=\"1\" class=\"dataframe\">\n",
       "  <thead>\n",
       "    <tr style=\"text-align: right;\">\n",
       "      <th>main_genre</th>\n",
       "      <th>аниме</th>\n",
       "      <th>биография</th>\n",
       "      <th>боевик</th>\n",
       "      <th>вестерн</th>\n",
       "      <th>военный</th>\n",
       "      <th>детектив</th>\n",
       "      <th>детский</th>\n",
       "      <th>для взрослых</th>\n",
       "      <th>документальный</th>\n",
       "      <th>драма</th>\n",
       "      <th>...</th>\n",
       "      <th>неизвестно</th>\n",
       "      <th>приключения</th>\n",
       "      <th>реальное ТВ</th>\n",
       "      <th>семейный</th>\n",
       "      <th>спорт</th>\n",
       "      <th>триллер</th>\n",
       "      <th>ужасы</th>\n",
       "      <th>фантастика</th>\n",
       "      <th>фильм-нуар</th>\n",
       "      <th>фэнтези</th>\n",
       "    </tr>\n",
       "    <tr>\n",
       "      <th>release_year</th>\n",
       "      <th></th>\n",
       "      <th></th>\n",
       "      <th></th>\n",
       "      <th></th>\n",
       "      <th></th>\n",
       "      <th></th>\n",
       "      <th></th>\n",
       "      <th></th>\n",
       "      <th></th>\n",
       "      <th></th>\n",
       "      <th></th>\n",
       "      <th></th>\n",
       "      <th></th>\n",
       "      <th></th>\n",
       "      <th></th>\n",
       "      <th></th>\n",
       "      <th></th>\n",
       "      <th></th>\n",
       "      <th></th>\n",
       "      <th></th>\n",
       "      <th></th>\n",
       "    </tr>\n",
       "  </thead>\n",
       "  <tbody>\n",
       "    <tr>\n",
       "      <th>2010</th>\n",
       "      <td>8.10</td>\n",
       "      <td>6.70</td>\n",
       "      <td>6.90</td>\n",
       "      <td>NaN</td>\n",
       "      <td>7.85</td>\n",
       "      <td>7.00</td>\n",
       "      <td>1.55</td>\n",
       "      <td>NaN</td>\n",
       "      <td>7.40</td>\n",
       "      <td>7.00</td>\n",
       "      <td>...</td>\n",
       "      <td>7.20</td>\n",
       "      <td>5.30</td>\n",
       "      <td>NaN</td>\n",
       "      <td>5.70</td>\n",
       "      <td>NaN</td>\n",
       "      <td>6.90</td>\n",
       "      <td>6.20</td>\n",
       "      <td>6.95</td>\n",
       "      <td>NaN</td>\n",
       "      <td>6.90</td>\n",
       "    </tr>\n",
       "    <tr>\n",
       "      <th>2011</th>\n",
       "      <td>7.65</td>\n",
       "      <td>7.70</td>\n",
       "      <td>6.80</td>\n",
       "      <td>NaN</td>\n",
       "      <td>6.80</td>\n",
       "      <td>6.85</td>\n",
       "      <td>7.20</td>\n",
       "      <td>4.10</td>\n",
       "      <td>7.10</td>\n",
       "      <td>6.80</td>\n",
       "      <td>...</td>\n",
       "      <td>7.47</td>\n",
       "      <td>NaN</td>\n",
       "      <td>NaN</td>\n",
       "      <td>5.45</td>\n",
       "      <td>NaN</td>\n",
       "      <td>7.20</td>\n",
       "      <td>5.90</td>\n",
       "      <td>7.00</td>\n",
       "      <td>NaN</td>\n",
       "      <td>6.55</td>\n",
       "    </tr>\n",
       "    <tr>\n",
       "      <th>2012</th>\n",
       "      <td>7.50</td>\n",
       "      <td>NaN</td>\n",
       "      <td>6.75</td>\n",
       "      <td>8.20</td>\n",
       "      <td>7.90</td>\n",
       "      <td>7.70</td>\n",
       "      <td>7.20</td>\n",
       "      <td>NaN</td>\n",
       "      <td>7.60</td>\n",
       "      <td>6.80</td>\n",
       "      <td>...</td>\n",
       "      <td>7.60</td>\n",
       "      <td>4.75</td>\n",
       "      <td>NaN</td>\n",
       "      <td>6.15</td>\n",
       "      <td>8.00</td>\n",
       "      <td>6.60</td>\n",
       "      <td>5.80</td>\n",
       "      <td>6.75</td>\n",
       "      <td>NaN</td>\n",
       "      <td>6.60</td>\n",
       "    </tr>\n",
       "    <tr>\n",
       "      <th>2013</th>\n",
       "      <td>7.70</td>\n",
       "      <td>7.10</td>\n",
       "      <td>6.30</td>\n",
       "      <td>7.35</td>\n",
       "      <td>6.95</td>\n",
       "      <td>8.10</td>\n",
       "      <td>5.90</td>\n",
       "      <td>NaN</td>\n",
       "      <td>6.90</td>\n",
       "      <td>7.10</td>\n",
       "      <td>...</td>\n",
       "      <td>7.20</td>\n",
       "      <td>7.30</td>\n",
       "      <td>NaN</td>\n",
       "      <td>4.60</td>\n",
       "      <td>8.10</td>\n",
       "      <td>6.60</td>\n",
       "      <td>5.40</td>\n",
       "      <td>6.80</td>\n",
       "      <td>NaN</td>\n",
       "      <td>6.30</td>\n",
       "    </tr>\n",
       "    <tr>\n",
       "      <th>2014</th>\n",
       "      <td>7.60</td>\n",
       "      <td>6.10</td>\n",
       "      <td>6.70</td>\n",
       "      <td>NaN</td>\n",
       "      <td>6.30</td>\n",
       "      <td>6.20</td>\n",
       "      <td>7.20</td>\n",
       "      <td>NaN</td>\n",
       "      <td>7.15</td>\n",
       "      <td>6.90</td>\n",
       "      <td>...</td>\n",
       "      <td>7.20</td>\n",
       "      <td>6.20</td>\n",
       "      <td>NaN</td>\n",
       "      <td>5.20</td>\n",
       "      <td>6.45</td>\n",
       "      <td>6.60</td>\n",
       "      <td>5.30</td>\n",
       "      <td>6.80</td>\n",
       "      <td>7.60</td>\n",
       "      <td>6.70</td>\n",
       "    </tr>\n",
       "    <tr>\n",
       "      <th>2015</th>\n",
       "      <td>7.40</td>\n",
       "      <td>7.70</td>\n",
       "      <td>6.90</td>\n",
       "      <td>7.90</td>\n",
       "      <td>6.45</td>\n",
       "      <td>6.45</td>\n",
       "      <td>7.20</td>\n",
       "      <td>NaN</td>\n",
       "      <td>7.40</td>\n",
       "      <td>6.70</td>\n",
       "      <td>...</td>\n",
       "      <td>6.92</td>\n",
       "      <td>6.55</td>\n",
       "      <td>NaN</td>\n",
       "      <td>5.95</td>\n",
       "      <td>7.25</td>\n",
       "      <td>6.35</td>\n",
       "      <td>5.60</td>\n",
       "      <td>6.40</td>\n",
       "      <td>NaN</td>\n",
       "      <td>6.20</td>\n",
       "    </tr>\n",
       "    <tr>\n",
       "      <th>2016</th>\n",
       "      <td>7.45</td>\n",
       "      <td>6.70</td>\n",
       "      <td>6.40</td>\n",
       "      <td>NaN</td>\n",
       "      <td>7.40</td>\n",
       "      <td>NaN</td>\n",
       "      <td>7.25</td>\n",
       "      <td>4.65</td>\n",
       "      <td>7.40</td>\n",
       "      <td>6.70</td>\n",
       "      <td>...</td>\n",
       "      <td>5.80</td>\n",
       "      <td>6.60</td>\n",
       "      <td>NaN</td>\n",
       "      <td>4.80</td>\n",
       "      <td>6.30</td>\n",
       "      <td>6.60</td>\n",
       "      <td>5.70</td>\n",
       "      <td>6.70</td>\n",
       "      <td>NaN</td>\n",
       "      <td>6.80</td>\n",
       "    </tr>\n",
       "    <tr>\n",
       "      <th>2017</th>\n",
       "      <td>8.30</td>\n",
       "      <td>NaN</td>\n",
       "      <td>6.20</td>\n",
       "      <td>NaN</td>\n",
       "      <td>6.30</td>\n",
       "      <td>6.80</td>\n",
       "      <td>7.20</td>\n",
       "      <td>NaN</td>\n",
       "      <td>7.45</td>\n",
       "      <td>6.70</td>\n",
       "      <td>...</td>\n",
       "      <td>5.82</td>\n",
       "      <td>6.90</td>\n",
       "      <td>NaN</td>\n",
       "      <td>5.50</td>\n",
       "      <td>7.50</td>\n",
       "      <td>6.30</td>\n",
       "      <td>5.70</td>\n",
       "      <td>6.55</td>\n",
       "      <td>NaN</td>\n",
       "      <td>6.10</td>\n",
       "    </tr>\n",
       "    <tr>\n",
       "      <th>2018</th>\n",
       "      <td>7.50</td>\n",
       "      <td>7.10</td>\n",
       "      <td>6.20</td>\n",
       "      <td>NaN</td>\n",
       "      <td>6.25</td>\n",
       "      <td>6.50</td>\n",
       "      <td>7.20</td>\n",
       "      <td>NaN</td>\n",
       "      <td>7.25</td>\n",
       "      <td>6.70</td>\n",
       "      <td>...</td>\n",
       "      <td>6.40</td>\n",
       "      <td>6.30</td>\n",
       "      <td>NaN</td>\n",
       "      <td>6.25</td>\n",
       "      <td>7.00</td>\n",
       "      <td>6.30</td>\n",
       "      <td>5.70</td>\n",
       "      <td>6.20</td>\n",
       "      <td>NaN</td>\n",
       "      <td>6.45</td>\n",
       "    </tr>\n",
       "    <tr>\n",
       "      <th>2019</th>\n",
       "      <td>7.45</td>\n",
       "      <td>6.70</td>\n",
       "      <td>6.15</td>\n",
       "      <td>5.70</td>\n",
       "      <td>6.55</td>\n",
       "      <td>6.70</td>\n",
       "      <td>6.50</td>\n",
       "      <td>NaN</td>\n",
       "      <td>7.45</td>\n",
       "      <td>6.60</td>\n",
       "      <td>...</td>\n",
       "      <td>6.30</td>\n",
       "      <td>6.00</td>\n",
       "      <td>5.60</td>\n",
       "      <td>7.15</td>\n",
       "      <td>NaN</td>\n",
       "      <td>6.50</td>\n",
       "      <td>5.60</td>\n",
       "      <td>6.40</td>\n",
       "      <td>NaN</td>\n",
       "      <td>6.85</td>\n",
       "    </tr>\n",
       "  </tbody>\n",
       "</table>\n",
       "<p>10 rows × 29 columns</p>\n",
       "</div>"
      ],
      "text/plain": [
       "main_genre    аниме  биография  боевик  вестерн  военный  детектив  детский  \\\n",
       "release_year                                                                  \n",
       "2010           8.10       6.70    6.90      NaN     7.85      7.00     1.55   \n",
       "2011           7.65       7.70    6.80      NaN     6.80      6.85     7.20   \n",
       "2012           7.50        NaN    6.75     8.20     7.90      7.70     7.20   \n",
       "2013           7.70       7.10    6.30     7.35     6.95      8.10     5.90   \n",
       "2014           7.60       6.10    6.70      NaN     6.30      6.20     7.20   \n",
       "2015           7.40       7.70    6.90     7.90     6.45      6.45     7.20   \n",
       "2016           7.45       6.70    6.40      NaN     7.40       NaN     7.25   \n",
       "2017           8.30        NaN    6.20      NaN     6.30      6.80     7.20   \n",
       "2018           7.50       7.10    6.20      NaN     6.25      6.50     7.20   \n",
       "2019           7.45       6.70    6.15     5.70     6.55      6.70     6.50   \n",
       "\n",
       "main_genre    для взрослых  документальный  драма  ...  неизвестно  \\\n",
       "release_year                                       ...               \n",
       "2010                   NaN            7.40   7.00  ...        7.20   \n",
       "2011                  4.10            7.10   6.80  ...        7.47   \n",
       "2012                   NaN            7.60   6.80  ...        7.60   \n",
       "2013                   NaN            6.90   7.10  ...        7.20   \n",
       "2014                   NaN            7.15   6.90  ...        7.20   \n",
       "2015                   NaN            7.40   6.70  ...        6.92   \n",
       "2016                  4.65            7.40   6.70  ...        5.80   \n",
       "2017                   NaN            7.45   6.70  ...        5.82   \n",
       "2018                   NaN            7.25   6.70  ...        6.40   \n",
       "2019                   NaN            7.45   6.60  ...        6.30   \n",
       "\n",
       "main_genre    приключения  реальное ТВ  семейный  спорт  триллер  ужасы  \\\n",
       "release_year                                                              \n",
       "2010                 5.30          NaN      5.70    NaN     6.90   6.20   \n",
       "2011                  NaN          NaN      5.45    NaN     7.20   5.90   \n",
       "2012                 4.75          NaN      6.15   8.00     6.60   5.80   \n",
       "2013                 7.30          NaN      4.60   8.10     6.60   5.40   \n",
       "2014                 6.20          NaN      5.20   6.45     6.60   5.30   \n",
       "2015                 6.55          NaN      5.95   7.25     6.35   5.60   \n",
       "2016                 6.60          NaN      4.80   6.30     6.60   5.70   \n",
       "2017                 6.90          NaN      5.50   7.50     6.30   5.70   \n",
       "2018                 6.30          NaN      6.25   7.00     6.30   5.70   \n",
       "2019                 6.00         5.60      7.15    NaN     6.50   5.60   \n",
       "\n",
       "main_genre    фантастика  фильм-нуар  фэнтези  \n",
       "release_year                                   \n",
       "2010                6.95         NaN     6.90  \n",
       "2011                7.00         NaN     6.55  \n",
       "2012                6.75         NaN     6.60  \n",
       "2013                6.80         NaN     6.30  \n",
       "2014                6.80        7.60     6.70  \n",
       "2015                6.40         NaN     6.20  \n",
       "2016                6.70         NaN     6.80  \n",
       "2017                6.55         NaN     6.10  \n",
       "2018                6.20         NaN     6.45  \n",
       "2019                6.40         NaN     6.85  \n",
       "\n",
       "[10 rows x 29 columns]"
      ]
     },
     "execution_count": 42,
     "metadata": {},
     "output_type": "execute_result"
    }
   ],
   "source": [
    "data.pivot_table(index='release_year', columns='main_genre', values='ratings', aggfunc='median')"
   ]
  },
  {
   "cell_type": "markdown",
   "metadata": {},
   "source": [
    "Видим, что жанрами с наибольшим рейтингом являются аниме (правда, с тенденцией к ухудшению рейтинга) и документальные фильмы, а жанр с наименьшим рейтингом - семейный, хоть и с тенденцией к росту. Прочие жанры более-менее однородны в рамках рейтинга."
   ]
  },
  {
   "cell_type": "code",
   "execution_count": 43,
   "metadata": {},
   "outputs": [
    {
     "data": {
      "text/plain": [
       "<Axes: >"
      ]
     },
     "execution_count": 43,
     "metadata": {},
     "output_type": "execute_result"
    },
    {
     "data": {
      "image/png": "[encoded data removed]",
      "text/plain": [
       "<Figure size 640x480 with 1 Axes>"
      ]
     },
     "metadata": {},
     "output_type": "display_data"
    }
   ],
   "source": [
    "data.pivot_table(index='release_year', values='ratings', aggfunc='median').boxplot()"
   ]
  },
  {
   "cell_type": "markdown",
   "metadata": {},
   "source": [
    "Видим, что медианное значение по рейтингу у всех фильмов практически одинаковое: в районе 6.5-6.6 баллов. В целом, данный рейтинг является чуть выше среднего, поэтому можно сказать о том, что фильмы, поддерживаемые государством, не вызывают особо восторга среди зрителей."
   ]
  },
  {
   "cell_type": "markdown",
   "metadata": {},
   "source": [
    "**Промежуточный вывод по этапу исследовательского анализа данных:**\n",
    "\n",
    "В ходе проведения исследовательского анализа данных были получены следующие результаты:\n",
    "- **во-первых, при анализе количества прокатов выяснили**, что пиковые значения приходятся на 2010, 2016 и 2018 годы, а минимальные на 2011, 2012, 2013 и 2017 годы. При этом 2014, 2015 и 2016 годы представляют собой промежуточные значения по количеству прокатов. Отметим, что часть фильмов (около 1%) не поступали в прокат, но на результат исследования не влияют, так как представляют собой небольшое значение.\n",
    "- **во-вторых, при анализе количества сборов выяснили**, что они имеют тенденцию к снижению с 2010 по 2014 годы (среднее значение, кстати, это также показывает), а с 2015 по 2017 года - к росту. При этом пиковое значение достигается в 2018 году, а в 2019 снова идет на спад. Отметим, что основным показателем при анализе использовалось медианное значение в силу того, что оно более устойчиво к неоднородным выборкам, а также аномальным значениям.\n",
    "- **в-третьих, при анализе взаимосвязи количества сборов в зависимости от возврастной группы выяснили**, что больше всего сборов получили фильмы, предназначенные для любой аудитории, то есть широкого профиля зрителей, а оставшиеся возрастные группы, в целом, принимают более-менее однородные значения: единственное отличие заключается в том, что категории фильмов 12+ и 6+ собирают немного больше кассовых сборов, чем категории фильмов 16+ и 18+. При этом при анализе фильмов с 2015 по 2017 годы, то есть в период роста кассовых сборов, тенденция становится более явной.\n",
    "- **в-четвертых, при анализе фильмов с государственной поддержкой выяснили**, что сама поддержка начинается примерно в 2013 году и, в среднем, имеет тенденцию к росту несмотря на небольшое количество спадов в период с 2016 по 2018 годы. Пиковое значение достигается в 2019 году, при этом если сравнить его с показателем за 2013 год, то можно понять, что превышается он достаточно сильно.\n",
    "- **в-пятых, практически все фильмы с государственной поддержкой являются убыточными**, однако при этом обладают средним рейтингом в районе 6.5-6.6 баллов, поэтому, возможно, не вызывают особый восторг у зрителей."
   ]
  },
  {
   "cell_type": "markdown",
   "metadata": {
    "id": "V2gYwMcPgFyd"
   },
   "source": [
    "### Шаг 5. Напишите общий вывод"
   ]
  },
  {
   "cell_type": "markdown",
   "metadata": {
    "id": "AYRg3dzXgFye"
   },
   "source": [
    "В ходе проведенного анализа были проделаны следующие работы и получена соответствующая информация:\n",
    "\n",
    "**В рамках этапа предобработки данных:**\n",
    "- **изучены и заполнены пропуски там, где это возможно и необходимо**, в частности, в столбцах `director`, `producer`, `genre` - заполнены на \"неизвестно\", так как эту часть данных восстановить невозможно, а также `box_office` и `ratings` по медианным значениям других категориальных переменных (по жанрам фильмов и по киностудии).\n",
    "- **изменены типы данных в тех столбцах, где они представляли некорректное значение:** в частности, в `show_start_date` и `ratings` - со строчного типа (object) на формат datetime и float. \n",
    "- **браны явные дубликаты в размере двух штук.**\n",
    "- **проанализирвоаны категориальные и количественные переменные**, что привело к тому, что были убраны неявные дубликаты, а также некорректные значения, где совокупная поддержка превышала бюджет фильма.\n",
    "- **добавлены вспомогательные столбцы:** в частности, с годом выпуска фильма, именем главного режиссера и основным жанром. \n",
    "\n",
    "**В рамках этапа исследовательского анализа данных:**\n",
    "- **при анализе количества прокатов выяснили**, что пиковые значения приходятся на 2010, 2016 и 2018 годы, а минимальные на 2011, 2012, 2013 и 2017 годы. При этом 2014, 2015 и 2016 годы представляют собой промежуточные значения по количеству прокатов.  Отметим, что часть фильмов (около 1%) не поступали в прокат, но на результат исследования не влияют, так как представляют собой небольшое значение.\n",
    "- **при анализе количества сборов выяснили**, что они имеют тенденцию к снижению с 2010 по 2014 годы (среднее значение, кстати, это также показывает), а с 2015 по 2017 года - к росту. При этом пиковое значение достигается в 2018 году, а в 2019 снова идет на спад. Отметим, что основным показателем при анализе использовалось медианное значение в силу того, что оно более устойчиво к неоднородным выборкам, а также аномальным значениям.\n",
    "- **при анализе взаимосвязи количества сборов в зависимости от возврастной группы выяснили**, что больше всего сборов получили фильмы, предназначенные для любой аудитории, то есть широкого профиля зрителей, а оставшиеся возрастные группы, в целом, принимают более-менее однородные значения: единственное отличие заключается в том, что категории фильмов 12+ и 6+ собирают немного больше кассовых сборов, чем категории фильмов 16+ и 18+. При этом при анализе фильмов с 2015 по 2017 годы, то есть в период роста кассовых сборов, тенденция становится более явной.\n",
    "- **при анализе фильмов с государственной поддержкой выяснили**, что сама поддержка начинается примерно в 2013 году и, в среднем, имеет тенденцию к росту несмотря на небольшое количество спадов в период с 2016 по 2018 годы. Пиковое значение достигается в 2019 году, при этом если сравнить его с показателем за 2013 год, то можно понять, что превышается он достаточно сильно.\n",
    "- **практически все фильмы с государственной поддержкой являются убыточными**, однако при этом обладают средним рейтингом в районе 6.5-6.6 баллов, поэтому, возможно, не вызывают особый восторг у зрителей.\n",
    "\n",
    "Полученные результаты анализа могут быть использованы при планировании дальнейшей деятельности в области кинопроизводства."
   ]
  }
 ],
 "metadata": {
  "ExecuteTimeLog": [
   {
    "duration": 537,
    "start_time": "2021-07-07T10:12:08.634Z"
   },
   {
    "duration": 206,
    "start_time": "2021-07-07T10:12:30.191Z"
   },
   {
    "duration": 227,
    "start_time": "2021-07-07T10:12:33.078Z"
   },
   {
    "duration": 153,
    "start_time": "2021-07-07T10:13:42.146Z"
   },
   {
    "duration": 233,
    "start_time": "2021-07-07T10:30:09.252Z"
   },
   {
    "duration": 19,
    "start_time": "2021-07-07T10:30:15.577Z"
   },
   {
    "duration": 18,
    "start_time": "2021-07-07T10:30:57.348Z"
   },
   {
    "duration": 19,
    "start_time": "2021-07-07T10:31:17.452Z"
   },
   {
    "duration": 21,
    "start_time": "2021-07-07T10:31:32.227Z"
   },
   {
    "duration": 27,
    "start_time": "2021-07-07T10:32:06.588Z"
   },
   {
    "duration": 23,
    "start_time": "2021-07-07T10:32:43.645Z"
   },
   {
    "duration": 24,
    "start_time": "2021-07-07T10:33:06.948Z"
   },
   {
    "duration": 7,
    "start_time": "2021-07-07T10:33:28.558Z"
   },
   {
    "duration": 23,
    "start_time": "2021-07-07T10:33:43.761Z"
   },
   {
    "duration": 28,
    "start_time": "2021-07-07T10:34:13.466Z"
   },
   {
    "duration": 23,
    "start_time": "2021-07-07T10:35:56.187Z"
   },
   {
    "duration": 6,
    "start_time": "2021-07-07T10:36:48.182Z"
   },
   {
    "duration": 14,
    "start_time": "2021-07-07T10:37:49.641Z"
   },
   {
    "duration": 6,
    "start_time": "2021-07-07T10:38:06.694Z"
   },
   {
    "duration": 6,
    "start_time": "2021-07-07T10:38:13.493Z"
   },
   {
    "duration": 19,
    "start_time": "2021-07-07T10:38:44.056Z"
   },
   {
    "duration": 186,
    "start_time": "2021-07-07T10:48:35.618Z"
   },
   {
    "duration": 24,
    "start_time": "2021-07-07T10:48:51.498Z"
   },
   {
    "duration": 20,
    "start_time": "2021-07-07T10:48:59.415Z"
   },
   {
    "duration": 20,
    "start_time": "2021-07-07T10:53:02.195Z"
   },
   {
    "duration": 188,
    "start_time": "2021-07-07T10:54:40.486Z"
   },
   {
    "duration": 115,
    "start_time": "2021-07-07T10:54:52.552Z"
   },
   {
    "duration": 214,
    "start_time": "2021-07-07T10:54:56.354Z"
   },
   {
    "duration": 47,
    "start_time": "2021-07-07T10:54:58.282Z"
   },
   {
    "duration": 217,
    "start_time": "2021-07-07T10:59:16.075Z"
   },
   {
    "duration": 51,
    "start_time": "2021-07-07T10:59:16.243Z"
   },
   {
    "duration": 578,
    "start_time": "2021-07-07T10:59:18.774Z"
   },
   {
    "duration": 161,
    "start_time": "2021-07-07T10:59:21.238Z"
   },
   {
    "duration": 59,
    "start_time": "2021-07-07T10:59:21.453Z"
   },
   {
    "duration": 3,
    "start_time": "2021-07-07T11:02:10.786Z"
   },
   {
    "duration": 13,
    "start_time": "2021-07-07T11:07:07.722Z"
   },
   {
    "duration": 26,
    "start_time": "2021-07-07T11:07:17.958Z"
   },
   {
    "duration": 22,
    "start_time": "2021-07-07T11:08:17.939Z"
   },
   {
    "duration": 212,
    "start_time": "2021-07-07T11:08:19.665Z"
   },
   {
    "duration": 21,
    "start_time": "2021-07-07T11:08:29.945Z"
   },
   {
    "duration": 31,
    "start_time": "2021-07-07T11:08:38.899Z"
   },
   {
    "duration": 23,
    "start_time": "2021-07-07T11:08:54.527Z"
   },
   {
    "duration": 8,
    "start_time": "2021-07-07T11:18:55.974Z"
   },
   {
    "duration": 7,
    "start_time": "2021-07-07T11:19:03.639Z"
   },
   {
    "duration": 7,
    "start_time": "2021-07-07T11:19:06.444Z"
   },
   {
    "duration": 578,
    "start_time": "2021-07-07T12:09:59.576Z"
   },
   {
    "duration": 195,
    "start_time": "2021-07-07T12:10:00.156Z"
   },
   {
    "duration": 115,
    "start_time": "2021-07-07T12:10:00.353Z"
   },
   {
    "duration": 3,
    "start_time": "2021-07-07T12:10:00.470Z"
   },
   {
    "duration": 32,
    "start_time": "2021-07-07T12:10:00.474Z"
   },
   {
    "duration": 23,
    "start_time": "2021-07-07T12:10:00.508Z"
   },
   {
    "duration": 19,
    "start_time": "2021-07-07T12:10:00.533Z"
   },
   {
    "duration": 44,
    "start_time": "2021-07-07T12:10:00.553Z"
   },
   {
    "duration": 7,
    "start_time": "2021-07-07T12:10:00.600Z"
   },
   {
    "duration": 7,
    "start_time": "2021-07-07T12:19:45.761Z"
   },
   {
    "duration": 21,
    "start_time": "2021-07-07T12:21:35.482Z"
   },
   {
    "duration": 21,
    "start_time": "2021-07-07T12:29:23.569Z"
   },
   {
    "duration": 525,
    "start_time": "2021-07-07T12:29:44.542Z"
   },
   {
    "duration": 214,
    "start_time": "2021-07-07T12:29:45.069Z"
   },
   {
    "duration": 92,
    "start_time": "2021-07-07T12:29:45.285Z"
   },
   {
    "duration": 3,
    "start_time": "2021-07-07T12:29:45.379Z"
   },
   {
    "duration": 28,
    "start_time": "2021-07-07T12:29:45.384Z"
   },
   {
    "duration": 23,
    "start_time": "2021-07-07T12:29:45.413Z"
   },
   {
    "duration": 21,
    "start_time": "2021-07-07T12:29:45.437Z"
   },
   {
    "duration": 41,
    "start_time": "2021-07-07T12:29:45.460Z"
   },
   {
    "duration": 7,
    "start_time": "2021-07-07T12:29:45.502Z"
   },
   {
    "duration": 20,
    "start_time": "2021-07-07T12:29:45.511Z"
   },
   {
    "duration": 12,
    "start_time": "2021-07-07T12:34:02.800Z"
   },
   {
    "duration": 7,
    "start_time": "2021-07-07T12:35:10.479Z"
   },
   {
    "duration": 8,
    "start_time": "2021-07-07T12:35:22.440Z"
   },
   {
    "duration": 6,
    "start_time": "2021-07-07T12:35:35.649Z"
   },
   {
    "duration": 6,
    "start_time": "2021-07-07T12:35:43.107Z"
   },
   {
    "duration": 22,
    "start_time": "2021-07-07T12:38:03.029Z"
   },
   {
    "duration": 10,
    "start_time": "2021-07-07T12:38:06.592Z"
   },
   {
    "duration": 563,
    "start_time": "2021-07-07T12:38:46.493Z"
   },
   {
    "duration": 265,
    "start_time": "2021-07-07T12:38:47.058Z"
   },
   {
    "duration": 94,
    "start_time": "2021-07-07T12:38:47.325Z"
   },
   {
    "duration": 3,
    "start_time": "2021-07-07T12:38:47.422Z"
   },
   {
    "duration": 30,
    "start_time": "2021-07-07T12:38:47.427Z"
   },
   {
    "duration": 16,
    "start_time": "2021-07-07T12:38:53.305Z"
   },
   {
    "duration": 10,
    "start_time": "2021-07-07T12:38:53.499Z"
   },
   {
    "duration": 8,
    "start_time": "2021-07-07T12:39:48.161Z"
   },
   {
    "duration": 27,
    "start_time": "2021-07-07T12:41:17.629Z"
   },
   {
    "duration": 17,
    "start_time": "2021-07-07T12:41:17.867Z"
   },
   {
    "duration": 21,
    "start_time": "2021-07-07T12:41:19.310Z"
   },
   {
    "duration": 7,
    "start_time": "2021-07-07T12:41:19.544Z"
   },
   {
    "duration": 20,
    "start_time": "2021-07-07T12:41:20.504Z"
   },
   {
    "duration": 554,
    "start_time": "2021-07-07T12:56:23.696Z"
   },
   {
    "duration": 200,
    "start_time": "2021-07-07T12:56:25.234Z"
   },
   {
    "duration": 119,
    "start_time": "2021-07-07T12:56:25.480Z"
   },
   {
    "duration": 4,
    "start_time": "2021-07-07T12:56:25.762Z"
   },
   {
    "duration": 26,
    "start_time": "2021-07-07T12:56:27.172Z"
   },
   {
    "duration": 12,
    "start_time": "2021-07-07T12:56:29.051Z"
   },
   {
    "duration": 10,
    "start_time": "2021-07-07T12:56:29.291Z"
   },
   {
    "duration": 8,
    "start_time": "2021-07-07T12:56:29.623Z"
   },
   {
    "duration": 28,
    "start_time": "2021-07-07T12:56:32.137Z"
   },
   {
    "duration": 19,
    "start_time": "2021-07-07T12:56:39.785Z"
   },
   {
    "duration": 20,
    "start_time": "2021-07-07T12:56:44.297Z"
   },
   {
    "duration": 7,
    "start_time": "2021-07-07T12:56:45.392Z"
   },
   {
    "duration": 23,
    "start_time": "2021-07-07T12:56:46.615Z"
   },
   {
    "duration": 4,
    "start_time": "2021-07-07T12:57:06.625Z"
   },
   {
    "duration": 32,
    "start_time": "2021-07-07T12:57:36.690Z"
   },
   {
    "duration": 18,
    "start_time": "2021-07-07T12:58:00.149Z"
   },
   {
    "duration": 15,
    "start_time": "2021-07-07T12:59:16.793Z"
   },
   {
    "duration": 7,
    "start_time": "2021-07-07T13:19:22.624Z"
   },
   {
    "duration": 6,
    "start_time": "2021-07-07T14:17:33.527Z"
   },
   {
    "duration": 9,
    "start_time": "2021-07-07T14:17:48.409Z"
   },
   {
    "duration": 8,
    "start_time": "2021-07-07T14:20:13.060Z"
   },
   {
    "duration": 8,
    "start_time": "2021-07-07T14:20:37.957Z"
   },
   {
    "duration": 8,
    "start_time": "2021-07-07T14:20:47.470Z"
   },
   {
    "duration": 9,
    "start_time": "2021-07-07T14:20:54.503Z"
   },
   {
    "duration": 10,
    "start_time": "2021-07-07T14:28:57.763Z"
   },
   {
    "duration": 3,
    "start_time": "2021-07-07T14:30:23.377Z"
   },
   {
    "duration": 3,
    "start_time": "2021-07-07T14:30:36.489Z"
   },
   {
    "duration": 103,
    "start_time": "2021-07-07T14:30:52.351Z"
   },
   {
    "duration": 8,
    "start_time": "2021-07-07T14:30:54.763Z"
   },
   {
    "duration": 8,
    "start_time": "2021-07-07T14:31:29.301Z"
   },
   {
    "duration": 13,
    "start_time": "2021-07-07T14:31:44.516Z"
   },
   {
    "duration": 7,
    "start_time": "2021-07-07T14:33:10.972Z"
   },
   {
    "duration": 11,
    "start_time": "2021-07-07T14:33:27.780Z"
   },
   {
    "duration": 8,
    "start_time": "2021-07-07T14:34:44.588Z"
   },
   {
    "duration": 57,
    "start_time": "2021-07-07T14:35:59.042Z"
   },
   {
    "duration": 3,
    "start_time": "2021-07-07T14:36:28.168Z"
   },
   {
    "duration": 5,
    "start_time": "2021-07-07T14:36:46.254Z"
   },
   {
    "duration": 4,
    "start_time": "2021-07-07T14:36:52.714Z"
   },
   {
    "duration": 3,
    "start_time": "2021-07-07T14:36:56.612Z"
   },
   {
    "duration": 4,
    "start_time": "2021-07-07T14:36:57.049Z"
   },
   {
    "duration": 3,
    "start_time": "2021-07-07T14:39:21.214Z"
   },
   {
    "duration": 7,
    "start_time": "2021-07-07T14:39:52.406Z"
   },
   {
    "duration": 11,
    "start_time": "2021-07-07T14:39:58.576Z"
   },
   {
    "duration": 9,
    "start_time": "2021-07-07T14:40:26.301Z"
   },
   {
    "duration": 10,
    "start_time": "2021-07-07T14:40:31.704Z"
   },
   {
    "duration": 11,
    "start_time": "2021-07-07T14:40:36.249Z"
   },
   {
    "duration": 10,
    "start_time": "2021-07-07T14:40:39.783Z"
   },
   {
    "duration": 9,
    "start_time": "2021-07-07T14:40:48.558Z"
   },
   {
    "duration": 10,
    "start_time": "2021-07-07T14:40:57.143Z"
   },
   {
    "duration": 9,
    "start_time": "2021-07-07T14:41:06.074Z"
   },
   {
    "duration": 4324,
    "start_time": "2021-07-07T14:41:22.004Z"
   },
   {
    "duration": 11,
    "start_time": "2021-07-07T14:41:33.392Z"
   },
   {
    "duration": 9,
    "start_time": "2021-07-07T14:41:39.288Z"
   },
   {
    "duration": 569,
    "start_time": "2021-07-07T14:42:14.387Z"
   },
   {
    "duration": 197,
    "start_time": "2021-07-07T14:42:14.959Z"
   },
   {
    "duration": 84,
    "start_time": "2021-07-07T14:42:16.052Z"
   },
   {
    "duration": 4,
    "start_time": "2021-07-07T14:42:16.900Z"
   },
   {
    "duration": 27,
    "start_time": "2021-07-07T14:42:19.898Z"
   },
   {
    "duration": 12,
    "start_time": "2021-07-07T14:42:21.577Z"
   },
   {
    "duration": 9,
    "start_time": "2021-07-07T14:42:21.813Z"
   },
   {
    "duration": 9,
    "start_time": "2021-07-07T14:42:22.569Z"
   },
   {
    "duration": 29,
    "start_time": "2021-07-07T14:42:25.837Z"
   },
   {
    "duration": 20,
    "start_time": "2021-07-07T14:42:27.003Z"
   },
   {
    "duration": 21,
    "start_time": "2021-07-07T14:42:28.767Z"
   },
   {
    "duration": 7,
    "start_time": "2021-07-07T14:42:29.838Z"
   },
   {
    "duration": 4,
    "start_time": "2021-07-07T14:43:25.493Z"
   },
   {
    "duration": 7,
    "start_time": "2021-07-07T14:43:26.573Z"
   },
   {
    "duration": 10,
    "start_time": "2021-07-07T14:43:31.639Z"
   },
   {
    "duration": 9,
    "start_time": "2021-07-07T14:43:32.046Z"
   },
   {
    "duration": 10,
    "start_time": "2021-07-07T14:43:33.301Z"
   },
   {
    "duration": 12,
    "start_time": "2021-07-07T14:43:33.658Z"
   },
   {
    "duration": 8,
    "start_time": "2021-07-07T14:43:34.552Z"
   },
   {
    "duration": 9,
    "start_time": "2021-07-07T14:43:35.058Z"
   },
   {
    "duration": 12,
    "start_time": "2021-07-07T14:43:35.914Z"
   },
   {
    "duration": 17,
    "start_time": "2021-07-07T14:45:34.368Z"
   },
   {
    "duration": 512,
    "start_time": "2021-07-07T14:51:58.236Z"
   },
   {
    "duration": 223,
    "start_time": "2021-07-07T14:51:58.750Z"
   },
   {
    "duration": 93,
    "start_time": "2021-07-07T14:51:58.977Z"
   },
   {
    "duration": 4,
    "start_time": "2021-07-07T14:51:59.071Z"
   },
   {
    "duration": 37,
    "start_time": "2021-07-07T14:51:59.077Z"
   },
   {
    "duration": 18,
    "start_time": "2021-07-07T14:51:59.116Z"
   },
   {
    "duration": 10,
    "start_time": "2021-07-07T14:51:59.137Z"
   },
   {
    "duration": 8,
    "start_time": "2021-07-07T14:51:59.149Z"
   },
   {
    "duration": 54,
    "start_time": "2021-07-07T14:51:59.158Z"
   },
   {
    "duration": 18,
    "start_time": "2021-07-07T14:51:59.213Z"
   },
   {
    "duration": 22,
    "start_time": "2021-07-07T14:51:59.232Z"
   },
   {
    "duration": 36,
    "start_time": "2021-07-07T14:51:59.255Z"
   },
   {
    "duration": 7,
    "start_time": "2021-07-07T14:51:59.293Z"
   },
   {
    "duration": 10,
    "start_time": "2021-07-07T14:51:59.302Z"
   },
   {
    "duration": 9,
    "start_time": "2021-07-07T14:51:59.313Z"
   },
   {
    "duration": 11,
    "start_time": "2021-07-07T14:51:59.324Z"
   },
   {
    "duration": 8,
    "start_time": "2021-07-07T14:51:59.337Z"
   },
   {
    "duration": 46,
    "start_time": "2021-07-07T14:51:59.347Z"
   },
   {
    "duration": 22,
    "start_time": "2021-07-07T14:51:59.395Z"
   },
   {
    "duration": 24,
    "start_time": "2021-07-07T14:57:32.911Z"
   },
   {
    "duration": 7,
    "start_time": "2021-07-07T14:58:22.070Z"
   },
   {
    "duration": 4,
    "start_time": "2021-07-07T14:59:11.239Z"
   },
   {
    "duration": 25,
    "start_time": "2021-07-07T15:07:22.208Z"
   },
   {
    "duration": 16,
    "start_time": "2021-07-07T15:08:25.560Z"
   },
   {
    "duration": 15,
    "start_time": "2021-07-07T15:08:40.647Z"
   },
   {
    "duration": 14,
    "start_time": "2021-07-07T15:08:46.669Z"
   },
   {
    "duration": 533,
    "start_time": "2021-07-07T15:18:07.440Z"
   },
   {
    "duration": 173,
    "start_time": "2021-07-07T15:18:07.974Z"
   },
   {
    "duration": 84,
    "start_time": "2021-07-07T15:18:08.149Z"
   },
   {
    "duration": 3,
    "start_time": "2021-07-07T15:18:08.235Z"
   },
   {
    "duration": 30,
    "start_time": "2021-07-07T15:18:08.240Z"
   },
   {
    "duration": 22,
    "start_time": "2021-07-07T15:18:08.272Z"
   },
   {
    "duration": 11,
    "start_time": "2021-07-07T15:18:08.295Z"
   },
   {
    "duration": 11,
    "start_time": "2021-07-07T15:18:08.309Z"
   },
   {
    "duration": 40,
    "start_time": "2021-07-07T15:18:08.322Z"
   },
   {
    "duration": 42,
    "start_time": "2021-07-07T15:18:08.364Z"
   },
   {
    "duration": 22,
    "start_time": "2021-07-07T15:18:08.408Z"
   },
   {
    "duration": 5,
    "start_time": "2021-07-07T15:18:08.432Z"
   },
   {
    "duration": 13,
    "start_time": "2021-07-07T15:18:08.439Z"
   },
   {
    "duration": 9,
    "start_time": "2021-07-07T15:18:08.454Z"
   },
   {
    "duration": 32,
    "start_time": "2021-07-07T15:18:08.465Z"
   },
   {
    "duration": 10,
    "start_time": "2021-07-07T15:18:08.501Z"
   },
   {
    "duration": 7,
    "start_time": "2021-07-07T15:18:08.513Z"
   },
   {
    "duration": 11,
    "start_time": "2021-07-07T15:18:08.521Z"
   },
   {
    "duration": 17,
    "start_time": "2021-07-07T15:18:08.534Z"
   },
   {
    "duration": 44,
    "start_time": "2021-07-07T15:18:08.553Z"
   },
   {
    "duration": 22,
    "start_time": "2021-07-07T15:18:08.599Z"
   },
   {
    "duration": 61,
    "start_time": "2021-07-07T15:18:08.622Z"
   },
   {
    "duration": 7,
    "start_time": "2021-07-07T15:18:39.457Z"
   },
   {
    "duration": 5,
    "start_time": "2021-07-07T16:05:17.020Z"
   },
   {
    "duration": 5,
    "start_time": "2021-07-07T16:51:28.794Z"
   },
   {
    "duration": 546,
    "start_time": "2021-07-07T16:52:26.306Z"
   },
   {
    "duration": 203,
    "start_time": "2021-07-07T16:52:27.523Z"
   },
   {
    "duration": 85,
    "start_time": "2021-07-07T16:52:27.736Z"
   },
   {
    "duration": 4,
    "start_time": "2021-07-07T16:52:27.899Z"
   },
   {
    "duration": 25,
    "start_time": "2021-07-07T16:52:28.674Z"
   },
   {
    "duration": 8,
    "start_time": "2021-07-07T16:52:32.956Z"
   },
   {
    "duration": 18,
    "start_time": "2021-07-07T16:52:35.616Z"
   },
   {
    "duration": 6,
    "start_time": "2021-07-07T16:52:36.913Z"
   },
   {
    "duration": 11,
    "start_time": "2021-07-07T16:52:40.258Z"
   },
   {
    "duration": 10,
    "start_time": "2021-07-07T16:52:46.251Z"
   },
   {
    "duration": 8,
    "start_time": "2021-07-07T16:52:47.182Z"
   },
   {
    "duration": 27,
    "start_time": "2021-07-07T16:53:20.391Z"
   },
   {
    "duration": 20,
    "start_time": "2021-07-07T16:53:22.022Z"
   },
   {
    "duration": 23,
    "start_time": "2021-07-07T16:53:23.690Z"
   },
   {
    "duration": 8,
    "start_time": "2021-07-07T16:53:24.261Z"
   },
   {
    "duration": 4,
    "start_time": "2021-07-07T16:53:38.733Z"
   },
   {
    "duration": 7,
    "start_time": "2021-07-07T16:53:40.445Z"
   },
   {
    "duration": 11,
    "start_time": "2021-07-07T16:53:41.348Z"
   },
   {
    "duration": 13,
    "start_time": "2021-07-07T16:53:45.250Z"
   },
   {
    "duration": 12,
    "start_time": "2021-07-07T16:53:45.467Z"
   },
   {
    "duration": 4,
    "start_time": "2021-07-07T16:55:32.704Z"
   },
   {
    "duration": 12,
    "start_time": "2021-07-07T16:55:49.012Z"
   },
   {
    "duration": 18,
    "start_time": "2021-07-07T16:55:49.547Z"
   },
   {
    "duration": 611,
    "start_time": "2021-07-07T16:58:35.156Z"
   },
   {
    "duration": 200,
    "start_time": "2021-07-07T16:58:35.770Z"
   },
   {
    "duration": 86,
    "start_time": "2021-07-07T16:58:35.972Z"
   },
   {
    "duration": 3,
    "start_time": "2021-07-07T16:58:36.060Z"
   },
   {
    "duration": 27,
    "start_time": "2021-07-07T16:58:36.065Z"
   },
   {
    "duration": 8,
    "start_time": "2021-07-07T16:58:36.094Z"
   },
   {
    "duration": 17,
    "start_time": "2021-07-07T16:58:36.103Z"
   },
   {
    "duration": 5,
    "start_time": "2021-07-07T16:58:36.123Z"
   },
   {
    "duration": 11,
    "start_time": "2021-07-07T16:58:36.130Z"
   },
   {
    "duration": 7,
    "start_time": "2021-07-07T16:58:36.143Z"
   },
   {
    "duration": 37,
    "start_time": "2021-07-07T16:58:36.152Z"
   },
   {
    "duration": 27,
    "start_time": "2021-07-07T16:58:36.191Z"
   },
   {
    "duration": 19,
    "start_time": "2021-07-07T16:58:36.219Z"
   },
   {
    "duration": 49,
    "start_time": "2021-07-07T16:58:36.240Z"
   },
   {
    "duration": 6,
    "start_time": "2021-07-07T16:58:36.291Z"
   },
   {
    "duration": 3,
    "start_time": "2021-07-07T16:58:36.299Z"
   },
   {
    "duration": 13,
    "start_time": "2021-07-07T16:58:36.304Z"
   },
   {
    "duration": 10,
    "start_time": "2021-07-07T16:58:36.319Z"
   },
   {
    "duration": 10,
    "start_time": "2021-07-07T16:58:36.331Z"
   },
   {
    "duration": 44,
    "start_time": "2021-07-07T16:58:36.343Z"
   },
   {
    "duration": 4,
    "start_time": "2021-07-07T16:58:36.388Z"
   },
   {
    "duration": 13,
    "start_time": "2021-07-07T16:58:36.394Z"
   },
   {
    "duration": 16,
    "start_time": "2021-07-07T16:58:36.410Z"
   },
   {
    "duration": 8,
    "start_time": "2021-07-07T17:02:31.629Z"
   },
   {
    "duration": 8,
    "start_time": "2021-07-07T17:02:34.308Z"
   },
   {
    "duration": 6,
    "start_time": "2021-07-07T17:05:13.483Z"
   },
   {
    "duration": 17,
    "start_time": "2021-07-07T17:05:20.606Z"
   },
   {
    "duration": 7,
    "start_time": "2021-07-07T17:05:34.638Z"
   },
   {
    "duration": 3,
    "start_time": "2021-07-07T17:06:31.883Z"
   },
   {
    "duration": 570,
    "start_time": "2021-07-07T17:06:37.165Z"
   },
   {
    "duration": 174,
    "start_time": "2021-07-07T17:06:37.737Z"
   },
   {
    "duration": 47,
    "start_time": "2021-07-07T17:06:37.913Z"
   },
   {
    "duration": 3,
    "start_time": "2021-07-07T17:06:37.962Z"
   },
   {
    "duration": 27,
    "start_time": "2021-07-07T17:06:37.967Z"
   },
   {
    "duration": 7,
    "start_time": "2021-07-07T17:06:37.996Z"
   },
   {
    "duration": 16,
    "start_time": "2021-07-07T17:06:38.005Z"
   },
   {
    "duration": 6,
    "start_time": "2021-07-07T17:06:38.024Z"
   },
   {
    "duration": 12,
    "start_time": "2021-07-07T17:06:38.031Z"
   },
   {
    "duration": 41,
    "start_time": "2021-07-07T17:06:38.045Z"
   },
   {
    "duration": 8,
    "start_time": "2021-07-07T17:06:38.088Z"
   },
   {
    "duration": 26,
    "start_time": "2021-07-07T17:06:38.098Z"
   },
   {
    "duration": 17,
    "start_time": "2021-07-07T17:06:38.126Z"
   },
   {
    "duration": 43,
    "start_time": "2021-07-07T17:06:38.144Z"
   },
   {
    "duration": 6,
    "start_time": "2021-07-07T17:06:38.188Z"
   },
   {
    "duration": 5,
    "start_time": "2021-07-07T17:06:38.195Z"
   },
   {
    "duration": 9,
    "start_time": "2021-07-07T17:06:38.201Z"
   },
   {
    "duration": 12,
    "start_time": "2021-07-07T17:06:38.212Z"
   },
   {
    "duration": 11,
    "start_time": "2021-07-07T17:06:38.226Z"
   },
   {
    "duration": 47,
    "start_time": "2021-07-07T17:06:38.239Z"
   },
   {
    "duration": 4,
    "start_time": "2021-07-07T17:06:38.288Z"
   },
   {
    "duration": 13,
    "start_time": "2021-07-07T17:06:38.293Z"
   },
   {
    "duration": 5,
    "start_time": "2021-07-07T17:06:38.309Z"
   },
   {
    "duration": 18,
    "start_time": "2021-07-07T17:06:38.325Z"
   },
   {
    "duration": 20,
    "start_time": "2021-07-07T17:07:02.805Z"
   },
   {
    "duration": 19,
    "start_time": "2021-07-07T17:07:08.527Z"
   },
   {
    "duration": 19,
    "start_time": "2021-07-07T17:07:12.758Z"
   },
   {
    "duration": 22,
    "start_time": "2021-07-07T17:07:17.497Z"
   },
   {
    "duration": 19,
    "start_time": "2021-07-07T17:07:19.645Z"
   },
   {
    "duration": 10,
    "start_time": "2021-07-07T17:07:34.239Z"
   },
   {
    "duration": 17,
    "start_time": "2021-07-07T17:07:54.144Z"
   },
   {
    "duration": 14,
    "start_time": "2021-07-07T17:08:14.357Z"
   },
   {
    "duration": 616,
    "start_time": "2021-07-07T17:08:45.254Z"
   },
   {
    "duration": 178,
    "start_time": "2021-07-07T17:08:45.872Z"
   },
   {
    "duration": 60,
    "start_time": "2021-07-07T17:08:46.054Z"
   },
   {
    "duration": 3,
    "start_time": "2021-07-07T17:08:46.116Z"
   },
   {
    "duration": 26,
    "start_time": "2021-07-07T17:08:46.121Z"
   },
   {
    "duration": 7,
    "start_time": "2021-07-07T17:08:46.149Z"
   },
   {
    "duration": 17,
    "start_time": "2021-07-07T17:08:46.158Z"
   },
   {
    "duration": 14,
    "start_time": "2021-07-07T17:08:46.176Z"
   },
   {
    "duration": 17,
    "start_time": "2021-07-07T17:08:46.193Z"
   },
   {
    "duration": 9,
    "start_time": "2021-07-07T17:08:46.211Z"
   },
   {
    "duration": 21,
    "start_time": "2021-07-07T17:08:46.221Z"
   },
   {
    "duration": 49,
    "start_time": "2021-07-07T17:08:46.244Z"
   },
   {
    "duration": 24,
    "start_time": "2021-07-07T17:08:46.295Z"
   },
   {
    "duration": 22,
    "start_time": "2021-07-07T17:08:46.321Z"
   },
   {
    "duration": 6,
    "start_time": "2021-07-07T17:08:46.345Z"
   },
   {
    "duration": 5,
    "start_time": "2021-07-07T17:08:46.353Z"
   },
   {
    "duration": 13,
    "start_time": "2021-07-07T17:08:46.386Z"
   },
   {
    "duration": 12,
    "start_time": "2021-07-07T17:08:46.402Z"
   },
   {
    "duration": 10,
    "start_time": "2021-07-07T17:08:46.415Z"
   },
   {
    "duration": 7,
    "start_time": "2021-07-07T17:08:46.427Z"
   },
   {
    "duration": 8,
    "start_time": "2021-07-07T17:08:46.435Z"
   },
   {
    "duration": 68,
    "start_time": "2021-07-07T17:08:46.446Z"
   },
   {
    "duration": 13,
    "start_time": "2021-07-07T17:08:46.516Z"
   },
   {
    "duration": 78,
    "start_time": "2021-07-07T17:08:46.530Z"
   },
   {
    "duration": 40,
    "start_time": "2021-07-07T17:09:08.185Z"
   },
   {
    "duration": 16,
    "start_time": "2021-07-07T17:09:19.324Z"
   },
   {
    "duration": 21,
    "start_time": "2021-07-07T17:09:23.290Z"
   },
   {
    "duration": 13,
    "start_time": "2021-07-07T17:09:54.812Z"
   },
   {
    "duration": 13,
    "start_time": "2021-07-07T17:10:02.039Z"
   },
   {
    "duration": 10,
    "start_time": "2021-07-07T17:10:29.632Z"
   },
   {
    "duration": 13,
    "start_time": "2021-07-07T17:10:52.372Z"
   },
   {
    "duration": 13,
    "start_time": "2021-07-07T17:11:17.270Z"
   },
   {
    "duration": 13,
    "start_time": "2021-07-07T17:14:59.284Z"
   },
   {
    "duration": 547,
    "start_time": "2021-07-07T17:18:52.403Z"
   },
   {
    "duration": 163,
    "start_time": "2021-07-07T17:18:52.952Z"
   },
   {
    "duration": 44,
    "start_time": "2021-07-07T17:18:53.117Z"
   },
   {
    "duration": 3,
    "start_time": "2021-07-07T17:18:53.162Z"
   },
   {
    "duration": 26,
    "start_time": "2021-07-07T17:18:53.167Z"
   },
   {
    "duration": 6,
    "start_time": "2021-07-07T17:18:53.195Z"
   },
   {
    "duration": 15,
    "start_time": "2021-07-07T17:18:53.203Z"
   },
   {
    "duration": 5,
    "start_time": "2021-07-07T17:18:53.220Z"
   },
   {
    "duration": 11,
    "start_time": "2021-07-07T17:18:53.228Z"
   },
   {
    "duration": 9,
    "start_time": "2021-07-07T17:18:53.241Z"
   },
   {
    "duration": 41,
    "start_time": "2021-07-07T17:18:53.252Z"
   },
   {
    "duration": 33,
    "start_time": "2021-07-07T17:18:53.295Z"
   },
   {
    "duration": 19,
    "start_time": "2021-07-07T17:18:53.330Z"
   },
   {
    "duration": 49,
    "start_time": "2021-07-07T17:18:53.350Z"
   },
   {
    "duration": 5,
    "start_time": "2021-07-07T17:18:53.401Z"
   },
   {
    "duration": 5,
    "start_time": "2021-07-07T17:18:53.408Z"
   },
   {
    "duration": 11,
    "start_time": "2021-07-07T17:18:53.414Z"
   },
   {
    "duration": 9,
    "start_time": "2021-07-07T17:18:53.427Z"
   },
   {
    "duration": 10,
    "start_time": "2021-07-07T17:18:53.437Z"
   },
   {
    "duration": 39,
    "start_time": "2021-07-07T17:18:53.448Z"
   },
   {
    "duration": 26,
    "start_time": "2021-07-07T17:18:55.799Z"
   },
   {
    "duration": 598,
    "start_time": "2021-07-07T17:20:17.862Z"
   },
   {
    "duration": 161,
    "start_time": "2021-07-07T17:20:18.462Z"
   },
   {
    "duration": 45,
    "start_time": "2021-07-07T17:20:18.626Z"
   },
   {
    "duration": 4,
    "start_time": "2021-07-07T17:20:18.673Z"
   },
   {
    "duration": 38,
    "start_time": "2021-07-07T17:20:26.877Z"
   },
   {
    "duration": 7,
    "start_time": "2021-07-07T17:20:37.405Z"
   },
   {
    "duration": 19,
    "start_time": "2021-07-07T17:20:51.534Z"
   },
   {
    "duration": 5,
    "start_time": "2021-07-07T17:20:57.228Z"
   },
   {
    "duration": 7,
    "start_time": "2021-07-07T17:21:08.235Z"
   },
   {
    "duration": 19,
    "start_time": "2021-07-07T17:21:42.158Z"
   },
   {
    "duration": 14,
    "start_time": "2021-07-07T17:21:50.225Z"
   },
   {
    "duration": 22,
    "start_time": "2021-07-07T17:22:54.104Z"
   },
   {
    "duration": 5,
    "start_time": "2021-07-07T17:22:56.371Z"
   },
   {
    "duration": 14,
    "start_time": "2021-07-07T17:22:58.316Z"
   },
   {
    "duration": 5,
    "start_time": "2021-07-07T17:22:58.493Z"
   },
   {
    "duration": 35,
    "start_time": "2021-07-07T17:22:59.666Z"
   },
   {
    "duration": 6,
    "start_time": "2021-07-07T17:23:02.410Z"
   },
   {
    "duration": 611,
    "start_time": "2021-07-07T17:24:59.664Z"
   },
   {
    "duration": 178,
    "start_time": "2021-07-07T17:25:01.945Z"
   },
   {
    "duration": 47,
    "start_time": "2021-07-07T17:25:02.125Z"
   },
   {
    "duration": 2,
    "start_time": "2021-07-07T17:25:07.903Z"
   },
   {
    "duration": 254,
    "start_time": "2021-07-07T17:25:08.232Z"
   },
   {
    "duration": 182,
    "start_time": "2021-07-07T17:25:08.671Z"
   },
   {
    "duration": 6,
    "start_time": "2021-07-07T17:25:13.104Z"
   },
   {
    "duration": 36,
    "start_time": "2021-07-07T17:25:13.662Z"
   },
   {
    "duration": 7,
    "start_time": "2021-07-07T17:25:14.528Z"
   },
   {
    "duration": 24,
    "start_time": "2021-07-07T17:25:27.982Z"
   },
   {
    "duration": 3,
    "start_time": "2021-07-07T17:25:48.982Z"
   },
   {
    "duration": 165,
    "start_time": "2021-07-07T17:25:48.987Z"
   },
   {
    "duration": 50,
    "start_time": "2021-07-07T17:25:49.154Z"
   },
   {
    "duration": 4,
    "start_time": "2021-07-07T17:25:49.206Z"
   },
   {
    "duration": 26,
    "start_time": "2021-07-07T17:25:49.212Z"
   },
   {
    "duration": 7,
    "start_time": "2021-07-07T17:25:49.240Z"
   },
   {
    "duration": 16,
    "start_time": "2021-07-07T17:25:49.249Z"
   },
   {
    "duration": 22,
    "start_time": "2021-07-07T17:25:49.266Z"
   },
   {
    "duration": 16,
    "start_time": "2021-07-07T17:25:49.291Z"
   },
   {
    "duration": 9,
    "start_time": "2021-07-07T17:25:49.309Z"
   },
   {
    "duration": 7,
    "start_time": "2021-07-07T17:25:49.319Z"
   },
   {
    "duration": 28,
    "start_time": "2021-07-07T17:25:49.328Z"
   },
   {
    "duration": 44,
    "start_time": "2021-07-07T17:25:49.357Z"
   },
   {
    "duration": 22,
    "start_time": "2021-07-07T17:25:49.403Z"
   },
   {
    "duration": 7,
    "start_time": "2021-07-07T17:25:49.427Z"
   },
   {
    "duration": 3,
    "start_time": "2021-07-07T17:25:49.436Z"
   },
   {
    "duration": 44,
    "start_time": "2021-07-07T17:25:49.441Z"
   },
   {
    "duration": 12,
    "start_time": "2021-07-07T17:25:49.488Z"
   },
   {
    "duration": 13,
    "start_time": "2021-07-07T17:25:49.502Z"
   },
   {
    "duration": 10,
    "start_time": "2021-07-07T17:25:49.516Z"
   },
   {
    "duration": 62,
    "start_time": "2021-07-07T17:25:49.527Z"
   },
   {
    "duration": 26,
    "start_time": "2021-07-07T17:26:51.809Z"
   },
   {
    "duration": 26,
    "start_time": "2021-07-07T17:26:55.759Z"
   },
   {
    "duration": 26,
    "start_time": "2021-07-07T17:27:04.501Z"
   },
   {
    "duration": 25,
    "start_time": "2021-07-07T17:28:24.859Z"
   },
   {
    "duration": 21,
    "start_time": "2021-07-07T17:28:55.250Z"
   },
   {
    "duration": 21,
    "start_time": "2021-07-07T17:28:58.885Z"
   },
   {
    "duration": 7,
    "start_time": "2021-07-07T17:45:40.972Z"
   },
   {
    "duration": 13,
    "start_time": "2021-07-07T17:45:42.529Z"
   },
   {
    "duration": 27,
    "start_time": "2021-07-07T17:45:51.026Z"
   },
   {
    "duration": 518,
    "start_time": "2021-07-07T17:46:15.532Z"
   },
   {
    "duration": 235,
    "start_time": "2021-07-07T17:46:16.053Z"
   },
   {
    "duration": 80,
    "start_time": "2021-07-07T17:46:16.292Z"
   },
   {
    "duration": 5,
    "start_time": "2021-07-07T17:46:16.373Z"
   },
   {
    "duration": 26,
    "start_time": "2021-07-07T17:46:16.380Z"
   },
   {
    "duration": 7,
    "start_time": "2021-07-07T17:46:16.408Z"
   },
   {
    "duration": 16,
    "start_time": "2021-07-07T17:46:16.418Z"
   },
   {
    "duration": 5,
    "start_time": "2021-07-07T17:46:16.436Z"
   },
   {
    "duration": 13,
    "start_time": "2021-07-07T17:46:16.442Z"
   },
   {
    "duration": 35,
    "start_time": "2021-07-07T17:46:16.456Z"
   },
   {
    "duration": 8,
    "start_time": "2021-07-07T17:46:16.493Z"
   },
   {
    "duration": 28,
    "start_time": "2021-07-07T17:46:16.502Z"
   },
   {
    "duration": 17,
    "start_time": "2021-07-07T17:46:16.532Z"
   },
   {
    "duration": 44,
    "start_time": "2021-07-07T17:46:16.551Z"
   },
   {
    "duration": 6,
    "start_time": "2021-07-07T17:46:16.597Z"
   },
   {
    "duration": 4,
    "start_time": "2021-07-07T17:46:16.605Z"
   },
   {
    "duration": 9,
    "start_time": "2021-07-07T17:46:16.610Z"
   },
   {
    "duration": 9,
    "start_time": "2021-07-07T17:46:16.621Z"
   },
   {
    "duration": 10,
    "start_time": "2021-07-07T17:46:16.632Z"
   },
   {
    "duration": 43,
    "start_time": "2021-07-07T17:46:16.644Z"
   },
   {
    "duration": 26,
    "start_time": "2021-07-07T17:46:16.689Z"
   },
   {
    "duration": 19,
    "start_time": "2021-07-07T17:46:16.718Z"
   },
   {
    "duration": 8,
    "start_time": "2021-07-07T17:46:16.738Z"
   },
   {
    "duration": 43,
    "start_time": "2021-07-07T17:46:16.747Z"
   },
   {
    "duration": 19,
    "start_time": "2021-07-07T17:46:16.791Z"
   },
   {
    "duration": 9,
    "start_time": "2021-07-07T17:46:16.812Z"
   },
   {
    "duration": 60,
    "start_time": "2021-07-07T17:46:16.822Z"
   },
   {
    "duration": -8,
    "start_time": "2021-07-07T17:46:16.892Z"
   },
   {
    "duration": 12,
    "start_time": "2021-07-07T17:48:47.707Z"
   },
   {
    "duration": 553,
    "start_time": "2021-07-07T18:10:09.350Z"
   },
   {
    "duration": 230,
    "start_time": "2021-07-07T18:10:09.905Z"
   },
   {
    "duration": 97,
    "start_time": "2021-07-07T18:10:10.137Z"
   },
   {
    "duration": 5,
    "start_time": "2021-07-07T18:10:10.236Z"
   },
   {
    "duration": 29,
    "start_time": "2021-07-07T18:10:10.242Z"
   },
   {
    "duration": 7,
    "start_time": "2021-07-07T18:10:10.272Z"
   },
   {
    "duration": 15,
    "start_time": "2021-07-07T18:10:10.281Z"
   },
   {
    "duration": 4,
    "start_time": "2021-07-07T18:10:10.299Z"
   },
   {
    "duration": 14,
    "start_time": "2021-07-07T18:10:10.305Z"
   },
   {
    "duration": 8,
    "start_time": "2021-07-07T18:10:10.321Z"
   },
   {
    "duration": 8,
    "start_time": "2021-07-07T18:10:10.331Z"
   },
   {
    "duration": 56,
    "start_time": "2021-07-07T18:10:10.341Z"
   },
   {
    "duration": 19,
    "start_time": "2021-07-07T18:10:10.399Z"
   },
   {
    "duration": 23,
    "start_time": "2021-07-07T18:10:10.419Z"
   },
   {
    "duration": 6,
    "start_time": "2021-07-07T18:10:10.444Z"
   },
   {
    "duration": 9,
    "start_time": "2021-07-07T18:10:10.451Z"
   },
   {
    "duration": 30,
    "start_time": "2021-07-07T18:10:10.462Z"
   },
   {
    "duration": 9,
    "start_time": "2021-07-07T18:10:10.494Z"
   },
   {
    "duration": 14,
    "start_time": "2021-07-07T18:10:10.505Z"
   },
   {
    "duration": 7,
    "start_time": "2021-07-07T18:10:10.521Z"
   },
   {
    "duration": 26,
    "start_time": "2021-07-07T18:10:10.530Z"
   },
   {
    "duration": 44,
    "start_time": "2021-07-07T18:10:10.558Z"
   },
   {
    "duration": 7,
    "start_time": "2021-07-07T18:10:10.605Z"
   },
   {
    "duration": 11,
    "start_time": "2021-07-07T18:10:10.614Z"
   },
   {
    "duration": 19,
    "start_time": "2021-07-07T18:10:10.626Z"
   },
   {
    "duration": 44,
    "start_time": "2021-07-07T18:10:10.646Z"
   },
   {
    "duration": 516,
    "start_time": "2021-07-07T18:14:00.826Z"
   },
   {
    "duration": 230,
    "start_time": "2021-07-07T18:14:01.344Z"
   },
   {
    "duration": 105,
    "start_time": "2021-07-07T18:14:01.576Z"
   },
   {
    "duration": 5,
    "start_time": "2021-07-07T18:14:01.683Z"
   },
   {
    "duration": 46,
    "start_time": "2021-07-07T18:14:01.690Z"
   },
   {
    "duration": 7,
    "start_time": "2021-07-07T18:14:01.738Z"
   },
   {
    "duration": 20,
    "start_time": "2021-07-07T18:14:01.747Z"
   },
   {
    "duration": 16,
    "start_time": "2021-07-07T18:14:01.769Z"
   },
   {
    "duration": 14,
    "start_time": "2021-07-07T18:14:01.787Z"
   },
   {
    "duration": 15,
    "start_time": "2021-07-07T18:14:01.803Z"
   },
   {
    "duration": 12,
    "start_time": "2021-07-07T18:14:01.820Z"
   },
   {
    "duration": 35,
    "start_time": "2021-07-07T18:14:01.833Z"
   },
   {
    "duration": 31,
    "start_time": "2021-07-07T18:14:01.869Z"
   },
   {
    "duration": 37,
    "start_time": "2021-07-07T18:14:01.902Z"
   },
   {
    "duration": 8,
    "start_time": "2021-07-07T18:14:01.942Z"
   },
   {
    "duration": 16,
    "start_time": "2021-07-07T18:14:01.952Z"
   },
   {
    "duration": 13,
    "start_time": "2021-07-07T18:14:01.970Z"
   },
   {
    "duration": 32,
    "start_time": "2021-07-07T18:14:01.985Z"
   },
   {
    "duration": 11,
    "start_time": "2021-07-07T18:14:02.019Z"
   },
   {
    "duration": 22,
    "start_time": "2021-07-07T18:14:02.031Z"
   },
   {
    "duration": 27,
    "start_time": "2021-07-07T18:14:02.055Z"
   },
   {
    "duration": 18,
    "start_time": "2021-07-07T18:14:02.084Z"
   },
   {
    "duration": 18,
    "start_time": "2021-07-07T18:14:02.106Z"
   },
   {
    "duration": 11,
    "start_time": "2021-07-07T18:14:02.126Z"
   },
   {
    "duration": 21,
    "start_time": "2021-07-07T18:14:02.138Z"
   },
   {
    "duration": 32,
    "start_time": "2021-07-07T18:14:02.161Z"
   },
   {
    "duration": 28,
    "start_time": "2021-07-07T18:14:44.295Z"
   },
   {
    "duration": 6,
    "start_time": "2021-07-07T18:15:05.834Z"
   },
   {
    "duration": 511,
    "start_time": "2021-07-07T18:15:41.541Z"
   },
   {
    "duration": 183,
    "start_time": "2021-07-07T18:15:42.054Z"
   },
   {
    "duration": 50,
    "start_time": "2021-07-07T18:15:42.239Z"
   },
   {
    "duration": 5,
    "start_time": "2021-07-07T18:15:42.291Z"
   },
   {
    "duration": 48,
    "start_time": "2021-07-07T18:15:42.297Z"
   },
   {
    "duration": 8,
    "start_time": "2021-07-07T18:15:42.346Z"
   },
   {
    "duration": 17,
    "start_time": "2021-07-07T18:15:42.356Z"
   },
   {
    "duration": 15,
    "start_time": "2021-07-07T18:15:42.375Z"
   },
   {
    "duration": 12,
    "start_time": "2021-07-07T18:15:42.392Z"
   },
   {
    "duration": 7,
    "start_time": "2021-07-07T18:15:42.406Z"
   },
   {
    "duration": 7,
    "start_time": "2021-07-07T18:15:42.415Z"
   },
   {
    "duration": 29,
    "start_time": "2021-07-07T18:15:42.423Z"
   },
   {
    "duration": 43,
    "start_time": "2021-07-07T18:15:42.453Z"
   },
   {
    "duration": 18,
    "start_time": "2021-07-07T18:15:42.497Z"
   },
   {
    "duration": 6,
    "start_time": "2021-07-07T18:15:42.516Z"
   },
   {
    "duration": 3,
    "start_time": "2021-07-07T18:15:42.523Z"
   },
   {
    "duration": 18,
    "start_time": "2021-07-07T18:15:42.528Z"
   },
   {
    "duration": 10,
    "start_time": "2021-07-07T18:15:42.547Z"
   },
   {
    "duration": 36,
    "start_time": "2021-07-07T18:15:42.559Z"
   },
   {
    "duration": 8,
    "start_time": "2021-07-07T18:15:42.597Z"
   },
   {
    "duration": 28,
    "start_time": "2021-07-07T18:15:42.606Z"
   },
   {
    "duration": 52,
    "start_time": "2021-07-07T18:15:42.635Z"
   },
   {
    "duration": 7,
    "start_time": "2021-07-07T18:15:42.690Z"
   },
   {
    "duration": 10,
    "start_time": "2021-07-07T18:15:42.699Z"
   },
   {
    "duration": 19,
    "start_time": "2021-07-07T18:15:42.711Z"
   },
   {
    "duration": 9,
    "start_time": "2021-07-07T18:15:42.732Z"
   },
   {
    "duration": 5,
    "start_time": "2021-07-07T18:15:42.743Z"
   },
   {
    "duration": 1450,
    "start_time": "2021-07-07T18:15:51.984Z"
   },
   {
    "duration": 161,
    "start_time": "2021-07-07T18:15:53.435Z"
   },
   {
    "duration": 124,
    "start_time": "2021-07-07T18:15:53.598Z"
   },
   {
    "duration": 5,
    "start_time": "2021-07-07T18:15:53.724Z"
   },
   {
    "duration": 34,
    "start_time": "2021-07-07T18:15:53.730Z"
   },
   {
    "duration": 7,
    "start_time": "2021-07-07T18:15:53.765Z"
   },
   {
    "duration": 15,
    "start_time": "2021-07-07T18:15:53.773Z"
   },
   {
    "duration": 5,
    "start_time": "2021-07-07T18:15:53.791Z"
   },
   {
    "duration": 19,
    "start_time": "2021-07-07T18:15:53.798Z"
   },
   {
    "duration": 9,
    "start_time": "2021-07-07T18:15:53.818Z"
   },
   {
    "duration": 19,
    "start_time": "2021-07-07T18:15:53.828Z"
   },
   {
    "duration": 27,
    "start_time": "2021-07-07T18:15:53.848Z"
   },
   {
    "duration": 16,
    "start_time": "2021-07-07T18:15:53.884Z"
   },
   {
    "duration": 29,
    "start_time": "2021-07-07T18:15:53.901Z"
   },
   {
    "duration": 5,
    "start_time": "2021-07-07T18:15:53.932Z"
   },
   {
    "duration": 15,
    "start_time": "2021-07-07T18:15:53.939Z"
   },
   {
    "duration": 13,
    "start_time": "2021-07-07T18:15:53.956Z"
   },
   {
    "duration": 20,
    "start_time": "2021-07-07T18:15:53.971Z"
   },
   {
    "duration": 14,
    "start_time": "2021-07-07T18:15:53.992Z"
   },
   {
    "duration": 9,
    "start_time": "2021-07-07T18:15:54.009Z"
   },
   {
    "duration": 28,
    "start_time": "2021-07-07T18:15:54.020Z"
   },
   {
    "duration": 50,
    "start_time": "2021-07-07T18:15:54.051Z"
   },
   {
    "duration": 8,
    "start_time": "2021-07-07T18:15:54.105Z"
   },
   {
    "duration": 11,
    "start_time": "2021-07-07T18:15:54.115Z"
   },
   {
    "duration": 20,
    "start_time": "2021-07-07T18:15:54.128Z"
   },
   {
    "duration": 13,
    "start_time": "2021-07-07T18:15:54.184Z"
   },
   {
    "duration": 7,
    "start_time": "2021-07-07T18:15:54.199Z"
   },
   {
    "duration": 7,
    "start_time": "2021-07-07T18:17:08.042Z"
   },
   {
    "duration": 8,
    "start_time": "2021-07-07T18:17:21.008Z"
   },
   {
    "duration": 7,
    "start_time": "2021-07-07T18:17:29.003Z"
   },
   {
    "duration": 8,
    "start_time": "2021-07-07T18:17:32.492Z"
   },
   {
    "duration": 9,
    "start_time": "2021-07-07T18:17:41.758Z"
   },
   {
    "duration": 255,
    "start_time": "2021-07-07T18:20:20.897Z"
   },
   {
    "duration": 173,
    "start_time": "2021-07-07T18:20:26.636Z"
   },
   {
    "duration": 7,
    "start_time": "2021-07-07T18:21:47.164Z"
   },
   {
    "duration": 254,
    "start_time": "2021-07-07T18:23:08.703Z"
   },
   {
    "duration": 21,
    "start_time": "2021-07-07T18:23:22.506Z"
   },
   {
    "duration": 315,
    "start_time": "2021-07-07T18:25:54.801Z"
   },
   {
    "duration": 34,
    "start_time": "2021-07-07T18:26:51.817Z"
   },
   {
    "duration": 327,
    "start_time": "2021-07-07T18:26:56.147Z"
   },
   {
    "duration": 342,
    "start_time": "2021-07-07T18:27:15.887Z"
   },
   {
    "duration": 302,
    "start_time": "2021-07-07T18:28:18.569Z"
   },
   {
    "duration": 226,
    "start_time": "2021-07-07T18:29:20.879Z"
   },
   {
    "duration": 207,
    "start_time": "2021-07-07T18:29:58.114Z"
   },
   {
    "duration": 140,
    "start_time": "2021-07-07T18:32:04.372Z"
   },
   {
    "duration": 158,
    "start_time": "2021-07-07T18:32:32.508Z"
   },
   {
    "duration": 145,
    "start_time": "2021-07-07T18:32:41.365Z"
   },
   {
    "duration": 132,
    "start_time": "2021-07-07T18:32:45.199Z"
   },
   {
    "duration": 11,
    "start_time": "2021-07-07T18:35:24.679Z"
   },
   {
    "duration": 268,
    "start_time": "2021-07-07T18:36:16.145Z"
   },
   {
    "duration": 227,
    "start_time": "2021-07-07T18:37:04.918Z"
   },
   {
    "duration": 3,
    "start_time": "2021-07-07T18:37:33.012Z"
   },
   {
    "duration": 671,
    "start_time": "2021-07-07T18:37:38.295Z"
   },
   {
    "duration": 54,
    "start_time": "2021-07-07T18:37:53.406Z"
   },
   {
    "duration": 631,
    "start_time": "2021-07-07T18:37:56.463Z"
   },
   {
    "duration": 19,
    "start_time": "2021-07-07T18:39:40.535Z"
   },
   {
    "duration": 20,
    "start_time": "2021-07-07T18:40:12.236Z"
   },
   {
    "duration": 633,
    "start_time": "2021-07-07T18:42:00.398Z"
   },
   {
    "duration": 218,
    "start_time": "2021-07-07T18:42:01.033Z"
   },
   {
    "duration": 49,
    "start_time": "2021-07-07T18:42:01.253Z"
   },
   {
    "duration": 5,
    "start_time": "2021-07-07T18:42:01.303Z"
   },
   {
    "duration": 27,
    "start_time": "2021-07-07T18:42:01.310Z"
   },
   {
    "duration": 8,
    "start_time": "2021-07-07T18:42:01.339Z"
   },
   {
    "duration": 20,
    "start_time": "2021-07-07T18:42:01.348Z"
   },
   {
    "duration": 6,
    "start_time": "2021-07-07T18:42:01.386Z"
   },
   {
    "duration": 16,
    "start_time": "2021-07-07T18:42:01.394Z"
   },
   {
    "duration": 9,
    "start_time": "2021-07-07T18:42:01.411Z"
   },
   {
    "duration": 11,
    "start_time": "2021-07-07T18:42:01.421Z"
   },
   {
    "duration": 31,
    "start_time": "2021-07-07T18:42:01.434Z"
   },
   {
    "duration": 18,
    "start_time": "2021-07-07T18:42:01.485Z"
   },
   {
    "duration": 23,
    "start_time": "2021-07-07T18:42:01.505Z"
   },
   {
    "duration": 6,
    "start_time": "2021-07-07T18:42:01.530Z"
   },
   {
    "duration": 10,
    "start_time": "2021-07-07T18:42:01.538Z"
   },
   {
    "duration": 13,
    "start_time": "2021-07-07T18:42:01.550Z"
   },
   {
    "duration": 24,
    "start_time": "2021-07-07T18:42:01.564Z"
   },
   {
    "duration": 20,
    "start_time": "2021-07-07T18:42:01.590Z"
   },
   {
    "duration": 8,
    "start_time": "2021-07-07T18:42:01.611Z"
   },
   {
    "duration": 31,
    "start_time": "2021-07-07T18:42:01.620Z"
   },
   {
    "duration": 39,
    "start_time": "2021-07-07T18:42:01.653Z"
   },
   {
    "duration": 8,
    "start_time": "2021-07-07T18:42:01.696Z"
   },
   {
    "duration": 13,
    "start_time": "2021-07-07T18:42:01.705Z"
   },
   {
    "duration": 20,
    "start_time": "2021-07-07T18:42:01.720Z"
   },
   {
    "duration": 12,
    "start_time": "2021-07-07T18:42:01.741Z"
   },
   {
    "duration": 35,
    "start_time": "2021-07-07T18:42:01.755Z"
   },
   {
    "duration": 14,
    "start_time": "2021-07-07T18:42:01.792Z"
   },
   {
    "duration": 188,
    "start_time": "2021-07-07T18:42:01.808Z"
   },
   {
    "duration": 19,
    "start_time": "2021-07-07T18:42:01.998Z"
   },
   {
    "duration": 175,
    "start_time": "2021-07-07T18:42:02.019Z"
   },
   {
    "duration": 134,
    "start_time": "2021-07-07T18:42:02.196Z"
   },
   {
    "duration": 10,
    "start_time": "2021-07-07T18:42:02.331Z"
   },
   {
    "duration": 19,
    "start_time": "2021-07-07T18:42:02.343Z"
   },
   {
    "duration": 628,
    "start_time": "2021-07-07T18:46:30.701Z"
   },
   {
    "duration": 183,
    "start_time": "2021-07-07T18:46:31.331Z"
   },
   {
    "duration": 48,
    "start_time": "2021-07-07T18:46:31.516Z"
   },
   {
    "duration": 5,
    "start_time": "2021-07-07T18:46:31.566Z"
   },
   {
    "duration": 28,
    "start_time": "2021-07-07T18:46:31.572Z"
   },
   {
    "duration": 8,
    "start_time": "2021-07-07T18:46:31.602Z"
   },
   {
    "duration": 19,
    "start_time": "2021-07-07T18:46:31.611Z"
   },
   {
    "duration": 6,
    "start_time": "2021-07-07T18:46:31.633Z"
   },
   {
    "duration": 17,
    "start_time": "2021-07-07T18:46:31.642Z"
   },
   {
    "duration": 10,
    "start_time": "2021-07-07T18:46:31.684Z"
   },
   {
    "duration": 9,
    "start_time": "2021-07-07T18:46:31.695Z"
   },
   {
    "duration": 28,
    "start_time": "2021-07-07T18:46:31.705Z"
   },
   {
    "duration": 18,
    "start_time": "2021-07-07T18:46:31.735Z"
   },
   {
    "duration": 48,
    "start_time": "2021-07-07T18:46:31.755Z"
   },
   {
    "duration": 6,
    "start_time": "2021-07-07T18:46:31.804Z"
   },
   {
    "duration": 4,
    "start_time": "2021-07-07T18:46:31.812Z"
   },
   {
    "duration": 9,
    "start_time": "2021-07-07T18:46:31.817Z"
   },
   {
    "duration": 10,
    "start_time": "2021-07-07T18:46:31.827Z"
   },
   {
    "duration": 12,
    "start_time": "2021-07-07T18:46:31.838Z"
   },
   {
    "duration": 39,
    "start_time": "2021-07-07T18:46:31.851Z"
   },
   {
    "duration": 24,
    "start_time": "2021-07-07T18:46:31.892Z"
   },
   {
    "duration": 15,
    "start_time": "2021-07-07T18:46:31.918Z"
   },
   {
    "duration": 7,
    "start_time": "2021-07-07T18:46:31.936Z"
   },
   {
    "duration": 8,
    "start_time": "2021-07-07T18:46:31.944Z"
   },
   {
    "duration": 19,
    "start_time": "2021-07-07T18:46:31.984Z"
   },
   {
    "duration": 10,
    "start_time": "2021-07-07T18:46:32.004Z"
   },
   {
    "duration": 5,
    "start_time": "2021-07-07T18:46:32.016Z"
   },
   {
    "duration": 9,
    "start_time": "2021-07-07T18:46:32.023Z"
   },
   {
    "duration": 199,
    "start_time": "2021-07-07T18:46:32.033Z"
   },
   {
    "duration": 19,
    "start_time": "2021-07-07T18:46:32.234Z"
   },
   {
    "duration": 159,
    "start_time": "2021-07-07T18:46:32.255Z"
   },
   {
    "duration": 134,
    "start_time": "2021-07-07T18:46:32.416Z"
   },
   {
    "duration": 10,
    "start_time": "2021-07-07T18:46:32.552Z"
   },
   {
    "duration": 34,
    "start_time": "2021-07-07T18:46:32.563Z"
   },
   {
    "duration": 1039,
    "start_time": "2021-07-08T08:41:09.419Z"
   },
   {
    "duration": 333,
    "start_time": "2021-07-08T08:41:10.459Z"
   },
   {
    "duration": 173,
    "start_time": "2021-07-08T08:41:10.794Z"
   },
   {
    "duration": 5,
    "start_time": "2021-07-08T08:41:10.968Z"
   },
   {
    "duration": 25,
    "start_time": "2021-07-08T08:41:10.975Z"
   },
   {
    "duration": 9,
    "start_time": "2021-07-08T08:41:11.002Z"
   },
   {
    "duration": 18,
    "start_time": "2021-07-08T08:41:11.013Z"
   },
   {
    "duration": 6,
    "start_time": "2021-07-08T08:41:11.033Z"
   },
   {
    "duration": 44,
    "start_time": "2021-07-08T08:41:11.042Z"
   },
   {
    "duration": 10,
    "start_time": "2021-07-08T08:41:11.088Z"
   },
   {
    "duration": 9,
    "start_time": "2021-07-08T08:41:11.100Z"
   },
   {
    "duration": 27,
    "start_time": "2021-07-08T08:41:11.111Z"
   },
   {
    "duration": 46,
    "start_time": "2021-07-08T08:41:11.140Z"
   },
   {
    "duration": 17,
    "start_time": "2021-07-08T08:41:11.187Z"
   },
   {
    "duration": 6,
    "start_time": "2021-07-08T08:41:11.206Z"
   },
   {
    "duration": 5,
    "start_time": "2021-07-08T08:41:11.213Z"
   },
   {
    "duration": 10,
    "start_time": "2021-07-08T08:41:11.219Z"
   },
   {
    "duration": 9,
    "start_time": "2021-07-08T08:41:11.230Z"
   },
   {
    "duration": 45,
    "start_time": "2021-07-08T08:41:11.241Z"
   },
   {
    "duration": 7,
    "start_time": "2021-07-08T08:41:11.287Z"
   },
   {
    "duration": 24,
    "start_time": "2021-07-08T08:41:11.296Z"
   },
   {
    "duration": 16,
    "start_time": "2021-07-08T08:41:11.322Z"
   },
   {
    "duration": 7,
    "start_time": "2021-07-08T08:41:11.341Z"
   },
   {
    "duration": 41,
    "start_time": "2021-07-08T08:41:11.349Z"
   },
   {
    "duration": 17,
    "start_time": "2021-07-08T08:41:11.391Z"
   },
   {
    "duration": 9,
    "start_time": "2021-07-08T08:41:11.410Z"
   },
   {
    "duration": 5,
    "start_time": "2021-07-08T08:41:11.421Z"
   },
   {
    "duration": 6,
    "start_time": "2021-07-08T08:41:11.428Z"
   },
   {
    "duration": 198,
    "start_time": "2021-07-08T08:41:11.435Z"
   },
   {
    "duration": 18,
    "start_time": "2021-07-08T08:41:11.635Z"
   },
   {
    "duration": 155,
    "start_time": "2021-07-08T08:41:11.655Z"
   },
   {
    "duration": 138,
    "start_time": "2021-07-08T08:41:11.811Z"
   },
   {
    "duration": 10,
    "start_time": "2021-07-08T08:41:11.950Z"
   },
   {
    "duration": 29,
    "start_time": "2021-07-08T08:41:11.961Z"
   },
   {
    "duration": 171,
    "start_time": "2021-07-08T08:47:44.522Z"
   },
   {
    "duration": 124,
    "start_time": "2021-07-08T08:47:46.872Z"
   },
   {
    "duration": 191,
    "start_time": "2021-07-08T08:47:58.148Z"
   },
   {
    "duration": 191,
    "start_time": "2021-07-08T08:48:07.412Z"
   },
   {
    "duration": 261,
    "start_time": "2021-07-08T08:48:10.385Z"
   },
   {
    "duration": 255,
    "start_time": "2021-07-08T08:48:14.494Z"
   },
   {
    "duration": 219,
    "start_time": "2021-07-08T08:48:22.752Z"
   },
   {
    "duration": 173,
    "start_time": "2021-07-08T08:49:06.395Z"
   },
   {
    "duration": 180,
    "start_time": "2021-07-08T08:49:21.011Z"
   },
   {
    "duration": 6,
    "start_time": "2021-07-08T08:50:31.697Z"
   },
   {
    "duration": 10,
    "start_time": "2021-07-08T08:50:47.394Z"
   },
   {
    "duration": 11,
    "start_time": "2021-07-08T08:53:49.332Z"
   },
   {
    "duration": 171,
    "start_time": "2021-07-08T08:54:28.408Z"
   },
   {
    "duration": 636,
    "start_time": "2021-07-08T09:02:48.385Z"
   },
   {
    "duration": 227,
    "start_time": "2021-07-08T09:02:49.023Z"
   },
   {
    "duration": 104,
    "start_time": "2021-07-08T09:02:49.252Z"
   },
   {
    "duration": 5,
    "start_time": "2021-07-08T09:02:49.358Z"
   },
   {
    "duration": 27,
    "start_time": "2021-07-08T09:02:49.365Z"
   },
   {
    "duration": 8,
    "start_time": "2021-07-08T09:02:49.394Z"
   },
   {
    "duration": 18,
    "start_time": "2021-07-08T09:02:49.404Z"
   },
   {
    "duration": 6,
    "start_time": "2021-07-08T09:02:49.424Z"
   },
   {
    "duration": 11,
    "start_time": "2021-07-08T09:02:49.433Z"
   },
   {
    "duration": 13,
    "start_time": "2021-07-08T09:02:49.485Z"
   },
   {
    "duration": 9,
    "start_time": "2021-07-08T09:02:49.500Z"
   },
   {
    "duration": 38,
    "start_time": "2021-07-08T09:02:49.511Z"
   },
   {
    "duration": 42,
    "start_time": "2021-07-08T09:02:49.551Z"
   },
   {
    "duration": 21,
    "start_time": "2021-07-08T09:02:49.594Z"
   },
   {
    "duration": 6,
    "start_time": "2021-07-08T09:02:49.616Z"
   },
   {
    "duration": 3,
    "start_time": "2021-07-08T09:02:49.623Z"
   },
   {
    "duration": 9,
    "start_time": "2021-07-08T09:02:49.628Z"
   },
   {
    "duration": 52,
    "start_time": "2021-07-08T09:02:49.638Z"
   },
   {
    "duration": 11,
    "start_time": "2021-07-08T09:02:49.692Z"
   },
   {
    "duration": 8,
    "start_time": "2021-07-08T09:02:49.704Z"
   },
   {
    "duration": 27,
    "start_time": "2021-07-08T09:02:49.713Z"
   },
   {
    "duration": 59,
    "start_time": "2021-07-08T09:02:49.741Z"
   },
   {
    "duration": 8,
    "start_time": "2021-07-08T09:02:49.803Z"
   },
   {
    "duration": 14,
    "start_time": "2021-07-08T09:02:49.813Z"
   },
   {
    "duration": 20,
    "start_time": "2021-07-08T09:02:49.829Z"
   },
   {
    "duration": 44,
    "start_time": "2021-07-08T09:02:49.851Z"
   },
   {
    "duration": 14,
    "start_time": "2021-07-08T09:02:49.896Z"
   },
   {
    "duration": 221,
    "start_time": "2021-07-08T09:02:49.912Z"
   },
   {
    "duration": 6,
    "start_time": "2021-07-08T09:02:50.134Z"
   },
   {
    "duration": 206,
    "start_time": "2021-07-08T09:02:50.142Z"
   },
   {
    "duration": 19,
    "start_time": "2021-07-08T09:02:50.350Z"
   },
   {
    "duration": 21,
    "start_time": "2021-07-08T09:02:50.370Z"
   },
   {
    "duration": 20,
    "start_time": "2021-07-08T09:02:50.393Z"
   },
   {
    "duration": 5,
    "start_time": "2021-07-08T09:02:50.414Z"
   },
   {
    "duration": 5,
    "start_time": "2021-07-08T09:03:34.173Z"
   },
   {
    "duration": 6,
    "start_time": "2021-07-08T09:04:49.062Z"
   },
   {
    "duration": 9,
    "start_time": "2021-07-08T09:04:50.118Z"
   },
   {
    "duration": 14,
    "start_time": "2021-07-08T09:04:58.512Z"
   },
   {
    "duration": 9,
    "start_time": "2021-07-08T09:05:10.988Z"
   },
   {
    "duration": 11,
    "start_time": "2021-07-08T09:05:11.743Z"
   },
   {
    "duration": 7,
    "start_time": "2021-07-08T09:05:25.677Z"
   },
   {
    "duration": 13,
    "start_time": "2021-07-08T09:05:47.189Z"
   },
   {
    "duration": 13,
    "start_time": "2021-07-08T09:05:54.755Z"
   },
   {
    "duration": 4,
    "start_time": "2021-07-08T09:06:29.189Z"
   },
   {
    "duration": 244,
    "start_time": "2021-07-08T09:06:29.195Z"
   },
   {
    "duration": 91,
    "start_time": "2021-07-08T09:06:29.441Z"
   },
   {
    "duration": 4,
    "start_time": "2021-07-08T09:06:29.534Z"
   },
   {
    "duration": 28,
    "start_time": "2021-07-08T09:06:29.540Z"
   },
   {
    "duration": 6,
    "start_time": "2021-07-08T09:06:29.570Z"
   },
   {
    "duration": 18,
    "start_time": "2021-07-08T09:06:29.578Z"
   },
   {
    "duration": 5,
    "start_time": "2021-07-08T09:06:29.597Z"
   },
   {
    "duration": 13,
    "start_time": "2021-07-08T09:06:29.605Z"
   },
   {
    "duration": 8,
    "start_time": "2021-07-08T09:06:29.620Z"
   },
   {
    "duration": 7,
    "start_time": "2021-07-08T09:06:29.630Z"
   },
   {
    "duration": 63,
    "start_time": "2021-07-08T09:06:29.639Z"
   },
   {
    "duration": 17,
    "start_time": "2021-07-08T09:06:29.704Z"
   },
   {
    "duration": 20,
    "start_time": "2021-07-08T09:06:29.723Z"
   },
   {
    "duration": 6,
    "start_time": "2021-07-08T09:06:29.745Z"
   },
   {
    "duration": 3,
    "start_time": "2021-07-08T09:06:29.752Z"
   },
   {
    "duration": 7,
    "start_time": "2021-07-08T09:06:29.785Z"
   },
   {
    "duration": 11,
    "start_time": "2021-07-08T09:06:29.794Z"
   },
   {
    "duration": 15,
    "start_time": "2021-07-08T09:06:29.807Z"
   },
   {
    "duration": 8,
    "start_time": "2021-07-08T09:06:29.823Z"
   },
   {
    "duration": 70,
    "start_time": "2021-07-08T09:06:29.832Z"
   },
   {
    "duration": 17,
    "start_time": "2021-07-08T09:06:29.903Z"
   },
   {
    "duration": 9,
    "start_time": "2021-07-08T09:06:29.921Z"
   },
   {
    "duration": 9,
    "start_time": "2021-07-08T09:06:29.932Z"
   },
   {
    "duration": 57,
    "start_time": "2021-07-08T09:06:29.942Z"
   },
   {
    "duration": 11,
    "start_time": "2021-07-08T09:06:30.001Z"
   },
   {
    "duration": 19,
    "start_time": "2021-07-08T09:06:30.016Z"
   },
   {
    "duration": 217,
    "start_time": "2021-07-08T09:06:30.037Z"
   },
   {
    "duration": 6,
    "start_time": "2021-07-08T09:06:30.255Z"
   },
   {
    "duration": 205,
    "start_time": "2021-07-08T09:06:30.263Z"
   },
   {
    "duration": 27,
    "start_time": "2021-07-08T09:06:30.470Z"
   },
   {
    "duration": 11,
    "start_time": "2021-07-08T09:06:30.500Z"
   },
   {
    "duration": 31,
    "start_time": "2021-07-08T09:06:30.513Z"
   },
   {
    "duration": 18,
    "start_time": "2021-07-08T09:06:30.546Z"
   },
   {
    "duration": 11,
    "start_time": "2021-07-08T09:06:30.566Z"
   },
   {
    "duration": 19,
    "start_time": "2021-07-08T09:06:30.579Z"
   },
   {
    "duration": 20,
    "start_time": "2021-07-08T09:06:49.466Z"
   },
   {
    "duration": 9,
    "start_time": "2021-07-08T09:06:51.994Z"
   },
   {
    "duration": 20,
    "start_time": "2021-07-08T09:06:52.273Z"
   },
   {
    "duration": 246,
    "start_time": "2021-07-08T09:10:21.272Z"
   },
   {
    "duration": 84,
    "start_time": "2021-07-08T09:10:21.436Z"
   },
   {
    "duration": 7,
    "start_time": "2021-07-08T09:10:37.608Z"
   },
   {
    "duration": 189,
    "start_time": "2021-07-08T09:10:38.573Z"
   },
   {
    "duration": 185,
    "start_time": "2021-07-08T09:10:53.181Z"
   },
   {
    "duration": 11,
    "start_time": "2021-07-08T09:10:59.549Z"
   },
   {
    "duration": 42,
    "start_time": "2021-07-08T09:10:59.709Z"
   },
   {
    "duration": 12,
    "start_time": "2021-07-08T09:11:02.857Z"
   },
   {
    "duration": 28,
    "start_time": "2021-07-08T09:11:10.062Z"
   },
   {
    "duration": 249,
    "start_time": "2021-07-08T09:11:37.388Z"
   },
   {
    "duration": 232,
    "start_time": "2021-07-08T09:11:49.485Z"
   },
   {
    "duration": 453,
    "start_time": "2021-07-08T09:12:01.546Z"
   },
   {
    "duration": 440,
    "start_time": "2021-07-08T09:12:12.347Z"
   },
   {
    "duration": 213,
    "start_time": "2021-07-08T09:13:32.196Z"
   },
   {
    "duration": 172,
    "start_time": "2021-07-08T09:14:07.400Z"
   },
   {
    "duration": 185,
    "start_time": "2021-07-08T09:14:14.905Z"
   },
   {
    "duration": 209,
    "start_time": "2021-07-08T09:14:40.109Z"
   },
   {
    "duration": 201,
    "start_time": "2021-07-08T09:14:54.506Z"
   },
   {
    "duration": 622,
    "start_time": "2021-07-08T09:18:14.497Z"
   },
   {
    "duration": 220,
    "start_time": "2021-07-08T09:18:15.121Z"
   },
   {
    "duration": 79,
    "start_time": "2021-07-08T09:18:15.343Z"
   },
   {
    "duration": 4,
    "start_time": "2021-07-08T09:18:15.425Z"
   },
   {
    "duration": 24,
    "start_time": "2021-07-08T09:18:15.431Z"
   },
   {
    "duration": 8,
    "start_time": "2021-07-08T09:18:15.457Z"
   },
   {
    "duration": 16,
    "start_time": "2021-07-08T09:18:15.466Z"
   },
   {
    "duration": 5,
    "start_time": "2021-07-08T09:18:15.484Z"
   },
   {
    "duration": 10,
    "start_time": "2021-07-08T09:18:15.493Z"
   },
   {
    "duration": 8,
    "start_time": "2021-07-08T09:18:15.504Z"
   },
   {
    "duration": 7,
    "start_time": "2021-07-08T09:18:15.513Z"
   },
   {
    "duration": 26,
    "start_time": "2021-07-08T09:18:15.522Z"
   },
   {
    "duration": 49,
    "start_time": "2021-07-08T09:18:15.550Z"
   },
   {
    "duration": 21,
    "start_time": "2021-07-08T09:18:15.601Z"
   },
   {
    "duration": 8,
    "start_time": "2021-07-08T09:18:15.624Z"
   },
   {
    "duration": 3,
    "start_time": "2021-07-08T09:18:15.634Z"
   },
   {
    "duration": 8,
    "start_time": "2021-07-08T09:18:15.639Z"
   },
   {
    "duration": 45,
    "start_time": "2021-07-08T09:18:15.649Z"
   },
   {
    "duration": 13,
    "start_time": "2021-07-08T09:18:15.696Z"
   },
   {
    "duration": 10,
    "start_time": "2021-07-08T09:18:15.711Z"
   },
   {
    "duration": 64,
    "start_time": "2021-07-08T09:18:15.722Z"
   },
   {
    "duration": 19,
    "start_time": "2021-07-08T09:18:15.788Z"
   },
   {
    "duration": 9,
    "start_time": "2021-07-08T09:18:15.809Z"
   },
   {
    "duration": 9,
    "start_time": "2021-07-08T09:18:15.820Z"
   },
   {
    "duration": 18,
    "start_time": "2021-07-08T09:18:15.831Z"
   },
   {
    "duration": 43,
    "start_time": "2021-07-08T09:18:15.851Z"
   },
   {
    "duration": 12,
    "start_time": "2021-07-08T09:18:15.897Z"
   },
   {
    "duration": 219,
    "start_time": "2021-07-08T09:18:15.911Z"
   },
   {
    "duration": 8,
    "start_time": "2021-07-08T09:18:16.132Z"
   },
   {
    "duration": 199,
    "start_time": "2021-07-08T09:18:16.141Z"
   },
   {
    "duration": 18,
    "start_time": "2021-07-08T09:18:16.341Z"
   },
   {
    "duration": 24,
    "start_time": "2021-07-08T09:18:16.361Z"
   },
   {
    "duration": 24,
    "start_time": "2021-07-08T09:18:16.387Z"
   },
   {
    "duration": 211,
    "start_time": "2021-07-08T09:18:16.413Z"
   },
   {
    "duration": 18,
    "start_time": "2021-07-08T09:18:16.626Z"
   },
   {
    "duration": 596,
    "start_time": "2021-07-08T10:06:33.623Z"
   },
   {
    "duration": 181,
    "start_time": "2021-07-08T10:06:34.221Z"
   },
   {
    "duration": 176,
    "start_time": "2021-07-08T10:06:34.635Z"
   },
   {
    "duration": 239,
    "start_time": "2021-07-08T10:06:55.572Z"
   },
   {
    "duration": 6,
    "start_time": "2021-07-08T10:06:57.687Z"
   },
   {
    "duration": 4,
    "start_time": "2021-07-08T10:07:03.956Z"
   },
   {
    "duration": 4,
    "start_time": "2021-07-08T10:07:10.376Z"
   },
   {
    "duration": 4,
    "start_time": "2021-07-08T10:17:19.889Z"
   },
   {
    "duration": 3,
    "start_time": "2021-07-08T10:19:19.407Z"
   },
   {
    "duration": 197,
    "start_time": "2021-07-08T10:19:19.412Z"
   },
   {
    "duration": 127,
    "start_time": "2021-07-08T10:19:19.611Z"
   },
   {
    "duration": 4,
    "start_time": "2021-07-08T10:19:19.740Z"
   },
   {
    "duration": 27,
    "start_time": "2021-07-08T10:19:19.746Z"
   },
   {
    "duration": 7,
    "start_time": "2021-07-08T10:19:19.775Z"
   },
   {
    "duration": 30,
    "start_time": "2021-07-08T10:19:19.784Z"
   },
   {
    "duration": 7,
    "start_time": "2021-07-08T10:19:19.817Z"
   },
   {
    "duration": 26,
    "start_time": "2021-07-08T10:19:19.826Z"
   },
   {
    "duration": 18,
    "start_time": "2021-07-08T10:19:19.854Z"
   },
   {
    "duration": 14,
    "start_time": "2021-07-08T10:19:19.874Z"
   },
   {
    "duration": 48,
    "start_time": "2021-07-08T10:19:19.890Z"
   },
   {
    "duration": 17,
    "start_time": "2021-07-08T10:19:19.940Z"
   },
   {
    "duration": 38,
    "start_time": "2021-07-08T10:19:19.959Z"
   },
   {
    "duration": 8,
    "start_time": "2021-07-08T10:19:19.999Z"
   },
   {
    "duration": 15,
    "start_time": "2021-07-08T10:19:20.009Z"
   },
   {
    "duration": 22,
    "start_time": "2021-07-08T10:19:20.026Z"
   },
   {
    "duration": 10,
    "start_time": "2021-07-08T10:19:20.050Z"
   },
   {
    "duration": 10,
    "start_time": "2021-07-08T10:19:20.062Z"
   },
   {
    "duration": 20,
    "start_time": "2021-07-08T10:19:20.073Z"
   },
   {
    "duration": 29,
    "start_time": "2021-07-08T10:19:20.095Z"
   },
   {
    "duration": 17,
    "start_time": "2021-07-08T10:19:20.126Z"
   },
   {
    "duration": 40,
    "start_time": "2021-07-08T10:19:20.146Z"
   },
   {
    "duration": 15,
    "start_time": "2021-07-08T10:19:20.189Z"
   },
   {
    "duration": 19,
    "start_time": "2021-07-08T10:19:20.206Z"
   },
   {
    "duration": 10,
    "start_time": "2021-07-08T10:19:20.226Z"
   },
   {
    "duration": 11,
    "start_time": "2021-07-08T10:19:20.238Z"
   },
   {
    "duration": 297,
    "start_time": "2021-07-08T10:19:20.250Z"
   },
   {
    "duration": 6,
    "start_time": "2021-07-08T10:19:20.549Z"
   },
   {
    "duration": 191,
    "start_time": "2021-07-08T10:19:20.557Z"
   },
   {
    "duration": 19,
    "start_time": "2021-07-08T10:19:20.750Z"
   },
   {
    "duration": 20,
    "start_time": "2021-07-08T10:19:20.771Z"
   },
   {
    "duration": 15,
    "start_time": "2021-07-08T10:19:20.793Z"
   },
   {
    "duration": 222,
    "start_time": "2021-07-08T10:19:20.809Z"
   },
   {
    "duration": 20,
    "start_time": "2021-07-08T10:19:21.033Z"
   },
   {
    "duration": 27,
    "start_time": "2021-07-08T10:45:04.055Z"
   },
   {
    "duration": 8,
    "start_time": "2021-07-08T10:45:08.478Z"
   },
   {
    "duration": 8,
    "start_time": "2021-07-08T10:45:31.982Z"
   },
   {
    "duration": 10,
    "start_time": "2021-07-08T10:46:01.221Z"
   },
   {
    "duration": 17,
    "start_time": "2021-07-08T10:46:40.011Z"
   },
   {
    "duration": 193,
    "start_time": "2021-07-08T10:48:19.471Z"
   },
   {
    "duration": 225,
    "start_time": "2021-07-08T10:49:26.480Z"
   },
   {
    "duration": 204,
    "start_time": "2021-07-08T10:49:59.992Z"
   },
   {
    "duration": 435,
    "start_time": "2021-07-08T10:50:06.779Z"
   },
   {
    "duration": 199,
    "start_time": "2021-07-08T10:50:14.891Z"
   },
   {
    "duration": 204,
    "start_time": "2021-07-08T10:50:18.501Z"
   },
   {
    "duration": 244,
    "start_time": "2021-07-08T10:50:23.359Z"
   },
   {
    "duration": 192,
    "start_time": "2021-07-08T10:50:29.135Z"
   },
   {
    "duration": 218,
    "start_time": "2021-07-08T10:50:33.092Z"
   },
   {
    "duration": 207,
    "start_time": "2021-07-08T10:52:45.381Z"
   },
   {
    "duration": 5,
    "start_time": "2021-07-08T10:53:34.641Z"
   },
   {
    "duration": 196,
    "start_time": "2021-07-08T10:53:41.478Z"
   },
   {
    "duration": 43,
    "start_time": "2021-07-08T10:53:50.335Z"
   },
   {
    "duration": 32,
    "start_time": "2021-07-08T10:53:55.294Z"
   },
   {
    "duration": 55,
    "start_time": "2021-07-08T10:54:09.675Z"
   },
   {
    "duration": 16,
    "start_time": "2021-07-08T10:54:12.260Z"
   },
   {
    "duration": 15,
    "start_time": "2021-07-08T10:54:49.150Z"
   },
   {
    "duration": 20,
    "start_time": "2021-07-08T10:56:07.596Z"
   },
   {
    "duration": 16,
    "start_time": "2021-07-08T10:58:26.276Z"
   },
   {
    "duration": 22,
    "start_time": "2021-07-08T10:59:00.486Z"
   },
   {
    "duration": 18,
    "start_time": "2021-07-08T11:02:09.653Z"
   },
   {
    "duration": 10,
    "start_time": "2021-07-08T11:03:44.331Z"
   },
   {
    "duration": 10,
    "start_time": "2021-07-08T11:03:54.055Z"
   },
   {
    "duration": 12,
    "start_time": "2021-07-08T11:04:41.967Z"
   },
   {
    "duration": 24,
    "start_time": "2021-07-08T11:07:30.732Z"
   },
   {
    "duration": 6,
    "start_time": "2021-07-08T11:07:37.364Z"
   },
   {
    "duration": 16,
    "start_time": "2021-07-08T11:08:01.819Z"
   },
   {
    "duration": 17,
    "start_time": "2021-07-08T11:09:47.488Z"
   },
   {
    "duration": 246,
    "start_time": "2021-07-08T11:10:00.830Z"
   },
   {
    "duration": 18,
    "start_time": "2021-07-08T11:13:55.195Z"
   },
   {
    "duration": 204,
    "start_time": "2021-07-08T11:14:04.951Z"
   },
   {
    "duration": 19,
    "start_time": "2021-07-08T11:15:10.613Z"
   },
   {
    "duration": 680,
    "start_time": "2021-07-08T11:16:25.793Z"
   },
   {
    "duration": 451,
    "start_time": "2021-07-08T11:16:40.313Z"
   },
   {
    "duration": 469,
    "start_time": "2021-07-08T11:17:21.286Z"
   },
   {
    "duration": 20,
    "start_time": "2021-07-08T11:19:12.554Z"
   },
   {
    "duration": 35,
    "start_time": "2021-07-08T11:20:05.484Z"
   },
   {
    "duration": 53,
    "start_time": "2021-07-08T11:21:40.050Z"
   },
   {
    "duration": 13,
    "start_time": "2021-07-08T11:22:26.059Z"
   },
   {
    "duration": 19,
    "start_time": "2021-07-08T11:22:47.419Z"
   },
   {
    "duration": 25,
    "start_time": "2021-07-08T11:23:19.958Z"
   },
   {
    "duration": 29,
    "start_time": "2021-07-08T11:23:25.415Z"
   },
   {
    "duration": 10,
    "start_time": "2021-07-08T11:24:45.138Z"
   },
   {
    "duration": 19,
    "start_time": "2021-07-08T11:24:54.498Z"
   },
   {
    "duration": 12,
    "start_time": "2021-07-08T11:25:32.225Z"
   },
   {
    "duration": 19,
    "start_time": "2021-07-08T11:25:37.092Z"
   },
   {
    "duration": 17,
    "start_time": "2021-07-08T11:25:58.116Z"
   },
   {
    "duration": 15,
    "start_time": "2021-07-08T11:26:02.258Z"
   },
   {
    "duration": 8,
    "start_time": "2021-07-08T11:26:59.682Z"
   },
   {
    "duration": 184,
    "start_time": "2021-07-08T11:27:21.894Z"
   },
   {
    "duration": 8,
    "start_time": "2021-07-08T11:27:23.824Z"
   },
   {
    "duration": 202,
    "start_time": "2021-07-08T11:27:23.962Z"
   },
   {
    "duration": 360,
    "start_time": "2021-07-08T11:28:33.215Z"
   },
   {
    "duration": 231,
    "start_time": "2021-07-08T11:32:05.542Z"
   },
   {
    "duration": 607,
    "start_time": "2021-07-08T11:36:27.854Z"
   },
   {
    "duration": 241,
    "start_time": "2021-07-08T11:36:28.463Z"
   },
   {
    "duration": 67,
    "start_time": "2021-07-08T11:36:28.709Z"
   },
   {
    "duration": 5,
    "start_time": "2021-07-08T11:36:28.778Z"
   },
   {
    "duration": 32,
    "start_time": "2021-07-08T11:36:28.784Z"
   },
   {
    "duration": 11,
    "start_time": "2021-07-08T11:36:28.819Z"
   },
   {
    "duration": 20,
    "start_time": "2021-07-08T11:36:28.834Z"
   },
   {
    "duration": 36,
    "start_time": "2021-07-08T11:36:28.857Z"
   },
   {
    "duration": 16,
    "start_time": "2021-07-08T11:36:28.895Z"
   },
   {
    "duration": 14,
    "start_time": "2021-07-08T11:36:28.913Z"
   },
   {
    "duration": 9,
    "start_time": "2021-07-08T11:36:28.930Z"
   },
   {
    "duration": 55,
    "start_time": "2021-07-08T11:36:28.941Z"
   },
   {
    "duration": 27,
    "start_time": "2021-07-08T11:36:28.999Z"
   },
   {
    "duration": 30,
    "start_time": "2021-07-08T11:36:29.028Z"
   },
   {
    "duration": 31,
    "start_time": "2021-07-08T11:36:29.060Z"
   },
   {
    "duration": 3,
    "start_time": "2021-07-08T11:36:29.093Z"
   },
   {
    "duration": 12,
    "start_time": "2021-07-08T11:36:29.099Z"
   },
   {
    "duration": 11,
    "start_time": "2021-07-08T11:36:29.112Z"
   },
   {
    "duration": 12,
    "start_time": "2021-07-08T11:36:29.125Z"
   },
   {
    "duration": 9,
    "start_time": "2021-07-08T11:36:29.139Z"
   },
   {
    "duration": 31,
    "start_time": "2021-07-08T11:36:29.191Z"
   },
   {
    "duration": 17,
    "start_time": "2021-07-08T11:36:29.226Z"
   },
   {
    "duration": 7,
    "start_time": "2021-07-08T11:36:29.245Z"
   },
   {
    "duration": 10,
    "start_time": "2021-07-08T11:36:29.254Z"
   },
   {
    "duration": 30,
    "start_time": "2021-07-08T11:36:29.292Z"
   },
   {
    "duration": 11,
    "start_time": "2021-07-08T11:36:29.324Z"
   },
   {
    "duration": 11,
    "start_time": "2021-07-08T11:36:29.337Z"
   },
   {
    "duration": 230,
    "start_time": "2021-07-08T11:36:29.349Z"
   },
   {
    "duration": 13,
    "start_time": "2021-07-08T11:36:29.588Z"
   },
   {
    "duration": 205,
    "start_time": "2021-07-08T11:36:29.603Z"
   },
   {
    "duration": 20,
    "start_time": "2021-07-08T11:36:29.810Z"
   },
   {
    "duration": 9,
    "start_time": "2021-07-08T11:36:29.832Z"
   },
   {
    "duration": 16,
    "start_time": "2021-07-08T11:36:29.843Z"
   },
   {
    "duration": 283,
    "start_time": "2021-07-08T11:36:29.861Z"
   },
   {
    "duration": 50,
    "start_time": "2021-07-08T11:36:30.146Z"
   },
   {
    "duration": 14,
    "start_time": "2021-07-08T11:36:30.198Z"
   },
   {
    "duration": 11,
    "start_time": "2021-07-08T11:36:30.214Z"
   },
   {
    "duration": 245,
    "start_time": "2021-07-08T11:36:30.227Z"
   },
   {
    "duration": 439,
    "start_time": "2021-07-08T11:36:30.474Z"
   },
   {
    "duration": 210,
    "start_time": "2021-07-08T11:36:30.915Z"
   },
   {
    "duration": 15,
    "start_time": "2021-07-08T11:36:31.127Z"
   },
   {
    "duration": 17,
    "start_time": "2021-07-08T11:38:20.451Z"
   },
   {
    "duration": 642,
    "start_time": "2021-07-08T11:46:17.881Z"
   },
   {
    "duration": 210,
    "start_time": "2021-07-08T11:46:18.525Z"
   },
   {
    "duration": 104,
    "start_time": "2021-07-08T11:46:18.741Z"
   },
   {
    "duration": 8,
    "start_time": "2021-07-08T11:46:18.847Z"
   },
   {
    "duration": 25,
    "start_time": "2021-07-08T11:46:18.857Z"
   },
   {
    "duration": 14,
    "start_time": "2021-07-08T11:46:18.884Z"
   },
   {
    "duration": 22,
    "start_time": "2021-07-08T11:46:18.900Z"
   },
   {
    "duration": 5,
    "start_time": "2021-07-08T11:46:18.924Z"
   },
   {
    "duration": 13,
    "start_time": "2021-07-08T11:46:18.931Z"
   },
   {
    "duration": 45,
    "start_time": "2021-07-08T11:46:18.946Z"
   },
   {
    "duration": 12,
    "start_time": "2021-07-08T11:46:18.993Z"
   },
   {
    "duration": 38,
    "start_time": "2021-07-08T11:46:19.006Z"
   },
   {
    "duration": 50,
    "start_time": "2021-07-08T11:46:19.046Z"
   },
   {
    "duration": 29,
    "start_time": "2021-07-08T11:46:19.099Z"
   },
   {
    "duration": 7,
    "start_time": "2021-07-08T11:46:19.130Z"
   },
   {
    "duration": 3,
    "start_time": "2021-07-08T11:46:19.139Z"
   },
   {
    "duration": 11,
    "start_time": "2021-07-08T11:46:19.144Z"
   },
   {
    "duration": 40,
    "start_time": "2021-07-08T11:46:19.157Z"
   },
   {
    "duration": 15,
    "start_time": "2021-07-08T11:46:19.199Z"
   },
   {
    "duration": 10,
    "start_time": "2021-07-08T11:46:19.217Z"
   },
   {
    "duration": 68,
    "start_time": "2021-07-08T11:46:19.230Z"
   },
   {
    "duration": 17,
    "start_time": "2021-07-08T11:46:19.301Z"
   },
   {
    "duration": 7,
    "start_time": "2021-07-08T11:46:19.321Z"
   },
   {
    "duration": 11,
    "start_time": "2021-07-08T11:46:19.330Z"
   },
   {
    "duration": 59,
    "start_time": "2021-07-08T11:46:19.343Z"
   },
   {
    "duration": 17,
    "start_time": "2021-07-08T11:46:19.405Z"
   },
   {
    "duration": 16,
    "start_time": "2021-07-08T11:46:19.424Z"
   },
   {
    "duration": 252,
    "start_time": "2021-07-08T11:46:19.443Z"
   },
   {
    "duration": 9,
    "start_time": "2021-07-08T11:46:19.697Z"
   },
   {
    "duration": 224,
    "start_time": "2021-07-08T11:46:19.708Z"
   },
   {
    "duration": 21,
    "start_time": "2021-07-08T11:46:19.934Z"
   },
   {
    "duration": 9,
    "start_time": "2021-07-08T11:46:19.956Z"
   },
   {
    "duration": 32,
    "start_time": "2021-07-08T11:46:19.967Z"
   },
   {
    "duration": 288,
    "start_time": "2021-07-08T11:46:20.004Z"
   },
   {
    "duration": 23,
    "start_time": "2021-07-08T11:46:20.300Z"
   },
   {
    "duration": 11,
    "start_time": "2021-07-08T11:46:20.325Z"
   },
   {
    "duration": 11,
    "start_time": "2021-07-08T11:46:20.339Z"
   },
   {
    "duration": 259,
    "start_time": "2021-07-08T11:46:20.352Z"
   },
   {
    "duration": 438,
    "start_time": "2021-07-08T11:46:20.613Z"
   },
   {
    "duration": 207,
    "start_time": "2021-07-08T11:46:21.054Z"
   },
   {
    "duration": 27,
    "start_time": "2021-07-08T11:46:21.262Z"
   },
   {
    "duration": 19,
    "start_time": "2021-07-08T11:46:21.291Z"
   },
   {
    "duration": 820,
    "start_time": "2021-07-08T11:49:01.655Z"
   },
   {
    "duration": 372,
    "start_time": "2021-07-08T11:49:02.478Z"
   },
   {
    "duration": 98,
    "start_time": "2021-07-08T11:49:02.853Z"
   },
   {
    "duration": 6,
    "start_time": "2021-07-08T11:49:02.953Z"
   },
   {
    "duration": 39,
    "start_time": "2021-07-08T11:49:02.960Z"
   },
   {
    "duration": 9,
    "start_time": "2021-07-08T11:49:03.003Z"
   },
   {
    "duration": 23,
    "start_time": "2021-07-08T11:49:03.014Z"
   },
   {
    "duration": 6,
    "start_time": "2021-07-08T11:49:03.041Z"
   },
   {
    "duration": 20,
    "start_time": "2021-07-08T11:49:03.049Z"
   },
   {
    "duration": 18,
    "start_time": "2021-07-08T11:49:03.084Z"
   },
   {
    "duration": 14,
    "start_time": "2021-07-08T11:49:03.104Z"
   },
   {
    "duration": 39,
    "start_time": "2021-07-08T11:49:03.119Z"
   },
   {
    "duration": 38,
    "start_time": "2021-07-08T11:49:03.160Z"
   },
   {
    "duration": 26,
    "start_time": "2021-07-08T11:49:03.200Z"
   },
   {
    "duration": 7,
    "start_time": "2021-07-08T11:49:03.227Z"
   },
   {
    "duration": 4,
    "start_time": "2021-07-08T11:49:03.236Z"
   },
   {
    "duration": 15,
    "start_time": "2021-07-08T11:49:03.243Z"
   },
   {
    "duration": 21,
    "start_time": "2021-07-08T11:49:03.285Z"
   },
   {
    "duration": 17,
    "start_time": "2021-07-08T11:49:03.309Z"
   },
   {
    "duration": 10,
    "start_time": "2021-07-08T11:49:03.328Z"
   },
   {
    "duration": 65,
    "start_time": "2021-07-08T11:49:03.340Z"
   },
   {
    "duration": 18,
    "start_time": "2021-07-08T11:49:03.407Z"
   },
   {
    "duration": 8,
    "start_time": "2021-07-08T11:49:03.428Z"
   },
   {
    "duration": 15,
    "start_time": "2021-07-08T11:49:03.438Z"
   },
   {
    "duration": 40,
    "start_time": "2021-07-08T11:49:03.455Z"
   },
   {
    "duration": 12,
    "start_time": "2021-07-08T11:49:03.497Z"
   },
   {
    "duration": 29,
    "start_time": "2021-07-08T11:49:03.511Z"
   },
   {
    "duration": 285,
    "start_time": "2021-07-08T11:49:03.542Z"
   },
   {
    "duration": 8,
    "start_time": "2021-07-08T11:49:03.829Z"
   },
   {
    "duration": 227,
    "start_time": "2021-07-08T11:49:03.838Z"
   },
   {
    "duration": 40,
    "start_time": "2021-07-08T11:49:04.066Z"
   },
   {
    "duration": 10,
    "start_time": "2021-07-08T11:49:04.108Z"
   },
   {
    "duration": 26,
    "start_time": "2021-07-08T11:49:04.121Z"
   },
   {
    "duration": 290,
    "start_time": "2021-07-08T11:49:04.149Z"
   },
   {
    "duration": 26,
    "start_time": "2021-07-08T11:49:04.441Z"
   },
   {
    "duration": 31,
    "start_time": "2021-07-08T11:49:04.470Z"
   },
   {
    "duration": 14,
    "start_time": "2021-07-08T11:49:04.503Z"
   },
   {
    "duration": 259,
    "start_time": "2021-07-08T11:49:04.521Z"
   },
   {
    "duration": 480,
    "start_time": "2021-07-08T11:49:04.782Z"
   },
   {
    "duration": 225,
    "start_time": "2021-07-08T11:49:05.264Z"
   },
   {
    "duration": 22,
    "start_time": "2021-07-08T11:49:05.491Z"
   },
   {
    "duration": 24,
    "start_time": "2021-07-08T11:49:05.515Z"
   },
   {
    "duration": 634,
    "start_time": "2021-07-08T11:52:24.960Z"
   },
   {
    "duration": 199,
    "start_time": "2021-07-08T11:52:25.599Z"
   },
   {
    "duration": 106,
    "start_time": "2021-07-08T11:52:25.803Z"
   },
   {
    "duration": 7,
    "start_time": "2021-07-08T11:52:25.911Z"
   },
   {
    "duration": 29,
    "start_time": "2021-07-08T11:52:25.920Z"
   },
   {
    "duration": 7,
    "start_time": "2021-07-08T11:52:25.951Z"
   },
   {
    "duration": 26,
    "start_time": "2021-07-08T11:52:25.961Z"
   },
   {
    "duration": 11,
    "start_time": "2021-07-08T11:52:25.990Z"
   },
   {
    "duration": 29,
    "start_time": "2021-07-08T11:52:26.005Z"
   },
   {
    "duration": 9,
    "start_time": "2021-07-08T11:52:26.036Z"
   },
   {
    "duration": 8,
    "start_time": "2021-07-08T11:52:26.047Z"
   },
   {
    "duration": 63,
    "start_time": "2021-07-08T11:52:26.057Z"
   },
   {
    "duration": 17,
    "start_time": "2021-07-08T11:52:26.122Z"
   },
   {
    "duration": 43,
    "start_time": "2021-07-08T11:52:26.142Z"
   },
   {
    "duration": 17,
    "start_time": "2021-07-08T11:52:26.187Z"
   },
   {
    "duration": 5,
    "start_time": "2021-07-08T11:52:26.206Z"
   },
   {
    "duration": 12,
    "start_time": "2021-07-08T11:52:26.212Z"
   },
   {
    "duration": 11,
    "start_time": "2021-07-08T11:52:26.226Z"
   },
   {
    "duration": 12,
    "start_time": "2021-07-08T11:52:26.238Z"
   },
   {
    "duration": 38,
    "start_time": "2021-07-08T11:52:26.252Z"
   },
   {
    "duration": 40,
    "start_time": "2021-07-08T11:52:26.292Z"
   },
   {
    "duration": 17,
    "start_time": "2021-07-08T11:52:26.336Z"
   },
   {
    "duration": 39,
    "start_time": "2021-07-08T11:52:26.355Z"
   },
   {
    "duration": 11,
    "start_time": "2021-07-08T11:52:26.395Z"
   },
   {
    "duration": 23,
    "start_time": "2021-07-08T11:52:26.408Z"
   },
   {
    "duration": 12,
    "start_time": "2021-07-08T11:52:26.432Z"
   },
   {
    "duration": 41,
    "start_time": "2021-07-08T11:52:26.446Z"
   },
   {
    "duration": 215,
    "start_time": "2021-07-08T11:52:26.493Z"
   },
   {
    "duration": 8,
    "start_time": "2021-07-08T11:52:26.710Z"
   },
   {
    "duration": 228,
    "start_time": "2021-07-08T11:52:26.720Z"
   },
   {
    "duration": 18,
    "start_time": "2021-07-08T11:52:26.950Z"
   },
   {
    "duration": 35,
    "start_time": "2021-07-08T11:52:26.969Z"
   },
   {
    "duration": 23,
    "start_time": "2021-07-08T11:52:27.006Z"
   },
   {
    "duration": 258,
    "start_time": "2021-07-08T11:52:27.030Z"
   },
   {
    "duration": 24,
    "start_time": "2021-07-08T11:52:27.290Z"
   },
   {
    "duration": 12,
    "start_time": "2021-07-08T11:52:27.316Z"
   },
   {
    "duration": 10,
    "start_time": "2021-07-08T11:52:27.329Z"
   },
   {
    "duration": 298,
    "start_time": "2021-07-08T11:52:27.341Z"
   },
   {
    "duration": 436,
    "start_time": "2021-07-08T11:52:27.641Z"
   },
   {
    "duration": 216,
    "start_time": "2021-07-08T11:52:28.079Z"
   },
   {
    "duration": 20,
    "start_time": "2021-07-08T11:52:28.297Z"
   },
   {
    "duration": 17,
    "start_time": "2021-07-08T11:52:28.319Z"
   },
   {
    "duration": 101,
    "start_time": "2023-07-14T21:24:39.704Z"
   },
   {
    "duration": 670,
    "start_time": "2023-07-14T21:24:46.802Z"
   },
   {
    "duration": 94,
    "start_time": "2023-07-14T21:25:29.640Z"
   },
   {
    "duration": 64,
    "start_time": "2023-07-14T21:26:11.129Z"
   },
   {
    "duration": 11,
    "start_time": "2023-07-14T21:26:26.756Z"
   },
   {
    "duration": 93,
    "start_time": "2023-07-14T21:26:39.030Z"
   },
   {
    "duration": 412,
    "start_time": "2023-07-14T21:27:15.570Z"
   },
   {
    "duration": 111,
    "start_time": "2023-07-14T21:27:29.299Z"
   },
   {
    "duration": 55,
    "start_time": "2023-07-14T21:27:52.793Z"
   },
   {
    "duration": 9,
    "start_time": "2023-07-14T21:27:54.617Z"
   },
   {
    "duration": 8,
    "start_time": "2023-07-14T21:27:57.908Z"
   },
   {
    "duration": 9,
    "start_time": "2023-07-14T21:28:01.488Z"
   },
   {
    "duration": 13,
    "start_time": "2023-07-14T21:28:06.850Z"
   },
   {
    "duration": 12,
    "start_time": "2023-07-14T21:29:30.997Z"
   },
   {
    "duration": 462,
    "start_time": "2023-07-14T21:29:37.689Z"
   },
   {
    "duration": 47,
    "start_time": "2023-07-14T21:29:38.153Z"
   },
   {
    "duration": 9,
    "start_time": "2023-07-14T21:29:38.201Z"
   },
   {
    "duration": 36,
    "start_time": "2023-07-14T21:29:38.211Z"
   },
   {
    "duration": 91,
    "start_time": "2023-07-14T21:30:55.797Z"
   },
   {
    "duration": 53,
    "start_time": "2023-07-14T21:32:46.597Z"
   },
   {
    "duration": 11,
    "start_time": "2023-07-14T21:33:02.052Z"
   },
   {
    "duration": 8,
    "start_time": "2023-07-14T21:33:07.022Z"
   },
   {
    "duration": 25,
    "start_time": "2023-07-14T21:34:16.249Z"
   },
   {
    "duration": 95,
    "start_time": "2023-07-14T21:37:29.833Z"
   },
   {
    "duration": 105,
    "start_time": "2023-07-14T21:39:15.058Z"
   },
   {
    "duration": 43,
    "start_time": "2023-07-14T21:39:20.729Z"
   },
   {
    "duration": 51,
    "start_time": "2023-07-14T21:39:41.114Z"
   },
   {
    "duration": 15,
    "start_time": "2023-07-14T21:40:30.293Z"
   },
   {
    "duration": 53,
    "start_time": "2023-07-14T21:40:49.398Z"
   },
   {
    "duration": 22,
    "start_time": "2023-07-14T21:40:53.818Z"
   },
   {
    "duration": 15,
    "start_time": "2023-07-14T21:41:08.630Z"
   },
   {
    "duration": 16,
    "start_time": "2023-07-14T21:41:15.353Z"
   },
   {
    "duration": 135,
    "start_time": "2023-07-14T21:41:45.635Z"
   },
   {
    "duration": 142,
    "start_time": "2023-07-14T21:47:53.109Z"
   },
   {
    "duration": 12,
    "start_time": "2023-07-14T21:48:12.212Z"
   },
   {
    "duration": 140,
    "start_time": "2023-07-14T21:52:51.682Z"
   },
   {
    "duration": 514,
    "start_time": "2023-07-14T21:52:59.869Z"
   },
   {
    "duration": 14,
    "start_time": "2023-07-14T21:53:00.386Z"
   },
   {
    "duration": 78,
    "start_time": "2023-07-14T21:53:00.401Z"
   },
   {
    "duration": 134,
    "start_time": "2023-07-14T21:54:59.387Z"
   },
   {
    "duration": 136,
    "start_time": "2023-07-14T21:55:09.262Z"
   },
   {
    "duration": 131,
    "start_time": "2023-07-14T21:55:16.012Z"
   },
   {
    "duration": 131,
    "start_time": "2023-07-14T21:55:23.685Z"
   },
   {
    "duration": 11,
    "start_time": "2023-07-14T21:55:45.199Z"
   },
   {
    "duration": 196,
    "start_time": "2023-07-14T21:56:46.321Z"
   },
   {
    "duration": 142,
    "start_time": "2023-07-14T21:56:59.214Z"
   },
   {
    "duration": 543,
    "start_time": "2023-07-14T21:57:13.061Z"
   },
   {
    "duration": 132,
    "start_time": "2023-07-14T21:57:39.146Z"
   },
   {
    "duration": 143,
    "start_time": "2023-07-14T21:57:49.610Z"
   },
   {
    "duration": 160,
    "start_time": "2023-07-14T21:57:58.924Z"
   },
   {
    "duration": 150,
    "start_time": "2023-07-14T21:58:04.983Z"
   },
   {
    "duration": 124,
    "start_time": "2023-07-14T22:04:47.551Z"
   },
   {
    "duration": 120,
    "start_time": "2023-07-14T22:07:38.518Z"
   },
   {
    "duration": 126,
    "start_time": "2023-07-14T22:08:06.797Z"
   },
   {
    "duration": 122,
    "start_time": "2023-07-14T22:08:16.653Z"
   },
   {
    "duration": 134,
    "start_time": "2023-07-14T22:08:41.781Z"
   },
   {
    "duration": 143,
    "start_time": "2023-07-14T22:08:49.147Z"
   },
   {
    "duration": 141,
    "start_time": "2023-07-14T22:09:16.881Z"
   },
   {
    "duration": 136,
    "start_time": "2023-07-14T22:09:28.889Z"
   },
   {
    "duration": 143,
    "start_time": "2023-07-14T22:09:33.806Z"
   },
   {
    "duration": 9,
    "start_time": "2023-07-14T22:13:51.695Z"
   },
   {
    "duration": 13,
    "start_time": "2023-07-14T22:14:22.485Z"
   },
   {
    "duration": 49,
    "start_time": "2023-07-14T22:14:29.429Z"
   },
   {
    "duration": 1563,
    "start_time": "2023-07-14T22:14:54.231Z"
   },
   {
    "duration": 18,
    "start_time": "2023-07-14T22:15:08.812Z"
   },
   {
    "duration": 11,
    "start_time": "2023-07-14T22:16:23.897Z"
   },
   {
    "duration": 22,
    "start_time": "2023-07-14T22:16:29.500Z"
   },
   {
    "duration": 6,
    "start_time": "2023-07-14T22:18:21.085Z"
   },
   {
    "duration": 16,
    "start_time": "2023-07-14T22:18:28.142Z"
   },
   {
    "duration": 6,
    "start_time": "2023-07-14T22:18:33.797Z"
   },
   {
    "duration": 2137,
    "start_time": "2023-07-14T22:31:59.983Z"
   },
   {
    "duration": 7,
    "start_time": "2023-07-14T22:32:11.298Z"
   },
   {
    "duration": 2093,
    "start_time": "2023-07-14T22:37:41.821Z"
   },
   {
    "duration": 1518,
    "start_time": "2023-07-14T22:37:52.282Z"
   },
   {
    "duration": 1284,
    "start_time": "2023-07-14T22:38:10.976Z"
   },
   {
    "duration": 1572,
    "start_time": "2023-07-14T22:38:16.682Z"
   },
   {
    "duration": 1252,
    "start_time": "2023-07-14T22:38:20.924Z"
   },
   {
    "duration": 13,
    "start_time": "2023-07-14T22:38:34.906Z"
   },
   {
    "duration": 24,
    "start_time": "2023-07-14T22:38:44.384Z"
   },
   {
    "duration": 13,
    "start_time": "2023-07-14T22:39:05.841Z"
   },
   {
    "duration": 8657,
    "start_time": "2023-07-14T22:40:05.544Z"
   },
   {
    "duration": 14,
    "start_time": "2023-07-14T22:40:18.285Z"
   },
   {
    "duration": 9073,
    "start_time": "2023-07-14T22:40:28.979Z"
   },
   {
    "duration": 13,
    "start_time": "2023-07-14T22:40:38.905Z"
   },
   {
    "duration": 9829,
    "start_time": "2023-07-14T22:40:50.954Z"
   },
   {
    "duration": 14,
    "start_time": "2023-07-14T22:41:02.076Z"
   },
   {
    "duration": 7,
    "start_time": "2023-07-14T22:43:12.979Z"
   },
   {
    "duration": 7,
    "start_time": "2023-07-14T22:43:19.346Z"
   },
   {
    "duration": 9,
    "start_time": "2023-07-14T22:44:01.551Z"
   },
   {
    "duration": 20,
    "start_time": "2023-07-14T22:44:07.416Z"
   },
   {
    "duration": 16,
    "start_time": "2023-07-14T22:44:12.511Z"
   },
   {
    "duration": 18,
    "start_time": "2023-07-14T22:44:15.225Z"
   },
   {
    "duration": 5,
    "start_time": "2023-07-14T22:45:35.540Z"
   },
   {
    "duration": 5,
    "start_time": "2023-07-14T22:45:40.364Z"
   },
   {
    "duration": 6,
    "start_time": "2023-07-14T22:45:49.093Z"
   },
   {
    "duration": 4,
    "start_time": "2023-07-14T22:46:00.465Z"
   },
   {
    "duration": 4,
    "start_time": "2023-07-14T22:47:39.619Z"
   },
   {
    "duration": 18,
    "start_time": "2023-07-14T22:47:56.503Z"
   },
   {
    "duration": 7,
    "start_time": "2023-07-14T22:48:05.958Z"
   },
   {
    "duration": 19,
    "start_time": "2023-07-14T22:48:14.001Z"
   },
   {
    "duration": 25,
    "start_time": "2023-07-14T22:50:00.577Z"
   },
   {
    "duration": 92,
    "start_time": "2023-07-14T22:51:05.065Z"
   },
   {
    "duration": 6,
    "start_time": "2023-07-14T22:51:09.141Z"
   },
   {
    "duration": 8,
    "start_time": "2023-07-14T22:52:04.895Z"
   },
   {
    "duration": 26,
    "start_time": "2023-07-14T22:52:21.768Z"
   },
   {
    "duration": 133,
    "start_time": "2023-07-14T22:54:17.083Z"
   },
   {
    "duration": 23,
    "start_time": "2023-07-14T22:54:21.601Z"
   },
   {
    "duration": 501,
    "start_time": "2023-07-15T00:01:56.852Z"
   },
   {
    "duration": 19,
    "start_time": "2023-07-15T00:01:57.355Z"
   },
   {
    "duration": 22,
    "start_time": "2023-07-15T00:01:57.375Z"
   },
   {
    "duration": 5,
    "start_time": "2023-07-15T00:01:57.399Z"
   },
   {
    "duration": 1205,
    "start_time": "2023-07-15T00:01:57.405Z"
   },
   {
    "duration": 9812,
    "start_time": "2023-07-15T00:01:58.611Z"
   },
   {
    "duration": 13,
    "start_time": "2023-07-15T00:02:08.425Z"
   },
   {
    "duration": 5,
    "start_time": "2023-07-15T00:02:08.439Z"
   },
   {
    "duration": 38,
    "start_time": "2023-07-15T00:02:08.446Z"
   },
   {
    "duration": 5,
    "start_time": "2023-07-15T00:02:08.486Z"
   },
   {
    "duration": 34,
    "start_time": "2023-07-15T00:02:08.492Z"
   },
   {
    "duration": 25,
    "start_time": "2023-07-15T00:15:37.900Z"
   },
   {
    "duration": 9,
    "start_time": "2023-07-15T00:16:35.635Z"
   },
   {
    "duration": 66,
    "start_time": "2023-07-15T00:18:17.135Z"
   },
   {
    "duration": 10,
    "start_time": "2023-07-15T00:18:24.429Z"
   },
   {
    "duration": 9,
    "start_time": "2023-07-15T00:18:29.014Z"
   },
   {
    "duration": 8,
    "start_time": "2023-07-15T00:18:35.262Z"
   },
   {
    "duration": 101,
    "start_time": "2023-07-15T00:22:27.239Z"
   },
   {
    "duration": 8,
    "start_time": "2023-07-15T00:22:46.808Z"
   },
   {
    "duration": 14,
    "start_time": "2023-07-15T00:22:55.928Z"
   },
   {
    "duration": 7,
    "start_time": "2023-07-15T00:22:59.889Z"
   },
   {
    "duration": 8,
    "start_time": "2023-07-15T00:48:22.294Z"
   },
   {
    "duration": 4,
    "start_time": "2023-07-15T00:48:38.585Z"
   },
   {
    "duration": 15,
    "start_time": "2023-07-15T00:48:43.948Z"
   },
   {
    "duration": 4,
    "start_time": "2023-07-15T00:48:48.491Z"
   },
   {
    "duration": 4,
    "start_time": "2023-07-15T00:51:13.543Z"
   },
   {
    "duration": 14,
    "start_time": "2023-07-15T00:51:48.635Z"
   },
   {
    "duration": 29,
    "start_time": "2023-07-15T00:52:06.973Z"
   },
   {
    "duration": 86,
    "start_time": "2023-07-15T00:52:35.289Z"
   },
   {
    "duration": 15,
    "start_time": "2023-07-15T00:52:48.517Z"
   },
   {
    "duration": 11,
    "start_time": "2023-07-15T00:53:04.089Z"
   },
   {
    "duration": 26,
    "start_time": "2023-07-15T00:53:19.889Z"
   },
   {
    "duration": 24,
    "start_time": "2023-07-15T00:53:25.414Z"
   },
   {
    "duration": 19,
    "start_time": "2023-07-15T00:53:31.981Z"
   },
   {
    "duration": 24,
    "start_time": "2023-07-15T00:54:23.293Z"
   },
   {
    "duration": 7,
    "start_time": "2023-07-15T00:54:31.384Z"
   },
   {
    "duration": 15,
    "start_time": "2023-07-15T00:54:36.669Z"
   },
   {
    "duration": 12,
    "start_time": "2023-07-15T01:04:25.476Z"
   },
   {
    "duration": 552,
    "start_time": "2023-07-15T01:04:55.997Z"
   },
   {
    "duration": 21,
    "start_time": "2023-07-15T01:06:01.940Z"
   },
   {
    "duration": 11,
    "start_time": "2023-07-15T01:06:24.093Z"
   },
   {
    "duration": 146,
    "start_time": "2023-07-15T01:06:28.099Z"
   },
   {
    "duration": 17,
    "start_time": "2023-07-15T01:06:31.597Z"
   },
   {
    "duration": 205,
    "start_time": "2023-07-15T01:06:52.820Z"
   },
   {
    "duration": 758,
    "start_time": "2023-07-16T16:08:46.849Z"
   },
   {
    "duration": 21,
    "start_time": "2023-07-16T16:08:47.609Z"
   },
   {
    "duration": 21,
    "start_time": "2023-07-16T16:08:47.632Z"
   },
   {
    "duration": 8,
    "start_time": "2023-07-16T16:08:47.654Z"
   },
   {
    "duration": 1411,
    "start_time": "2023-07-16T16:08:47.664Z"
   },
   {
    "duration": 10245,
    "start_time": "2023-07-16T16:08:49.076Z"
   },
   {
    "duration": 16,
    "start_time": "2023-07-16T16:08:59.324Z"
   },
   {
    "duration": 12,
    "start_time": "2023-07-16T16:08:59.342Z"
   },
   {
    "duration": 39,
    "start_time": "2023-07-16T16:08:59.357Z"
   },
   {
    "duration": 5,
    "start_time": "2023-07-16T16:08:59.398Z"
   },
   {
    "duration": 32,
    "start_time": "2023-07-16T16:08:59.405Z"
   },
   {
    "duration": 25,
    "start_time": "2023-07-16T16:08:59.439Z"
   },
   {
    "duration": 20,
    "start_time": "2023-07-16T16:08:59.465Z"
   },
   {
    "duration": 5,
    "start_time": "2023-07-16T16:08:59.488Z"
   },
   {
    "duration": 15,
    "start_time": "2023-07-16T16:08:59.494Z"
   },
   {
    "duration": 26,
    "start_time": "2023-07-16T16:08:59.511Z"
   },
   {
    "duration": 22,
    "start_time": "2023-07-16T16:08:59.539Z"
   },
   {
    "duration": 647,
    "start_time": "2023-07-16T16:08:59.563Z"
   },
   {
    "duration": 22,
    "start_time": "2023-07-16T16:09:00.212Z"
   },
   {
    "duration": 237,
    "start_time": "2023-07-16T16:09:00.236Z"
   },
   {
    "duration": 1403,
    "start_time": "2023-07-16T16:20:43.791Z"
   },
   {
    "duration": 7,
    "start_time": "2023-07-16T16:20:50.615Z"
   },
   {
    "duration": 20,
    "start_time": "2023-07-16T16:20:57.790Z"
   },
   {
    "duration": 343,
    "start_time": "2023-07-16T16:21:14.806Z"
   },
   {
    "duration": 22,
    "start_time": "2023-07-16T16:21:20.487Z"
   },
   {
    "duration": 75,
    "start_time": "2023-07-16T16:23:28.661Z"
   },
   {
    "duration": 346,
    "start_time": "2023-07-16T16:23:32.514Z"
   },
   {
    "duration": 356,
    "start_time": "2023-07-16T16:23:43.456Z"
   },
   {
    "duration": 472,
    "start_time": "2023-07-16T16:23:59.902Z"
   },
   {
    "duration": 26,
    "start_time": "2023-07-16T16:24:44.592Z"
   },
   {
    "duration": 21,
    "start_time": "2023-07-16T16:25:17.699Z"
   },
   {
    "duration": 38,
    "start_time": "2023-07-16T16:26:05.332Z"
   },
   {
    "duration": 43,
    "start_time": "2023-07-16T16:26:15.998Z"
   },
   {
    "duration": 33,
    "start_time": "2023-07-16T16:26:36.287Z"
   },
   {
    "duration": 12,
    "start_time": "2023-07-16T16:27:02.991Z"
   },
   {
    "duration": 23,
    "start_time": "2023-07-16T16:27:07.146Z"
   },
   {
    "duration": 83,
    "start_time": "2023-07-16T16:28:58.216Z"
   },
   {
    "duration": 7,
    "start_time": "2023-07-16T16:29:20.720Z"
   },
   {
    "duration": 7,
    "start_time": "2023-07-16T16:29:25.016Z"
   },
   {
    "duration": 5,
    "start_time": "2023-07-16T16:30:37.633Z"
   },
   {
    "duration": 6,
    "start_time": "2023-07-16T16:30:43.098Z"
   },
   {
    "duration": 6,
    "start_time": "2023-07-16T16:30:48.707Z"
   },
   {
    "duration": 16,
    "start_time": "2023-07-16T16:31:42.791Z"
   },
   {
    "duration": 5,
    "start_time": "2023-07-16T16:32:11.859Z"
   },
   {
    "duration": 6,
    "start_time": "2023-07-16T16:32:37.555Z"
   },
   {
    "duration": 7,
    "start_time": "2023-07-16T16:36:58.398Z"
   },
   {
    "duration": 5,
    "start_time": "2023-07-16T16:37:02.084Z"
   },
   {
    "duration": 7,
    "start_time": "2023-07-16T16:37:14.807Z"
   },
   {
    "duration": 5,
    "start_time": "2023-07-16T16:37:22.241Z"
   },
   {
    "duration": 10,
    "start_time": "2023-07-16T16:37:45.615Z"
   },
   {
    "duration": 8,
    "start_time": "2023-07-16T16:37:49.525Z"
   },
   {
    "duration": 19,
    "start_time": "2023-07-16T16:38:36.968Z"
   },
   {
    "duration": 31,
    "start_time": "2023-07-16T16:38:45.091Z"
   },
   {
    "duration": 16,
    "start_time": "2023-07-16T16:40:34.055Z"
   },
   {
    "duration": 4,
    "start_time": "2023-07-16T16:40:48.648Z"
   },
   {
    "duration": 9,
    "start_time": "2023-07-16T16:41:49.033Z"
   },
   {
    "duration": 10,
    "start_time": "2023-07-16T16:42:07.736Z"
   },
   {
    "duration": 5,
    "start_time": "2023-07-16T16:42:20.895Z"
   },
   {
    "duration": 4,
    "start_time": "2023-07-16T16:42:26.195Z"
   },
   {
    "duration": 5,
    "start_time": "2023-07-16T16:42:32.206Z"
   },
   {
    "duration": 6,
    "start_time": "2023-07-16T16:43:35.299Z"
   },
   {
    "duration": 5,
    "start_time": "2023-07-16T16:44:54.083Z"
   },
   {
    "duration": 79,
    "start_time": "2023-07-16T16:44:58.502Z"
   },
   {
    "duration": 5,
    "start_time": "2023-07-16T16:45:08.790Z"
   },
   {
    "duration": 5,
    "start_time": "2023-07-16T16:45:26.048Z"
   },
   {
    "duration": 184,
    "start_time": "2023-07-16T16:45:32.935Z"
   },
   {
    "duration": 5,
    "start_time": "2023-07-16T16:45:36.416Z"
   },
   {
    "duration": 5,
    "start_time": "2023-07-16T16:45:49.735Z"
   },
   {
    "duration": 5,
    "start_time": "2023-07-16T16:48:45.156Z"
   },
   {
    "duration": 13,
    "start_time": "2023-07-16T16:50:20.335Z"
   },
   {
    "duration": 151,
    "start_time": "2023-07-16T16:51:15.606Z"
   },
   {
    "duration": 163,
    "start_time": "2023-07-16T16:51:22.139Z"
   },
   {
    "duration": 22,
    "start_time": "2023-07-16T16:54:57.323Z"
   },
   {
    "duration": 289,
    "start_time": "2023-07-16T16:55:07.734Z"
   },
   {
    "duration": 23,
    "start_time": "2023-07-16T16:55:17.336Z"
   },
   {
    "duration": 23,
    "start_time": "2023-07-16T16:59:55.015Z"
   },
   {
    "duration": 241,
    "start_time": "2023-07-16T17:00:08.261Z"
   },
   {
    "duration": 14,
    "start_time": "2023-07-16T17:02:27.735Z"
   },
   {
    "duration": 104,
    "start_time": "2023-07-16T17:02:29.003Z"
   },
   {
    "duration": 170,
    "start_time": "2023-07-16T17:02:35.166Z"
   },
   {
    "duration": 7,
    "start_time": "2023-07-16T17:06:33.731Z"
   },
   {
    "duration": 4,
    "start_time": "2023-07-16T17:06:45.696Z"
   },
   {
    "duration": 8,
    "start_time": "2023-07-16T17:06:50.854Z"
   },
   {
    "duration": 28,
    "start_time": "2023-07-16T17:06:59.493Z"
   },
   {
    "duration": 16,
    "start_time": "2023-07-16T17:07:22.383Z"
   },
   {
    "duration": 168,
    "start_time": "2023-07-16T17:07:40.691Z"
   },
   {
    "duration": 14,
    "start_time": "2023-07-16T17:10:50.044Z"
   },
   {
    "duration": 164,
    "start_time": "2023-07-16T17:11:09.685Z"
   },
   {
    "duration": 10,
    "start_time": "2023-07-16T17:13:27.953Z"
   },
   {
    "duration": 9,
    "start_time": "2023-07-16T17:13:42.561Z"
   },
   {
    "duration": 92,
    "start_time": "2023-07-16T17:14:38.244Z"
   },
   {
    "duration": 14,
    "start_time": "2023-07-16T17:16:51.483Z"
   },
   {
    "duration": 16,
    "start_time": "2023-07-16T17:17:07.452Z"
   },
   {
    "duration": 15,
    "start_time": "2023-07-16T17:17:12.496Z"
   },
   {
    "duration": 1275,
    "start_time": "2023-07-16T17:17:26.604Z"
   },
   {
    "duration": 3,
    "start_time": "2023-07-16T17:17:31.800Z"
   },
   {
    "duration": 14,
    "start_time": "2023-07-16T17:17:46.500Z"
   },
   {
    "duration": 16,
    "start_time": "2023-07-16T17:17:50.405Z"
   },
   {
    "duration": 15,
    "start_time": "2023-07-16T17:19:55.571Z"
   },
   {
    "duration": 170,
    "start_time": "2023-07-16T17:20:21.211Z"
   },
   {
    "duration": 13,
    "start_time": "2023-07-16T17:20:34.824Z"
   },
   {
    "duration": 587,
    "start_time": "2023-07-16T17:20:54.915Z"
   },
   {
    "duration": 20,
    "start_time": "2023-07-16T17:20:55.505Z"
   },
   {
    "duration": 23,
    "start_time": "2023-07-16T17:20:55.527Z"
   },
   {
    "duration": 6,
    "start_time": "2023-07-16T17:20:55.551Z"
   },
   {
    "duration": 1377,
    "start_time": "2023-07-16T17:20:55.559Z"
   },
   {
    "duration": 10838,
    "start_time": "2023-07-16T17:20:56.938Z"
   },
   {
    "duration": 16,
    "start_time": "2023-07-16T17:21:07.778Z"
   },
   {
    "duration": 13,
    "start_time": "2023-07-16T17:21:07.796Z"
   },
   {
    "duration": 42,
    "start_time": "2023-07-16T17:21:07.811Z"
   },
   {
    "duration": 7,
    "start_time": "2023-07-16T17:21:07.855Z"
   },
   {
    "duration": 47,
    "start_time": "2023-07-16T17:21:07.863Z"
   },
   {
    "duration": 12,
    "start_time": "2023-07-16T17:21:07.911Z"
   },
   {
    "duration": 14,
    "start_time": "2023-07-16T17:21:07.924Z"
   },
   {
    "duration": 6,
    "start_time": "2023-07-16T17:21:07.951Z"
   },
   {
    "duration": 25,
    "start_time": "2023-07-16T17:21:07.960Z"
   },
   {
    "duration": 18,
    "start_time": "2023-07-16T17:21:07.987Z"
   },
   {
    "duration": 30,
    "start_time": "2023-07-16T17:21:08.007Z"
   },
   {
    "duration": 8,
    "start_time": "2023-07-16T17:21:08.039Z"
   },
   {
    "duration": 16,
    "start_time": "2023-07-16T17:21:08.048Z"
   },
   {
    "duration": 488,
    "start_time": "2023-07-16T17:21:08.066Z"
   },
   {
    "duration": 21,
    "start_time": "2023-07-16T17:21:08.556Z"
   },
   {
    "duration": 217,
    "start_time": "2023-07-16T17:21:08.579Z"
   },
   {
    "duration": 14,
    "start_time": "2023-07-16T17:21:08.798Z"
   },
   {
    "duration": 183,
    "start_time": "2023-07-16T17:21:08.814Z"
   },
   {
    "duration": 17,
    "start_time": "2023-07-16T17:21:08.999Z"
   },
   {
    "duration": 178,
    "start_time": "2023-07-16T17:21:09.018Z"
   },
   {
    "duration": 13,
    "start_time": "2023-07-16T17:21:09.198Z"
   },
   {
    "duration": 254,
    "start_time": "2023-07-16T17:21:09.213Z"
   },
   {
    "duration": 13,
    "start_time": "2023-07-16T17:21:09.469Z"
   },
   {
    "duration": 189,
    "start_time": "2023-07-16T17:21:09.483Z"
   },
   {
    "duration": 14,
    "start_time": "2023-07-16T17:21:18.077Z"
   },
   {
    "duration": 17,
    "start_time": "2023-07-16T17:21:23.322Z"
   },
   {
    "duration": 159,
    "start_time": "2023-07-16T17:21:27.895Z"
   },
   {
    "duration": 85,
    "start_time": "2023-07-16T17:32:11.298Z"
   },
   {
    "duration": 521,
    "start_time": "2023-07-16T17:32:21.932Z"
   },
   {
    "duration": 31,
    "start_time": "2023-07-16T17:32:30.122Z"
   },
   {
    "duration": 12,
    "start_time": "2023-07-16T17:36:36.702Z"
   },
   {
    "duration": 170,
    "start_time": "2023-07-16T17:36:49.043Z"
   },
   {
    "duration": 1354,
    "start_time": "2023-07-16T17:38:04.628Z"
   },
   {
    "duration": 1301,
    "start_time": "2023-07-16T17:38:10.219Z"
   },
   {
    "duration": 24,
    "start_time": "2023-07-16T17:38:22.498Z"
   },
   {
    "duration": 578,
    "start_time": "2023-07-16T18:57:38.750Z"
   },
   {
    "duration": 25,
    "start_time": "2023-07-16T18:57:39.331Z"
   },
   {
    "duration": 36,
    "start_time": "2023-07-16T18:57:39.358Z"
   },
   {
    "duration": 7,
    "start_time": "2023-07-16T18:57:39.395Z"
   },
   {
    "duration": 1463,
    "start_time": "2023-07-16T18:57:39.405Z"
   },
   {
    "duration": 10609,
    "start_time": "2023-07-16T18:57:40.870Z"
   },
   {
    "duration": 16,
    "start_time": "2023-07-16T18:57:51.480Z"
   },
   {
    "duration": 5,
    "start_time": "2023-07-16T18:57:51.497Z"
   },
   {
    "duration": 28,
    "start_time": "2023-07-16T18:57:51.504Z"
   },
   {
    "duration": 22,
    "start_time": "2023-07-16T18:57:51.534Z"
   },
   {
    "duration": 56,
    "start_time": "2023-07-16T18:57:51.558Z"
   },
   {
    "duration": 11,
    "start_time": "2023-07-16T18:57:51.616Z"
   },
   {
    "duration": 8,
    "start_time": "2023-07-16T18:57:51.629Z"
   },
   {
    "duration": 14,
    "start_time": "2023-07-16T18:57:51.640Z"
   },
   {
    "duration": 13,
    "start_time": "2023-07-16T18:57:51.656Z"
   },
   {
    "duration": 7,
    "start_time": "2023-07-16T18:57:51.670Z"
   },
   {
    "duration": 20,
    "start_time": "2023-07-16T18:57:51.679Z"
   },
   {
    "duration": 7,
    "start_time": "2023-07-16T18:57:51.701Z"
   },
   {
    "duration": 43,
    "start_time": "2023-07-16T18:57:51.709Z"
   },
   {
    "duration": 460,
    "start_time": "2023-07-16T18:57:51.754Z"
   },
   {
    "duration": 21,
    "start_time": "2023-07-16T18:57:52.215Z"
   },
   {
    "duration": 206,
    "start_time": "2023-07-16T18:57:52.252Z"
   },
   {
    "duration": 13,
    "start_time": "2023-07-16T18:57:52.460Z"
   },
   {
    "duration": 195,
    "start_time": "2023-07-16T18:57:52.474Z"
   },
   {
    "duration": 18,
    "start_time": "2023-07-16T18:57:52.670Z"
   },
   {
    "duration": 199,
    "start_time": "2023-07-16T18:57:52.690Z"
   },
   {
    "duration": 14,
    "start_time": "2023-07-16T18:57:52.891Z"
   },
   {
    "duration": 249,
    "start_time": "2023-07-16T18:57:52.906Z"
   },
   {
    "duration": 14,
    "start_time": "2023-07-16T18:57:53.157Z"
   },
   {
    "duration": 188,
    "start_time": "2023-07-16T18:57:53.173Z"
   },
   {
    "duration": 14,
    "start_time": "2023-07-16T18:57:53.363Z"
   },
   {
    "duration": 213,
    "start_time": "2023-07-16T18:57:53.378Z"
   },
   {
    "duration": 714,
    "start_time": "2023-07-16T19:05:54.545Z"
   },
   {
    "duration": 27,
    "start_time": "2023-07-16T19:05:55.262Z"
   },
   {
    "duration": 35,
    "start_time": "2023-07-16T19:05:55.291Z"
   },
   {
    "duration": 6,
    "start_time": "2023-07-16T19:05:55.333Z"
   },
   {
    "duration": 1277,
    "start_time": "2023-07-16T19:05:55.341Z"
   },
   {
    "duration": 10254,
    "start_time": "2023-07-16T19:05:56.619Z"
   },
   {
    "duration": 16,
    "start_time": "2023-07-16T19:06:06.875Z"
   },
   {
    "duration": 18,
    "start_time": "2023-07-16T19:06:06.893Z"
   },
   {
    "duration": 27,
    "start_time": "2023-07-16T19:06:06.912Z"
   },
   {
    "duration": 5,
    "start_time": "2023-07-16T19:06:06.942Z"
   },
   {
    "duration": 27,
    "start_time": "2023-07-16T19:06:06.948Z"
   },
   {
    "duration": 10,
    "start_time": "2023-07-16T19:06:06.977Z"
   },
   {
    "duration": 9,
    "start_time": "2023-07-16T19:06:06.989Z"
   },
   {
    "duration": 34,
    "start_time": "2023-07-16T19:06:06.999Z"
   },
   {
    "duration": 12,
    "start_time": "2023-07-16T19:06:07.034Z"
   },
   {
    "duration": 15,
    "start_time": "2023-07-16T19:06:07.047Z"
   },
   {
    "duration": 23,
    "start_time": "2023-07-16T19:06:07.064Z"
   },
   {
    "duration": 27,
    "start_time": "2023-07-16T19:06:07.088Z"
   },
   {
    "duration": 15,
    "start_time": "2023-07-16T19:06:07.117Z"
   },
   {
    "duration": 539,
    "start_time": "2023-07-16T19:06:07.134Z"
   },
   {
    "duration": 21,
    "start_time": "2023-07-16T19:06:07.675Z"
   },
   {
    "duration": 226,
    "start_time": "2023-07-16T19:06:07.698Z"
   },
   {
    "duration": 17,
    "start_time": "2023-07-16T19:06:07.926Z"
   },
   {
    "duration": 179,
    "start_time": "2023-07-16T19:06:07.945Z"
   },
   {
    "duration": 22,
    "start_time": "2023-07-16T19:06:08.126Z"
   },
   {
    "duration": 186,
    "start_time": "2023-07-16T19:06:08.150Z"
   },
   {
    "duration": 10,
    "start_time": "2023-07-16T19:06:08.338Z"
   },
   {
    "duration": 216,
    "start_time": "2023-07-16T19:06:08.351Z"
   },
   {
    "duration": 12,
    "start_time": "2023-07-16T19:06:08.568Z"
   },
   {
    "duration": 195,
    "start_time": "2023-07-16T19:06:08.581Z"
   },
   {
    "duration": 12,
    "start_time": "2023-07-16T19:06:08.777Z"
   },
   {
    "duration": 199,
    "start_time": "2023-07-16T19:06:08.790Z"
   },
   {
    "duration": 297,
    "start_time": "2023-07-17T17:45:55.601Z"
   },
   {
    "duration": 29,
    "start_time": "2023-07-17T17:46:00.448Z"
   },
   {
    "duration": 48,
    "start_time": "2023-07-17T17:46:03.357Z"
   },
   {
    "duration": 122,
    "start_time": "2023-07-17T17:46:12.978Z"
   },
   {
    "duration": 2033,
    "start_time": "2023-07-17T18:08:07.157Z"
   },
   {
    "duration": 5,
    "start_time": "2023-07-17T18:08:19.952Z"
   },
   {
    "duration": 611,
    "start_time": "2023-07-17T18:08:40.074Z"
   },
   {
    "duration": 22,
    "start_time": "2023-07-17T18:08:40.688Z"
   },
   {
    "duration": 27,
    "start_time": "2023-07-17T18:08:40.712Z"
   },
   {
    "duration": 14,
    "start_time": "2023-07-17T18:08:40.741Z"
   },
   {
    "duration": 1518,
    "start_time": "2023-07-17T18:08:40.758Z"
   },
   {
    "duration": 11092,
    "start_time": "2023-07-17T18:08:42.278Z"
   },
   {
    "duration": 21,
    "start_time": "2023-07-17T18:08:53.372Z"
   },
   {
    "duration": 12,
    "start_time": "2023-07-17T18:08:53.395Z"
   },
   {
    "duration": 58,
    "start_time": "2023-07-17T18:08:53.409Z"
   },
   {
    "duration": 9,
    "start_time": "2023-07-17T18:08:53.472Z"
   },
   {
    "duration": 34,
    "start_time": "2023-07-17T18:08:53.483Z"
   },
   {
    "duration": 38,
    "start_time": "2023-07-17T18:08:53.519Z"
   },
   {
    "duration": 16,
    "start_time": "2023-07-17T18:08:53.559Z"
   },
   {
    "duration": 11,
    "start_time": "2023-07-17T18:08:53.577Z"
   },
   {
    "duration": 27,
    "start_time": "2023-07-17T18:08:53.590Z"
   },
   {
    "duration": 10,
    "start_time": "2023-07-17T18:08:53.620Z"
   },
   {
    "duration": 84,
    "start_time": "2023-07-17T18:08:53.637Z"
   },
   {
    "duration": 51,
    "start_time": "2023-07-17T18:08:53.723Z"
   },
   {
    "duration": 34,
    "start_time": "2023-07-17T18:08:53.776Z"
   },
   {
    "duration": 414,
    "start_time": "2023-07-17T18:08:53.812Z"
   },
   {
    "duration": 30,
    "start_time": "2023-07-17T18:08:54.233Z"
   },
   {
    "duration": 206,
    "start_time": "2023-07-17T18:08:54.265Z"
   },
   {
    "duration": 13,
    "start_time": "2023-07-17T18:08:54.473Z"
   },
   {
    "duration": 246,
    "start_time": "2023-07-17T18:08:54.487Z"
   },
   {
    "duration": 28,
    "start_time": "2023-07-17T18:08:54.735Z"
   },
   {
    "duration": 250,
    "start_time": "2023-07-17T18:08:54.765Z"
   },
   {
    "duration": 25,
    "start_time": "2023-07-17T18:08:55.017Z"
   },
   {
    "duration": 218,
    "start_time": "2023-07-17T18:08:55.050Z"
   },
   {
    "duration": 13,
    "start_time": "2023-07-17T18:08:55.270Z"
   },
   {
    "duration": 167,
    "start_time": "2023-07-17T18:08:55.284Z"
   },
   {
    "duration": 12,
    "start_time": "2023-07-17T18:08:55.453Z"
   },
   {
    "duration": 193,
    "start_time": "2023-07-17T18:08:55.466Z"
   },
   {
    "duration": 5,
    "start_time": "2023-07-17T18:09:47.052Z"
   },
   {
    "duration": 2007,
    "start_time": "2023-07-17T18:09:59.009Z"
   },
   {
    "duration": 5,
    "start_time": "2023-07-17T18:10:08.309Z"
   },
   {
    "duration": 6,
    "start_time": "2023-07-17T18:13:04.729Z"
   },
   {
    "duration": 4,
    "start_time": "2023-07-17T18:14:04.497Z"
   },
   {
    "duration": 4,
    "start_time": "2023-07-17T18:14:08.597Z"
   },
   {
    "duration": 180,
    "start_time": "2023-07-17T18:24:12.571Z"
   },
   {
    "duration": 172,
    "start_time": "2023-07-17T18:24:21.987Z"
   },
   {
    "duration": 183,
    "start_time": "2023-07-17T18:24:27.035Z"
   },
   {
    "duration": 447,
    "start_time": "2023-07-18T09:47:50.374Z"
   },
   {
    "duration": 609,
    "start_time": "2023-07-18T09:49:37.211Z"
   },
   {
    "duration": 15,
    "start_time": "2023-07-18T09:49:48.246Z"
   },
   {
    "duration": 14,
    "start_time": "2023-07-18T09:50:15.705Z"
   },
   {
    "duration": 14,
    "start_time": "2023-07-18T09:50:29.904Z"
   },
   {
    "duration": 63,
    "start_time": "2023-07-18T09:54:08.768Z"
   },
   {
    "duration": 31,
    "start_time": "2023-07-18T09:54:18.205Z"
   },
   {
    "duration": 9,
    "start_time": "2023-07-18T09:54:30.193Z"
   },
   {
    "duration": 15,
    "start_time": "2023-07-18T09:54:38.974Z"
   },
   {
    "duration": 419,
    "start_time": "2023-07-18T09:54:44.119Z"
   },
   {
    "duration": 130,
    "start_time": "2023-07-18T09:54:44.540Z"
   },
   {
    "duration": 17,
    "start_time": "2023-07-18T09:54:44.674Z"
   },
   {
    "duration": 12,
    "start_time": "2023-07-18T09:54:44.693Z"
   },
   {
    "duration": 38,
    "start_time": "2023-07-18T09:54:44.707Z"
   },
   {
    "duration": 16,
    "start_time": "2023-07-18T09:54:44.747Z"
   },
   {
    "duration": 30,
    "start_time": "2023-07-18T09:54:44.765Z"
   },
   {
    "duration": 21,
    "start_time": "2023-07-18T09:54:44.797Z"
   },
   {
    "duration": 32,
    "start_time": "2023-07-18T09:54:44.821Z"
   },
   {
    "duration": 10,
    "start_time": "2023-07-18T09:54:44.856Z"
   },
   {
    "duration": 1379,
    "start_time": "2023-07-18T09:54:44.868Z"
   },
   {
    "duration": 10669,
    "start_time": "2023-07-18T09:54:46.249Z"
   },
   {
    "duration": 20,
    "start_time": "2023-07-18T09:54:56.919Z"
   },
   {
    "duration": 5,
    "start_time": "2023-07-18T09:54:56.942Z"
   },
   {
    "duration": 38,
    "start_time": "2023-07-18T09:54:56.949Z"
   },
   {
    "duration": 31,
    "start_time": "2023-07-18T09:54:56.989Z"
   },
   {
    "duration": 57,
    "start_time": "2023-07-18T09:54:57.022Z"
   },
   {
    "duration": 10,
    "start_time": "2023-07-18T09:54:57.082Z"
   },
   {
    "duration": 19,
    "start_time": "2023-07-18T09:54:57.094Z"
   },
   {
    "duration": 34,
    "start_time": "2023-07-18T09:54:57.115Z"
   },
   {
    "duration": 18,
    "start_time": "2023-07-18T09:54:57.151Z"
   },
   {
    "duration": 10,
    "start_time": "2023-07-18T09:54:57.171Z"
   },
   {
    "duration": 26,
    "start_time": "2023-07-18T09:54:57.182Z"
   },
   {
    "duration": 14,
    "start_time": "2023-07-18T09:54:57.210Z"
   },
   {
    "duration": 18,
    "start_time": "2023-07-18T09:54:57.226Z"
   },
   {
    "duration": 767,
    "start_time": "2023-07-18T09:54:57.246Z"
   },
   {
    "duration": 24,
    "start_time": "2023-07-18T09:54:58.016Z"
   },
   {
    "duration": 264,
    "start_time": "2023-07-18T09:54:58.042Z"
   },
   {
    "duration": 16,
    "start_time": "2023-07-18T09:54:58.308Z"
   },
   {
    "duration": 196,
    "start_time": "2023-07-18T09:54:58.326Z"
   },
   {
    "duration": 19,
    "start_time": "2023-07-18T09:54:58.525Z"
   },
   {
    "duration": 189,
    "start_time": "2023-07-18T09:54:58.546Z"
   },
   {
    "duration": 13,
    "start_time": "2023-07-18T09:54:58.737Z"
   },
   {
    "duration": 264,
    "start_time": "2023-07-18T09:54:58.751Z"
   },
   {
    "duration": 13,
    "start_time": "2023-07-18T09:54:59.017Z"
   },
   {
    "duration": 173,
    "start_time": "2023-07-18T09:54:59.032Z"
   },
   {
    "duration": 19,
    "start_time": "2023-07-18T09:54:59.206Z"
   },
   {
    "duration": 201,
    "start_time": "2023-07-18T09:54:59.228Z"
   },
   {
    "duration": 53,
    "start_time": "2023-07-18T10:00:07.078Z"
   },
   {
    "duration": 18,
    "start_time": "2023-07-18T10:01:08.117Z"
   },
   {
    "duration": 157,
    "start_time": "2023-07-18T10:01:32.323Z"
   },
   {
    "duration": 15,
    "start_time": "2023-07-18T10:03:32.207Z"
   },
   {
    "duration": 34,
    "start_time": "2023-07-18T10:03:44.542Z"
   },
   {
    "duration": 6,
    "start_time": "2023-07-18T10:04:25.146Z"
   },
   {
    "duration": 14,
    "start_time": "2023-07-18T10:04:34.068Z"
   },
   {
    "duration": 6,
    "start_time": "2023-07-18T10:04:42.938Z"
   },
   {
    "duration": 9,
    "start_time": "2023-07-18T10:05:34.842Z"
   },
   {
    "duration": 37,
    "start_time": "2023-07-18T10:07:36.668Z"
   },
   {
    "duration": 4,
    "start_time": "2023-07-18T10:14:08.482Z"
   },
   {
    "duration": 34,
    "start_time": "2023-07-18T10:14:14.310Z"
   },
   {
    "duration": 35,
    "start_time": "2023-07-18T10:14:26.417Z"
   },
   {
    "duration": 37,
    "start_time": "2023-07-18T10:16:10.288Z"
   },
   {
    "duration": 40,
    "start_time": "2023-07-18T10:16:26.045Z"
   },
   {
    "duration": 58,
    "start_time": "2023-07-18T10:17:11.994Z"
   },
   {
    "duration": 40,
    "start_time": "2023-07-18T10:17:25.007Z"
   },
   {
    "duration": 388,
    "start_time": "2023-07-18T10:17:30.246Z"
   },
   {
    "duration": 138,
    "start_time": "2023-07-18T10:17:30.636Z"
   },
   {
    "duration": 16,
    "start_time": "2023-07-18T10:17:30.775Z"
   },
   {
    "duration": 48,
    "start_time": "2023-07-18T10:17:30.793Z"
   },
   {
    "duration": 199,
    "start_time": "2023-07-18T10:17:30.844Z"
   },
   {
    "duration": 148,
    "start_time": "2023-07-18T10:17:31.045Z"
   },
   {
    "duration": 87,
    "start_time": "2023-07-18T10:17:31.195Z"
   },
   {
    "duration": 419,
    "start_time": "2023-07-18T10:17:31.284Z"
   },
   {
    "duration": 8,
    "start_time": "2023-07-18T10:17:31.705Z"
   },
   {
    "duration": 1549,
    "start_time": "2023-07-18T10:17:31.714Z"
   },
   {
    "duration": 11096,
    "start_time": "2023-07-18T10:17:33.265Z"
   },
   {
    "duration": 17,
    "start_time": "2023-07-18T10:17:44.363Z"
   },
   {
    "duration": 43,
    "start_time": "2023-07-18T10:17:44.382Z"
   },
   {
    "duration": 81,
    "start_time": "2023-07-18T10:17:44.428Z"
   },
   {
    "duration": 25,
    "start_time": "2023-07-18T10:17:44.512Z"
   },
   {
    "duration": 85,
    "start_time": "2023-07-18T10:17:44.540Z"
   },
   {
    "duration": 15,
    "start_time": "2023-07-18T10:17:44.627Z"
   },
   {
    "duration": 55,
    "start_time": "2023-07-18T10:17:44.644Z"
   },
   {
    "duration": 11,
    "start_time": "2023-07-18T10:17:44.701Z"
   },
   {
    "duration": 16,
    "start_time": "2023-07-18T10:17:44.714Z"
   },
   {
    "duration": 17,
    "start_time": "2023-07-18T10:17:44.732Z"
   },
   {
    "duration": 27,
    "start_time": "2023-07-18T10:17:44.751Z"
   },
   {
    "duration": 45,
    "start_time": "2023-07-18T10:17:44.780Z"
   },
   {
    "duration": 43,
    "start_time": "2023-07-18T10:17:44.827Z"
   },
   {
    "duration": 26,
    "start_time": "2023-07-18T10:17:44.872Z"
   },
   {
    "duration": 45,
    "start_time": "2023-07-18T10:17:44.900Z"
   },
   {
    "duration": 224,
    "start_time": "2023-07-18T10:17:44.947Z"
   },
   {
    "duration": 26,
    "start_time": "2023-07-18T10:17:45.173Z"
   },
   {
    "duration": 230,
    "start_time": "2023-07-18T10:17:45.214Z"
   },
   {
    "duration": 13,
    "start_time": "2023-07-18T10:17:45.446Z"
   },
   {
    "duration": 206,
    "start_time": "2023-07-18T10:17:45.461Z"
   },
   {
    "duration": 18,
    "start_time": "2023-07-18T10:17:45.669Z"
   },
   {
    "duration": 273,
    "start_time": "2023-07-18T10:17:45.688Z"
   },
   {
    "duration": 17,
    "start_time": "2023-07-18T10:17:45.964Z"
   },
   {
    "duration": 197,
    "start_time": "2023-07-18T10:17:45.983Z"
   },
   {
    "duration": 17,
    "start_time": "2023-07-18T10:17:46.182Z"
   },
   {
    "duration": 202,
    "start_time": "2023-07-18T10:17:46.200Z"
   },
   {
    "duration": 23,
    "start_time": "2023-07-18T10:17:46.404Z"
   },
   {
    "duration": 208,
    "start_time": "2023-07-18T10:17:46.429Z"
   },
   {
    "duration": 41,
    "start_time": "2023-07-18T10:18:36.656Z"
   },
   {
    "duration": 52,
    "start_time": "2023-07-18T10:19:00.587Z"
   },
   {
    "duration": 18,
    "start_time": "2023-07-18T10:19:12.558Z"
   },
   {
    "duration": 76,
    "start_time": "2023-07-18T10:24:32.593Z"
   },
   {
    "duration": 9,
    "start_time": "2023-07-18T10:24:38.406Z"
   },
   {
    "duration": 9,
    "start_time": "2023-07-18T10:24:41.157Z"
   },
   {
    "duration": 31,
    "start_time": "2023-07-18T10:24:49.123Z"
   },
   {
    "duration": 393,
    "start_time": "2023-07-18T10:25:05.450Z"
   },
   {
    "duration": 131,
    "start_time": "2023-07-18T10:25:05.844Z"
   },
   {
    "duration": 18,
    "start_time": "2023-07-18T10:25:05.977Z"
   },
   {
    "duration": 52,
    "start_time": "2023-07-18T10:25:05.997Z"
   },
   {
    "duration": 31,
    "start_time": "2023-07-18T10:25:06.051Z"
   },
   {
    "duration": 21,
    "start_time": "2023-07-18T10:25:06.084Z"
   },
   {
    "duration": 31,
    "start_time": "2023-07-18T10:25:06.107Z"
   },
   {
    "duration": 350,
    "start_time": "2023-07-18T10:25:06.141Z"
   },
   {
    "duration": 6,
    "start_time": "2023-07-18T10:25:06.493Z"
   },
   {
    "duration": 1448,
    "start_time": "2023-07-18T10:25:06.501Z"
   },
   {
    "duration": 10956,
    "start_time": "2023-07-18T10:25:07.951Z"
   },
   {
    "duration": 16,
    "start_time": "2023-07-18T10:25:18.909Z"
   },
   {
    "duration": 11,
    "start_time": "2023-07-18T10:25:18.927Z"
   },
   {
    "duration": 32,
    "start_time": "2023-07-18T10:25:18.941Z"
   },
   {
    "duration": 38,
    "start_time": "2023-07-18T10:25:18.975Z"
   },
   {
    "duration": 28,
    "start_time": "2023-07-18T10:25:19.015Z"
   },
   {
    "duration": 16,
    "start_time": "2023-07-18T10:25:19.045Z"
   },
   {
    "duration": 36,
    "start_time": "2023-07-18T10:25:19.062Z"
   },
   {
    "duration": 11,
    "start_time": "2023-07-18T10:25:19.100Z"
   },
   {
    "duration": 13,
    "start_time": "2023-07-18T10:25:19.112Z"
   },
   {
    "duration": 7,
    "start_time": "2023-07-18T10:25:19.127Z"
   },
   {
    "duration": 13,
    "start_time": "2023-07-18T10:25:19.136Z"
   },
   {
    "duration": 20,
    "start_time": "2023-07-18T10:25:19.150Z"
   },
   {
    "duration": 20,
    "start_time": "2023-07-18T10:25:19.172Z"
   },
   {
    "duration": 18,
    "start_time": "2023-07-18T10:25:19.194Z"
   },
   {
    "duration": 24,
    "start_time": "2023-07-18T10:25:19.214Z"
   },
   {
    "duration": 185,
    "start_time": "2023-07-18T10:25:19.239Z"
   },
   {
    "duration": 20,
    "start_time": "2023-07-18T10:25:19.426Z"
   },
   {
    "duration": 244,
    "start_time": "2023-07-18T10:25:19.447Z"
   },
   {
    "duration": 20,
    "start_time": "2023-07-18T10:25:19.694Z"
   },
   {
    "duration": 231,
    "start_time": "2023-07-18T10:25:19.716Z"
   },
   {
    "duration": 17,
    "start_time": "2023-07-18T10:25:19.949Z"
   },
   {
    "duration": 241,
    "start_time": "2023-07-18T10:25:19.967Z"
   },
   {
    "duration": 13,
    "start_time": "2023-07-18T10:25:20.213Z"
   },
   {
    "duration": 189,
    "start_time": "2023-07-18T10:25:20.228Z"
   },
   {
    "duration": 14,
    "start_time": "2023-07-18T10:25:20.419Z"
   },
   {
    "duration": 174,
    "start_time": "2023-07-18T10:25:20.435Z"
   },
   {
    "duration": 13,
    "start_time": "2023-07-18T10:25:20.610Z"
   },
   {
    "duration": 190,
    "start_time": "2023-07-18T10:25:20.625Z"
   },
   {
    "duration": 19,
    "start_time": "2023-07-18T10:29:04.260Z"
   },
   {
    "duration": 94,
    "start_time": "2023-07-18T10:29:10.045Z"
   },
   {
    "duration": 21,
    "start_time": "2023-07-18T10:29:31.719Z"
   },
   {
    "duration": 23,
    "start_time": "2023-07-18T10:35:41.849Z"
   },
   {
    "duration": 20,
    "start_time": "2023-07-18T10:36:03.457Z"
   },
   {
    "duration": 15,
    "start_time": "2023-07-18T10:36:29.845Z"
   },
   {
    "duration": 17,
    "start_time": "2023-07-18T10:44:49.717Z"
   },
   {
    "duration": 473,
    "start_time": "2023-07-18T10:45:15.576Z"
   },
   {
    "duration": 427,
    "start_time": "2023-07-18T10:45:38.202Z"
   },
   {
    "duration": 129,
    "start_time": "2023-07-18T10:45:38.631Z"
   },
   {
    "duration": 17,
    "start_time": "2023-07-18T10:45:38.762Z"
   },
   {
    "duration": 10,
    "start_time": "2023-07-18T10:45:38.781Z"
   },
   {
    "duration": 26,
    "start_time": "2023-07-18T10:45:38.793Z"
   },
   {
    "duration": 20,
    "start_time": "2023-07-18T10:45:38.821Z"
   },
   {
    "duration": 23,
    "start_time": "2023-07-18T10:45:38.843Z"
   },
   {
    "duration": 354,
    "start_time": "2023-07-18T10:45:38.868Z"
   },
   {
    "duration": 7,
    "start_time": "2023-07-18T10:45:39.224Z"
   },
   {
    "duration": 1568,
    "start_time": "2023-07-18T10:45:39.235Z"
   },
   {
    "duration": 11226,
    "start_time": "2023-07-18T10:45:40.805Z"
   },
   {
    "duration": 17,
    "start_time": "2023-07-18T10:45:52.033Z"
   },
   {
    "duration": 29,
    "start_time": "2023-07-18T10:45:52.051Z"
   },
   {
    "duration": 24,
    "start_time": "2023-07-18T10:45:52.082Z"
   },
   {
    "duration": 24,
    "start_time": "2023-07-18T10:45:52.107Z"
   },
   {
    "duration": 51,
    "start_time": "2023-07-18T10:45:52.133Z"
   },
   {
    "duration": 606,
    "start_time": "2023-07-18T10:45:52.185Z"
   },
   {
    "duration": 0,
    "start_time": "2023-07-18T10:45:52.794Z"
   },
   {
    "duration": 0,
    "start_time": "2023-07-18T10:45:52.795Z"
   },
   {
    "duration": 0,
    "start_time": "2023-07-18T10:45:52.797Z"
   },
   {
    "duration": 1,
    "start_time": "2023-07-18T10:45:52.798Z"
   },
   {
    "duration": 0,
    "start_time": "2023-07-18T10:45:52.800Z"
   },
   {
    "duration": 0,
    "start_time": "2023-07-18T10:45:52.801Z"
   },
   {
    "duration": 0,
    "start_time": "2023-07-18T10:45:52.803Z"
   },
   {
    "duration": 0,
    "start_time": "2023-07-18T10:45:52.803Z"
   },
   {
    "duration": 0,
    "start_time": "2023-07-18T10:45:52.805Z"
   },
   {
    "duration": 0,
    "start_time": "2023-07-18T10:45:52.806Z"
   },
   {
    "duration": 0,
    "start_time": "2023-07-18T10:45:52.807Z"
   },
   {
    "duration": 0,
    "start_time": "2023-07-18T10:45:52.808Z"
   },
   {
    "duration": 0,
    "start_time": "2023-07-18T10:45:52.809Z"
   },
   {
    "duration": 0,
    "start_time": "2023-07-18T10:45:52.810Z"
   },
   {
    "duration": 0,
    "start_time": "2023-07-18T10:45:52.811Z"
   },
   {
    "duration": 0,
    "start_time": "2023-07-18T10:45:52.812Z"
   },
   {
    "duration": 0,
    "start_time": "2023-07-18T10:45:52.813Z"
   },
   {
    "duration": 0,
    "start_time": "2023-07-18T10:45:52.814Z"
   },
   {
    "duration": 0,
    "start_time": "2023-07-18T10:45:52.815Z"
   },
   {
    "duration": 0,
    "start_time": "2023-07-18T10:45:52.816Z"
   },
   {
    "duration": 0,
    "start_time": "2023-07-18T10:45:52.817Z"
   },
   {
    "duration": 0,
    "start_time": "2023-07-18T10:45:52.818Z"
   },
   {
    "duration": 0,
    "start_time": "2023-07-18T10:45:52.819Z"
   },
   {
    "duration": 507,
    "start_time": "2023-07-18T10:46:04.804Z"
   },
   {
    "duration": 620,
    "start_time": "2023-07-18T10:46:31.436Z"
   },
   {
    "duration": 628,
    "start_time": "2023-07-18T10:46:58.320Z"
   },
   {
    "duration": 484,
    "start_time": "2023-07-18T10:47:16.672Z"
   },
   {
    "duration": 485,
    "start_time": "2023-07-18T10:47:52.613Z"
   },
   {
    "duration": 64,
    "start_time": "2023-07-18T10:48:44.111Z"
   },
   {
    "duration": 569,
    "start_time": "2023-07-18T10:52:34.279Z"
   },
   {
    "duration": 505,
    "start_time": "2023-07-18T10:52:44.177Z"
   },
   {
    "duration": 14,
    "start_time": "2023-07-18T10:54:09.466Z"
   },
   {
    "duration": 55,
    "start_time": "2023-07-18T10:54:19.275Z"
   },
   {
    "duration": 35,
    "start_time": "2023-07-18T10:54:55.957Z"
   },
   {
    "duration": 35,
    "start_time": "2023-07-18T10:55:12.490Z"
   },
   {
    "duration": 50,
    "start_time": "2023-07-18T10:56:04.293Z"
   },
   {
    "duration": 7,
    "start_time": "2023-07-18T10:56:07.953Z"
   },
   {
    "duration": 20,
    "start_time": "2023-07-18T10:56:48.371Z"
   },
   {
    "duration": 21,
    "start_time": "2023-07-18T10:59:12.360Z"
   },
   {
    "duration": 20,
    "start_time": "2023-07-18T10:59:37.982Z"
   },
   {
    "duration": 20,
    "start_time": "2023-07-18T10:59:54.692Z"
   },
   {
    "duration": 22,
    "start_time": "2023-07-18T11:00:01.799Z"
   },
   {
    "duration": 19,
    "start_time": "2023-07-18T11:00:17.803Z"
   },
   {
    "duration": 112,
    "start_time": "2023-07-18T11:00:31.887Z"
   },
   {
    "duration": 21,
    "start_time": "2023-07-18T11:00:36.605Z"
   },
   {
    "duration": 20,
    "start_time": "2023-07-18T11:00:53.697Z"
   },
   {
    "duration": 27,
    "start_time": "2023-07-18T11:01:21.962Z"
   },
   {
    "duration": 439,
    "start_time": "2023-07-18T11:01:32.183Z"
   },
   {
    "duration": 134,
    "start_time": "2023-07-18T11:01:32.625Z"
   },
   {
    "duration": 312,
    "start_time": "2023-07-18T11:01:32.760Z"
   },
   {
    "duration": 196,
    "start_time": "2023-07-18T11:01:33.074Z"
   },
   {
    "duration": 146,
    "start_time": "2023-07-18T11:01:33.272Z"
   },
   {
    "duration": 23,
    "start_time": "2023-07-18T11:01:33.420Z"
   },
   {
    "duration": 197,
    "start_time": "2023-07-18T11:01:33.445Z"
   },
   {
    "duration": 403,
    "start_time": "2023-07-18T11:01:33.644Z"
   },
   {
    "duration": 6,
    "start_time": "2023-07-18T11:01:34.050Z"
   },
   {
    "duration": 1472,
    "start_time": "2023-07-18T11:01:34.058Z"
   },
   {
    "duration": 10849,
    "start_time": "2023-07-18T11:01:35.531Z"
   },
   {
    "duration": 32,
    "start_time": "2023-07-18T11:01:46.382Z"
   },
   {
    "duration": 7,
    "start_time": "2023-07-18T11:01:46.416Z"
   },
   {
    "duration": 56,
    "start_time": "2023-07-18T11:01:46.427Z"
   },
   {
    "duration": 78,
    "start_time": "2023-07-18T11:01:46.485Z"
   },
   {
    "duration": 21,
    "start_time": "2023-07-18T11:01:46.565Z"
   },
   {
    "duration": 29,
    "start_time": "2023-07-18T11:01:46.588Z"
   },
   {
    "duration": 17,
    "start_time": "2023-07-18T11:01:46.619Z"
   },
   {
    "duration": 40,
    "start_time": "2023-07-18T11:01:46.638Z"
   },
   {
    "duration": 13,
    "start_time": "2023-07-18T11:01:46.680Z"
   },
   {
    "duration": 23,
    "start_time": "2023-07-18T11:01:46.696Z"
   },
   {
    "duration": 5,
    "start_time": "2023-07-18T11:01:46.721Z"
   },
   {
    "duration": 569,
    "start_time": "2023-07-18T11:01:46.728Z"
   },
   {
    "duration": 0,
    "start_time": "2023-07-18T11:01:47.300Z"
   },
   {
    "duration": 0,
    "start_time": "2023-07-18T11:01:47.301Z"
   },
   {
    "duration": 0,
    "start_time": "2023-07-18T11:01:47.303Z"
   },
   {
    "duration": 0,
    "start_time": "2023-07-18T11:01:47.304Z"
   },
   {
    "duration": 0,
    "start_time": "2023-07-18T11:01:47.306Z"
   },
   {
    "duration": 0,
    "start_time": "2023-07-18T11:01:47.308Z"
   },
   {
    "duration": 0,
    "start_time": "2023-07-18T11:01:47.309Z"
   },
   {
    "duration": 0,
    "start_time": "2023-07-18T11:01:47.311Z"
   },
   {
    "duration": 0,
    "start_time": "2023-07-18T11:01:47.312Z"
   },
   {
    "duration": 0,
    "start_time": "2023-07-18T11:01:47.315Z"
   },
   {
    "duration": 0,
    "start_time": "2023-07-18T11:01:47.316Z"
   },
   {
    "duration": 0,
    "start_time": "2023-07-18T11:01:47.318Z"
   },
   {
    "duration": 0,
    "start_time": "2023-07-18T11:01:47.320Z"
   },
   {
    "duration": 0,
    "start_time": "2023-07-18T11:01:47.321Z"
   },
   {
    "duration": 0,
    "start_time": "2023-07-18T11:01:47.326Z"
   },
   {
    "duration": 0,
    "start_time": "2023-07-18T11:01:47.328Z"
   },
   {
    "duration": 0,
    "start_time": "2023-07-18T11:01:47.329Z"
   },
   {
    "duration": 459,
    "start_time": "2023-07-18T11:02:05.180Z"
   },
   {
    "duration": 511,
    "start_time": "2023-07-18T11:02:14.861Z"
   },
   {
    "duration": 488,
    "start_time": "2023-07-18T11:03:14.579Z"
   },
   {
    "duration": 411,
    "start_time": "2023-07-18T11:03:33.053Z"
   },
   {
    "duration": 133,
    "start_time": "2023-07-18T11:03:33.467Z"
   },
   {
    "duration": 20,
    "start_time": "2023-07-18T11:03:33.602Z"
   },
   {
    "duration": 48,
    "start_time": "2023-07-18T11:03:33.624Z"
   },
   {
    "duration": 56,
    "start_time": "2023-07-18T11:03:33.676Z"
   },
   {
    "duration": 23,
    "start_time": "2023-07-18T11:03:33.734Z"
   },
   {
    "duration": 29,
    "start_time": "2023-07-18T11:03:33.758Z"
   },
   {
    "duration": 379,
    "start_time": "2023-07-18T11:03:33.789Z"
   },
   {
    "duration": 9,
    "start_time": "2023-07-18T11:03:34.171Z"
   },
   {
    "duration": 1446,
    "start_time": "2023-07-18T11:03:34.182Z"
   },
   {
    "duration": 11040,
    "start_time": "2023-07-18T11:03:35.630Z"
   },
   {
    "duration": 16,
    "start_time": "2023-07-18T11:03:46.672Z"
   },
   {
    "duration": 23,
    "start_time": "2023-07-18T11:03:46.689Z"
   },
   {
    "duration": 25,
    "start_time": "2023-07-18T11:03:46.716Z"
   },
   {
    "duration": 60,
    "start_time": "2023-07-18T11:03:46.743Z"
   },
   {
    "duration": 20,
    "start_time": "2023-07-18T11:03:46.805Z"
   },
   {
    "duration": 680,
    "start_time": "2023-07-18T11:03:46.827Z"
   },
   {
    "duration": 0,
    "start_time": "2023-07-18T11:03:47.509Z"
   },
   {
    "duration": 0,
    "start_time": "2023-07-18T11:03:47.511Z"
   },
   {
    "duration": 0,
    "start_time": "2023-07-18T11:03:47.512Z"
   },
   {
    "duration": 0,
    "start_time": "2023-07-18T11:03:47.513Z"
   },
   {
    "duration": 0,
    "start_time": "2023-07-18T11:03:47.515Z"
   },
   {
    "duration": 0,
    "start_time": "2023-07-18T11:03:47.516Z"
   },
   {
    "duration": 0,
    "start_time": "2023-07-18T11:03:47.517Z"
   },
   {
    "duration": 0,
    "start_time": "2023-07-18T11:03:47.518Z"
   },
   {
    "duration": 0,
    "start_time": "2023-07-18T11:03:47.519Z"
   },
   {
    "duration": 0,
    "start_time": "2023-07-18T11:03:47.520Z"
   },
   {
    "duration": 0,
    "start_time": "2023-07-18T11:03:47.522Z"
   },
   {
    "duration": 0,
    "start_time": "2023-07-18T11:03:47.523Z"
   },
   {
    "duration": 0,
    "start_time": "2023-07-18T11:03:47.524Z"
   },
   {
    "duration": 0,
    "start_time": "2023-07-18T11:03:47.525Z"
   },
   {
    "duration": 0,
    "start_time": "2023-07-18T11:03:47.526Z"
   },
   {
    "duration": 0,
    "start_time": "2023-07-18T11:03:47.527Z"
   },
   {
    "duration": 0,
    "start_time": "2023-07-18T11:03:47.529Z"
   },
   {
    "duration": 0,
    "start_time": "2023-07-18T11:03:47.530Z"
   },
   {
    "duration": 0,
    "start_time": "2023-07-18T11:03:47.531Z"
   },
   {
    "duration": 0,
    "start_time": "2023-07-18T11:03:47.533Z"
   },
   {
    "duration": 0,
    "start_time": "2023-07-18T11:03:47.534Z"
   },
   {
    "duration": 0,
    "start_time": "2023-07-18T11:03:47.536Z"
   },
   {
    "duration": 0,
    "start_time": "2023-07-18T11:03:47.538Z"
   },
   {
    "duration": 19,
    "start_time": "2023-07-18T11:05:06.137Z"
   },
   {
    "duration": 13,
    "start_time": "2023-07-18T11:05:07.256Z"
   },
   {
    "duration": 36,
    "start_time": "2023-07-18T11:05:13.653Z"
   },
   {
    "duration": 24,
    "start_time": "2023-07-18T11:07:06.765Z"
   },
   {
    "duration": 33,
    "start_time": "2023-07-18T11:07:37.669Z"
   },
   {
    "duration": 29,
    "start_time": "2023-07-18T11:07:59.481Z"
   },
   {
    "duration": 260,
    "start_time": "2023-07-18T11:08:09.511Z"
   },
   {
    "duration": 337,
    "start_time": "2023-07-18T11:08:31.649Z"
   },
   {
    "duration": 6,
    "start_time": "2023-07-18T11:15:22.256Z"
   },
   {
    "duration": 17,
    "start_time": "2023-07-18T11:15:32.198Z"
   },
   {
    "duration": 442,
    "start_time": "2023-07-18T11:15:43.508Z"
   },
   {
    "duration": 127,
    "start_time": "2023-07-18T11:15:43.953Z"
   },
   {
    "duration": 17,
    "start_time": "2023-07-18T11:15:44.082Z"
   },
   {
    "duration": 28,
    "start_time": "2023-07-18T11:15:44.101Z"
   },
   {
    "duration": 25,
    "start_time": "2023-07-18T11:15:44.132Z"
   },
   {
    "duration": 31,
    "start_time": "2023-07-18T11:15:44.159Z"
   },
   {
    "duration": 30,
    "start_time": "2023-07-18T11:15:44.191Z"
   },
   {
    "duration": 325,
    "start_time": "2023-07-18T11:15:44.223Z"
   },
   {
    "duration": 7,
    "start_time": "2023-07-18T11:15:44.550Z"
   },
   {
    "duration": 1358,
    "start_time": "2023-07-18T11:15:44.559Z"
   },
   {
    "duration": 10647,
    "start_time": "2023-07-18T11:15:45.919Z"
   },
   {
    "duration": 16,
    "start_time": "2023-07-18T11:15:56.568Z"
   },
   {
    "duration": 21,
    "start_time": "2023-07-18T11:15:56.586Z"
   },
   {
    "duration": 45,
    "start_time": "2023-07-18T11:15:56.614Z"
   },
   {
    "duration": 35,
    "start_time": "2023-07-18T11:15:56.661Z"
   },
   {
    "duration": 83,
    "start_time": "2023-07-18T11:15:56.698Z"
   },
   {
    "duration": 71,
    "start_time": "2023-07-18T11:15:56.783Z"
   },
   {
    "duration": 86,
    "start_time": "2023-07-18T11:15:56.856Z"
   },
   {
    "duration": 356,
    "start_time": "2023-07-18T11:15:56.944Z"
   },
   {
    "duration": 19,
    "start_time": "2023-07-18T11:15:57.303Z"
   },
   {
    "duration": 22,
    "start_time": "2023-07-18T11:15:57.324Z"
   },
   {
    "duration": 10,
    "start_time": "2023-07-18T11:15:57.348Z"
   },
   {
    "duration": 16,
    "start_time": "2023-07-18T11:15:57.360Z"
   },
   {
    "duration": 22,
    "start_time": "2023-07-18T11:15:57.378Z"
   },
   {
    "duration": 4,
    "start_time": "2023-07-18T11:15:57.415Z"
   },
   {
    "duration": 31,
    "start_time": "2023-07-18T11:15:57.421Z"
   },
   {
    "duration": 14,
    "start_time": "2023-07-18T11:15:57.454Z"
   },
   {
    "duration": 36,
    "start_time": "2023-07-18T11:15:57.470Z"
   },
   {
    "duration": 178,
    "start_time": "2023-07-18T11:15:57.508Z"
   },
   {
    "duration": 29,
    "start_time": "2023-07-18T11:15:57.688Z"
   },
   {
    "duration": 225,
    "start_time": "2023-07-18T11:15:57.718Z"
   },
   {
    "duration": 14,
    "start_time": "2023-07-18T11:15:57.944Z"
   },
   {
    "duration": 262,
    "start_time": "2023-07-18T11:15:57.959Z"
   },
   {
    "duration": 19,
    "start_time": "2023-07-18T11:15:58.224Z"
   },
   {
    "duration": 190,
    "start_time": "2023-07-18T11:15:58.244Z"
   },
   {
    "duration": 14,
    "start_time": "2023-07-18T11:15:58.437Z"
   },
   {
    "duration": 201,
    "start_time": "2023-07-18T11:15:58.453Z"
   },
   {
    "duration": 15,
    "start_time": "2023-07-18T11:15:58.657Z"
   },
   {
    "duration": 177,
    "start_time": "2023-07-18T11:15:58.674Z"
   },
   {
    "duration": 15,
    "start_time": "2023-07-18T11:15:58.853Z"
   },
   {
    "duration": 199,
    "start_time": "2023-07-18T11:15:58.872Z"
   },
   {
    "duration": 169,
    "start_time": "2023-07-18T11:17:44.049Z"
   },
   {
    "duration": 4,
    "start_time": "2023-07-18T11:18:03.853Z"
   },
   {
    "duration": 186,
    "start_time": "2023-07-18T11:18:23.956Z"
   },
   {
    "duration": 87,
    "start_time": "2023-07-18T11:19:04.313Z"
   },
   {
    "duration": 164,
    "start_time": "2023-07-18T11:19:10.496Z"
   },
   {
    "duration": 154,
    "start_time": "2023-07-18T11:20:15.684Z"
   },
   {
    "duration": 169,
    "start_time": "2023-07-18T11:20:51.784Z"
   },
   {
    "duration": 167,
    "start_time": "2023-07-18T11:21:04.888Z"
   },
   {
    "duration": 242,
    "start_time": "2023-07-18T11:23:26.622Z"
   },
   {
    "duration": 265,
    "start_time": "2023-07-18T11:24:09.553Z"
   },
   {
    "duration": 197,
    "start_time": "2023-07-18T11:24:27.465Z"
   },
   {
    "duration": 132,
    "start_time": "2023-07-18T11:24:55.452Z"
   },
   {
    "duration": 137,
    "start_time": "2023-07-18T11:27:33.213Z"
   },
   {
    "duration": 162,
    "start_time": "2023-07-18T11:28:50.351Z"
   },
   {
    "duration": 157,
    "start_time": "2023-07-18T11:28:57.303Z"
   },
   {
    "duration": 11,
    "start_time": "2023-07-18T11:32:51.952Z"
   },
   {
    "duration": 31,
    "start_time": "2023-07-18T11:32:57.279Z"
   },
   {
    "duration": 28,
    "start_time": "2023-07-18T11:33:03.467Z"
   },
   {
    "duration": 104,
    "start_time": "2023-07-18T11:37:12.092Z"
   },
   {
    "duration": 699,
    "start_time": "2023-07-18T11:39:35.296Z"
   },
   {
    "duration": 126,
    "start_time": "2023-07-18T11:39:35.996Z"
   },
   {
    "duration": 16,
    "start_time": "2023-07-18T11:39:36.124Z"
   },
   {
    "duration": 34,
    "start_time": "2023-07-18T11:39:36.142Z"
   },
   {
    "duration": 30,
    "start_time": "2023-07-18T11:39:36.178Z"
   },
   {
    "duration": 43,
    "start_time": "2023-07-18T11:39:36.210Z"
   },
   {
    "duration": 43,
    "start_time": "2023-07-18T11:39:36.254Z"
   },
   {
    "duration": 56,
    "start_time": "2023-07-18T11:39:36.299Z"
   },
   {
    "duration": 6,
    "start_time": "2023-07-18T11:39:36.357Z"
   },
   {
    "duration": 1353,
    "start_time": "2023-07-18T11:39:36.366Z"
   },
   {
    "duration": 10715,
    "start_time": "2023-07-18T11:39:37.721Z"
   },
   {
    "duration": 14,
    "start_time": "2023-07-18T11:39:48.438Z"
   },
   {
    "duration": 14,
    "start_time": "2023-07-18T11:39:48.454Z"
   },
   {
    "duration": 41,
    "start_time": "2023-07-18T11:39:48.469Z"
   },
   {
    "duration": 27,
    "start_time": "2023-07-18T11:39:48.512Z"
   },
   {
    "duration": 24,
    "start_time": "2023-07-18T11:39:48.540Z"
   },
   {
    "duration": 7,
    "start_time": "2023-07-18T11:39:48.566Z"
   },
   {
    "duration": 51,
    "start_time": "2023-07-18T11:39:48.576Z"
   },
   {
    "duration": 356,
    "start_time": "2023-07-18T11:39:48.629Z"
   },
   {
    "duration": 10,
    "start_time": "2023-07-18T11:39:48.986Z"
   },
   {
    "duration": 33,
    "start_time": "2023-07-18T11:39:48.998Z"
   },
   {
    "duration": 7,
    "start_time": "2023-07-18T11:39:49.032Z"
   },
   {
    "duration": 4,
    "start_time": "2023-07-18T11:39:49.041Z"
   },
   {
    "duration": 13,
    "start_time": "2023-07-18T11:39:49.046Z"
   },
   {
    "duration": 7,
    "start_time": "2023-07-18T11:39:49.060Z"
   },
   {
    "duration": 18,
    "start_time": "2023-07-18T11:39:49.068Z"
   },
   {
    "duration": 27,
    "start_time": "2023-07-18T11:39:49.087Z"
   },
   {
    "duration": 14,
    "start_time": "2023-07-18T11:39:49.117Z"
   },
   {
    "duration": 156,
    "start_time": "2023-07-18T11:39:49.133Z"
   },
   {
    "duration": 30,
    "start_time": "2023-07-18T11:39:49.291Z"
   },
   {
    "duration": 160,
    "start_time": "2023-07-18T11:39:49.322Z"
   },
   {
    "duration": 13,
    "start_time": "2023-07-18T11:39:49.483Z"
   },
   {
    "duration": 271,
    "start_time": "2023-07-18T11:39:49.497Z"
   },
   {
    "duration": 22,
    "start_time": "2023-07-18T11:39:49.770Z"
   },
   {
    "duration": 223,
    "start_time": "2023-07-18T11:39:49.794Z"
   },
   {
    "duration": 142,
    "start_time": "2023-07-18T11:39:50.019Z"
   },
   {
    "duration": 13,
    "start_time": "2023-07-18T11:39:50.163Z"
   },
   {
    "duration": 181,
    "start_time": "2023-07-18T11:39:50.177Z"
   },
   {
    "duration": 13,
    "start_time": "2023-07-18T11:39:50.360Z"
   },
   {
    "duration": 174,
    "start_time": "2023-07-18T11:39:50.374Z"
   },
   {
    "duration": 26,
    "start_time": "2023-07-18T11:39:50.550Z"
   },
   {
    "duration": 116,
    "start_time": "2023-07-18T11:39:50.578Z"
   },
   {
    "duration": 7,
    "start_time": "2023-07-18T11:40:32.064Z"
   },
   {
    "duration": 17,
    "start_time": "2023-07-18T11:41:21.117Z"
   },
   {
    "duration": 639,
    "start_time": "2023-07-18T11:42:51.640Z"
   },
   {
    "duration": 126,
    "start_time": "2023-07-18T11:42:52.281Z"
   },
   {
    "duration": 15,
    "start_time": "2023-07-18T11:42:52.409Z"
   },
   {
    "duration": 11,
    "start_time": "2023-07-18T11:42:52.427Z"
   },
   {
    "duration": 26,
    "start_time": "2023-07-18T11:42:52.441Z"
   },
   {
    "duration": 47,
    "start_time": "2023-07-18T11:42:52.469Z"
   },
   {
    "duration": 22,
    "start_time": "2023-07-18T11:42:52.518Z"
   },
   {
    "duration": 77,
    "start_time": "2023-07-18T11:42:52.542Z"
   },
   {
    "duration": 8,
    "start_time": "2023-07-18T11:42:52.621Z"
   },
   {
    "duration": 1383,
    "start_time": "2023-07-18T11:42:52.631Z"
   },
   {
    "duration": 10700,
    "start_time": "2023-07-18T11:42:54.016Z"
   },
   {
    "duration": 16,
    "start_time": "2023-07-18T11:43:04.718Z"
   },
   {
    "duration": 34,
    "start_time": "2023-07-18T11:43:04.736Z"
   },
   {
    "duration": 5,
    "start_time": "2023-07-18T11:43:04.774Z"
   },
   {
    "duration": 38,
    "start_time": "2023-07-18T11:43:04.781Z"
   },
   {
    "duration": 25,
    "start_time": "2023-07-18T11:43:04.821Z"
   },
   {
    "duration": 35,
    "start_time": "2023-07-18T11:43:04.848Z"
   },
   {
    "duration": 48,
    "start_time": "2023-07-18T11:43:04.886Z"
   },
   {
    "duration": 53,
    "start_time": "2023-07-18T11:43:04.936Z"
   },
   {
    "duration": 350,
    "start_time": "2023-07-18T11:43:04.992Z"
   },
   {
    "duration": 11,
    "start_time": "2023-07-18T11:43:05.343Z"
   },
   {
    "duration": 44,
    "start_time": "2023-07-18T11:43:05.355Z"
   },
   {
    "duration": 23,
    "start_time": "2023-07-18T11:43:05.401Z"
   },
   {
    "duration": 27,
    "start_time": "2023-07-18T11:43:05.426Z"
   },
   {
    "duration": 45,
    "start_time": "2023-07-18T11:43:05.455Z"
   },
   {
    "duration": 101,
    "start_time": "2023-07-18T11:43:05.502Z"
   },
   {
    "duration": 126,
    "start_time": "2023-07-18T11:43:05.606Z"
   },
   {
    "duration": 129,
    "start_time": "2023-07-18T11:43:05.734Z"
   },
   {
    "duration": 156,
    "start_time": "2023-07-18T11:43:05.864Z"
   },
   {
    "duration": 183,
    "start_time": "2023-07-18T11:43:06.022Z"
   },
   {
    "duration": 20,
    "start_time": "2023-07-18T11:43:06.207Z"
   },
   {
    "duration": 160,
    "start_time": "2023-07-18T11:43:06.229Z"
   },
   {
    "duration": 23,
    "start_time": "2023-07-18T11:43:06.390Z"
   },
   {
    "duration": 240,
    "start_time": "2023-07-18T11:43:06.415Z"
   },
   {
    "duration": 16,
    "start_time": "2023-07-18T11:43:06.657Z"
   },
   {
    "duration": 197,
    "start_time": "2023-07-18T11:43:06.675Z"
   },
   {
    "duration": 135,
    "start_time": "2023-07-18T11:43:06.873Z"
   },
   {
    "duration": 13,
    "start_time": "2023-07-18T11:43:07.014Z"
   },
   {
    "duration": 226,
    "start_time": "2023-07-18T11:43:07.028Z"
   },
   {
    "duration": 13,
    "start_time": "2023-07-18T11:43:07.256Z"
   },
   {
    "duration": 150,
    "start_time": "2023-07-18T11:43:07.273Z"
   },
   {
    "duration": 28,
    "start_time": "2023-07-18T11:43:07.424Z"
   },
   {
    "duration": 112,
    "start_time": "2023-07-18T11:43:07.454Z"
   },
   {
    "duration": 43,
    "start_time": "2023-07-18T19:57:21.954Z"
   },
   {
    "duration": 850,
    "start_time": "2023-07-18T19:57:30.517Z"
   },
   {
    "duration": 529,
    "start_time": "2023-07-18T19:57:31.369Z"
   },
   {
    "duration": 15,
    "start_time": "2023-07-18T19:57:31.900Z"
   },
   {
    "duration": 13,
    "start_time": "2023-07-18T19:57:31.917Z"
   },
   {
    "duration": 46,
    "start_time": "2023-07-18T19:57:31.932Z"
   },
   {
    "duration": 24,
    "start_time": "2023-07-18T19:57:31.980Z"
   },
   {
    "duration": 36,
    "start_time": "2023-07-18T19:57:32.005Z"
   },
   {
    "duration": 74,
    "start_time": "2023-07-18T19:57:32.043Z"
   },
   {
    "duration": 12,
    "start_time": "2023-07-18T19:57:35.452Z"
   },
   {
    "duration": 94,
    "start_time": "2023-07-18T20:58:17.368Z"
   },
   {
    "duration": 222,
    "start_time": "2023-07-18T21:01:50.121Z"
   },
   {
    "duration": 205,
    "start_time": "2023-07-18T21:02:10.360Z"
   },
   {
    "duration": 217,
    "start_time": "2023-07-18T21:02:28.708Z"
   },
   {
    "duration": 349,
    "start_time": "2023-07-18T21:03:24.018Z"
   },
   {
    "duration": 1608,
    "start_time": "2023-07-18T21:15:15.976Z"
   },
   {
    "duration": 1731,
    "start_time": "2023-07-18T21:18:03.729Z"
   },
   {
    "duration": 4,
    "start_time": "2023-07-18T21:18:13.295Z"
   },
   {
    "duration": 474,
    "start_time": "2023-07-18T21:18:15.509Z"
   },
   {
    "duration": 3,
    "start_time": "2023-07-18T21:18:25.124Z"
   },
   {
    "duration": 15,
    "start_time": "2023-07-18T21:18:27.914Z"
   },
   {
    "duration": 6,
    "start_time": "2023-07-18T21:18:34.657Z"
   },
   {
    "duration": 8,
    "start_time": "2023-07-18T21:18:38.638Z"
   },
   {
    "duration": 5,
    "start_time": "2023-07-18T21:20:52.849Z"
   },
   {
    "duration": 3,
    "start_time": "2023-07-18T21:21:20.146Z"
   },
   {
    "duration": 145,
    "start_time": "2023-07-18T21:21:20.151Z"
   },
   {
    "duration": 14,
    "start_time": "2023-07-18T21:21:20.297Z"
   },
   {
    "duration": 15,
    "start_time": "2023-07-18T21:21:20.313Z"
   },
   {
    "duration": 38,
    "start_time": "2023-07-18T21:21:20.330Z"
   },
   {
    "duration": 15,
    "start_time": "2023-07-18T21:21:20.369Z"
   },
   {
    "duration": 23,
    "start_time": "2023-07-18T21:21:20.385Z"
   },
   {
    "duration": 18,
    "start_time": "2023-07-18T21:21:20.446Z"
   },
   {
    "duration": 7,
    "start_time": "2023-07-18T21:21:20.466Z"
   },
   {
    "duration": 1311,
    "start_time": "2023-07-18T21:21:20.475Z"
   },
   {
    "duration": 10217,
    "start_time": "2023-07-18T21:21:21.788Z"
   },
   {
    "duration": 26,
    "start_time": "2023-07-18T21:21:32.008Z"
   },
   {
    "duration": 20,
    "start_time": "2023-07-18T21:21:32.036Z"
   },
   {
    "duration": 17,
    "start_time": "2023-07-18T21:21:32.058Z"
   },
   {
    "duration": 28,
    "start_time": "2023-07-18T21:21:32.076Z"
   },
   {
    "duration": 20,
    "start_time": "2023-07-18T21:21:32.105Z"
   },
   {
    "duration": 45,
    "start_time": "2023-07-18T21:21:32.127Z"
   },
   {
    "duration": 16,
    "start_time": "2023-07-18T21:21:32.174Z"
   },
   {
    "duration": 28,
    "start_time": "2023-07-18T21:21:32.191Z"
   },
   {
    "duration": 338,
    "start_time": "2023-07-18T21:21:32.221Z"
   },
   {
    "duration": 9,
    "start_time": "2023-07-18T21:21:32.561Z"
   },
   {
    "duration": 53,
    "start_time": "2023-07-18T21:21:32.572Z"
   },
   {
    "duration": 39,
    "start_time": "2023-07-18T21:21:32.627Z"
   },
   {
    "duration": 16,
    "start_time": "2023-07-18T21:21:32.668Z"
   },
   {
    "duration": 15,
    "start_time": "2023-07-18T21:21:32.686Z"
   },
   {
    "duration": 16,
    "start_time": "2023-07-18T21:21:32.702Z"
   },
   {
    "duration": 79,
    "start_time": "2023-07-18T21:21:32.719Z"
   },
   {
    "duration": 79,
    "start_time": "2023-07-18T21:21:32.800Z"
   },
   {
    "duration": 5,
    "start_time": "2023-07-18T21:21:39.064Z"
   },
   {
    "duration": 4,
    "start_time": "2023-07-18T21:22:26.718Z"
   },
   {
    "duration": 1510,
    "start_time": "2023-07-18T21:22:38.036Z"
   },
   {
    "duration": 1501,
    "start_time": "2023-07-18T21:26:34.477Z"
   },
   {
    "duration": 4,
    "start_time": "2023-07-18T21:26:52.270Z"
   },
   {
    "duration": 3,
    "start_time": "2023-07-18T21:27:18.062Z"
   },
   {
    "duration": 162,
    "start_time": "2023-07-18T21:27:18.066Z"
   },
   {
    "duration": 23,
    "start_time": "2023-07-18T21:27:18.230Z"
   },
   {
    "duration": 23,
    "start_time": "2023-07-18T21:27:18.255Z"
   },
   {
    "duration": 46,
    "start_time": "2023-07-18T21:27:18.279Z"
   },
   {
    "duration": 21,
    "start_time": "2023-07-18T21:27:18.327Z"
   },
   {
    "duration": 21,
    "start_time": "2023-07-18T21:27:18.350Z"
   },
   {
    "duration": 17,
    "start_time": "2023-07-18T21:27:18.373Z"
   },
   {
    "duration": 11,
    "start_time": "2023-07-18T21:27:18.391Z"
   },
   {
    "duration": 1322,
    "start_time": "2023-07-18T21:27:18.405Z"
   },
   {
    "duration": 10222,
    "start_time": "2023-07-18T21:27:19.735Z"
   },
   {
    "duration": 16,
    "start_time": "2023-07-18T21:27:29.959Z"
   },
   {
    "duration": 23,
    "start_time": "2023-07-18T21:27:29.976Z"
   },
   {
    "duration": 5,
    "start_time": "2023-07-18T21:27:30.000Z"
   },
   {
    "duration": 81,
    "start_time": "2023-07-18T21:27:30.006Z"
   },
   {
    "duration": 29,
    "start_time": "2023-07-18T21:27:30.089Z"
   },
   {
    "duration": 57,
    "start_time": "2023-07-18T21:27:30.120Z"
   },
   {
    "duration": 42,
    "start_time": "2023-07-18T21:27:30.179Z"
   },
   {
    "duration": 86,
    "start_time": "2023-07-18T21:27:30.223Z"
   },
   {
    "duration": 355,
    "start_time": "2023-07-18T21:27:30.310Z"
   },
   {
    "duration": 11,
    "start_time": "2023-07-18T21:27:30.667Z"
   },
   {
    "duration": 73,
    "start_time": "2023-07-18T21:27:30.679Z"
   },
   {
    "duration": 76,
    "start_time": "2023-07-18T21:27:30.753Z"
   },
   {
    "duration": 44,
    "start_time": "2023-07-18T21:27:30.830Z"
   },
   {
    "duration": 42,
    "start_time": "2023-07-18T21:27:30.876Z"
   },
   {
    "duration": 46,
    "start_time": "2023-07-18T21:27:30.920Z"
   },
   {
    "duration": 53,
    "start_time": "2023-07-18T21:27:30.968Z"
   },
   {
    "duration": 45,
    "start_time": "2023-07-18T21:27:31.024Z"
   },
   {
    "duration": 39,
    "start_time": "2023-07-18T21:27:31.071Z"
   },
   {
    "duration": 134,
    "start_time": "2023-07-18T21:28:12.564Z"
   },
   {
    "duration": 138,
    "start_time": "2023-07-18T21:28:19.709Z"
   },
   {
    "duration": 122,
    "start_time": "2023-07-18T21:30:55.582Z"
   },
   {
    "duration": 6,
    "start_time": "2023-07-18T21:31:02.774Z"
   },
   {
    "duration": 104,
    "start_time": "2023-07-18T21:31:12.829Z"
   },
   {
    "duration": 9,
    "start_time": "2023-07-18T21:37:42.553Z"
   },
   {
    "duration": 15,
    "start_time": "2023-07-18T21:37:50.929Z"
   },
   {
    "duration": 13,
    "start_time": "2023-07-18T21:37:53.201Z"
   },
   {
    "duration": 15,
    "start_time": "2023-07-18T21:39:04.791Z"
   },
   {
    "duration": 12,
    "start_time": "2023-07-18T21:39:05.851Z"
   },
   {
    "duration": 12,
    "start_time": "2023-07-18T21:39:06.713Z"
   },
   {
    "duration": 13,
    "start_time": "2023-07-18T21:39:23.830Z"
   },
   {
    "duration": 136,
    "start_time": "2023-07-18T21:39:29.844Z"
   },
   {
    "duration": 134,
    "start_time": "2023-07-18T21:39:40.183Z"
   },
   {
    "duration": 134,
    "start_time": "2023-07-18T21:39:46.481Z"
   },
   {
    "duration": 204,
    "start_time": "2023-07-18T21:46:46.345Z"
   },
   {
    "duration": 13,
    "start_time": "2023-07-18T21:47:07.677Z"
   },
   {
    "duration": 182,
    "start_time": "2023-07-18T21:47:07.693Z"
   },
   {
    "duration": 124,
    "start_time": "2023-07-18T21:48:48.971Z"
   }
  ],
  "colab": {
   "name": "DA+. Сборный проект 1. Шаблон (1).ipynb",
   "provenance": []
  },
  "kernelspec": {
   "display_name": "Python 3 (ipykernel)",
   "language": "python",
   "name": "python3"
  },
  "language_info": {
   "codemirror_mode": {
    "name": "ipython",
    "version": 3
   },
   "file_extension": ".py",
   "mimetype": "text/x-python",
   "name": "python",
   "nbconvert_exporter": "python",
   "pygments_lexer": "ipython3",
   "version": "3.10.9"
  },
  "toc": {
   "base_numbering": 1,
   "nav_menu": {},
   "number_sections": true,
   "sideBar": true,
   "skip_h1_title": true,
   "title_cell": "Table of Contents",
   "title_sidebar": "Contents",
   "toc_cell": false,
   "toc_position": {
    "height": "calc(100% - 180px)",
    "left": "10px",
    "top": "150px",
    "width": "375.391px"
   },
   "toc_section_display": true,
   "toc_window_display": true
  }
 },
 "nbformat": 4,
 "nbformat_minor": 1
}
